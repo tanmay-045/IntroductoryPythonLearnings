{
 "cells": [
  {
   "cell_type": "code",
   "execution_count": 1,
   "id": "6ff81d4e-f503-4456-81c7-9116437dc55a",
   "metadata": {},
   "outputs": [],
   "source": [
    "# importing numpy module\n",
    "import numpy as np"
   ]
  },
  {
   "cell_type": "code",
   "execution_count": 2,
   "id": "05548c3f-48da-44df-9c6a-c0b48d028b5a",
   "metadata": {},
   "outputs": [],
   "source": [
    "# to convert a list into array"
   ]
  },
  {
   "cell_type": "code",
   "execution_count": 3,
   "id": "880b3a48-392f-4a0e-b6dc-1d33ee1d6d0b",
   "metadata": {},
   "outputs": [],
   "source": [
    "lst = [1,2,3,4,5]"
   ]
  },
  {
   "cell_type": "code",
   "execution_count": 4,
   "id": "a97101e7-018c-460a-b751-a5a90fadb26b",
   "metadata": {},
   "outputs": [],
   "source": [
    "# method 1\n",
    "arr1a= np.array(lst)"
   ]
  },
  {
   "cell_type": "code",
   "execution_count": 5,
   "id": "b776339b-f127-4b0e-aa28-74a10577d2c3",
   "metadata": {},
   "outputs": [
    {
     "data": {
      "text/plain": [
       "array([1, 2, 3, 4, 5])"
      ]
     },
     "execution_count": 5,
     "metadata": {},
     "output_type": "execute_result"
    }
   ],
   "source": [
    "arr1a"
   ]
  },
  {
   "cell_type": "code",
   "execution_count": 6,
   "id": "7e509769-075e-451e-be8b-f906718f5bab",
   "metadata": {},
   "outputs": [
    {
     "data": {
      "text/plain": [
       "numpy.ndarray"
      ]
     },
     "execution_count": 6,
     "metadata": {},
     "output_type": "execute_result"
    }
   ],
   "source": [
    "type(arr1a)\n",
    "# .ndarray n-dim array"
   ]
  },
  {
   "cell_type": "code",
   "execution_count": 7,
   "id": "086192f2-44bc-406b-8c15-46dca48e3197",
   "metadata": {},
   "outputs": [],
   "source": [
    "# method 2\n",
    "arr1b = np.asarray(lst)"
   ]
  },
  {
   "cell_type": "code",
   "execution_count": 8,
   "id": "dcd36a46-d8b3-42b2-b759-b264f6ab5754",
   "metadata": {},
   "outputs": [
    {
     "data": {
      "text/plain": [
       "array([1, 2, 3, 4, 5])"
      ]
     },
     "execution_count": 8,
     "metadata": {},
     "output_type": "execute_result"
    }
   ],
   "source": [
    "arr1b"
   ]
  },
  {
   "cell_type": "code",
   "execution_count": 9,
   "id": "1da871c9-298a-4160-ab66-dc54b93e7a1c",
   "metadata": {},
   "outputs": [
    {
     "data": {
      "text/plain": [
       "array([ True,  True,  True,  True,  True])"
      ]
     },
     "execution_count": 9,
     "metadata": {},
     "output_type": "execute_result"
    }
   ],
   "source": [
    "arr1a==arr1b"
   ]
  },
  {
   "cell_type": "code",
   "execution_count": 10,
   "id": "bb396746-9dae-4f3a-b772-f068bd4e1168",
   "metadata": {},
   "outputs": [
    {
     "name": "stdout",
     "output_type": "stream",
     "text": [
      "1\n",
      "1\n"
     ]
    }
   ],
   "source": [
    "# to check dim\n",
    "print(arr1a.ndim)\n",
    "print(arr1b.ndim)"
   ]
  },
  {
   "cell_type": "code",
   "execution_count": 11,
   "id": "1be8c9d6-4ed9-4dea-bd75-064597a37916",
   "metadata": {},
   "outputs": [],
   "source": [
    "# method 3\n",
    "arr1c=np.asanyarray(lst)"
   ]
  },
  {
   "cell_type": "code",
   "execution_count": 12,
   "id": "b394d6e8-6912-4499-ba51-3f7806caed3a",
   "metadata": {},
   "outputs": [
    {
     "data": {
      "text/plain": [
       "array([1, 2, 3, 4, 5])"
      ]
     },
     "execution_count": 12,
     "metadata": {},
     "output_type": "execute_result"
    }
   ],
   "source": [
    "arr1c"
   ]
  },
  {
   "cell_type": "code",
   "execution_count": 13,
   "id": "94c063dd-095a-4352-9f1c-0fa732b677b4",
   "metadata": {},
   "outputs": [],
   "source": [
    "# 2-D array or Matrix"
   ]
  },
  {
   "cell_type": "code",
   "execution_count": 14,
   "id": "f0d91c1c-3f5a-407b-b4fd-fbd800828d87",
   "metadata": {},
   "outputs": [],
   "source": [
    "lst2=[[1,2,3],[9,8,7]]"
   ]
  },
  {
   "cell_type": "code",
   "execution_count": 15,
   "id": "2b02af37-0253-4e42-8018-c7647cd47797",
   "metadata": {},
   "outputs": [],
   "source": [
    "arr2a = np.asanyarray(lst2)"
   ]
  },
  {
   "cell_type": "code",
   "execution_count": 16,
   "id": "06df308b-86b4-47f7-b927-1be5b03faba2",
   "metadata": {},
   "outputs": [
    {
     "data": {
      "text/plain": [
       "array([[1, 2, 3],\n",
       "       [9, 8, 7]])"
      ]
     },
     "execution_count": 16,
     "metadata": {},
     "output_type": "execute_result"
    }
   ],
   "source": [
    "arr2a"
   ]
  },
  {
   "cell_type": "code",
   "execution_count": 17,
   "id": "abcce440-6dc0-4e36-9634-0d2fbd5a67f5",
   "metadata": {},
   "outputs": [],
   "source": [
    "mat2a= np.matrix(lst2)"
   ]
  },
  {
   "cell_type": "code",
   "execution_count": 18,
   "id": "f947bbe2-f4bc-40ad-a88d-052e3bdf4ccc",
   "metadata": {},
   "outputs": [
    {
     "data": {
      "text/plain": [
       "matrix([[1, 2, 3],\n",
       "        [9, 8, 7]])"
      ]
     },
     "execution_count": 18,
     "metadata": {},
     "output_type": "execute_result"
    }
   ],
   "source": [
    "mat2a"
   ]
  },
  {
   "cell_type": "code",
   "execution_count": 19,
   "id": "77fbee81-a09a-4668-a94f-2e2bbd91b947",
   "metadata": {},
   "outputs": [
    {
     "data": {
      "text/plain": [
       "numpy.ndarray"
      ]
     },
     "execution_count": 19,
     "metadata": {},
     "output_type": "execute_result"
    }
   ],
   "source": [
    "type(arr2a)"
   ]
  },
  {
   "cell_type": "code",
   "execution_count": 20,
   "id": "8c3b9305-d629-4860-9e31-2bed2aead24a",
   "metadata": {},
   "outputs": [
    {
     "data": {
      "text/plain": [
       "numpy.matrix"
      ]
     },
     "execution_count": 20,
     "metadata": {},
     "output_type": "execute_result"
    }
   ],
   "source": [
    "type(mat2a)"
   ]
  },
  {
   "cell_type": "code",
   "execution_count": 21,
   "id": "f8fe4788-6c33-443f-8e48-66eb017314ca",
   "metadata": {},
   "outputs": [],
   "source": [
    "# solo-copy\n",
    "a=arr2a"
   ]
  },
  {
   "cell_type": "code",
   "execution_count": 22,
   "id": "ae1fcd43-d536-43a9-a6e4-dba7dd410e3d",
   "metadata": {},
   "outputs": [
    {
     "data": {
      "text/plain": [
       "array([[1, 2, 3],\n",
       "       [9, 8, 7]])"
      ]
     },
     "execution_count": 22,
     "metadata": {},
     "output_type": "execute_result"
    }
   ],
   "source": [
    "a"
   ]
  },
  {
   "cell_type": "code",
   "execution_count": 23,
   "id": "fab1a609-8385-4a13-b93d-8babe349a62a",
   "metadata": {},
   "outputs": [],
   "source": [
    "a[0][2]=100"
   ]
  },
  {
   "cell_type": "code",
   "execution_count": 24,
   "id": "b6c8dc39-279a-4e1e-940d-5df94c0a7dd0",
   "metadata": {},
   "outputs": [
    {
     "data": {
      "text/plain": [
       "array([[  1,   2, 100],\n",
       "       [  9,   8,   7]])"
      ]
     },
     "execution_count": 24,
     "metadata": {},
     "output_type": "execute_result"
    }
   ],
   "source": [
    "a"
   ]
  },
  {
   "cell_type": "code",
   "execution_count": 25,
   "id": "a1e03e26-8713-442b-8f28-fbfcd874107b",
   "metadata": {},
   "outputs": [
    {
     "data": {
      "text/plain": [
       "array([[  1,   2, 100],\n",
       "       [  9,   8,   7]])"
      ]
     },
     "execution_count": 25,
     "metadata": {},
     "output_type": "execute_result"
    }
   ],
   "source": [
    "arr2a"
   ]
  },
  {
   "cell_type": "code",
   "execution_count": 26,
   "id": "12c8abc6-74f9-4127-ad26-040734bc84de",
   "metadata": {},
   "outputs": [],
   "source": [
    "# observe that in solo-copy, 'a' and 'arr2a' are two alias of same address that's why change in one reflects in another. "
   ]
  },
  {
   "cell_type": "code",
   "execution_count": 27,
   "id": "4a892f71-0786-4904-bc1a-d22e76368ce6",
   "metadata": {},
   "outputs": [],
   "source": [
    "# deep-copy"
   ]
  },
  {
   "cell_type": "code",
   "execution_count": 28,
   "id": "c70e2034-5dcb-4022-9375-13e654b6c412",
   "metadata": {},
   "outputs": [],
   "source": [
    "b= np.copy(arr2a)"
   ]
  },
  {
   "cell_type": "code",
   "execution_count": 29,
   "id": "5122aa9f-6106-4c1b-9fef-ff24596e1add",
   "metadata": {},
   "outputs": [
    {
     "data": {
      "text/plain": [
       "array([[  1,   2, 100],\n",
       "       [  9,   8,   7]])"
      ]
     },
     "execution_count": 29,
     "metadata": {},
     "output_type": "execute_result"
    }
   ],
   "source": [
    "b"
   ]
  },
  {
   "cell_type": "code",
   "execution_count": 30,
   "id": "41ad3726-2d38-41d4-a206-52acce17fa1a",
   "metadata": {},
   "outputs": [],
   "source": [
    "b[0][2]=3"
   ]
  },
  {
   "cell_type": "code",
   "execution_count": 31,
   "id": "64c463e3-e53f-4b4f-a217-a84318c92260",
   "metadata": {},
   "outputs": [
    {
     "data": {
      "text/plain": [
       "array([[1, 2, 3],\n",
       "       [9, 8, 7]])"
      ]
     },
     "execution_count": 31,
     "metadata": {},
     "output_type": "execute_result"
    }
   ],
   "source": [
    "b"
   ]
  },
  {
   "cell_type": "code",
   "execution_count": 32,
   "id": "4d2fa192-caa2-4ff0-86ac-57172235334c",
   "metadata": {},
   "outputs": [
    {
     "data": {
      "text/plain": [
       "array([[  1,   2, 100],\n",
       "       [  9,   8,   7]])"
      ]
     },
     "execution_count": 32,
     "metadata": {},
     "output_type": "execute_result"
    }
   ],
   "source": [
    "arr2a"
   ]
  },
  {
   "cell_type": "code",
   "execution_count": 33,
   "id": "a2e01bb4-fe3e-40ec-b9a7-bc4039730912",
   "metadata": {},
   "outputs": [
    {
     "name": "stdout",
     "output_type": "stream",
     "text": [
      "<class 'numpy.ndarray'>\n",
      "<class 'numpy.ndarray'>\n"
     ]
    }
   ],
   "source": [
    "print(type(b))\n",
    "print(type(arr2a))"
   ]
  },
  {
   "cell_type": "code",
   "execution_count": 34,
   "id": "ef57cc9b-51b1-4ad9-8f00-7f56a6a855e3",
   "metadata": {},
   "outputs": [],
   "source": [
    "# observe in deep copy, var 'b' have separate memo add and copied the 'values' and 'type' from 'arr2a'"
   ]
  },
  {
   "cell_type": "code",
   "execution_count": 35,
   "id": "728efe4a-12bf-45db-aa79-e471f424a61b",
   "metadata": {},
   "outputs": [],
   "source": [
    "# to generate dataset or array using 'fromfunction()'"
   ]
  },
  {
   "cell_type": "code",
   "execution_count": 36,
   "id": "84e29345-4533-4b5a-9c14-99763ca1b8eb",
   "metadata": {},
   "outputs": [
    {
     "data": {
      "text/plain": [
       "array([[ True, False, False],\n",
       "       [False,  True, False],\n",
       "       [False, False,  True]])"
      ]
     },
     "execution_count": 36,
     "metadata": {},
     "output_type": "execute_result"
    }
   ],
   "source": [
    " np.fromfunction(lambda x,y : x==y , (3,3))"
   ]
  },
  {
   "cell_type": "code",
   "execution_count": 37,
   "id": "b98b094f-4a7b-4d1d-bcb4-448c72cb2d9b",
   "metadata": {},
   "outputs": [
    {
     "data": {
      "text/plain": [
       "array([[0., 0., 0.],\n",
       "       [0., 1., 2.],\n",
       "       [0., 2., 4.]])"
      ]
     },
     "execution_count": 37,
     "metadata": {},
     "output_type": "execute_result"
    }
   ],
   "source": [
    "np.fromfunction(lambda x,y: x*y , (3,3))"
   ]
  },
  {
   "cell_type": "code",
   "execution_count": 38,
   "id": "5e4daec5-500b-4e66-999b-7874454a3545",
   "metadata": {},
   "outputs": [],
   "source": [
    "# to form array using iterable\n",
    "itr = (i+i for i in range(1,4))"
   ]
  },
  {
   "cell_type": "code",
   "execution_count": 39,
   "id": "7df61c6e-cd6f-45a9-85b8-9c815f51ac4f",
   "metadata": {},
   "outputs": [
    {
     "data": {
      "text/plain": [
       "array([2., 4., 6.])"
      ]
     },
     "execution_count": 39,
     "metadata": {},
     "output_type": "execute_result"
    }
   ],
   "source": [
    "np.fromiter(itr,'float')"
   ]
  },
  {
   "cell_type": "code",
   "execution_count": 40,
   "id": "708559c3-d3ee-4e1f-a92e-7dd59d995fee",
   "metadata": {},
   "outputs": [
    {
     "data": {
      "text/plain": [
       "array([1., 2., 3., 4., 5.])"
      ]
     },
     "execution_count": 40,
     "metadata": {},
     "output_type": "execute_result"
    }
   ],
   "source": [
    "# to generate arr using string\n",
    "np.fromstring(\"1,2,3,4,5\" , sep=',')\n",
    "# we can also use space ' ' as a separator"
   ]
  },
  {
   "cell_type": "code",
   "execution_count": 41,
   "id": "aa56e2cf-8be3-4f43-a4f5-b828808bec10",
   "metadata": {},
   "outputs": [
    {
     "data": {
      "text/plain": [
       "array([[  1,   2, 100],\n",
       "       [  9,   8,   7]])"
      ]
     },
     "execution_count": 41,
     "metadata": {},
     "output_type": "execute_result"
    }
   ],
   "source": [
    "# to find dim,shape(r*c),size(number_of_elements)\n",
    "arr2a"
   ]
  },
  {
   "cell_type": "code",
   "execution_count": 42,
   "id": "e8e9af30-eccc-4da3-a4c6-94dbdb7d4d90",
   "metadata": {},
   "outputs": [
    {
     "data": {
      "text/plain": [
       "2"
      ]
     },
     "execution_count": 42,
     "metadata": {},
     "output_type": "execute_result"
    }
   ],
   "source": [
    "arr2a.ndim"
   ]
  },
  {
   "cell_type": "code",
   "execution_count": 43,
   "id": "a1bd2b94-a31a-4981-b144-34315ce4725e",
   "metadata": {},
   "outputs": [
    {
     "data": {
      "text/plain": [
       "(2, 3)"
      ]
     },
     "execution_count": 43,
     "metadata": {},
     "output_type": "execute_result"
    }
   ],
   "source": [
    "arr2a.shape"
   ]
  },
  {
   "cell_type": "code",
   "execution_count": 44,
   "id": "86f79342-f5ec-451e-b489-a9a46f485a7c",
   "metadata": {},
   "outputs": [
    {
     "data": {
      "text/plain": [
       "6"
      ]
     },
     "execution_count": 44,
     "metadata": {},
     "output_type": "execute_result"
    }
   ],
   "source": [
    "arr2a.size"
   ]
  },
  {
   "cell_type": "code",
   "execution_count": 45,
   "id": "6c68b491-afbe-4499-a1d6-47550376124d",
   "metadata": {},
   "outputs": [
    {
     "data": {
      "text/plain": [
       "dtype('int64')"
      ]
     },
     "execution_count": 45,
     "metadata": {},
     "output_type": "execute_result"
    }
   ],
   "source": [
    "arr2a.dtype"
   ]
  },
  {
   "cell_type": "code",
   "execution_count": 46,
   "id": "ab1b5d7d-432b-457f-bd61-85128611a8e8",
   "metadata": {},
   "outputs": [],
   "source": [
    "# in numpy we can have arrays with decimal values\n",
    "# numpy.arange(start,end,jump)"
   ]
  },
  {
   "cell_type": "code",
   "execution_count": 47,
   "id": "1686913a-49f0-4514-a6e9-d8af8c066723",
   "metadata": {},
   "outputs": [
    {
     "data": {
      "text/plain": [
       "[0, 1, 2, 3, 4, 5, 6, 7, 8, 9]"
      ]
     },
     "execution_count": 47,
     "metadata": {},
     "output_type": "execute_result"
    }
   ],
   "source": [
    "list(range(0,10))"
   ]
  },
  {
   "cell_type": "code",
   "execution_count": 48,
   "id": "ed144f5e-5d3a-4a18-a9d0-8929d5843dee",
   "metadata": {},
   "outputs": [],
   "source": [
    "# Below code will result in error\n",
    "#list(range(0.1,2.0))"
   ]
  },
  {
   "cell_type": "code",
   "execution_count": 49,
   "id": "f1d1693c-4c63-4155-9888-39b5d0880f8c",
   "metadata": {},
   "outputs": [
    {
     "data": {
      "text/plain": [
       "array([0.1, 1.1, 2.1, 3.1, 4.1, 5.1, 6.1, 7.1, 8.1, 9.1])"
      ]
     },
     "execution_count": 49,
     "metadata": {},
     "output_type": "execute_result"
    }
   ],
   "source": [
    "np.arange(0.1,10.0)"
   ]
  },
  {
   "cell_type": "code",
   "execution_count": 50,
   "id": "ec4c2fb3-538a-4ab3-a78b-30647be0768b",
   "metadata": {},
   "outputs": [
    {
     "data": {
      "text/plain": [
       "array([0.1, 0.3, 0.5, 0.7, 0.9, 1.1, 1.3, 1.5, 1.7, 1.9])"
      ]
     },
     "execution_count": 50,
     "metadata": {},
     "output_type": "execute_result"
    }
   ],
   "source": [
    "np.arange(0.1,2.0, 0.2)"
   ]
  },
  {
   "cell_type": "code",
   "execution_count": 51,
   "id": "421f6481-412d-4293-b82c-8c5d9b627eb3",
   "metadata": {},
   "outputs": [
    {
     "data": {
      "text/plain": [
       "[0.5, 1.0, 1.5, 2.0, 2.5, 3.0, 3.5, 4.0, 4.5, 5.0]"
      ]
     },
     "execution_count": 51,
     "metadata": {},
     "output_type": "execute_result"
    }
   ],
   "source": [
    "list(np.arange(0.5,5.5,0.5))"
   ]
  },
  {
   "cell_type": "code",
   "execution_count": 52,
   "id": "4c134a19-2fd2-4a14-b45a-62addfe44700",
   "metadata": {},
   "outputs": [
    {
     "data": {
      "text/plain": [
       "array([   2.        ,    9.51365692,   45.254834  ,  215.2694823 ,\n",
       "       1024.        ])"
      ]
     },
     "execution_count": 52,
     "metadata": {},
     "output_type": "execute_result"
    }
   ],
   "source": [
    "# The numpy.logspace() function returns number spaces evenly w.r.t interval on a log scale.\n",
    "# numpy.logspace(start,stop,num_of_points_generated = 50, endpoint = True(by default ), base = 10.0, dtype = None)\n",
    "np.logspace(1,10, 5, base=2)"
   ]
  },
  {
   "cell_type": "code",
   "execution_count": 53,
   "id": "ee56a966-15c3-4e81-a0ea-70edf48ec3cb",
   "metadata": {},
   "outputs": [
    {
     "data": {
      "text/plain": [
       "array([1.        , 1.21052632, 1.42105263, 1.63157895, 1.84210526,\n",
       "       2.05263158, 2.26315789, 2.47368421, 2.68421053, 2.89473684,\n",
       "       3.10526316, 3.31578947, 3.52631579, 3.73684211, 3.94736842,\n",
       "       4.15789474, 4.36842105, 4.57894737, 4.78947368, 5.        ])"
      ]
     },
     "execution_count": 53,
     "metadata": {},
     "output_type": "execute_result"
    }
   ],
   "source": [
    "# The NumPy.linspace() function returns an array of evenly spaced values within the specified interval [start, stop].\n",
    "# It is similar to NumPy.arange() function but instead of a step, it uses a sample number. \n",
    "np.linspace(1,5 , 20)"
   ]
  },
  {
   "cell_type": "code",
   "execution_count": 54,
   "id": "9734ab8c-ce6f-4a4d-aa41-c5e6ad03696a",
   "metadata": {},
   "outputs": [],
   "source": [
    "# numpy.zeros"
   ]
  },
  {
   "cell_type": "code",
   "execution_count": 55,
   "id": "214942ca-0b96-4a4b-a70a-8f0dcd4b4f7a",
   "metadata": {},
   "outputs": [
    {
     "data": {
      "text/plain": [
       "array([0., 0., 0., 0., 0.])"
      ]
     },
     "execution_count": 55,
     "metadata": {},
     "output_type": "execute_result"
    }
   ],
   "source": [
    "np.zeros(5)"
   ]
  },
  {
   "cell_type": "code",
   "execution_count": 56,
   "id": "26741aaa-4173-4b7c-b582-6a3a90aeca09",
   "metadata": {},
   "outputs": [
    {
     "data": {
      "text/plain": [
       "array([[0., 0., 0.],\n",
       "       [0., 0., 0.],\n",
       "       [0., 0., 0.]])"
      ]
     },
     "execution_count": 56,
     "metadata": {},
     "output_type": "execute_result"
    }
   ],
   "source": [
    "np.zeros((3,3))"
   ]
  },
  {
   "cell_type": "code",
   "execution_count": 57,
   "id": "c6ae9bc4-979c-4d92-921a-37e1f70441ad",
   "metadata": {},
   "outputs": [
    {
     "data": {
      "text/plain": [
       "array([[[0., 0.],\n",
       "        [0., 0.]],\n",
       "\n",
       "       [[0., 0.],\n",
       "        [0., 0.]],\n",
       "\n",
       "       [[0., 0.],\n",
       "        [0., 0.]]])"
      ]
     },
     "execution_count": 57,
     "metadata": {},
     "output_type": "execute_result"
    }
   ],
   "source": [
    "# it creates 3 matrices of 2*2 i.e. a 3-dim matrices\n",
    "np.zeros((3,2,2))"
   ]
  },
  {
   "cell_type": "code",
   "execution_count": 58,
   "id": "99459c4c-6a54-4c20-9493-144be244bec7",
   "metadata": {},
   "outputs": [
    {
     "data": {
      "text/plain": [
       "array([[[[0., 0.],\n",
       "         [0., 0.]],\n",
       "\n",
       "        [[0., 0.],\n",
       "         [0., 0.]],\n",
       "\n",
       "        [[0., 0.],\n",
       "         [0., 0.]]],\n",
       "\n",
       "\n",
       "       [[[0., 0.],\n",
       "         [0., 0.]],\n",
       "\n",
       "        [[0., 0.],\n",
       "         [0., 0.]],\n",
       "\n",
       "        [[0., 0.],\n",
       "         [0., 0.]]],\n",
       "\n",
       "\n",
       "       [[[0., 0.],\n",
       "         [0., 0.]],\n",
       "\n",
       "        [[0., 0.],\n",
       "         [0., 0.]],\n",
       "\n",
       "        [[0., 0.],\n",
       "         [0., 0.]]]])"
      ]
     },
     "execution_count": 58,
     "metadata": {},
     "output_type": "execute_result"
    }
   ],
   "source": [
    "# it creates a 3*3 matrix having 2*2 matrix as an element i.e. a 4-dim matrix\n",
    "np.zeros((3,3,2,2))"
   ]
  },
  {
   "cell_type": "code",
   "execution_count": 59,
   "id": "a07ce684-142f-40ac-ab23-64a761eb1e56",
   "metadata": {},
   "outputs": [],
   "source": [
    "# numpy.ones()  same as  numpy.zeros() but ends up creating an arr with '1' as an entry"
   ]
  },
  {
   "cell_type": "code",
   "execution_count": 60,
   "id": "64af1d12-4f44-41f6-8bbc-601b0945707d",
   "metadata": {},
   "outputs": [
    {
     "data": {
      "text/plain": [
       "array([1., 1., 1., 1., 1.])"
      ]
     },
     "execution_count": 60,
     "metadata": {},
     "output_type": "execute_result"
    }
   ],
   "source": [
    "np.ones(5)"
   ]
  },
  {
   "cell_type": "code",
   "execution_count": 61,
   "id": "88141e71-2d1f-4f2d-bd1b-97af2375ab94",
   "metadata": {},
   "outputs": [
    {
     "data": {
      "text/plain": [
       "array([[[1., 1., 1.],\n",
       "        [1., 1., 1.],\n",
       "        [1., 1., 1.]],\n",
       "\n",
       "       [[1., 1., 1.],\n",
       "        [1., 1., 1.],\n",
       "        [1., 1., 1.]]])"
      ]
     },
     "execution_count": 61,
     "metadata": {},
     "output_type": "execute_result"
    }
   ],
   "source": [
    "np.ones((2,3,3))"
   ]
  },
  {
   "cell_type": "code",
   "execution_count": 62,
   "id": "24612749-69b8-4281-804e-24a38608399a",
   "metadata": {},
   "outputs": [
    {
     "data": {
      "text/plain": [
       "array([1., 1., 1., 1., 1.])"
      ]
     },
     "execution_count": 62,
     "metadata": {},
     "output_type": "execute_result"
    }
   ],
   "source": [
    "# numpy.empty(shape, dtype = float, order = ‘C’) : Return a new array of given shape and type, with random values.\n",
    "np.empty(5)"
   ]
  },
  {
   "cell_type": "code",
   "execution_count": 63,
   "id": "b89e0a9f-f711-41fb-93de-3efeecde6c85",
   "metadata": {},
   "outputs": [
    {
     "data": {
      "text/plain": [
       "array([[[1., 1., 1.],\n",
       "        [1., 1., 1.],\n",
       "        [1., 1., 1.]],\n",
       "\n",
       "       [[1., 1., 1.],\n",
       "        [1., 1., 1.],\n",
       "        [1., 1., 1.]]])"
      ]
     },
     "execution_count": 63,
     "metadata": {},
     "output_type": "execute_result"
    }
   ],
   "source": [
    "np.empty((2,3,3))"
   ]
  },
  {
   "cell_type": "code",
   "execution_count": 64,
   "id": "986a493d-bf1d-4aa9-8801-bac1cd0af9fa",
   "metadata": {},
   "outputs": [
    {
     "data": {
      "text/plain": [
       "array([[5., 5., 5.],\n",
       "       [5., 5., 5.],\n",
       "       [5., 5., 5.]])"
      ]
     },
     "execution_count": 64,
     "metadata": {},
     "output_type": "execute_result"
    }
   ],
   "source": [
    "np.empty((3,3)) + 5"
   ]
  },
  {
   "cell_type": "code",
   "execution_count": 65,
   "id": "95503e36-bef3-4133-b08d-4239d2dc42b1",
   "metadata": {},
   "outputs": [
    {
     "data": {
      "text/plain": [
       "array([[1., 0., 0.],\n",
       "       [0., 1., 0.],\n",
       "       [0., 0., 1.]])"
      ]
     },
     "execution_count": 65,
     "metadata": {},
     "output_type": "execute_result"
    }
   ],
   "source": [
    "# to create an identiy matrix of order n\n",
    "np.eye(3)"
   ]
  },
  {
   "cell_type": "code",
   "execution_count": 66,
   "id": "3b9404c9-8ca8-4d1e-ae49-cbcb5f7ba3c9",
   "metadata": {},
   "outputs": [
    {
     "data": {
      "text/plain": [
       "array([0.02110711, 0.92627188, 0.18902152, 0.16306552, 0.68691049])"
      ]
     },
     "execution_count": 66,
     "metadata": {},
     "output_type": "execute_result"
    }
   ],
   "source": [
    "# np.random.rand() generates random numbers from a uniform distribution over [0, 1). \n",
    "# The values are all between 0 (inclusive) and 1 (exclusive).\n",
    "np.random.rand(5)"
   ]
  },
  {
   "cell_type": "code",
   "execution_count": 67,
   "id": "28636082-0045-4b6e-af19-0e6d187c0ff4",
   "metadata": {},
   "outputs": [
    {
     "data": {
      "text/plain": [
       "array([[0.63418658, 0.59614134, 0.97690227],\n",
       "       [0.97943155, 0.21673733, 0.57718173],\n",
       "       [0.28557321, 0.04605101, 0.57307101]])"
      ]
     },
     "execution_count": 67,
     "metadata": {},
     "output_type": "execute_result"
    }
   ],
   "source": [
    "np.random.rand(3,3)"
   ]
  },
  {
   "cell_type": "code",
   "execution_count": 68,
   "id": "09e52331-a625-4a3f-b379-9ef7f3dd0527",
   "metadata": {},
   "outputs": [
    {
     "data": {
      "text/plain": [
       "array([[6, 1, 5, 1],\n",
       "       [2, 6, 4, 1],\n",
       "       [3, 4, 9, 2],\n",
       "       [7, 5, 8, 8]])"
      ]
     },
     "execution_count": 68,
     "metadata": {},
     "output_type": "execute_result"
    }
   ],
   "source": [
    "# creates a 4*4 matix with random values from 1 to 10\n",
    "np.random.randint(1,10, (4,4))"
   ]
  },
  {
   "cell_type": "code",
   "execution_count": 69,
   "id": "81b5c830-1c60-45f8-8d65-02608625a037",
   "metadata": {},
   "outputs": [
    {
     "data": {
      "text/plain": [
       "array([[ 1.18412742,  1.13889353,  1.5588243 ],\n",
       "       [-0.5083255 , -0.77207305, -1.56015167],\n",
       "       [ 1.78724316,  0.91571488,  0.73878261]])"
      ]
     },
     "execution_count": 69,
     "metadata": {},
     "output_type": "execute_result"
    }
   ],
   "source": [
    "# np.random.randn() generates random numbers from the standard normal distribution,\n",
    "# which has a mean of 0 and a standard deviation of 1.\n",
    "# The values can be both positive and negative.\n",
    "np.random.randn(3,3)"
   ]
  },
  {
   "cell_type": "code",
   "execution_count": 70,
   "id": "6c653f74-c53b-497e-b0fa-62d003a44e1a",
   "metadata": {},
   "outputs": [
    {
     "data": {
      "text/plain": [
       "array([ 1,  2,  3,  4,  5,  6,  7,  8,  9, 10, 11, 12])"
      ]
     },
     "execution_count": 70,
     "metadata": {},
     "output_type": "execute_result"
    }
   ],
   "source": [
    "# numpy.reshape()\n",
    "# The reshape method is used to give a new shape to an array. \n",
    "# The new shape must be compatible with the original shape,\n",
    "# meaning that the total number of elements must remain the same.\n",
    "ary=np.fromstring(\"1,2,3,4,5,6,7,8,9,10,11,12\", sep =\",\", dtype=int)\n",
    "ary"
   ]
  },
  {
   "cell_type": "code",
   "execution_count": 71,
   "id": "0dceeeb6-518a-4bf8-8f8f-de9944df7ed8",
   "metadata": {},
   "outputs": [
    {
     "data": {
      "text/plain": [
       "array([[ 1,  2,  3],\n",
       "       [ 4,  5,  6],\n",
       "       [ 7,  8,  9],\n",
       "       [10, 11, 12]])"
      ]
     },
     "execution_count": 71,
     "metadata": {},
     "output_type": "execute_result"
    }
   ],
   "source": [
    "ary.reshape((4,3))"
   ]
  },
  {
   "cell_type": "code",
   "execution_count": 72,
   "id": "cd5b1dc0-74bd-4ba6-b188-11a5da570193",
   "metadata": {},
   "outputs": [
    {
     "data": {
      "text/plain": [
       "array([[ 1,  2,  3,  4],\n",
       "       [ 5,  6,  7,  8],\n",
       "       [ 9, 10, 11, 12]])"
      ]
     },
     "execution_count": 72,
     "metadata": {},
     "output_type": "execute_result"
    }
   ],
   "source": [
    "ary.reshape((3,4))"
   ]
  },
  {
   "cell_type": "code",
   "execution_count": 73,
   "id": "ec93d887-6c81-433e-8392-859052f2e997",
   "metadata": {},
   "outputs": [
    {
     "data": {
      "text/plain": [
       "array([[ 1,  2,  3,  4,  5,  6],\n",
       "       [ 7,  8,  9, 10, 11, 12]])"
      ]
     },
     "execution_count": 73,
     "metadata": {},
     "output_type": "execute_result"
    }
   ],
   "source": [
    "ary.reshape((2,6))"
   ]
  },
  {
   "cell_type": "code",
   "execution_count": 74,
   "id": "76177edd-abcc-4148-b1f1-a4ed98559d00",
   "metadata": {},
   "outputs": [
    {
     "data": {
      "text/plain": [
       "array([[ 1,  2],\n",
       "       [ 3,  4],\n",
       "       [ 5,  6],\n",
       "       [ 7,  8],\n",
       "       [ 9, 10],\n",
       "       [11, 12]])"
      ]
     },
     "execution_count": 74,
     "metadata": {},
     "output_type": "execute_result"
    }
   ],
   "source": [
    "ary.reshape((6,2))"
   ]
  },
  {
   "cell_type": "code",
   "execution_count": 75,
   "id": "62ef822a-ff16-4ed7-b7e5-fa64cfcf3cfb",
   "metadata": {},
   "outputs": [
    {
     "data": {
      "text/plain": [
       "array([[ 1],\n",
       "       [ 2],\n",
       "       [ 3],\n",
       "       [ 4],\n",
       "       [ 5],\n",
       "       [ 6],\n",
       "       [ 7],\n",
       "       [ 8],\n",
       "       [ 9],\n",
       "       [10],\n",
       "       [11],\n",
       "       [12]])"
      ]
     },
     "execution_count": 75,
     "metadata": {},
     "output_type": "execute_result"
    }
   ],
   "source": [
    "ary.reshape(12,1)"
   ]
  },
  {
   "cell_type": "code",
   "execution_count": 76,
   "id": "04d44e03-401c-4581-91e4-4e086ae7e039",
   "metadata": {},
   "outputs": [
    {
     "data": {
      "text/plain": [
       "array([[[ 1,  2],\n",
       "        [ 3,  4]],\n",
       "\n",
       "       [[ 5,  6],\n",
       "        [ 7,  8]],\n",
       "\n",
       "       [[ 9, 10],\n",
       "        [11, 12]]])"
      ]
     },
     "execution_count": 76,
     "metadata": {},
     "output_type": "execute_result"
    }
   ],
   "source": [
    "# size should be same\n",
    "ary.reshape(3,2,2)"
   ]
  },
  {
   "cell_type": "code",
   "execution_count": 77,
   "id": "fd93c6c4-0d0f-4fe5-99a8-23b4bcc8dbec",
   "metadata": {},
   "outputs": [
    {
     "data": {
      "text/plain": [
       "array([[[[[[ 1]]],\n",
       "\n",
       "\n",
       "         [[[ 2]]]],\n",
       "\n",
       "\n",
       "\n",
       "        [[[[ 3]]],\n",
       "\n",
       "\n",
       "         [[[ 4]]]]],\n",
       "\n",
       "\n",
       "\n",
       "\n",
       "       [[[[[ 5]]],\n",
       "\n",
       "\n",
       "         [[[ 6]]]],\n",
       "\n",
       "\n",
       "\n",
       "        [[[[ 7]]],\n",
       "\n",
       "\n",
       "         [[[ 8]]]]],\n",
       "\n",
       "\n",
       "\n",
       "\n",
       "       [[[[[ 9]]],\n",
       "\n",
       "\n",
       "         [[[10]]]],\n",
       "\n",
       "\n",
       "\n",
       "        [[[[11]]],\n",
       "\n",
       "\n",
       "         [[[12]]]]]])"
      ]
     },
     "execution_count": 77,
     "metadata": {},
     "output_type": "execute_result"
    }
   ],
   "source": [
    "ary.reshape(3,2,2,1,1,1)"
   ]
  },
  {
   "cell_type": "code",
   "execution_count": 78,
   "id": "0ca6e3a2-ee71-4a4c-9da3-c10080068851",
   "metadata": {},
   "outputs": [],
   "source": [
    "ary1=np.random.randint(1,10, (4,5))"
   ]
  },
  {
   "cell_type": "code",
   "execution_count": 79,
   "id": "317c125c-7486-4ece-8b4b-d00cd7a71bcb",
   "metadata": {},
   "outputs": [
    {
     "data": {
      "text/plain": [
       "array([[7, 7, 6, 6, 1],\n",
       "       [2, 4, 8, 5, 5],\n",
       "       [4, 3, 6, 7, 5],\n",
       "       [4, 2, 1, 3, 2]])"
      ]
     },
     "execution_count": 79,
     "metadata": {},
     "output_type": "execute_result"
    }
   ],
   "source": [
    "ary1"
   ]
  },
  {
   "cell_type": "code",
   "execution_count": 80,
   "id": "4a3d8ca2-8f02-4cbd-8fff-6ac9486f98a9",
   "metadata": {},
   "outputs": [],
   "source": [
    "# to find or to perform opearation on array index-wise "
   ]
  },
  {
   "cell_type": "code",
   "execution_count": 81,
   "id": "a76b73bf-e597-40d1-bb56-65208a1a186d",
   "metadata": {},
   "outputs": [
    {
     "data": {
      "text/plain": [
       "array([[ True,  True,  True,  True, False],\n",
       "       [False, False,  True, False, False],\n",
       "       [False, False,  True,  True, False],\n",
       "       [False, False, False, False, False]])"
      ]
     },
     "execution_count": 81,
     "metadata": {},
     "output_type": "execute_result"
    }
   ],
   "source": [
    "ary1 > 5"
   ]
  },
  {
   "cell_type": "code",
   "execution_count": 82,
   "id": "8e09dcaa-3822-4dcf-b0a7-3f909553ec06",
   "metadata": {},
   "outputs": [
    {
     "data": {
      "text/plain": [
       "array([7, 7, 6, 6, 8, 6, 7])"
      ]
     },
     "execution_count": 82,
     "metadata": {},
     "output_type": "execute_result"
    }
   ],
   "source": [
    "ary1[ary1>5]"
   ]
  },
  {
   "cell_type": "code",
   "execution_count": 83,
   "id": "3dcebfed-67f0-4ada-86a1-327305c4ef98",
   "metadata": {},
   "outputs": [
    {
     "data": {
      "text/plain": [
       "array([[7, 7, 6, 6, 1],\n",
       "       [2, 4, 8, 5, 5],\n",
       "       [4, 3, 6, 7, 5],\n",
       "       [4, 2, 1, 3, 2]])"
      ]
     },
     "execution_count": 83,
     "metadata": {},
     "output_type": "execute_result"
    }
   ],
   "source": [
    "# slicing an array\n",
    "ary1"
   ]
  },
  {
   "cell_type": "code",
   "execution_count": 84,
   "id": "3f088a67-ac40-4e13-b398-a51ee6615d7f",
   "metadata": {},
   "outputs": [
    {
     "data": {
      "text/plain": [
       "array([7, 7, 6, 6, 1])"
      ]
     },
     "execution_count": 84,
     "metadata": {},
     "output_type": "execute_result"
    }
   ],
   "source": [
    "# row of ary1\n",
    "ary1[0]"
   ]
  },
  {
   "cell_type": "code",
   "execution_count": 85,
   "id": "e7ca6f1f-961e-420e-8c79-664fb7334d81",
   "metadata": {},
   "outputs": [
    {
     "data": {
      "text/plain": [
       "array([7, 2, 4, 4])"
      ]
     },
     "execution_count": 85,
     "metadata": {},
     "output_type": "execute_result"
    }
   ],
   "source": [
    "# column of ary1 \n",
    "# my_interpretation:- select each sub arr from 0 to 4 and get the '0th' element from each.\n",
    "ary1[0:4,0]"
   ]
  },
  {
   "cell_type": "code",
   "execution_count": 86,
   "id": "a7c7c2d5-83b4-4241-990d-910e9e3a70c2",
   "metadata": {},
   "outputs": [
    {
     "data": {
      "text/plain": [
       "array([[8, 5, 5],\n",
       "       [6, 7, 5],\n",
       "       [1, 3, 2]])"
      ]
     },
     "execution_count": 86,
     "metadata": {},
     "output_type": "execute_result"
    }
   ],
   "source": [
    "ary1[1:4,2:5]"
   ]
  },
  {
   "cell_type": "code",
   "execution_count": 87,
   "id": "50296493-825b-4f27-9754-a0e10d213961",
   "metadata": {},
   "outputs": [
    {
     "data": {
      "text/plain": [
       "array([[5, 5],\n",
       "       [7, 5]])"
      ]
     },
     "execution_count": 87,
     "metadata": {},
     "output_type": "execute_result"
    }
   ],
   "source": [
    "ary1[1:3,[3,4]]"
   ]
  },
  {
   "cell_type": "code",
   "execution_count": 3,
   "id": "fbc3fbbc-4740-4d78-937e-f75410020179",
   "metadata": {},
   "outputs": [],
   "source": [
    "# BROADCASTING\n",
    "# NumPy's broadcasting feature allows you to perform operations on arrays of different shapes"
   ]
  },
  {
   "cell_type": "code",
   "execution_count": 4,
   "id": "1f4df59c-a899-41d2-aa0e-817e371cce9a",
   "metadata": {},
   "outputs": [],
   "source": [
    "ar1=np.random.randint(1,20, (3,3))\n",
    "ar2=np.random.randint(1,20, (3,3))"
   ]
  },
  {
   "cell_type": "code",
   "execution_count": 5,
   "id": "58bbc8cf-e789-4ea6-8969-e39a005117bf",
   "metadata": {},
   "outputs": [
    {
     "data": {
      "text/plain": [
       "array([[13, 11,  3],\n",
       "       [10, 15, 13],\n",
       "       [ 8, 13, 19]])"
      ]
     },
     "execution_count": 5,
     "metadata": {},
     "output_type": "execute_result"
    }
   ],
   "source": [
    "ar1"
   ]
  },
  {
   "cell_type": "code",
   "execution_count": 6,
   "id": "f208b99c-ab24-4634-84aa-a8cec9f3ce58",
   "metadata": {},
   "outputs": [
    {
     "data": {
      "text/plain": [
       "array([[ 5,  9,  3],\n",
       "       [11, 15,  6],\n",
       "       [16, 15,  3]])"
      ]
     },
     "execution_count": 6,
     "metadata": {},
     "output_type": "execute_result"
    }
   ],
   "source": [
    "ar2"
   ]
  },
  {
   "cell_type": "code",
   "execution_count": 7,
   "id": "df2002b6-d77b-4c57-98dc-6c9839ab9170",
   "metadata": {},
   "outputs": [
    {
     "data": {
      "text/plain": [
       "array([[18, 20,  6],\n",
       "       [21, 30, 19],\n",
       "       [24, 28, 22]])"
      ]
     },
     "execution_count": 7,
     "metadata": {},
     "output_type": "execute_result"
    }
   ],
   "source": [
    "# observe additon,subtraction,multiplication(ordinary not matrix multiplication) is component-wise\n",
    "ar1+ar2"
   ]
  },
  {
   "cell_type": "code",
   "execution_count": 8,
   "id": "363f7fe1-382a-44ee-bb13-2994c8faac1f",
   "metadata": {},
   "outputs": [
    {
     "data": {
      "text/plain": [
       "array([[18, 20,  6],\n",
       "       [21, 30, 19],\n",
       "       [24, 28, 22]])"
      ]
     },
     "execution_count": 8,
     "metadata": {},
     "output_type": "execute_result"
    }
   ],
   "source": [
    "np.add(ar1,ar2)"
   ]
  },
  {
   "cell_type": "code",
   "execution_count": 11,
   "id": "eba64492-da36-4890-b3fc-2df570cecac4",
   "metadata": {},
   "outputs": [
    {
     "data": {
      "text/plain": [
       "array([[ 8,  2,  0],\n",
       "       [-1,  0,  7],\n",
       "       [-8, -2, 16]])"
      ]
     },
     "execution_count": 11,
     "metadata": {},
     "output_type": "execute_result"
    }
   ],
   "source": [
    "ar1-ar2"
   ]
  },
  {
   "cell_type": "code",
   "execution_count": 12,
   "id": "58951d05-0039-4a86-b3f2-b47b7702ade9",
   "metadata": {},
   "outputs": [
    {
     "data": {
      "text/plain": [
       "array([[ 8,  2,  0],\n",
       "       [-1,  0,  7],\n",
       "       [-8, -2, 16]])"
      ]
     },
     "execution_count": 12,
     "metadata": {},
     "output_type": "execute_result"
    }
   ],
   "source": [
    "np.subtract(ar1,ar2)"
   ]
  },
  {
   "cell_type": "code",
   "execution_count": 13,
   "id": "dad5f6c3-64ba-4989-9635-c4423e98a589",
   "metadata": {},
   "outputs": [
    {
     "data": {
      "text/plain": [
       "array([[2.6       , 1.22222222, 1.        ],\n",
       "       [0.90909091, 1.        , 2.16666667],\n",
       "       [0.5       , 0.86666667, 6.33333333]])"
      ]
     },
     "execution_count": 13,
     "metadata": {},
     "output_type": "execute_result"
    }
   ],
   "source": [
    "ar1/ar2"
   ]
  },
  {
   "cell_type": "code",
   "execution_count": 14,
   "id": "c95c1168-ba87-4b33-94fa-d32a378f35d3",
   "metadata": {},
   "outputs": [
    {
     "data": {
      "text/plain": [
       "array([[2.6       , 1.22222222, 1.        ],\n",
       "       [0.90909091, 1.        , 2.16666667],\n",
       "       [0.5       , 0.86666667, 6.33333333]])"
      ]
     },
     "execution_count": 14,
     "metadata": {},
     "output_type": "execute_result"
    }
   ],
   "source": [
    "np.divide(ar1,ar2)"
   ]
  },
  {
   "cell_type": "code",
   "execution_count": 15,
   "id": "60c89113-7eb6-425d-bc70-79b864db9031",
   "metadata": {},
   "outputs": [
    {
     "data": {
      "text/plain": [
       "array([[ 65,  99,   9],\n",
       "       [110, 225,  78],\n",
       "       [128, 195,  57]])"
      ]
     },
     "execution_count": 15,
     "metadata": {},
     "output_type": "execute_result"
    }
   ],
   "source": [
    "# component-wise\n",
    "ar1*ar2"
   ]
  },
  {
   "cell_type": "code",
   "execution_count": 16,
   "id": "d8f1c3d9-9d1b-4f1f-a77c-e76cf5f8b571",
   "metadata": {},
   "outputs": [
    {
     "data": {
      "text/plain": [
       "array([[ 65,  99,   9],\n",
       "       [110, 225,  78],\n",
       "       [128, 195,  57]])"
      ]
     },
     "execution_count": 16,
     "metadata": {},
     "output_type": "execute_result"
    }
   ],
   "source": [
    "np.multiply(ar1,ar2)"
   ]
  },
  {
   "cell_type": "code",
   "execution_count": 17,
   "id": "44990d28-27e9-413f-b2ae-77b643e95bb6",
   "metadata": {},
   "outputs": [
    {
     "name": "stdout",
     "output_type": "stream",
     "text": [
      "[[13 11  3]\n",
      " [10 15 13]\n",
      " [ 8 13 19]]  \n",
      "\n",
      " [[ 5  9  3]\n",
      " [11 15  6]\n",
      " [16 15  3]]\n"
     ]
    }
   ],
   "source": [
    "print(ar1,\" \\n\\n\",ar2)"
   ]
  },
  {
   "cell_type": "code",
   "execution_count": 18,
   "id": "f3504717-e92a-431b-8751-20ad443f2478",
   "metadata": {},
   "outputs": [
    {
     "data": {
      "text/plain": [
       "array([[234, 327, 114],\n",
       "       [423, 510, 159],\n",
       "       [487, 552, 159]])"
      ]
     },
     "execution_count": 18,
     "metadata": {},
     "output_type": "execute_result"
    }
   ],
   "source": [
    "# to perform matrix multiplication, use '@'\n",
    "ar1@ar2"
   ]
  },
  {
   "cell_type": "code",
   "execution_count": 19,
   "id": "bfdd7d3a-67df-4660-b85f-033165351133",
   "metadata": {},
   "outputs": [
    {
     "data": {
      "text/plain": [
       "array([[ 3,  2,  0],\n",
       "       [10,  0,  1],\n",
       "       [ 8, 13,  1]])"
      ]
     },
     "execution_count": 19,
     "metadata": {},
     "output_type": "execute_result"
    }
   ],
   "source": [
    "# to find mod component wise\n",
    "np.mod(ar1,ar2)"
   ]
  },
  {
   "cell_type": "code",
   "execution_count": 22,
   "id": "095ba1e7-4a55-469c-95cd-45b7944c4151",
   "metadata": {},
   "outputs": [
    {
     "data": {
      "text/plain": [
       "array([[            371293,         2357947691,                 27],\n",
       "       [      100000000000, 437893890380859375,            4826809],\n",
       "       [   281474976710656,  51185893014090757,               6859]])"
      ]
     },
     "execution_count": 22,
     "metadata": {},
     "output_type": "execute_result"
    }
   ],
   "source": [
    "# to find power raised to \n",
    "np.power(ar1,ar2)"
   ]
  },
  {
   "cell_type": "code",
   "execution_count": 21,
   "id": "42c644c3-3ef9-4491-95f5-d79231e1f747",
   "metadata": {},
   "outputs": [
    {
     "data": {
      "text/plain": [
       "array([[169, 121,   9],\n",
       "       [100, 225, 169],\n",
       "       [ 64, 169, 361]])"
      ]
     },
     "execution_count": 21,
     "metadata": {},
     "output_type": "execute_result"
    }
   ],
   "source": [
    "np.power(ar1,2)"
   ]
  },
  {
   "cell_type": "code",
   "execution_count": 23,
   "id": "5c1d0754-f8b7-488e-b955-1d62c87ea080",
   "metadata": {},
   "outputs": [
    {
     "data": {
      "text/plain": [
       "array([[3.60555128, 3.31662479, 1.73205081],\n",
       "       [3.16227766, 3.87298335, 3.60555128],\n",
       "       [2.82842712, 3.60555128, 4.35889894]])"
      ]
     },
     "execution_count": 23,
     "metadata": {},
     "output_type": "execute_result"
    }
   ],
   "source": [
    "# to find square-root \n",
    "np.sqrt(ar1)"
   ]
  },
  {
   "cell_type": "code",
   "execution_count": 24,
   "id": "e410734b-7db9-4f7d-ba77-44702f012cac",
   "metadata": {},
   "outputs": [],
   "source": [
    "# more examples and Statistical function"
   ]
  },
  {
   "cell_type": "code",
   "execution_count": 25,
   "id": "8313a946-f2de-41e3-8cd0-748732c4936d",
   "metadata": {},
   "outputs": [
    {
     "data": {
      "text/plain": [
       "array([[1, 1, 1],\n",
       "       [1, 1, 1],\n",
       "       [1, 1, 1],\n",
       "       [1, 1, 1]])"
      ]
     },
     "execution_count": 25,
     "metadata": {},
     "output_type": "execute_result"
    }
   ],
   "source": [
    "ar3=np.ones((4,3), dtype=int)\n",
    "ar3"
   ]
  },
  {
   "cell_type": "code",
   "execution_count": 26,
   "id": "e6e94425-aafc-4b36-8d5a-4dafad223ffd",
   "metadata": {},
   "outputs": [
    {
     "data": {
      "text/plain": [
       "array([[6, 6, 6],\n",
       "       [6, 6, 6],\n",
       "       [6, 6, 6],\n",
       "       [6, 6, 6]])"
      ]
     },
     "execution_count": 26,
     "metadata": {},
     "output_type": "execute_result"
    }
   ],
   "source": [
    " ar3+5"
   ]
  },
  {
   "cell_type": "code",
   "execution_count": 27,
   "id": "12f25fbc-e8cf-422a-a511-67541f886b5e",
   "metadata": {},
   "outputs": [
    {
     "data": {
      "text/plain": [
       "array([[5, 5, 5],\n",
       "       [5, 5, 5],\n",
       "       [5, 5, 5],\n",
       "       [5, 5, 5]])"
      ]
     },
     "execution_count": 27,
     "metadata": {},
     "output_type": "execute_result"
    }
   ],
   "source": [
    "ar3 * 5"
   ]
  },
  {
   "cell_type": "code",
   "execution_count": 28,
   "id": "e61860ef-fe97-48c5-a659-c474f66deca0",
   "metadata": {},
   "outputs": [
    {
     "data": {
      "text/plain": [
       "array([[1, 1, 1, 1],\n",
       "       [1, 1, 1, 1],\n",
       "       [1, 1, 1, 1]])"
      ]
     },
     "execution_count": 28,
     "metadata": {},
     "output_type": "execute_result"
    }
   ],
   "source": [
    "# to 'transpose' the matrix\n",
    "ar3.T"
   ]
  },
  {
   "cell_type": "code",
   "execution_count": 29,
   "id": "c85027dc-7493-42ea-a061-e860d6e9b13a",
   "metadata": {},
   "outputs": [],
   "source": [
    "ar4 = (ar3+35).T"
   ]
  },
  {
   "cell_type": "code",
   "execution_count": 30,
   "id": "01d886e5-fb79-4b86-a798-f45ee264c5a2",
   "metadata": {},
   "outputs": [
    {
     "data": {
      "text/plain": [
       "array([[36, 36, 36, 36],\n",
       "       [36, 36, 36, 36],\n",
       "       [36, 36, 36, 36]])"
      ]
     },
     "execution_count": 30,
     "metadata": {},
     "output_type": "execute_result"
    }
   ],
   "source": [
    "ar4"
   ]
  },
  {
   "cell_type": "code",
   "execution_count": 31,
   "id": "4773ba0f-4c36-4200-a452-520d2fe283e9",
   "metadata": {},
   "outputs": [
    {
     "data": {
      "text/plain": [
       "array([[6., 6., 6., 6.],\n",
       "       [6., 6., 6., 6.],\n",
       "       [6., 6., 6., 6.]])"
      ]
     },
     "execution_count": 31,
     "metadata": {},
     "output_type": "execute_result"
    }
   ],
   "source": [
    "np.sqrt(ar4)"
   ]
  },
  {
   "cell_type": "code",
   "execution_count": 32,
   "id": "69e60cef-5f00-4b2a-888f-17ea8dfc64d9",
   "metadata": {},
   "outputs": [
    {
     "data": {
      "text/plain": [
       "432"
      ]
     },
     "execution_count": 32,
     "metadata": {},
     "output_type": "execute_result"
    }
   ],
   "source": [
    "np.sum(ar4)"
   ]
  },
  {
   "cell_type": "code",
   "execution_count": 33,
   "id": "d11c4c47-b9a1-43d9-b6a3-e3aa95be666e",
   "metadata": {},
   "outputs": [
    {
     "data": {
      "text/plain": [
       "36.0"
      ]
     },
     "execution_count": 33,
     "metadata": {},
     "output_type": "execute_result"
    }
   ],
   "source": [
    "np.mean(ar4)"
   ]
  },
  {
   "cell_type": "code",
   "execution_count": 34,
   "id": "e83a2a61-027c-44e7-845d-8e9e6b5457fa",
   "metadata": {},
   "outputs": [
    {
     "data": {
      "text/plain": [
       "array([[2.71828183, 2.71828183, 2.71828183],\n",
       "       [2.71828183, 2.71828183, 2.71828183],\n",
       "       [2.71828183, 2.71828183, 2.71828183],\n",
       "       [2.71828183, 2.71828183, 2.71828183]])"
      ]
     },
     "execution_count": 34,
     "metadata": {},
     "output_type": "execute_result"
    }
   ],
   "source": [
    "np.exp(ar3)"
   ]
  },
  {
   "cell_type": "code",
   "execution_count": 35,
   "id": "2edd25b4-42e4-4973-9d30-d1426aa6d32a",
   "metadata": {},
   "outputs": [
    {
     "data": {
      "text/plain": [
       "array([[3.58351894, 3.58351894, 3.58351894, 3.58351894],\n",
       "       [3.58351894, 3.58351894, 3.58351894, 3.58351894],\n",
       "       [3.58351894, 3.58351894, 3.58351894, 3.58351894]])"
      ]
     },
     "execution_count": 35,
     "metadata": {},
     "output_type": "execute_result"
    }
   ],
   "source": [
    "np.log(ar4)"
   ]
  },
  {
   "cell_type": "code",
   "execution_count": 36,
   "id": "5d329548-6249-4fd1-ace0-1da65aa2f4a7",
   "metadata": {},
   "outputs": [
    {
     "data": {
      "text/plain": [
       "36"
      ]
     },
     "execution_count": 36,
     "metadata": {},
     "output_type": "execute_result"
    }
   ],
   "source": [
    "np.max(ar4)"
   ]
  },
  {
   "cell_type": "code",
   "execution_count": 37,
   "id": "87066cbc-e5f1-4af9-bad0-aa024c9394f0",
   "metadata": {},
   "outputs": [
    {
     "data": {
      "text/plain": [
       "36"
      ]
     },
     "execution_count": 37,
     "metadata": {},
     "output_type": "execute_result"
    }
   ],
   "source": [
    "np.min(ar4)"
   ]
  },
  {
   "cell_type": "code",
   "execution_count": 39,
   "id": "47f3c524-64cc-4dcd-b362-f06b4dd304d1",
   "metadata": {},
   "outputs": [
    {
     "data": {
      "text/plain": [
       "0.0"
      ]
     },
     "execution_count": 39,
     "metadata": {},
     "output_type": "execute_result"
    }
   ],
   "source": [
    "# standard deviation\n",
    "np.std(ar4)"
   ]
  },
  {
   "cell_type": "code",
   "execution_count": 40,
   "id": "b647a4d7-6eb7-41c7-81e4-ffb00fa3b815",
   "metadata": {},
   "outputs": [
    {
     "data": {
      "text/plain": [
       "36.0"
      ]
     },
     "execution_count": 40,
     "metadata": {},
     "output_type": "execute_result"
    }
   ],
   "source": [
    "# media\n",
    "np.median(ar4)"
   ]
  },
  {
   "cell_type": "code",
   "execution_count": 42,
   "id": "6ae49796-3652-4482-a471-364d18dd97ad",
   "metadata": {},
   "outputs": [],
   "source": [
    "ar5=np.random.randint(1,5,(3,3))"
   ]
  },
  {
   "cell_type": "code",
   "execution_count": 44,
   "id": "4ba029bc-007f-48b0-bc28-1c18a3cb5980",
   "metadata": {},
   "outputs": [
    {
     "data": {
      "text/plain": [
       "array([[3, 2, 1],\n",
       "       [4, 1, 4],\n",
       "       [4, 1, 2]])"
      ]
     },
     "execution_count": 44,
     "metadata": {},
     "output_type": "execute_result"
    }
   ],
   "source": [
    "# trigonometric functions\n",
    "ar5"
   ]
  },
  {
   "cell_type": "code",
   "execution_count": 45,
   "id": "9e7bea4a-fff0-4ad1-893c-3cb7bc5bef2a",
   "metadata": {},
   "outputs": [
    {
     "data": {
      "text/plain": [
       "array([[ 0.14112001,  0.90929743,  0.84147098],\n",
       "       [-0.7568025 ,  0.84147098, -0.7568025 ],\n",
       "       [-0.7568025 ,  0.84147098,  0.90929743]])"
      ]
     },
     "execution_count": 45,
     "metadata": {},
     "output_type": "execute_result"
    }
   ],
   "source": [
    "np.sin(ar5)"
   ]
  },
  {
   "cell_type": "code",
   "execution_count": 46,
   "id": "d966ae05-1a44-4bd3-a76c-3f6604bf1440",
   "metadata": {},
   "outputs": [
    {
     "data": {
      "text/plain": [
       "array([[-0.9899925 , -0.41614684,  0.54030231],\n",
       "       [-0.65364362,  0.54030231, -0.65364362],\n",
       "       [-0.65364362,  0.54030231, -0.41614684]])"
      ]
     },
     "execution_count": 46,
     "metadata": {},
     "output_type": "execute_result"
    }
   ],
   "source": [
    "np.cos(ar5)"
   ]
  },
  {
   "cell_type": "code",
   "execution_count": 47,
   "id": "fd9bd0ce-552f-44af-a0df-0c487f510c8c",
   "metadata": {},
   "outputs": [
    {
     "data": {
      "text/plain": [
       "array([[-0.14254654, -2.18503986,  1.55740772],\n",
       "       [ 1.15782128,  1.55740772,  1.15782128],\n",
       "       [ 1.15782128,  1.55740772, -2.18503986]])"
      ]
     },
     "execution_count": 47,
     "metadata": {},
     "output_type": "execute_result"
    }
   ],
   "source": [
    " np.tan(ar5)"
   ]
  },
  {
   "cell_type": "code",
   "execution_count": 54,
   "id": "55b2793d-0ecc-46ea-9d18-c82ea1d830e3",
   "metadata": {},
   "outputs": [
    {
     "data": {
      "text/plain": [
       "array([[1.5849625, 1.       , 0.       ],\n",
       "       [2.       , 0.       , 2.       ],\n",
       "       [2.       , 0.       , 1.       ]])"
      ]
     },
     "execution_count": 54,
     "metadata": {},
     "output_type": "execute_result"
    }
   ],
   "source": [
    "# numpy contains std log values like log2 log10 etc\n",
    "np.log2(ar5)"
   ]
  },
  {
   "cell_type": "code",
   "execution_count": 55,
   "id": "64f679ba-908b-4728-8e3c-ffeb32fa9f08",
   "metadata": {},
   "outputs": [
    {
     "data": {
      "text/plain": [
       "array([[20.08553692,  7.3890561 ,  2.71828183],\n",
       "       [54.59815003,  2.71828183, 54.59815003],\n",
       "       [54.59815003,  2.71828183,  7.3890561 ]])"
      ]
     },
     "execution_count": 55,
     "metadata": {},
     "output_type": "execute_result"
    }
   ],
   "source": [
    "np.exp(ar5)"
   ]
  },
  {
   "cell_type": "code",
   "execution_count": 61,
   "id": "d34feb65-ad1b-4c41-ac62-0b9101002845",
   "metadata": {},
   "outputs": [
    {
     "name": "stdout",
     "output_type": "stream",
     "text": [
      "[3 2 1 4 1 4 4 1 2]\n",
      "\n",
      "\n",
      " [[3 2 1]\n",
      " [4 1 4]\n",
      " [4 1 2]]\n"
     ]
    }
   ],
   "source": [
    "# to  flatten an array\n",
    "print(ar5.flatten())\n",
    "print(\"\\n\\n\",ar5)"
   ]
  },
  {
   "cell_type": "code",
   "execution_count": 64,
   "id": "e4f65a2d-26af-4df5-a620-6847872acf86",
   "metadata": {},
   "outputs": [
    {
     "data": {
      "text/plain": [
       "array([[[3, 2, 1]],\n",
       "\n",
       "       [[4, 1, 4]],\n",
       "\n",
       "       [[4, 1, 2]]])"
      ]
     },
     "execution_count": 64,
     "metadata": {},
     "output_type": "execute_result"
    }
   ],
   "source": [
    "np.expand_dims(ar5,axis=1)"
   ]
  },
  {
   "cell_type": "code",
   "execution_count": 65,
   "id": "5b1a3853-04ab-4b89-9c02-6f1df9b0568f",
   "metadata": {},
   "outputs": [
    {
     "data": {
      "text/plain": [
       "array([[[3],\n",
       "        [2],\n",
       "        [1]],\n",
       "\n",
       "       [[4],\n",
       "        [1],\n",
       "        [4]],\n",
       "\n",
       "       [[4],\n",
       "        [1],\n",
       "        [2]]])"
      ]
     },
     "execution_count": 65,
     "metadata": {},
     "output_type": "execute_result"
    }
   ],
   "source": [
    "np.expand_dims(ar5,axis=2)"
   ]
  },
  {
   "cell_type": "code",
   "execution_count": 67,
   "id": "7e0545b9-7861-4ae8-8238-9a70c6a733ff",
   "metadata": {},
   "outputs": [],
   "source": [
    "ar6= np.array([[1],[2],[3]])"
   ]
  },
  {
   "cell_type": "code",
   "execution_count": 68,
   "id": "2f1e0ed9-d260-4629-85d8-61ddcb61837e",
   "metadata": {},
   "outputs": [
    {
     "data": {
      "text/plain": [
       "array([[1],\n",
       "       [2],\n",
       "       [3]])"
      ]
     },
     "execution_count": 68,
     "metadata": {},
     "output_type": "execute_result"
    }
   ],
   "source": [
    "ar6"
   ]
  },
  {
   "cell_type": "code",
   "execution_count": 69,
   "id": "ec1ca603-1ec5-4417-8b61-848dc506a2c0",
   "metadata": {},
   "outputs": [
    {
     "data": {
      "text/plain": [
       "array([1, 2, 3])"
      ]
     },
     "execution_count": 69,
     "metadata": {},
     "output_type": "execute_result"
    }
   ],
   "source": [
    "np.squeeze(ar6)"
   ]
  },
  {
   "cell_type": "code",
   "execution_count": 71,
   "id": "18252472-573a-4af2-8991-b3f0fe63f38f",
   "metadata": {},
   "outputs": [
    {
     "data": {
      "text/plain": [
       "array([1, 1, 1, 1, 2, 2, 2, 2, 3, 3, 3, 3])"
      ]
     },
     "execution_count": 71,
     "metadata": {},
     "output_type": "execute_result"
    }
   ],
   "source": [
    "# each elemet will repeat n (=4) times\n",
    "np.repeat(ar6,4)"
   ]
  },
  {
   "cell_type": "code",
   "execution_count": 72,
   "id": "a41ba65e-f7a8-4d9c-a24b-29f7e7111d37",
   "metadata": {},
   "outputs": [
    {
     "data": {
      "text/plain": [
       "array([[2],\n",
       "       [3],\n",
       "       [1]])"
      ]
     },
     "execution_count": 72,
     "metadata": {},
     "output_type": "execute_result"
    }
   ],
   "source": [
    "# to roll data through indexes \n",
    "np.roll(ar6,2)"
   ]
  },
  {
   "cell_type": "code",
   "execution_count": 73,
   "id": "b423d979-c93d-42d9-9de5-f034a8d3921d",
   "metadata": {},
   "outputs": [
    {
     "data": {
      "text/plain": [
       "array([1])"
      ]
     },
     "execution_count": 73,
     "metadata": {},
     "output_type": "execute_result"
    }
   ],
   "source": [
    "# to make a digonal matrix from a given arr\n",
    "np.diag(ar6)"
   ]
  },
  {
   "cell_type": "code",
   "execution_count": 74,
   "id": "fa12a6ca-6ea0-4644-81c9-9aaef1396cad",
   "metadata": {},
   "outputs": [
    {
     "data": {
      "text/plain": [
       "array([[1, 0, 0, 0, 0],\n",
       "       [0, 2, 0, 0, 0],\n",
       "       [0, 0, 3, 0, 0],\n",
       "       [0, 0, 0, 4, 0],\n",
       "       [0, 0, 0, 0, 5]])"
      ]
     },
     "execution_count": 74,
     "metadata": {},
     "output_type": "execute_result"
    }
   ],
   "source": [
    "np.diag(np.array([1,2,3,4,5]))"
   ]
  },
  {
   "cell_type": "code",
   "execution_count": 76,
   "id": "966b5a81-103f-4e21-89ac-872dcbadba20",
   "metadata": {},
   "outputs": [
    {
     "data": {
      "text/plain": [
       "array([[3, 2, 1],\n",
       "       [4, 1, 4],\n",
       "       [4, 1, 2]])"
      ]
     },
     "execution_count": 76,
     "metadata": {},
     "output_type": "execute_result"
    }
   ],
   "source": [
    "ar5"
   ]
  },
  {
   "cell_type": "code",
   "execution_count": 77,
   "id": "7669d05a-fb11-43b4-b68f-a49a3c082fae",
   "metadata": {},
   "outputs": [
    {
     "data": {
      "text/plain": [
       "array([[-4, -3, -2],\n",
       "       [-5, -2, -5],\n",
       "       [-5, -2, -3]])"
      ]
     },
     "execution_count": 77,
     "metadata": {},
     "output_type": "execute_result"
    }
   ],
   "source": [
    "# to find binary negation of an array\n",
    "~ar5"
   ]
  },
  {
   "cell_type": "code",
   "execution_count": 80,
   "id": "5e7435bd-8259-4c7a-97c7-cb7f262e35c4",
   "metadata": {},
   "outputs": [],
   "source": [
    "# Numpy string function"
   ]
  },
  {
   "cell_type": "code",
   "execution_count": 83,
   "id": "0d67c2ad-5a45-4e8c-9171-0e283992899d",
   "metadata": {},
   "outputs": [],
   "source": [
    "ar7= np.array(['tan','shar'])"
   ]
  },
  {
   "cell_type": "code",
   "execution_count": 84,
   "id": "50de1dd1-3ca5-4eb2-ab4f-3bfaa4a190e7",
   "metadata": {},
   "outputs": [
    {
     "data": {
      "text/plain": [
       "array(['tan', 'shar'], dtype='<U4')"
      ]
     },
     "execution_count": 84,
     "metadata": {},
     "output_type": "execute_result"
    }
   ],
   "source": [
    "ar7"
   ]
  },
  {
   "cell_type": "code",
   "execution_count": 85,
   "id": "e918fa61-2104-486f-8d90-524614358a0f",
   "metadata": {},
   "outputs": [
    {
     "data": {
      "text/plain": [
       "array(['TAN', 'SHAR'], dtype='<U4')"
      ]
     },
     "execution_count": 85,
     "metadata": {},
     "output_type": "execute_result"
    }
   ],
   "source": [
    "np.char.upper(ar7)"
   ]
  },
  {
   "cell_type": "code",
   "execution_count": 86,
   "id": "71da0a5b-2299-4992-b38d-4db893a46613",
   "metadata": {},
   "outputs": [
    {
     "data": {
      "text/plain": [
       "array(['Tan', 'Shar'], dtype='<U4')"
      ]
     },
     "execution_count": 86,
     "metadata": {},
     "output_type": "execute_result"
    }
   ],
   "source": [
    "np.char.capitalize(ar7)"
   ]
  },
  {
   "cell_type": "code",
   "execution_count": 87,
   "id": "642a3199-8004-42b4-913a-2f61c664a8eb",
   "metadata": {},
   "outputs": [
    {
     "data": {
      "text/plain": [
       "array(['Tan', 'Shar'], dtype='<U4')"
      ]
     },
     "execution_count": 87,
     "metadata": {},
     "output_type": "execute_result"
    }
   ],
   "source": [
    "np.char.title(ar7)"
   ]
  },
  {
   "cell_type": "code",
   "execution_count": 88,
   "id": "41a5dc7e-8ac6-4635-ac89-4f8ce39eb632",
   "metadata": {},
   "outputs": [],
   "source": [
    "arr1=np.array([78,47,0,12,46,82,89,32,12,90,47,56,33,28,12,0,89])"
   ]
  },
  {
   "cell_type": "code",
   "execution_count": 89,
   "id": "af229c17-7796-470d-aa51-99d1e63cea1c",
   "metadata": {},
   "outputs": [
    {
     "data": {
      "text/plain": [
       "array([78, 47,  0, 12, 46, 82, 89, 32, 12, 90, 47, 56, 33, 28, 12,  0, 89])"
      ]
     },
     "execution_count": 89,
     "metadata": {},
     "output_type": "execute_result"
    }
   ],
   "source": [
    "arr1"
   ]
  },
  {
   "cell_type": "code",
   "execution_count": 92,
   "id": "f9126b0e-4f20-4e21-a410-7d43f7241976",
   "metadata": {},
   "outputs": [],
   "source": [
    "arr1.sort()"
   ]
  },
  {
   "cell_type": "code",
   "execution_count": 93,
   "id": "8c6fc046-65f4-4328-8d1a-466901a91a36",
   "metadata": {},
   "outputs": [
    {
     "data": {
      "text/plain": [
       "array([ 0,  0, 12, 12, 12, 28, 32, 33, 46, 47, 47, 56, 78, 82, 89, 89, 90])"
      ]
     },
     "execution_count": 93,
     "metadata": {},
     "output_type": "execute_result"
    }
   ],
   "source": [
    "arr1"
   ]
  },
  {
   "cell_type": "code",
   "execution_count": 94,
   "id": "832cc947-b93b-40ad-b0cc-a90b3c6e9543",
   "metadata": {},
   "outputs": [],
   "source": [
    "arr2=np.array([38,90,12,34,48,83,43,0,23,1,34,90,34,0,8,9])"
   ]
  },
  {
   "cell_type": "code",
   "execution_count": 102,
   "id": "3ca4033a-b862-4e4b-a7c3-b437bffd9d20",
   "metadata": {},
   "outputs": [
    {
     "data": {
      "text/plain": [
       "10"
      ]
     },
     "execution_count": 102,
     "metadata": {},
     "output_type": "execute_result"
    }
   ],
   "source": [
    "# Signature: np.searchsorted(a, v, side='left', sorter=None)\n",
    "# Docstring:\n",
    "# Find indices where elements should be inserted to maintain order.\n",
    "np.searchsorted(arr2,34)"
   ]
  },
  {
   "cell_type": "code",
   "execution_count": 103,
   "id": "7203ea76-0b46-4a12-8cda-1f1b1132f100",
   "metadata": {},
   "outputs": [
    {
     "data": {
      "text/plain": [
       "14"
      ]
     },
     "execution_count": 103,
     "metadata": {},
     "output_type": "execute_result"
    }
   ],
   "source": [
    "np.count_nonzero(arr2)"
   ]
  },
  {
   "cell_type": "code",
   "execution_count": 104,
   "id": "dc83af91-7953-48a2-99b0-46d3a1c4420e",
   "metadata": {},
   "outputs": [
    {
     "data": {
      "text/plain": [
       "(array([ 1, 11]),)"
      ]
     },
     "execution_count": 104,
     "metadata": {},
     "output_type": "execute_result"
    }
   ],
   "source": [
    "np.where(arr2>89)"
   ]
  },
  {
   "cell_type": "code",
   "execution_count": 105,
   "id": "8a3ef5e6-6aed-40c9-8151-ec6cc919f352",
   "metadata": {},
   "outputs": [],
   "source": [
    "# Numpy ByteSwapping"
   ]
  },
  {
   "cell_type": "code",
   "execution_count": 107,
   "id": "de97e4c2-efec-4786-90a1-c5a0381d42c7",
   "metadata": {},
   "outputs": [
    {
     "data": {
      "text/plain": [
       "array([38, 90, 12, 34, 48, 83, 43,  0, 23,  1, 34, 90, 34,  0,  8,  9],\n",
       "      dtype=int8)"
      ]
     },
     "execution_count": 107,
     "metadata": {},
     "output_type": "execute_result"
    }
   ],
   "source": [
    "np.byte(arr2)"
   ]
  },
  {
   "cell_type": "code",
   "execution_count": 110,
   "id": "c8ddf4c4-ab41-48e3-9894-1941e716a8c7",
   "metadata": {},
   "outputs": [
    {
     "data": {
      "text/plain": [
       "array([2738188573441261568, 6485183463413514240,  864691128455135232,\n",
       "       2449958197289549824, 3458764513820540928, 5980780305148018688,\n",
       "       3098476543630901248,                   0, 1657324662872342528,\n",
       "         72057594037927936, 2449958197289549824, 6485183463413514240,\n",
       "       2449958197289549824,                   0,  576460752303423488,\n",
       "        648518346341351424])"
      ]
     },
     "execution_count": 110,
     "metadata": {},
     "output_type": "execute_result"
    }
   ],
   "source": [
    "arr2.byteswap()"
   ]
  },
  {
   "cell_type": "code",
   "execution_count": 111,
   "id": "43753652-a2b6-4bf9-a6e2-16887f74379e",
   "metadata": {},
   "outputs": [
    {
     "data": {
      "text/plain": [
       "array([38, 90, 12, 34, 48, 83, 43,  0, 23,  1, 34, 90, 34,  0,  8,  9])"
      ]
     },
     "execution_count": 111,
     "metadata": {},
     "output_type": "execute_result"
    }
   ],
   "source": [
    "arr2"
   ]
  },
  {
   "cell_type": "code",
   "execution_count": 112,
   "id": "61fa02df-8105-4e30-b4ba-8d27f6e934d8",
   "metadata": {},
   "outputs": [
    {
     "data": {
      "text/plain": [
       "array([ 0,  0, 12, 12, 12, 28, 32, 33, 46, 47, 47, 56, 78, 82, 89, 89, 90])"
      ]
     },
     "execution_count": 112,
     "metadata": {},
     "output_type": "execute_result"
    }
   ],
   "source": [
    "arr1"
   ]
  },
  {
   "cell_type": "code",
   "execution_count": 115,
   "id": "03496bf7-7c4d-478d-98e1-d1d7a149b8d9",
   "metadata": {},
   "outputs": [],
   "source": [
    "# deep copy\n",
    "x=np.copy(arr1)"
   ]
  },
  {
   "cell_type": "code",
   "execution_count": 116,
   "id": "e92fd804-7d88-4650-b813-f5c16678b888",
   "metadata": {},
   "outputs": [
    {
     "data": {
      "text/plain": [
       "array([ 0,  0, 12, 12, 12, 28, 32, 33, 46, 47, 47, 56, 78, 82, 89, 89, 90])"
      ]
     },
     "execution_count": 116,
     "metadata": {},
     "output_type": "execute_result"
    }
   ],
   "source": [
    "x"
   ]
  },
  {
   "cell_type": "code",
   "execution_count": 117,
   "id": "cfd12f55-7173-4041-911c-f70ca759258c",
   "metadata": {},
   "outputs": [],
   "source": [
    "# solo-Copy\n",
    "y=arr1.view()"
   ]
  },
  {
   "cell_type": "code",
   "execution_count": 118,
   "id": "dd09a9e3-b0e5-42a4-ab50-114892f3e036",
   "metadata": {},
   "outputs": [
    {
     "data": {
      "text/plain": [
       "array([ 0,  0, 12, 12, 12, 28, 32, 33, 46, 47, 47, 56, 78, 82, 89, 89, 90])"
      ]
     },
     "execution_count": 118,
     "metadata": {},
     "output_type": "execute_result"
    }
   ],
   "source": [
    "y"
   ]
  },
  {
   "cell_type": "code",
   "execution_count": 119,
   "id": "03247a24-52d0-4b42-a6ea-d5ea0f80e59f",
   "metadata": {},
   "outputs": [],
   "source": [
    "y[1]=8"
   ]
  },
  {
   "cell_type": "code",
   "execution_count": 121,
   "id": "7bbf4485-9159-40c7-94e2-95c0a38d8f56",
   "metadata": {},
   "outputs": [
    {
     "data": {
      "text/plain": [
       "array([ 0,  8, 12, 12, 12, 28, 32, 33, 46, 47, 47, 56, 78, 82, 89, 89, 90])"
      ]
     },
     "execution_count": 121,
     "metadata": {},
     "output_type": "execute_result"
    }
   ],
   "source": [
    "# changes in y reflects in arr2\n",
    "arr1"
   ]
  },
  {
   "cell_type": "code",
   "execution_count": 122,
   "id": "95e68a20-8fa3-4fb1-b58d-cc07715886bb",
   "metadata": {},
   "outputs": [
    {
     "data": {
      "text/plain": [
       "array([ 0,  8, 12, 12, 12, 28, 32, 33, 46, 47, 47, 56, 78, 82, 89, 89, 90])"
      ]
     },
     "execution_count": 122,
     "metadata": {},
     "output_type": "execute_result"
    }
   ],
   "source": [
    "y"
   ]
  },
  {
   "cell_type": "code",
   "execution_count": 123,
   "id": "300225d8-04af-4089-b774-c24a2218eed9",
   "metadata": {},
   "outputs": [],
   "source": [
    "# NumPy Matrix Lib"
   ]
  },
  {
   "cell_type": "code",
   "execution_count": 124,
   "id": "c576410c-fe6d-4143-9472-de7c718bdd3e",
   "metadata": {},
   "outputs": [],
   "source": [
    "import numpy.matlib as nm"
   ]
  },
  {
   "cell_type": "code",
   "execution_count": 128,
   "id": "67a6ac1d-c7d8-4e36-a8c7-d977018d0bfb",
   "metadata": {},
   "outputs": [],
   "source": [
    "mat1=nm.zeros(5)"
   ]
  },
  {
   "cell_type": "code",
   "execution_count": 129,
   "id": "fffbdaf0-a4b9-4d55-8678-781983113cdc",
   "metadata": {},
   "outputs": [
    {
     "data": {
      "text/plain": [
       "numpy.matrix"
      ]
     },
     "execution_count": 129,
     "metadata": {},
     "output_type": "execute_result"
    }
   ],
   "source": [
    "type(mat1)"
   ]
  },
  {
   "cell_type": "code",
   "execution_count": 130,
   "id": "f1a702ba-f3d9-4984-a54f-a5bea13b7b5f",
   "metadata": {},
   "outputs": [
    {
     "data": {
      "text/plain": [
       "matrix([[0., 0., 0., 0., 0.]])"
      ]
     },
     "execution_count": 130,
     "metadata": {},
     "output_type": "execute_result"
    }
   ],
   "source": [
    "mat1"
   ]
  },
  {
   "cell_type": "code",
   "execution_count": 131,
   "id": "34453116-e037-43ea-a0a2-e57d1b7e2c59",
   "metadata": {},
   "outputs": [
    {
     "data": {
      "text/plain": [
       "matrix([[1., 0., 0., 0., 0.],\n",
       "        [0., 1., 0., 0., 0.],\n",
       "        [0., 0., 1., 0., 0.],\n",
       "        [0., 0., 0., 1., 0.],\n",
       "        [0., 0., 0., 0., 1.]])"
      ]
     },
     "execution_count": 131,
     "metadata": {},
     "output_type": "execute_result"
    }
   ],
   "source": [
    "nm.eye(5)"
   ]
  },
  {
   "cell_type": "code",
   "execution_count": 132,
   "id": "cec75241-7f8d-42e7-a3a8-9a14571e3c32",
   "metadata": {},
   "outputs": [],
   "source": [
    "# Numpy- Linear Algebra"
   ]
  },
  {
   "cell_type": "code",
   "execution_count": 137,
   "id": "1eaf9f87-6dcd-48d6-9993-6b1809fbb39b",
   "metadata": {},
   "outputs": [],
   "source": [
    "arr_l1=np.random.randint([[5,5],[5,5]])\n",
    "arr_l2=np.random.randint([[3,3],[3,3]])"
   ]
  },
  {
   "cell_type": "code",
   "execution_count": 138,
   "id": "dc0b58b8-be24-44d8-9a07-f187d31f7c1c",
   "metadata": {},
   "outputs": [
    {
     "data": {
      "text/plain": [
       "array([[1, 0],\n",
       "       [1, 4]])"
      ]
     },
     "execution_count": 138,
     "metadata": {},
     "output_type": "execute_result"
    }
   ],
   "source": [
    "arr_l1"
   ]
  },
  {
   "cell_type": "code",
   "execution_count": 139,
   "id": "f311f0d0-8f79-4f2e-a501-0721b1cccbfa",
   "metadata": {},
   "outputs": [
    {
     "data": {
      "text/plain": [
       "array([[2, 1],\n",
       "       [0, 1]])"
      ]
     },
     "execution_count": 139,
     "metadata": {},
     "output_type": "execute_result"
    }
   ],
   "source": [
    "arr_l2"
   ]
  },
  {
   "cell_type": "code",
   "execution_count": 140,
   "id": "d3428ef8-f0a5-4ced-87a6-3bcb115a3634",
   "metadata": {},
   "outputs": [
    {
     "data": {
      "text/plain": [
       "array([[2, 1],\n",
       "       [2, 5]])"
      ]
     },
     "execution_count": 140,
     "metadata": {},
     "output_type": "execute_result"
    }
   ],
   "source": [
    "# to find dot product \n",
    "np.dot(arr_l1,arr_l2)"
   ]
  },
  {
   "cell_type": "code",
   "execution_count": 141,
   "id": "9aa3ee82-e773-410e-9638-9f3169c7f03a",
   "metadata": {},
   "outputs": [
    {
     "data": {
      "text/plain": [
       "array([[2, 1],\n",
       "       [2, 5]])"
      ]
     },
     "execution_count": 141,
     "metadata": {},
     "output_type": "execute_result"
    }
   ],
   "source": [
    "arr_l1 @ arr_l2"
   ]
  }
 ],
 "metadata": {
  "kernelspec": {
   "display_name": "Python 3 (ipykernel)",
   "language": "python",
   "name": "python3"
  },
  "language_info": {
   "codemirror_mode": {
    "name": "ipython",
    "version": 3
   },
   "file_extension": ".py",
   "mimetype": "text/x-python",
   "name": "python",
   "nbconvert_exporter": "python",
   "pygments_lexer": "ipython3",
   "version": "3.10.8"
  }
 },
 "nbformat": 4,
 "nbformat_minor": 5
}
