{
 "cells": [
  {
   "cell_type": "markdown",
   "id": "41861a9a-7c4c-4bb0-8179-d3608c2e97a4",
   "metadata": {},
   "source": [
    "# LISTS"
   ]
  },
  {
   "cell_type": "code",
   "execution_count": 3,
   "id": "07ef3c3b-6c92-435b-a6c9-5e2fa998d58b",
   "metadata": {},
   "outputs": [
    {
     "data": {
      "text/plain": [
       "list"
      ]
     },
     "execution_count": 3,
     "metadata": {},
     "output_type": "execute_result"
    }
   ],
   "source": [
    "# List is declared using []\n",
    "type([])"
   ]
  },
  {
   "cell_type": "code",
   "execution_count": 4,
   "id": "86ae3033-e6b6-47cc-b55e-338cf80dc4cd",
   "metadata": {},
   "outputs": [
    {
     "data": {
      "text/plain": [
       "['this', 'is', 'list', 1]"
      ]
     },
     "execution_count": 4,
     "metadata": {},
     "output_type": "execute_result"
    }
   ],
   "source": [
    "['this','is','list',1]"
   ]
  },
  {
   "cell_type": "code",
   "execution_count": 5,
   "id": "858e6a91-0048-4850-ba80-54f3c41a7ba7",
   "metadata": {},
   "outputs": [],
   "source": [
    "list1=['hello','world',2.0,]"
   ]
  },
  {
   "cell_type": "code",
   "execution_count": 6,
   "id": "5527f477-0eec-4321-8ccf-542ecb74b7f1",
   "metadata": {},
   "outputs": [
    {
     "data": {
      "text/plain": [
       "['hello', 'world', 2.0]"
      ]
     },
     "execution_count": 6,
     "metadata": {},
     "output_type": "execute_result"
    }
   ],
   "source": [
    "list1"
   ]
  },
  {
   "cell_type": "code",
   "execution_count": 7,
   "id": "c30cef41-12fa-4c41-b81f-31d353658ba2",
   "metadata": {},
   "outputs": [],
   "source": [
    "str1='techomedy'"
   ]
  },
  {
   "cell_type": "code",
   "execution_count": 8,
   "id": "33170d2a-5e58-4ab0-af10-212df9e5375c",
   "metadata": {},
   "outputs": [
    {
     "data": {
      "text/plain": [
       "list['techomedy']"
      ]
     },
     "execution_count": 8,
     "metadata": {},
     "output_type": "execute_result"
    }
   ],
   "source": [
    "list[str1]"
   ]
  },
  {
   "cell_type": "code",
   "execution_count": 9,
   "id": "81bfa40d-3328-457d-8c5c-a3aa75a5b352",
   "metadata": {},
   "outputs": [
    {
     "data": {
      "text/plain": [
       "['t', 'e', 'c', 'h', 'o', 'm', 'e', 'd', 'y']"
      ]
     },
     "execution_count": 9,
     "metadata": {},
     "output_type": "execute_result"
    }
   ],
   "source": [
    "list(str1)"
   ]
  },
  {
   "cell_type": "code",
   "execution_count": 10,
   "id": "a504c2f5-91ce-4db3-96c9-f0bb1874208c",
   "metadata": {},
   "outputs": [],
   "source": [
    "str2='This is sample string 2'"
   ]
  },
  {
   "cell_type": "code",
   "execution_count": 11,
   "id": "c1d3bb8d-d7c4-4482-9b54-cb09dae711b2",
   "metadata": {},
   "outputs": [],
   "source": [
    "list2=list(str2.split(' '))"
   ]
  },
  {
   "cell_type": "code",
   "execution_count": 12,
   "id": "2449c65c-727d-43cf-9f05-8b74774e8576",
   "metadata": {},
   "outputs": [
    {
     "data": {
      "text/plain": [
       "['This', 'is', 'sample', 'string', '2']"
      ]
     },
     "execution_count": 12,
     "metadata": {},
     "output_type": "execute_result"
    }
   ],
   "source": [
    "list2"
   ]
  },
  {
   "cell_type": "code",
   "execution_count": 13,
   "id": "7731d4fd-c76f-4d48-8b63-e6bc6c3d6e27",
   "metadata": {},
   "outputs": [
    {
     "data": {
      "text/plain": [
       "['is', 'sample', 'string', '2']"
      ]
     },
     "execution_count": 13,
     "metadata": {},
     "output_type": "execute_result"
    }
   ],
   "source": [
    "list2[1:]"
   ]
  },
  {
   "cell_type": "code",
   "execution_count": 14,
   "id": "1ed9ffa1-24bc-4307-a594-ea965c065885",
   "metadata": {},
   "outputs": [
    {
     "data": {
      "text/plain": [
       "['2']"
      ]
     },
     "execution_count": 14,
     "metadata": {},
     "output_type": "execute_result"
    }
   ],
   "source": [
    "list2[-1:]"
   ]
  },
  {
   "cell_type": "code",
   "execution_count": 15,
   "id": "cbaeb939-6ade-463d-8f16-13a5bdad90bb",
   "metadata": {},
   "outputs": [
    {
     "data": {
      "text/plain": [
       "['2', 'string', 'sample', 'is', 'This']"
      ]
     },
     "execution_count": 15,
     "metadata": {},
     "output_type": "execute_result"
    }
   ],
   "source": [
    "list2[::-1]"
   ]
  },
  {
   "cell_type": "code",
   "execution_count": 16,
   "id": "2d372381-b18f-4679-b01d-ba3d410c5a0e",
   "metadata": {},
   "outputs": [],
   "source": [
    "list3=list2+['Now','list']"
   ]
  },
  {
   "cell_type": "code",
   "execution_count": 17,
   "id": "fe7761a8-2a58-4ece-9721-93b9b3c9dd57",
   "metadata": {},
   "outputs": [
    {
     "data": {
      "text/plain": [
       "['This', 'is', 'sample', 'string', '2', 'Now', 'list']"
      ]
     },
     "execution_count": 17,
     "metadata": {},
     "output_type": "execute_result"
    }
   ],
   "source": [
    "list3"
   ]
  },
  {
   "cell_type": "code",
   "execution_count": 18,
   "id": "73c2eeaa-3331-4568-83a2-507c9df98f8a",
   "metadata": {},
   "outputs": [
    {
     "data": {
      "text/plain": [
       "['This',\n",
       " 'is',\n",
       " 'sample',\n",
       " 'string',\n",
       " '2',\n",
       " 'Now',\n",
       " 'list',\n",
       " 'This',\n",
       " 'is',\n",
       " 'sample',\n",
       " 'string',\n",
       " '2',\n",
       " 'Now',\n",
       " 'list']"
      ]
     },
     "execution_count": 18,
     "metadata": {},
     "output_type": "execute_result"
    }
   ],
   "source": [
    "list3*2"
   ]
  },
  {
   "cell_type": "code",
   "execution_count": 19,
   "id": "ea4ab189-76af-4ec8-bd10-70ffd19d2e82",
   "metadata": {},
   "outputs": [],
   "source": [
    "list4=['hello','world',list3]"
   ]
  },
  {
   "cell_type": "code",
   "execution_count": 20,
   "id": "b5dcd7d9-4162-4b8f-bbb3-d1b44c4d5887",
   "metadata": {},
   "outputs": [
    {
     "data": {
      "text/plain": [
       "'sample'"
      ]
     },
     "execution_count": 20,
     "metadata": {},
     "output_type": "execute_result"
    }
   ],
   "source": [
    "list4[2][2]"
   ]
  },
  {
   "cell_type": "code",
   "execution_count": 21,
   "id": "efa45679-f5e8-4ac0-87bf-348ac9931ba0",
   "metadata": {},
   "outputs": [
    {
     "data": {
      "text/plain": [
       "['This', 'is', 'sample', 'string', '2', 'Now', 'list']"
      ]
     },
     "execution_count": 21,
     "metadata": {},
     "output_type": "execute_result"
    }
   ],
   "source": [
    "list3"
   ]
  },
  {
   "cell_type": "code",
   "execution_count": 22,
   "id": "5d06da30-28a7-4ae7-ac1c-7ba17e904847",
   "metadata": {},
   "outputs": [
    {
     "data": {
      "text/plain": [
       "['This', 'is', 'new', 'string', '2', 'Now', 'list']"
      ]
     },
     "execution_count": 22,
     "metadata": {},
     "output_type": "execute_result"
    }
   ],
   "source": [
    "# lists are mutable\n",
    "list3[2]='new'\n",
    "list3"
   ]
  },
  {
   "cell_type": "code",
   "execution_count": 23,
   "id": "70caeee4-c76d-43ed-8682-470794fb0fac",
   "metadata": {},
   "outputs": [
    {
     "name": "stdout",
     "output_type": "stream",
     "text": [
      "present\n"
     ]
    }
   ],
   "source": [
    "# to check an element inside a list\n",
    "if 'new' in list3:\n",
    "    print('present')\n",
    "else:\n",
    "    print('absent')"
   ]
  },
  {
   "cell_type": "code",
   "execution_count": 24,
   "id": "8bda61c2-475a-4203-abc9-b446e216e8ea",
   "metadata": {},
   "outputs": [
    {
     "name": "stdout",
     "output_type": "stream",
     "text": [
      "absent\n"
     ]
    }
   ],
   "source": [
    "if 2 in list2:\n",
    "    print('present')\n",
    "else:\n",
    "    print('absent')\n",
    "    \n",
    "#check definition of list2 , number '2' gets converted into character during assignment or using split() fun"
   ]
  },
  {
   "cell_type": "code",
   "execution_count": 25,
   "id": "8693ad07-585e-417d-86c5-bbdb8686a82f",
   "metadata": {},
   "outputs": [
    {
     "name": "stdout",
     "output_type": "stream",
     "text": [
      "present\n"
     ]
    }
   ],
   "source": [
    "if '2' in list2:\n",
    "    print('present')\n",
    "else:\n",
    "    print('absent')"
   ]
  },
  {
   "cell_type": "code",
   "execution_count": 26,
   "id": "5016d871-4435-4cde-9db1-70b59752dc8b",
   "metadata": {},
   "outputs": [],
   "source": [
    "list5=[1,2,3,4,5]"
   ]
  },
  {
   "cell_type": "code",
   "execution_count": 27,
   "id": "269a788d-1a5c-46fb-8395-6acd8e6e776a",
   "metadata": {},
   "outputs": [
    {
     "data": {
      "text/plain": [
       "True"
      ]
     },
     "execution_count": 27,
     "metadata": {},
     "output_type": "execute_result"
    }
   ],
   "source": [
    "5 in list5"
   ]
  },
  {
   "cell_type": "code",
   "execution_count": 28,
   "id": "e2277dea-f623-4d57-b2bc-a0df0ad65c8b",
   "metadata": {},
   "outputs": [
    {
     "name": "stdout",
     "output_type": "stream",
     "text": [
      "p\n"
     ]
    }
   ],
   "source": [
    "if 2 in list5:\n",
    "    print('p')"
   ]
  },
  {
   "cell_type": "code",
   "execution_count": 29,
   "id": "eda345ea-799c-4c65-978c-3600bf9945c6",
   "metadata": {},
   "outputs": [
    {
     "data": {
      "text/plain": [
       "False"
      ]
     },
     "execution_count": 29,
     "metadata": {},
     "output_type": "execute_result"
    }
   ],
   "source": [
    "9 in list5"
   ]
  },
  {
   "cell_type": "code",
   "execution_count": 30,
   "id": "18417974-1ced-4077-a46e-5efe314aa5e0",
   "metadata": {},
   "outputs": [],
   "source": [
    "list5=list5+[False]"
   ]
  },
  {
   "cell_type": "code",
   "execution_count": 31,
   "id": "f996f332-fd78-4a6c-8a4d-1bf0fc7f530d",
   "metadata": {},
   "outputs": [
    {
     "data": {
      "text/plain": [
       "True"
      ]
     },
     "execution_count": 31,
     "metadata": {},
     "output_type": "execute_result"
    }
   ],
   "source": [
    "0 in list5\n",
    "# because False has boolean value 0"
   ]
  },
  {
   "cell_type": "code",
   "execution_count": 32,
   "id": "9097ea6f-6767-470e-9126-bcb9e245b573",
   "metadata": {},
   "outputs": [
    {
     "data": {
      "text/plain": [
       "[1, 2, 3, 4, 5, False]"
      ]
     },
     "execution_count": 32,
     "metadata": {},
     "output_type": "execute_result"
    }
   ],
   "source": [
    "list5"
   ]
  },
  {
   "cell_type": "code",
   "execution_count": 33,
   "id": "d14f84d1-2cc3-457d-a94b-48d7722b39b4",
   "metadata": {},
   "outputs": [
    {
     "name": "stdout",
     "output_type": "stream",
     "text": [
      "new is present\n"
     ]
    }
   ],
   "source": [
    "for element in list3:\n",
    "    if element=='new':\n",
    "        print(element,'is present')\n",
    "        break"
   ]
  },
  {
   "cell_type": "code",
   "execution_count": 34,
   "id": "02bcb154-b90b-4e0d-b006-2bfd6e7a14ce",
   "metadata": {},
   "outputs": [
    {
     "name": "stdout",
     "output_type": "stream",
     "text": [
      "['hello', 'world', 2.0] \n",
      "\n",
      "['This', 'is', 'sample', 'string', '2'] \n",
      "\n",
      "['This', 'is', 'new', 'string', '2', 'Now', 'list'] \n",
      "\n",
      "['hello', 'world', ['This', 'is', 'new', 'string', '2', 'Now', 'list']] \n",
      "\n",
      "[1, 2, 3, 4, 5, False] \n",
      "\n"
     ]
    }
   ],
   "source": [
    "i=1\n",
    "while i<=5:\n",
    "    if i==1:\n",
    "        print(list1,'\\n')\n",
    "    elif i==2:\n",
    "        print(list2,'\\n')\n",
    "    elif i==3:\n",
    "        print(list3,'\\n')\n",
    "    elif i==4:\n",
    "        print(list4,'\\n')\n",
    "    elif i==5:\n",
    "        print(list5,'\\n')\n",
    "    i+=1"
   ]
  },
  {
   "cell_type": "code",
   "execution_count": 36,
   "id": "428e1a7e-d7b3-4c83-aabb-507aa55dfc9b",
   "metadata": {},
   "outputs": [
    {
     "data": {
      "text/plain": [
       "5"
      ]
     },
     "execution_count": 36,
     "metadata": {},
     "output_type": "execute_result"
    }
   ],
   "source": [
    "max(list5)"
   ]
  },
  {
   "cell_type": "code",
   "execution_count": 38,
   "id": "65494c18-8555-4aa8-9b65-dd0429792daa",
   "metadata": {},
   "outputs": [
    {
     "data": {
      "text/plain": [
       "'string'"
      ]
     },
     "execution_count": 38,
     "metadata": {},
     "output_type": "execute_result"
    }
   ],
   "source": [
    "max(list3)"
   ]
  },
  {
   "cell_type": "code",
   "execution_count": 39,
   "id": "1083f378-0e44-426d-9887-a58a4d9de297",
   "metadata": {},
   "outputs": [
    {
     "data": {
      "text/plain": [
       "'string'"
      ]
     },
     "execution_count": 39,
     "metadata": {},
     "output_type": "execute_result"
    }
   ],
   "source": [
    "max(list2)"
   ]
  },
  {
   "cell_type": "code",
   "execution_count": 40,
   "id": "45834707-bc03-4336-a048-dbb8a851cde5",
   "metadata": {},
   "outputs": [
    {
     "data": {
      "text/plain": [
       "'2'"
      ]
     },
     "execution_count": 40,
     "metadata": {},
     "output_type": "execute_result"
    }
   ],
   "source": [
    "min(list2)"
   ]
  },
  {
   "cell_type": "code",
   "execution_count": 41,
   "id": "4773d473-f9e4-49fc-999f-8aaad294e8f1",
   "metadata": {},
   "outputs": [],
   "source": [
    "# using append() and pop() funtion "
   ]
  },
  {
   "cell_type": "code",
   "execution_count": 42,
   "id": "28e07eec-a01d-43ff-a977-5ac49e1193da",
   "metadata": {},
   "outputs": [],
   "source": [
    "list5.append('Elite')"
   ]
  },
  {
   "cell_type": "code",
   "execution_count": 43,
   "id": "fcf86189-4e60-4e36-a040-cde26bc87cc5",
   "metadata": {},
   "outputs": [
    {
     "data": {
      "text/plain": [
       "[1, 2, 3, 4, 5, False, 'Elite']"
      ]
     },
     "execution_count": 43,
     "metadata": {},
     "output_type": "execute_result"
    }
   ],
   "source": [
    "list5"
   ]
  },
  {
   "cell_type": "code",
   "execution_count": 44,
   "id": "0d723913-f2d7-43eb-af8a-dd085d0ecc73",
   "metadata": {},
   "outputs": [
    {
     "data": {
      "text/plain": [
       "'Elite'"
      ]
     },
     "execution_count": 44,
     "metadata": {},
     "output_type": "execute_result"
    }
   ],
   "source": [
    "list5.pop()"
   ]
  },
  {
   "cell_type": "code",
   "execution_count": 45,
   "id": "a1f9a978-3945-4aa7-b055-bc46a25ad98f",
   "metadata": {},
   "outputs": [
    {
     "data": {
      "text/plain": [
       "[1, 2, 3, 4, 5, False]"
      ]
     },
     "execution_count": 45,
     "metadata": {},
     "output_type": "execute_result"
    }
   ],
   "source": [
    "list5"
   ]
  },
  {
   "cell_type": "code",
   "execution_count": 46,
   "id": "c99c0675-c294-429e-a9ea-5cfcf4e49376",
   "metadata": {},
   "outputs": [
    {
     "data": {
      "text/plain": [
       "False"
      ]
     },
     "execution_count": 46,
     "metadata": {},
     "output_type": "execute_result"
    }
   ],
   "source": [
    "list5.pop()"
   ]
  },
  {
   "cell_type": "code",
   "execution_count": 47,
   "id": "659272d8-288b-4fee-95fa-9bca974a97d1",
   "metadata": {},
   "outputs": [
    {
     "data": {
      "text/plain": [
       "[1, 2, 3, 4, 5]"
      ]
     },
     "execution_count": 47,
     "metadata": {},
     "output_type": "execute_result"
    }
   ],
   "source": [
    "list5"
   ]
  },
  {
   "cell_type": "code",
   "execution_count": 48,
   "id": "20dbcf73-726f-4470-9202-b13d6a91b98f",
   "metadata": {},
   "outputs": [
    {
     "data": {
      "text/plain": [
       "4"
      ]
     },
     "execution_count": 48,
     "metadata": {},
     "output_type": "execute_result"
    }
   ],
   "source": [
    "list5.pop(3)"
   ]
  },
  {
   "cell_type": "code",
   "execution_count": 49,
   "id": "e84fcd76-ab89-43e1-8f19-57b5dc24d657",
   "metadata": {},
   "outputs": [
    {
     "data": {
      "text/plain": [
       "[1, 2, 3, 5]"
      ]
     },
     "execution_count": 49,
     "metadata": {},
     "output_type": "execute_result"
    }
   ],
   "source": [
    "list5"
   ]
  },
  {
   "cell_type": "code",
   "execution_count": 51,
   "id": "12c2dd75-e842-48c9-a524-f6e3a964b6e6",
   "metadata": {},
   "outputs": [],
   "source": [
    "list5.append(8)"
   ]
  },
  {
   "cell_type": "code",
   "execution_count": 52,
   "id": "8eee6801-1744-4234-a6f9-8200338c5ade",
   "metadata": {},
   "outputs": [
    {
     "data": {
      "text/plain": [
       "[1, 2, 3, 5, 8]"
      ]
     },
     "execution_count": 52,
     "metadata": {},
     "output_type": "execute_result"
    }
   ],
   "source": [
    "list5"
   ]
  },
  {
   "cell_type": "code",
   "execution_count": 54,
   "id": "cf060fa0-b38a-4a53-8298-f797a9c609e3",
   "metadata": {},
   "outputs": [],
   "source": [
    "list5.append(list4)"
   ]
  },
  {
   "cell_type": "code",
   "execution_count": 55,
   "id": "785a01d2-a5e1-4e78-b093-55f044aef841",
   "metadata": {},
   "outputs": [
    {
     "data": {
      "text/plain": [
       "[1,\n",
       " 2,\n",
       " 3,\n",
       " 5,\n",
       " 8,\n",
       " ['hello', 'world', ['This', 'is', 'new', 'string', '2', 'Now', 'list']]]"
      ]
     },
     "execution_count": 55,
     "metadata": {},
     "output_type": "execute_result"
    }
   ],
   "source": [
    "list5"
   ]
  },
  {
   "cell_type": "code",
   "execution_count": 56,
   "id": "ae2c4d14-af28-4543-891e-fc974e604c70",
   "metadata": {},
   "outputs": [
    {
     "data": {
      "text/plain": [
       "'string'"
      ]
     },
     "execution_count": 56,
     "metadata": {},
     "output_type": "execute_result"
    }
   ],
   "source": [
    "list5[5][2][3]"
   ]
  },
  {
   "cell_type": "code",
   "execution_count": 57,
   "id": "9bbf91aa-de99-4e63-8ede-c54177502477",
   "metadata": {},
   "outputs": [],
   "source": [
    "list6=['Hey','there','buddy','!']"
   ]
  },
  {
   "cell_type": "code",
   "execution_count": 58,
   "id": "100b6d36-4d57-4c40-bcf1-cecc6a2849c5",
   "metadata": {},
   "outputs": [],
   "source": [
    "list6.reverse()"
   ]
  },
  {
   "cell_type": "code",
   "execution_count": 59,
   "id": "5b2406b5-72c5-4969-aae1-e478229ba491",
   "metadata": {},
   "outputs": [
    {
     "data": {
      "text/plain": [
       "['!', 'buddy', 'there', 'Hey']"
      ]
     },
     "execution_count": 59,
     "metadata": {},
     "output_type": "execute_result"
    }
   ],
   "source": [
    "list6"
   ]
  },
  {
   "cell_type": "code",
   "execution_count": 60,
   "id": "0af886af-2d6b-4529-98e3-bb982a03d10a",
   "metadata": {},
   "outputs": [],
   "source": [
    "list7=['g','y','a','w','p']"
   ]
  },
  {
   "cell_type": "code",
   "execution_count": 61,
   "id": "84f1bcef-3740-484f-b877-a36f8baec802",
   "metadata": {},
   "outputs": [],
   "source": [
    "list7.sort()"
   ]
  },
  {
   "cell_type": "code",
   "execution_count": 62,
   "id": "8b5afa4f-38f2-4b6d-84a4-22fbfffbe929",
   "metadata": {},
   "outputs": [
    {
     "data": {
      "text/plain": [
       "['a', 'g', 'p', 'w', 'y']"
      ]
     },
     "execution_count": 62,
     "metadata": {},
     "output_type": "execute_result"
    }
   ],
   "source": [
    "list7"
   ]
  },
  {
   "cell_type": "code",
   "execution_count": 64,
   "id": "404b8545-f4ad-4ea3-8270-3c45f4dc92c0",
   "metadata": {},
   "outputs": [],
   "source": [
    "# according to ascii values\n",
    "list6.sort()"
   ]
  },
  {
   "cell_type": "code",
   "execution_count": 65,
   "id": "38e628dd-1df3-46b3-997f-765bddea11b6",
   "metadata": {},
   "outputs": [
    {
     "data": {
      "text/plain": [
       "['!', 'Hey', 'buddy', 'there']"
      ]
     },
     "execution_count": 65,
     "metadata": {},
     "output_type": "execute_result"
    }
   ],
   "source": [
    "list6"
   ]
  },
  {
   "cell_type": "code",
   "execution_count": 66,
   "id": "623e6034-bf5a-4eb9-b52c-41aeb16cece2",
   "metadata": {},
   "outputs": [],
   "source": [
    "list6.extend(list7)"
   ]
  },
  {
   "cell_type": "code",
   "execution_count": 67,
   "id": "38ded06c-1e22-47fe-ba04-58f61d25266b",
   "metadata": {},
   "outputs": [
    {
     "data": {
      "text/plain": [
       "['!', 'Hey', 'buddy', 'there', 'a', 'g', 'p', 'w', 'y']"
      ]
     },
     "execution_count": 67,
     "metadata": {},
     "output_type": "execute_result"
    }
   ],
   "source": [
    "list6"
   ]
  },
  {
   "cell_type": "code",
   "execution_count": 68,
   "id": "76e1d6e5-f35f-4be9-97ae-4f2e211968ee",
   "metadata": {},
   "outputs": [],
   "source": [
    "list6.sort()"
   ]
  },
  {
   "cell_type": "code",
   "execution_count": 69,
   "id": "aa8b8901-d403-4886-b17b-75fd062600a3",
   "metadata": {},
   "outputs": [
    {
     "data": {
      "text/plain": [
       "['!', 'Hey', 'a', 'buddy', 'g', 'p', 'there', 'w', 'y']"
      ]
     },
     "execution_count": 69,
     "metadata": {},
     "output_type": "execute_result"
    }
   ],
   "source": [
    "list6"
   ]
  },
  {
   "cell_type": "markdown",
   "id": "02136be9-3b24-467b-81a0-1db369df52d2",
   "metadata": {},
   "source": [
    "## Nested Lists (or Arrays)"
   ]
  },
  {
   "cell_type": "code",
   "execution_count": 71,
   "id": "37d94f94-e412-49e8-b070-81c8814c00b3",
   "metadata": {},
   "outputs": [],
   "source": [
    "# defining a Matrix\n",
    "lst1=[11,12,13]\n",
    "lst2=[21,22,23]\n",
    "lst3=[31,32,33]\n",
    "lst4=[lst1,lst2,lst3]"
   ]
  },
  {
   "cell_type": "code",
   "execution_count": 72,
   "id": "3541977e-bff4-4abb-830f-62c353f02e6f",
   "metadata": {},
   "outputs": [
    {
     "data": {
      "text/plain": [
       "[[11, 12, 13], [21, 22, 23], [31, 32, 33]]"
      ]
     },
     "execution_count": 72,
     "metadata": {},
     "output_type": "execute_result"
    }
   ],
   "source": [
    "lst4"
   ]
  },
  {
   "cell_type": "code",
   "execution_count": 75,
   "id": "d21792f3-9de6-48d4-af17-b2460355a676",
   "metadata": {},
   "outputs": [
    {
     "data": {
      "text/plain": [
       "33"
      ]
     },
     "execution_count": 75,
     "metadata": {},
     "output_type": "execute_result"
    }
   ],
   "source": [
    "lst4[2][2]\n",
    "# remember list index starts from 0"
   ]
  },
  {
   "cell_type": "code",
   "execution_count": 76,
   "id": "9a40b202-e444-40a4-8705-6ecba7eccbb7",
   "metadata": {},
   "outputs": [
    {
     "data": {
      "text/plain": [
       "[[21, 22, 23], [31, 32, 33]]"
      ]
     },
     "execution_count": 76,
     "metadata": {},
     "output_type": "execute_result"
    }
   ],
   "source": [
    "lst4[1:]"
   ]
  },
  {
   "cell_type": "code",
   "execution_count": 78,
   "id": "46791a3e-ff2b-4a91-ba84-a80e03c17884",
   "metadata": {},
   "outputs": [
    {
     "data": {
      "text/plain": [
       "[[31, 32, 33]]"
      ]
     },
     "execution_count": 78,
     "metadata": {},
     "output_type": "execute_result"
    }
   ],
   "source": [
    "lst4[1:][1:]"
   ]
  },
  {
   "cell_type": "code",
   "execution_count": 79,
   "id": "cf31e6b0-80f5-440e-8fd7-9bcdedfbca3c",
   "metadata": {},
   "outputs": [
    {
     "data": {
      "text/plain": [
       "[32, 33]"
      ]
     },
     "execution_count": 79,
     "metadata": {},
     "output_type": "execute_result"
    }
   ],
   "source": [
    "lst4[2][1:]"
   ]
  },
  {
   "cell_type": "markdown",
   "id": "f0c2de04-abca-4a8a-bcca-8d2b9e7d7ac4",
   "metadata": {},
   "source": [
    "### List Comprehension"
   ]
  },
  {
   "cell_type": "code",
   "execution_count": 80,
   "id": "72a27de7-21d3-4490-bc08-6997eb4a0790",
   "metadata": {},
   "outputs": [
    {
     "data": {
      "text/plain": [
       "[0, 1, 2, 3, 4, 5, 6, 7, 8, 9]"
      ]
     },
     "execution_count": 80,
     "metadata": {},
     "output_type": "execute_result"
    }
   ],
   "source": [
    "[i for i in range(10)]"
   ]
  },
  {
   "cell_type": "code",
   "execution_count": 81,
   "id": "348c511e-7d1d-4088-a631-3b2beac6747b",
   "metadata": {},
   "outputs": [
    {
     "data": {
      "text/plain": [
       "[[11, 12, 13], [21, 22, 23], [31, 32, 33]]"
      ]
     },
     "execution_count": 81,
     "metadata": {},
     "output_type": "execute_result"
    }
   ],
   "source": [
    "[i for i in lst4]"
   ]
  },
  {
   "cell_type": "code",
   "execution_count": 90,
   "id": "8dca5c57-f343-48c1-a7a2-056241adee0d",
   "metadata": {},
   "outputs": [
    {
     "data": {
      "text/plain": [
       "[10,\n",
       " {11, 'odd'},\n",
       " 12,\n",
       " {13, 'odd'},\n",
       " 14,\n",
       " {15, 'odd'},\n",
       " 16,\n",
       " {17, 'odd'},\n",
       " 18,\n",
       " {19, 'odd'},\n",
       " 20]"
      ]
     },
     "execution_count": 90,
     "metadata": {},
     "output_type": "execute_result"
    }
   ],
   "source": [
    "[i if i%2==0 else {i,\"odd\"} for i in range(10,21)]"
   ]
  },
  {
   "cell_type": "code",
   "execution_count": 91,
   "id": "498c7b09-1d75-47da-8429-5ede328ef365",
   "metadata": {},
   "outputs": [
    {
     "name": "stdout",
     "output_type": "stream",
     "text": [
      "22\n",
      "18\n"
     ]
    }
   ],
   "source": [
    "lst5=[4,9,6,1,5,3,4,8]\n",
    "s_even=0\n",
    "s_odd=0\n",
    "for i in lst5:\n",
    "    if i%2==0:\n",
    "        s_even+=i\n",
    "    else:\n",
    "        s_odd+=i\n",
    "print(s_even)\n",
    "print(s_odd)    "
   ]
  },
  {
   "cell_type": "code",
   "execution_count": 98,
   "id": "284e2538-9379-4198-97c5-c84e3342afec",
   "metadata": {},
   "outputs": [
    {
     "name": "stdout",
     "output_type": "stream",
     "text": [
      "22\n"
     ]
    }
   ],
   "source": [
    "# to print sum of even numbers from a list list comprehension\n",
    "even_s=sum([num for num in lst5 if num%2==0])\n",
    "print(even_s)"
   ]
  },
  {
   "cell_type": "code",
   "execution_count": null,
   "id": "e7818c14-8c92-454a-bbc4-67926923828b",
   "metadata": {},
   "outputs": [],
   "source": [
    "# to print sum of odd numbers from a list list comprehension\n",
    "odd_s=sum([num for num in lst5 if num%2!=0])\n",
    "print(odd_s)"
   ]
  },
  {
   "cell_type": "code",
   "execution_count": 99,
   "id": "ac8f3f59-9121-4313-a4ea-69f9a3a2a28b",
   "metadata": {},
   "outputs": [
    {
     "data": {
      "text/plain": [
       "[3, 7, 45, 11, 67]"
      ]
     },
     "execution_count": 99,
     "metadata": {},
     "output_type": "execute_result"
    }
   ],
   "source": [
    "# to print only postive numbers from a list using list comprehension\n",
    "lst6=[3,-9,7,45,-80,11,-22,-26,67]\n",
    "[j for j in lst6 if j>0]"
   ]
  },
  {
   "cell_type": "code",
   "execution_count": 101,
   "id": "a1e37014-a81b-4090-9263-1e68f610c3d1",
   "metadata": {},
   "outputs": [
    {
     "data": {
      "text/plain": [
       "[-9, -80, -22, -26]"
      ]
     },
     "execution_count": 101,
     "metadata": {},
     "output_type": "execute_result"
    }
   ],
   "source": [
    "# to print only postive numbers from a list using list comprehension\n",
    "[j for j in lst6 if j<0]"
   ]
  },
  {
   "cell_type": "code",
   "execution_count": 106,
   "id": "64a594bf-1433-43b2-b37b-62b0d26341d3",
   "metadata": {},
   "outputs": [
    {
     "data": {
      "text/plain": [
       "[39.2, 46.4, 68.0, 51.8, 58.28, 113.0]"
      ]
     },
     "execution_count": 106,
     "metadata": {},
     "output_type": "execute_result"
    }
   ],
   "source": [
    "# to convert a list of temperatures from Celsius to Fahrenheit uing list comprehesnion\n",
    "lst7=[4,8,20,11,14.6,45]\n",
    "[(9/5)*cel+32 for cel in lst7]"
   ]
  },
  {
   "cell_type": "code",
   "execution_count": 112,
   "id": "902306ef-cabe-4370-8aac-6d0ecfcebd46",
   "metadata": {},
   "outputs": [
    {
     "data": {
      "text/plain": [
       "[1, 2, 3, 4, 5, 6, 7, 8, 9]"
      ]
     },
     "execution_count": 112,
     "metadata": {},
     "output_type": "execute_result"
    }
   ],
   "source": [
    "# to flatten a list of lists into a single list\n",
    "lst8=[[1,2,3],[4,5,6],[7,8,9]]\n",
    "[i for num in lst8 for i in num]"
   ]
  },
  {
   "cell_type": "code",
   "execution_count": null,
   "id": "66d268a1-9758-4250-8bad-1b96265f3d24",
   "metadata": {},
   "outputs": [],
   "source": [
    "# to print a list in matrix form"
   ]
  },
  {
   "cell_type": "code",
   "execution_count": null,
   "id": "d655a844-fd82-4f7c-8b99-76da0b6b53d6",
   "metadata": {},
   "outputs": [],
   "source": []
  },
  {
   "cell_type": "code",
   "execution_count": null,
   "id": "794b6fef-786f-4cdd-8fd3-2e2a7ba1a6c1",
   "metadata": {},
   "outputs": [],
   "source": []
  },
  {
   "cell_type": "code",
   "execution_count": null,
   "id": "5b0ee1d8-d60d-41f1-b7e0-ec434faf67db",
   "metadata": {},
   "outputs": [],
   "source": []
  },
  {
   "cell_type": "code",
   "execution_count": null,
   "id": "30d8d2b5-b18c-4a35-bf38-ef7a78ae8fb2",
   "metadata": {},
   "outputs": [],
   "source": []
  },
  {
   "cell_type": "code",
   "execution_count": null,
   "id": "8a9fed5e-3ae9-4846-835d-99856e05e40f",
   "metadata": {},
   "outputs": [],
   "source": []
  },
  {
   "cell_type": "code",
   "execution_count": null,
   "id": "b8ba760c-1816-4f8e-8d4c-f261dcffe686",
   "metadata": {},
   "outputs": [],
   "source": []
  },
  {
   "cell_type": "code",
   "execution_count": null,
   "id": "d179b284-dc24-432a-a256-30f37d3b5800",
   "metadata": {},
   "outputs": [],
   "source": []
  },
  {
   "cell_type": "code",
   "execution_count": null,
   "id": "7b6c6045-33e5-425d-813c-b8eaf85ced82",
   "metadata": {},
   "outputs": [],
   "source": []
  }
 ],
 "metadata": {
  "kernelspec": {
   "display_name": "Python 3 (ipykernel)",
   "language": "python",
   "name": "python3"
  },
  "language_info": {
   "codemirror_mode": {
    "name": "ipython",
    "version": 3
   },
   "file_extension": ".py",
   "mimetype": "text/x-python",
   "name": "python",
   "nbconvert_exporter": "python",
   "pygments_lexer": "ipython3",
   "version": "3.10.8"
  }
 },
 "nbformat": 4,
 "nbformat_minor": 5
}
