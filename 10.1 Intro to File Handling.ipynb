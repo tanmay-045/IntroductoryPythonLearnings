{
 "cells": [
  {
   "cell_type": "markdown",
   "id": "37c11502-1acf-47b4-b5eb-cd92f34a2cd6",
   "metadata": {},
   "source": [
    "## Logging and Debugger\n",
    "\n",
    "### Logging is a mechanism that allows you to record important information or events that occur during the execution of your Python program. This information is typically written to a log file so that you can review it later. Logging serves several purposes:\n",
    "### Debugging: It helps you understand what your code is doing and find errors or unexpected behaviors.\n",
    "### Monitoring: It provides insights into the program's performance and behavior during runtime.\n",
    "### Auditing: It allows you to keep a record of important actions or events in your application."
   ]
  },
  {
   "cell_type": "code",
   "execution_count": 1,
   "id": "d677f68e-92fe-4769-b61f-caf75272f2ad",
   "metadata": {},
   "outputs": [],
   "source": [
    "import logging"
   ]
  },
  {
   "cell_type": "code",
   "execution_count": 2,
   "id": "5cf91692-c9d5-4c63-94ea-d91b06d86a44",
   "metadata": {},
   "outputs": [],
   "source": [
    "# Configuring the logger\n",
    "# this will create a log file which will contain the log info\n",
    "logging.basicConfig(filename=\"log_test.log\", level=logging.DEBUG)"
   ]
  },
  {
   "cell_type": "code",
   "execution_count": 3,
   "id": "2c1c3870-b6b7-4325-828c-9b13b16d275f",
   "metadata": {},
   "outputs": [],
   "source": [
    "# log messages\n",
    "logging.debug(\"This is debug message\")\n",
    "logging.info(\"This is an info message\")\n",
    "logging.warning(\"This is an warning message\")\n",
    "logging.error(\"This is an error message\")\n",
    "logging.critical(\"This is a critical message\")"
   ]
  },
  {
   "cell_type": "markdown",
   "id": "950f5141-8d28-4d4d-9b2b-a4c53802c5a2",
   "metadata": {},
   "source": [
    "### 1.We import the logging module.\n",
    "### 2.Configure the logger to write messages to a file named \"app.log\" and set the logging level to DEBUG, which means it will capture all message types. (order of heirarchy is same as used in above eg i.e. it will cover all level below it)\n",
    "### 3.We use different logging functions (debug, info, warning, error, and critical) to log messages with varying levels of severity.\n",
    "### 4.We can then review the \"app.log\" file to understand what happened during the program's execution, helping us diagnose and fix issues."
   ]
  },
  {
   "cell_type": "code",
   "execution_count": 4,
   "id": "6bf5c437-2567-4892-b5c1-89607b3e6e90",
   "metadata": {},
   "outputs": [],
   "source": [
    "# to close the particular log file\n",
    "logging.shutdown()"
   ]
  },
  {
   "cell_type": "code",
   "execution_count": 2,
   "id": "763fe586-f209-486f-b93d-89e0d6eea4b2",
   "metadata": {},
   "outputs": [],
   "source": [
    "logging.basicConfig(filename=\"log_test3.log\", level=logging.DEBUG, format = \"%(asctime)s %(name)s %(levelname)s %(message)s\")"
   ]
  },
  {
   "cell_type": "code",
   "execution_count": 3,
   "id": "6ae03595-0658-4b95-b515-2460e6cc9670",
   "metadata": {},
   "outputs": [],
   "source": [
    "logging.info(\"This is info message\")"
   ]
  },
  {
   "cell_type": "code",
   "execution_count": 4,
   "id": "7688eb4b-8a45-4b93-8986-d1f38633f805",
   "metadata": {},
   "outputs": [],
   "source": [
    "# implementation of logging\n",
    "# Let us have a list which contains data of int and str data types\n",
    "# we have to sort that data into two different lists\n",
    "# we are going to write and code and\n",
    "# through logging we are going to see how the code is working or executing internally through entries in log file\n",
    "pass"
   ]
  },
  {
   "cell_type": "code",
   "execution_count": 3,
   "id": "a2e16914-cc66-44b8-b8ff-c93dac69e1d7",
   "metadata": {},
   "outputs": [],
   "source": [
    "l=[1,\"tan\",2,3,4,[9,8,7],\"dan\",\"gen\"]"
   ]
  },
  {
   "cell_type": "code",
   "execution_count": 4,
   "id": "201ff11f-ae27-4def-8b98-306ad065b833",
   "metadata": {},
   "outputs": [],
   "source": [
    "l_num=[]\n",
    "l_str=[]"
   ]
  },
  {
   "cell_type": "code",
   "execution_count": 5,
   "id": "7af97b1b-e1ce-4d93-a5f1-ffe2f82c2a72",
   "metadata": {},
   "outputs": [],
   "source": [
    "for i in l:\n",
    "    logging.info(\"Value of i= {} for the list:- {} \".format(i,l))\n",
    "    if type(i)==list:\n",
    "        for j in i:\n",
    "            logging.info(\"Value of j= {a} for the value of i= {b}\".format(a=j,b=i))\n",
    "            if type(j)==int:\n",
    "                l_num.append(j)\n",
    "    elif type(i)==int:\n",
    "        l_num.append(i)\n",
    "    else:\n",
    "        logging.info(\"This must be the value of i for str = {}\".format(i))\n",
    "        if type(i)==str:\n",
    "            l_str.append(i)\n",
    "logging.info(\"Final Result List of str= {}\\n List of int= {}\".format(l_str,l_num))"
   ]
  },
  {
   "cell_type": "code",
   "execution_count": 6,
   "id": "c7d221d1-bc0e-45f8-9b88-b2d9a0c9e5df",
   "metadata": {},
   "outputs": [],
   "source": [
    "# check 'log_test3.log' file, to check how the program has been executed\n",
    "pass"
   ]
  }
 ],
 "metadata": {
  "kernelspec": {
   "display_name": "Python 3 (ipykernel)",
   "language": "python",
   "name": "python3"
  },
  "language_info": {
   "codemirror_mode": {
    "name": "ipython",
    "version": 3
   },
   "file_extension": ".py",
   "mimetype": "text/x-python",
   "name": "python",
   "nbconvert_exporter": "python",
   "pygments_lexer": "ipython3",
   "version": "3.10.8"
  }
 },
 "nbformat": 4,
 "nbformat_minor": 5
}
