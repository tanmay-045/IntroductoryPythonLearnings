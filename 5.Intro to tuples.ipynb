{
 "cells": [
  {
   "cell_type": "markdown",
   "id": "6bfe5c0b-86af-4f53-b3e6-32378b9969ce",
   "metadata": {},
   "source": [
    "# TUPLES"
   ]
  },
  {
   "cell_type": "code",
   "execution_count": 1,
   "id": "871c224c-7a83-4e66-84af-2c9c0d754263",
   "metadata": {},
   "outputs": [
    {
     "data": {
      "text/plain": [
       "tuple"
      ]
     },
     "execution_count": 1,
     "metadata": {},
     "output_type": "execute_result"
    }
   ],
   "source": [
    "# tuple is declared using ()\n",
    "type(())"
   ]
  },
  {
   "cell_type": "code",
   "execution_count": 2,
   "id": "e6aedab9-334c-47f4-89a4-867ad8273ec2",
   "metadata": {},
   "outputs": [],
   "source": [
    "t=('a','b','c')"
   ]
  },
  {
   "cell_type": "code",
   "execution_count": 3,
   "id": "de3e193f-9ac7-4bcd-8b97-ff4d536d62dd",
   "metadata": {},
   "outputs": [
    {
     "data": {
      "text/plain": [
       "('a', 'b', 'c')"
      ]
     },
     "execution_count": 3,
     "metadata": {},
     "output_type": "execute_result"
    }
   ],
   "source": [
    "t"
   ]
  },
  {
   "cell_type": "code",
   "execution_count": 4,
   "id": "4ffdc9cf-3db5-4296-9345-9fcd818efeea",
   "metadata": {},
   "outputs": [
    {
     "data": {
      "text/plain": [
       "tuple"
      ]
     },
     "execution_count": 4,
     "metadata": {},
     "output_type": "execute_result"
    }
   ],
   "source": [
    "type(t)"
   ]
  },
  {
   "cell_type": "code",
   "execution_count": 5,
   "id": "e5efddd3-4dfe-4777-ba3e-f712e1a08fba",
   "metadata": {},
   "outputs": [],
   "source": [
    "# Tuples are similar to lists with a key difference of 'mutability' . Tuples are immutable while lists are mutable.\n",
    "# We can apply similar operations and functions to tuples, like slicing and traversing through for loop etc."
   ]
  },
  {
   "cell_type": "code",
   "execution_count": 6,
   "id": "6bced6ce-0649-40ee-b7cf-231e3883839e",
   "metadata": {},
   "outputs": [],
   "source": [
    "t1=('hello',2.0,'there',4+6j,5)"
   ]
  },
  {
   "cell_type": "code",
   "execution_count": 7,
   "id": "87db76ea-634b-4c45-85ad-11df0b53c6f8",
   "metadata": {},
   "outputs": [
    {
     "data": {
      "text/plain": [
       "('hello', 2.0, 'there', (4+6j), 5)"
      ]
     },
     "execution_count": 7,
     "metadata": {},
     "output_type": "execute_result"
    }
   ],
   "source": [
    "t1"
   ]
  },
  {
   "cell_type": "code",
   "execution_count": 8,
   "id": "3f2e5c1b-c56f-4ba1-a7f4-2fe844a495d1",
   "metadata": {},
   "outputs": [
    {
     "data": {
      "text/plain": [
       "(2.0, 'there', (4+6j), 5)"
      ]
     },
     "execution_count": 8,
     "metadata": {},
     "output_type": "execute_result"
    }
   ],
   "source": [
    "t1[1:]"
   ]
  },
  {
   "cell_type": "code",
   "execution_count": 9,
   "id": "8b58b2da-7b11-465a-b779-5af42d06a39d",
   "metadata": {},
   "outputs": [
    {
     "data": {
      "text/plain": [
       "5"
      ]
     },
     "execution_count": 9,
     "metadata": {},
     "output_type": "execute_result"
    }
   ],
   "source": [
    "t1[-1]"
   ]
  },
  {
   "cell_type": "code",
   "execution_count": 10,
   "id": "f8f19956-5d6e-42c5-b652-30b8727c750b",
   "metadata": {},
   "outputs": [
    {
     "data": {
      "text/plain": [
       "(5, (4+6j), 'there', 2.0, 'hello')"
      ]
     },
     "execution_count": 10,
     "metadata": {},
     "output_type": "execute_result"
    }
   ],
   "source": [
    "t1[::-1]"
   ]
  },
  {
   "cell_type": "code",
   "execution_count": 11,
   "id": "8006806f-92f1-4068-8385-7ae4a15aa989",
   "metadata": {},
   "outputs": [
    {
     "data": {
      "text/plain": [
       "('hello', 2.0, 'there')"
      ]
     },
     "execution_count": 11,
     "metadata": {},
     "output_type": "execute_result"
    }
   ],
   "source": [
    "t1[0:3]"
   ]
  },
  {
   "cell_type": "code",
   "execution_count": 17,
   "id": "4be9fa25-7392-4537-b3d9-f8ff89a1eca7",
   "metadata": {},
   "outputs": [],
   "source": [
    "t2=t1+('new',3,6,90,'Join',2,'hello')"
   ]
  },
  {
   "cell_type": "code",
   "execution_count": 18,
   "id": "7bdddd5a-333d-4858-aab7-a41482f01c74",
   "metadata": {},
   "outputs": [
    {
     "data": {
      "text/plain": [
       "('hello', 2.0, 'there', (4+6j), 5, 'new', 3, 6, 90, 'Join', 2, 'hello')"
      ]
     },
     "execution_count": 18,
     "metadata": {},
     "output_type": "execute_result"
    }
   ],
   "source": [
    "t2"
   ]
  },
  {
   "cell_type": "code",
   "execution_count": 19,
   "id": "80f80ce3-4143-4303-9e69-079b9e8ac0ef",
   "metadata": {},
   "outputs": [
    {
     "data": {
      "text/plain": [
       "2"
      ]
     },
     "execution_count": 19,
     "metadata": {},
     "output_type": "execute_result"
    }
   ],
   "source": [
    "t2.count(2)"
   ]
  },
  {
   "cell_type": "code",
   "execution_count": 20,
   "id": "374f299c-0daa-4fce-8315-09cb1fa2748b",
   "metadata": {},
   "outputs": [
    {
     "data": {
      "text/plain": [
       "1"
      ]
     },
     "execution_count": 20,
     "metadata": {},
     "output_type": "execute_result"
    }
   ],
   "source": [
    "t2.count('there')"
   ]
  },
  {
   "cell_type": "code",
   "execution_count": 21,
   "id": "c564bc84-24eb-48f1-94b6-f182512ae8b5",
   "metadata": {},
   "outputs": [
    {
     "data": {
      "text/plain": [
       "2"
      ]
     },
     "execution_count": 21,
     "metadata": {},
     "output_type": "execute_result"
    }
   ],
   "source": [
    "t2.count('hello')"
   ]
  },
  {
   "cell_type": "code",
   "execution_count": 22,
   "id": "c4197392-b29b-4086-9489-094c0e71c270",
   "metadata": {},
   "outputs": [
    {
     "data": {
      "text/plain": [
       "3"
      ]
     },
     "execution_count": 22,
     "metadata": {},
     "output_type": "execute_result"
    }
   ],
   "source": [
    "t2.index(4+6j)"
   ]
  },
  {
   "cell_type": "code",
   "execution_count": 23,
   "id": "2950b290-4336-45d5-bc36-1f5e825ed1d4",
   "metadata": {},
   "outputs": [
    {
     "data": {
      "text/plain": [
       "0"
      ]
     },
     "execution_count": 23,
     "metadata": {},
     "output_type": "execute_result"
    }
   ],
   "source": [
    "t2.index(\"hello\")"
   ]
  },
  {
   "cell_type": "code",
   "execution_count": 25,
   "id": "fb75643a-9557-4994-a538-6be77b6bb0c3",
   "metadata": {},
   "outputs": [
    {
     "data": {
      "text/plain": [
       "1"
      ]
     },
     "execution_count": 25,
     "metadata": {},
     "output_type": "execute_result"
    }
   ],
   "source": [
    "t2.index(2)"
   ]
  },
  {
   "cell_type": "code",
   "execution_count": 26,
   "id": "fb0b8e1e-f070-45ad-a004-6a6cf1fab62d",
   "metadata": {},
   "outputs": [
    {
     "ename": "ValueError",
     "evalue": "tuple.index(x): x not in tuple",
     "output_type": "error",
     "traceback": [
      "\u001b[0;31m---------------------------------------------------------------------------\u001b[0m",
      "\u001b[0;31mValueError\u001b[0m                                Traceback (most recent call last)",
      "Cell \u001b[0;32mIn[26], line 1\u001b[0m\n\u001b[0;32m----> 1\u001b[0m \u001b[43mt2\u001b[49m\u001b[38;5;241;43m.\u001b[39;49m\u001b[43mindex\u001b[49m\u001b[43m(\u001b[49m\u001b[38;5;124;43m'\u001b[39;49m\u001b[38;5;124;43mjoin\u001b[39;49m\u001b[38;5;124;43m'\u001b[39;49m\u001b[43m)\u001b[49m\n",
      "\u001b[0;31mValueError\u001b[0m: tuple.index(x): x not in tuple"
     ]
    }
   ],
   "source": [
    "t2.index('join')\n",
    "# gonna result in error"
   ]
  },
  {
   "cell_type": "code",
   "execution_count": 28,
   "id": "05c90fd6-5978-4228-bdc6-764f899f5f71",
   "metadata": {},
   "outputs": [
    {
     "data": {
      "text/plain": [
       "9"
      ]
     },
     "execution_count": 28,
     "metadata": {},
     "output_type": "execute_result"
    }
   ],
   "source": [
    "t2.index('Join')"
   ]
  },
  {
   "cell_type": "code",
   "execution_count": 31,
   "id": "1f1d1d77-0e64-4ce0-8203-3176cd42a053",
   "metadata": {},
   "outputs": [
    {
     "ename": "TypeError",
     "evalue": "'>' not supported between instances of 'float' and 'str'",
     "output_type": "error",
     "traceback": [
      "\u001b[0;31m---------------------------------------------------------------------------\u001b[0m",
      "\u001b[0;31mTypeError\u001b[0m                                 Traceback (most recent call last)",
      "Cell \u001b[0;32mIn[31], line 1\u001b[0m\n\u001b[0;32m----> 1\u001b[0m \u001b[38;5;28;43mmax\u001b[39;49m\u001b[43m(\u001b[49m\u001b[43mt2\u001b[49m\u001b[43m)\u001b[49m\n\u001b[1;32m      2\u001b[0m \u001b[38;5;66;03m#error as tuple contains string datatype and hence can't be commpared with int or float to find out max (or min)\u001b[39;00m\n",
      "\u001b[0;31mTypeError\u001b[0m: '>' not supported between instances of 'float' and 'str'"
     ]
    }
   ],
   "source": [
    "max(t2)\n",
    "#error as tuple contains string datatype and hence can't be commpared with int or float to find out max (or min)"
   ]
  },
  {
   "cell_type": "code",
   "execution_count": 32,
   "id": "f31b4d79-3df7-4016-a7ad-c708cc8d604a",
   "metadata": {},
   "outputs": [
    {
     "name": "stdout",
     "output_type": "stream",
     "text": [
      "hello\n",
      "2.0\n",
      "there\n",
      "(4+6j)\n",
      "5\n",
      "new\n",
      "3\n",
      "6\n",
      "90\n",
      "Join\n",
      "2\n",
      "hello\n"
     ]
    }
   ],
   "source": [
    "for i in t2:\n",
    "    print(i)"
   ]
  },
  {
   "cell_type": "code",
   "execution_count": 34,
   "id": "407c485e-fc4b-456b-b73b-4cc311d6758f",
   "metadata": {},
   "outputs": [
    {
     "name": "stdout",
     "output_type": "stream",
     "text": [
      "hello \t <class 'str'>\n",
      "2.0 \t <class 'float'>\n",
      "there \t <class 'str'>\n",
      "(4+6j) \t <class 'complex'>\n",
      "5 \t <class 'int'>\n",
      "new \t <class 'str'>\n",
      "3 \t <class 'int'>\n",
      "6 \t <class 'int'>\n",
      "90 \t <class 'int'>\n",
      "Join \t <class 'str'>\n",
      "2 \t <class 'int'>\n",
      "hello \t <class 'str'>\n"
     ]
    }
   ],
   "source": [
    "for i in t2:\n",
    "    print(i,\"\\t\",type(i))"
   ]
  },
  {
   "cell_type": "code",
   "execution_count": 35,
   "id": "745d36bb-1b26-4675-9104-e61cd4b6d53a",
   "metadata": {},
   "outputs": [
    {
     "data": {
      "text/plain": [
       "True"
      ]
     },
     "execution_count": 35,
     "metadata": {},
     "output_type": "execute_result"
    }
   ],
   "source": [
    "# to find an element in tuple \n",
    "'new' in t2"
   ]
  },
  {
   "cell_type": "code",
   "execution_count": 36,
   "id": "2721682c-13a6-413c-ba5b-6ac707c2287f",
   "metadata": {},
   "outputs": [
    {
     "name": "stdout",
     "output_type": "stream",
     "text": [
      "present\n"
     ]
    }
   ],
   "source": [
    "if \"Join\" in t2:\n",
    "    print(\"present\")\n",
    "else:\n",
    "    print(\"absent\")"
   ]
  },
  {
   "cell_type": "code",
   "execution_count": 39,
   "id": "f3719ead-332f-43d2-9dff-42b1f1112776",
   "metadata": {},
   "outputs": [],
   "source": [
    "list1=[ i for i in t2]"
   ]
  },
  {
   "cell_type": "code",
   "execution_count": 40,
   "id": "6de24237-4c3a-4f61-9749-997e2fdca85b",
   "metadata": {},
   "outputs": [
    {
     "data": {
      "text/plain": [
       "['hello', 2.0, 'there', (4+6j), 5, 'new', 3, 6, 90, 'Join', 2, 'hello']"
      ]
     },
     "execution_count": 40,
     "metadata": {},
     "output_type": "execute_result"
    }
   ],
   "source": [
    "list1"
   ]
  },
  {
   "cell_type": "code",
   "execution_count": 43,
   "id": "22959fbc-eb5e-4999-b496-499ed6253440",
   "metadata": {},
   "outputs": [
    {
     "ename": "NameError",
     "evalue": "name 't2' is not defined",
     "output_type": "error",
     "traceback": [
      "\u001b[0;31m---------------------------------------------------------------------------\u001b[0m",
      "\u001b[0;31mNameError\u001b[0m                                 Traceback (most recent call last)",
      "Cell \u001b[0;32mIn[43], line 1\u001b[0m\n\u001b[0;32m----> 1\u001b[0m \u001b[38;5;28;01mdel\u001b[39;00m t2\n\u001b[1;32m      2\u001b[0m \u001b[38;5;66;03m# tuple deleted\u001b[39;00m\n",
      "\u001b[0;31mNameError\u001b[0m: name 't2' is not defined"
     ]
    }
   ],
   "source": [
    "del t2\n",
    "# tuple deleted"
   ]
  }
 ],
 "metadata": {
  "kernelspec": {
   "display_name": "Python 3 (ipykernel)",
   "language": "python",
   "name": "python3"
  },
  "language_info": {
   "codemirror_mode": {
    "name": "ipython",
    "version": 3
   },
   "file_extension": ".py",
   "mimetype": "text/x-python",
   "name": "python",
   "nbconvert_exporter": "python",
   "pygments_lexer": "ipython3",
   "version": "3.10.8"
  }
 },
 "nbformat": 4,
 "nbformat_minor": 5
}
