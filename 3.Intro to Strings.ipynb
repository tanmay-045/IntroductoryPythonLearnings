{
 "cells": [
  {
   "cell_type": "markdown",
   "id": "e21953ac-6a1b-4976-98c8-fd9576acf373",
   "metadata": {},
   "source": [
    "# DATA STRUCTURE - STRINGS"
   ]
  },
  {
   "cell_type": "code",
   "execution_count": 8,
   "id": "6bca6891-3b66-4eb1-bf2c-67548f6e2318",
   "metadata": {},
   "outputs": [
    {
     "data": {
      "text/plain": [
       "'Hello World ! I am Great'"
      ]
     },
     "execution_count": 8,
     "metadata": {},
     "output_type": "execute_result"
    }
   ],
   "source": [
    "# here i declared a simple string can be declared using single or double quotes\n",
    "'Hello World ! I am Great'"
   ]
  },
  {
   "cell_type": "code",
   "execution_count": 21,
   "id": "4f0b660d-12a1-46f7-98e4-07e912ad5b7a",
   "metadata": {},
   "outputs": [
    {
     "data": {
      "text/plain": [
       "'Hello World,This is Great.'"
      ]
     },
     "execution_count": 21,
     "metadata": {},
     "output_type": "execute_result"
    }
   ],
   "source": [
    "string1=\"Hello World,This is Great.\"\n",
    "string1"
   ]
  },
  {
   "cell_type": "code",
   "execution_count": 13,
   "id": "b5de149c-aa16-4a11-9918-b8411399ad4a",
   "metadata": {},
   "outputs": [
    {
     "data": {
      "text/plain": [
       "str"
      ]
     },
     "execution_count": 13,
     "metadata": {},
     "output_type": "execute_result"
    }
   ],
   "source": [
    "# to know the datatype\n",
    "type(string1)"
   ]
  },
  {
   "cell_type": "code",
   "execution_count": 15,
   "id": "c7cac32f-35c6-4afc-9818-c39d691c94c8",
   "metadata": {},
   "outputs": [
    {
     "data": {
      "text/plain": [
       "['__add__',\n",
       " '__class__',\n",
       " '__contains__',\n",
       " '__delattr__',\n",
       " '__dir__',\n",
       " '__doc__',\n",
       " '__eq__',\n",
       " '__format__',\n",
       " '__ge__',\n",
       " '__getattribute__',\n",
       " '__getitem__',\n",
       " '__getnewargs__',\n",
       " '__gt__',\n",
       " '__hash__',\n",
       " '__init__',\n",
       " '__init_subclass__',\n",
       " '__iter__',\n",
       " '__le__',\n",
       " '__len__',\n",
       " '__lt__',\n",
       " '__mod__',\n",
       " '__mul__',\n",
       " '__ne__',\n",
       " '__new__',\n",
       " '__reduce__',\n",
       " '__reduce_ex__',\n",
       " '__repr__',\n",
       " '__rmod__',\n",
       " '__rmul__',\n",
       " '__setattr__',\n",
       " '__sizeof__',\n",
       " '__str__',\n",
       " '__subclasshook__',\n",
       " 'capitalize',\n",
       " 'casefold',\n",
       " 'center',\n",
       " 'count',\n",
       " 'encode',\n",
       " 'endswith',\n",
       " 'expandtabs',\n",
       " 'find',\n",
       " 'format',\n",
       " 'format_map',\n",
       " 'index',\n",
       " 'isalnum',\n",
       " 'isalpha',\n",
       " 'isascii',\n",
       " 'isdecimal',\n",
       " 'isdigit',\n",
       " 'isidentifier',\n",
       " 'islower',\n",
       " 'isnumeric',\n",
       " 'isprintable',\n",
       " 'isspace',\n",
       " 'istitle',\n",
       " 'isupper',\n",
       " 'join',\n",
       " 'ljust',\n",
       " 'lower',\n",
       " 'lstrip',\n",
       " 'maketrans',\n",
       " 'partition',\n",
       " 'removeprefix',\n",
       " 'removesuffix',\n",
       " 'replace',\n",
       " 'rfind',\n",
       " 'rindex',\n",
       " 'rjust',\n",
       " 'rpartition',\n",
       " 'rsplit',\n",
       " 'rstrip',\n",
       " 'split',\n",
       " 'splitlines',\n",
       " 'startswith',\n",
       " 'strip',\n",
       " 'swapcase',\n",
       " 'title',\n",
       " 'translate',\n",
       " 'upper',\n",
       " 'zfill']"
      ]
     },
     "execution_count": 15,
     "metadata": {},
     "output_type": "execute_result"
    }
   ],
   "source": [
    "# to know the directory of inbuilt functions we can perforn on 'string1' \n",
    "dir(string1)"
   ]
  },
  {
   "cell_type": "code",
   "execution_count": 17,
   "id": "44fe2c0a-54b1-46b5-99bf-7f94bd8fedde",
   "metadata": {},
   "outputs": [
    {
     "data": {
      "text/plain": [
       "'W'"
      ]
     },
     "execution_count": 17,
     "metadata": {},
     "output_type": "execute_result"
    }
   ],
   "source": [
    "# we can access strings from indices also\n",
    "string1[6]"
   ]
  },
  {
   "cell_type": "code",
   "execution_count": 19,
   "id": "85b43d9a-9aed-4bc1-bc94-c4db7e00bfe7",
   "metadata": {},
   "outputs": [],
   "source": [
    "# We can't change or alter the strings hence strings are 'immutable' !\n",
    "# string1[6]='g' is gonna result in error! indicating \" 'str' object does not support item assignment \"\n"
   ]
  },
  {
   "cell_type": "markdown",
   "id": "6efe0925-65be-4ef3-a7d6-502ee257084c",
   "metadata": {},
   "source": [
    "### Slice opearations on Strings"
   ]
  },
  {
   "cell_type": "code",
   "execution_count": 22,
   "id": "5564749e-eb20-4646-946f-082048a2b138",
   "metadata": {},
   "outputs": [
    {
     "data": {
      "text/plain": [
       "'Hello World,This is Great.'"
      ]
     },
     "execution_count": 22,
     "metadata": {},
     "output_type": "execute_result"
    }
   ],
   "source": [
    "string1"
   ]
  },
  {
   "cell_type": "code",
   "execution_count": 22,
   "id": "ee2b1ca2-4a74-48b7-a514-8ce63506d4ee",
   "metadata": {},
   "outputs": [
    {
     "data": {
      "text/plain": [
       "'Hello World,This is Great.'"
      ]
     },
     "execution_count": 22,
     "metadata": {},
     "output_type": "execute_result"
    }
   ],
   "source": [
    "string1[0:]"
   ]
  },
  {
   "cell_type": "code",
   "execution_count": 23,
   "id": "49f378c9-bff9-477a-bed8-b6cf2058e8a7",
   "metadata": {},
   "outputs": [
    {
     "data": {
      "text/plain": [
       "'r'"
      ]
     },
     "execution_count": 23,
     "metadata": {},
     "output_type": "execute_result"
    }
   ],
   "source": [
    "# we can access string characters from negtive indices also, which starts from right most side, from -1 to -n.\n",
    "string1[-5]"
   ]
  },
  {
   "cell_type": "code",
   "execution_count": 25,
   "id": "4c3243fa-f6ea-4299-9346-44b5b5f85b4c",
   "metadata": {},
   "outputs": [
    {
     "data": {
      "text/plain": [
       "26"
      ]
     },
     "execution_count": 25,
     "metadata": {},
     "output_type": "execute_result"
    }
   ],
   "source": [
    "len(string1)"
   ]
  },
  {
   "cell_type": "code",
   "execution_count": 26,
   "id": "6bfcc60e-92f1-4ed1-9a3c-38bf6a9ea347",
   "metadata": {},
   "outputs": [
    {
     "data": {
      "text/plain": [
       "' World,This is Great.'"
      ]
     },
     "execution_count": 26,
     "metadata": {},
     "output_type": "execute_result"
    }
   ],
   "source": [
    "string1[5:]"
   ]
  },
  {
   "cell_type": "code",
   "execution_count": 27,
   "id": "e5d2dc89-8e6d-43db-b139-bd538ca9c60c",
   "metadata": {},
   "outputs": [
    {
     "data": {
      "text/plain": [
       "'Great.'"
      ]
     },
     "execution_count": 27,
     "metadata": {},
     "output_type": "execute_result"
    }
   ],
   "source": [
    "string1[-6:]"
   ]
  },
  {
   "cell_type": "code",
   "execution_count": 33,
   "id": "e709caea-4855-470c-ad6d-c35ef8b095f2",
   "metadata": {},
   "outputs": [
    {
     "data": {
      "text/plain": [
       "'Great.'"
      ]
     },
     "execution_count": 33,
     "metadata": {},
     "output_type": "execute_result"
    }
   ],
   "source": [
    "string1[20:26]"
   ]
  },
  {
   "cell_type": "code",
   "execution_count": 31,
   "id": "980fcf0c-ee25-4aca-9109-f0f7f408ade8",
   "metadata": {},
   "outputs": [
    {
     "data": {
      "text/plain": [
       "'Great'"
      ]
     },
     "execution_count": 31,
     "metadata": {},
     "output_type": "execute_result"
    }
   ],
   "source": [
    "string1[-6:25]"
   ]
  },
  {
   "cell_type": "code",
   "execution_count": 36,
   "id": "ab340c5f-0c52-4024-935b-1e743c1ef47a",
   "metadata": {},
   "outputs": [
    {
     "data": {
      "text/plain": [
       "''"
      ]
     },
     "execution_count": 36,
     "metadata": {},
     "output_type": "execute_result"
    }
   ],
   "source": [
    "#represents no value as indices are irrelevent to be accessed\n",
    "string1[15:-12]"
   ]
  },
  {
   "cell_type": "code",
   "execution_count": 37,
   "id": "196d7ac3-3d81-4a81-a5f0-dfc15221673a",
   "metadata": {},
   "outputs": [
    {
     "data": {
      "text/plain": [
       "'Hello World,This is Great'"
      ]
     },
     "execution_count": 37,
     "metadata": {},
     "output_type": "execute_result"
    }
   ],
   "source": [
    "string1[:-1]"
   ]
  },
  {
   "cell_type": "code",
   "execution_count": 38,
   "id": "8e2ed179-d41f-4371-a909-8975a40e9784",
   "metadata": {},
   "outputs": [
    {
     "data": {
      "text/plain": [
       "'Hello World,This is Great.'"
      ]
     },
     "execution_count": 38,
     "metadata": {},
     "output_type": "execute_result"
    }
   ],
   "source": [
    "string1[:]"
   ]
  },
  {
   "cell_type": "code",
   "execution_count": 39,
   "id": "7d4b1b93-9937-4d49-8b7e-57089fccbfb8",
   "metadata": {},
   "outputs": [
    {
     "data": {
      "text/plain": [
       "'taerG ma I ! dlroW olleH'"
      ]
     },
     "execution_count": 39,
     "metadata": {},
     "output_type": "execute_result"
    }
   ],
   "source": [
    "# TO REVERSE A STRING USING SLICE OPERATION\n",
    "string[::-1]"
   ]
  },
  {
   "cell_type": "code",
   "execution_count": 41,
   "id": "afe32d63-39c2-4774-a441-da87badb41da",
   "metadata": {},
   "outputs": [
    {
     "data": {
      "text/plain": [
       "'.ar ish,lo le'"
      ]
     },
     "execution_count": 41,
     "metadata": {},
     "output_type": "execute_result"
    }
   ],
   "source": [
    "string1[::-2]"
   ]
  },
  {
   "cell_type": "code",
   "execution_count": 42,
   "id": "3dc1d5d3-4c4d-46a1-9015-00090e9b8ab8",
   "metadata": {},
   "outputs": [
    {
     "data": {
      "text/plain": [
       "'HloWrd!Ia ra'"
      ]
     },
     "execution_count": 42,
     "metadata": {},
     "output_type": "execute_result"
    }
   ],
   "source": [
    "string[::2]"
   ]
  },
  {
   "cell_type": "code",
   "execution_count": 44,
   "id": "2279060a-2845-41de-8748-e8a0bb3e19c5",
   "metadata": {},
   "outputs": [
    {
     "data": {
      "text/plain": [
       "'Hello'"
      ]
     },
     "execution_count": 44,
     "metadata": {},
     "output_type": "execute_result"
    }
   ],
   "source": [
    "string1[0:5]"
   ]
  },
  {
   "cell_type": "code",
   "execution_count": 46,
   "id": "0b1976c0-b963-4e0e-96d6-951846d19c5a",
   "metadata": {},
   "outputs": [
    {
     "data": {
      "text/plain": [
       "'Hello'"
      ]
     },
     "execution_count": 46,
     "metadata": {},
     "output_type": "execute_result"
    }
   ],
   "source": [
    "string1[0:5:1]"
   ]
  },
  {
   "cell_type": "code",
   "execution_count": 47,
   "id": "ab228261-fa55-46ca-a51c-03b3c7c2300a",
   "metadata": {},
   "outputs": [
    {
     "data": {
      "text/plain": [
       "'Hlo'"
      ]
     },
     "execution_count": 47,
     "metadata": {},
     "output_type": "execute_result"
    }
   ],
   "source": [
    "string1[0:5:2]"
   ]
  },
  {
   "cell_type": "code",
   "execution_count": 52,
   "id": "d54c770d-9bfc-4f24-9f71-9537610e85c6",
   "metadata": {},
   "outputs": [
    {
     "data": {
      "text/plain": [
       "'olle'"
      ]
     },
     "execution_count": 52,
     "metadata": {},
     "output_type": "execute_result"
    }
   ],
   "source": [
    "string[4:0:-1]"
   ]
  },
  {
   "cell_type": "code",
   "execution_count": 61,
   "id": "ac00a0b3-e804-4d9b-9b9c-c3df80caa2cd",
   "metadata": {},
   "outputs": [
    {
     "data": {
      "text/plain": [
       "'olleH'"
      ]
     },
     "execution_count": 61,
     "metadata": {},
     "output_type": "execute_result"
    }
   ],
   "source": [
    "string1[4:-27:-1]"
   ]
  },
  {
   "cell_type": "code",
   "execution_count": 57,
   "id": "4c759ccd-95a8-4061-922d-3ad6e8fd82d8",
   "metadata": {},
   "outputs": [
    {
     "data": {
      "text/plain": [
       "'Hello'"
      ]
     },
     "execution_count": 57,
     "metadata": {},
     "output_type": "execute_result"
    }
   ],
   "source": [
    "string1[-26:-21:1]"
   ]
  },
  {
   "cell_type": "code",
   "execution_count": 60,
   "id": "2fc7e455-ba0c-4204-8861-21eda36ebe0f",
   "metadata": {},
   "outputs": [
    {
     "data": {
      "text/plain": [
       "'olleH'"
      ]
     },
     "execution_count": 60,
     "metadata": {},
     "output_type": "execute_result"
    }
   ],
   "source": [
    "string1[-22:-27:-1]"
   ]
  },
  {
   "cell_type": "code",
   "execution_count": 64,
   "id": "2fb2e5c4-d588-4648-a2bc-52520f4111bc",
   "metadata": {},
   "outputs": [
    {
     "data": {
      "text/plain": [
       "'World'"
      ]
     },
     "execution_count": 64,
     "metadata": {},
     "output_type": "execute_result"
    }
   ],
   "source": [
    "string1[6:11:1]"
   ]
  },
  {
   "cell_type": "code",
   "execution_count": 68,
   "id": "0c8388d8-15b9-4dad-9815-a701e0d90dd1",
   "metadata": {},
   "outputs": [
    {
     "data": {
      "text/plain": [
       "'dlroW'"
      ]
     },
     "execution_count": 68,
     "metadata": {},
     "output_type": "execute_result"
    }
   ],
   "source": [
    "string1[10:5:-1]"
   ]
  },
  {
   "cell_type": "code",
   "execution_count": 69,
   "id": "23bae25c-efcc-4b7f-9f18-782b2dad71af",
   "metadata": {},
   "outputs": [
    {
     "data": {
      "text/plain": [
       "'Hello World,This is Great.'"
      ]
     },
     "execution_count": 69,
     "metadata": {},
     "output_type": "execute_result"
    }
   ],
   "source": [
    "string1"
   ]
  },
  {
   "cell_type": "markdown",
   "id": "34cfe472-18fc-4e4c-81fc-ca26e2723976",
   "metadata": {},
   "source": [
    "### Concatentaion in Strings"
   ]
  },
  {
   "cell_type": "code",
   "execution_count": 71,
   "id": "e1840439-4469-4db7-865f-4fe4226d22b4",
   "metadata": {},
   "outputs": [],
   "source": [
    "str1=\"Hello World\""
   ]
  },
  {
   "cell_type": "code",
   "execution_count": 72,
   "id": "33c3f7dc-efc8-49cf-8acd-bd9b3c727fb2",
   "metadata": {},
   "outputs": [
    {
     "data": {
      "text/plain": [
       "140626870693360"
      ]
     },
     "execution_count": 72,
     "metadata": {},
     "output_type": "execute_result"
    }
   ],
   "source": [
    "id(str1)"
   ]
  },
  {
   "cell_type": "code",
   "execution_count": 74,
   "id": "992487e0-9a5b-4995-953e-9dc6eaa5726c",
   "metadata": {},
   "outputs": [
    {
     "data": {
      "text/plain": [
       "'Hello World New String Added'"
      ]
     },
     "execution_count": 74,
     "metadata": {},
     "output_type": "execute_result"
    }
   ],
   "source": [
    "str1 + ' New String Added'"
   ]
  },
  {
   "cell_type": "code",
   "execution_count": 75,
   "id": "49a559fe-f680-4a91-bb52-0bda70c9d5b2",
   "metadata": {},
   "outputs": [
    {
     "data": {
      "text/plain": [
       "'Hello World'"
      ]
     },
     "execution_count": 75,
     "metadata": {},
     "output_type": "execute_result"
    }
   ],
   "source": [
    "str1"
   ]
  },
  {
   "cell_type": "code",
   "execution_count": 76,
   "id": "798884d6-e9df-4b8d-bb2a-9d9cc2bc7d1a",
   "metadata": {},
   "outputs": [
    {
     "name": "stdout",
     "output_type": "stream",
     "text": [
      "NewStatement\n"
     ]
    }
   ],
   "source": [
    "print('New' + 'Statement')"
   ]
  },
  {
   "cell_type": "code",
   "execution_count": 77,
   "id": "289ce7e5-8e55-45f7-9a44-095422998ab1",
   "metadata": {},
   "outputs": [
    {
     "data": {
      "text/plain": [
       "'Hello WorldHello WorldHello WorldHello WorldHello World'"
      ]
     },
     "execution_count": 77,
     "metadata": {},
     "output_type": "execute_result"
    }
   ],
   "source": [
    "str1 * 5"
   ]
  },
  {
   "cell_type": "code",
   "execution_count": 6,
   "id": "80b9ac13-7ff0-4bd2-940a-9f4036dea8e3",
   "metadata": {},
   "outputs": [
    {
     "data": {
      "text/plain": [
       "'ardnaS'"
      ]
     },
     "execution_count": 6,
     "metadata": {},
     "output_type": "execute_result"
    }
   ],
   "source": [
    " # reversing a string using join() & reversed()\n",
    "name=\"Sandra\"\n",
    "\"\".join(reversed(name))"
   ]
  },
  {
   "cell_type": "code",
   "execution_count": 7,
   "id": "3d05d31e-a61e-4aa3-b7e7-29b800e809a7",
   "metadata": {},
   "outputs": [
    {
     "data": {
      "text/plain": [
       "'i z o d n a S'"
      ]
     },
     "execution_count": 7,
     "metadata": {},
     "output_type": "execute_result"
    }
   ],
   "source": [
    "\" \".join(reversed('Sandozi'))"
   ]
  },
  {
   "cell_type": "code",
   "execution_count": 8,
   "id": "95477476-9b4d-4573-a219-b03c262ad502",
   "metadata": {},
   "outputs": [
    {
     "data": {
      "text/plain": [
       "'h*e*l*l*o'"
      ]
     },
     "execution_count": 8,
     "metadata": {},
     "output_type": "execute_result"
    }
   ],
   "source": [
    "'*'.join('hello')"
   ]
  },
  {
   "cell_type": "code",
   "execution_count": 9,
   "id": "c319d147-683a-4a32-9548-a7c8058b332d",
   "metadata": {},
   "outputs": [
    {
     "data": {
      "text/plain": [
       "['o', 'L', 'L', 'e', 'H']"
      ]
     },
     "execution_count": 9,
     "metadata": {},
     "output_type": "execute_result"
    }
   ],
   "source": [
    "# typecasting\n",
    "list(reversed(\"HeLLo\"))"
   ]
  },
  {
   "cell_type": "code",
   "execution_count": 13,
   "id": "0499702b-def6-4cdd-90f6-40e5374bb39a",
   "metadata": {},
   "outputs": [
    {
     "name": "stdout",
     "output_type": "stream",
     "text": [
      "['d', 'l', 'r', 'o', 'W', ' ', 'o', 'l', 'l', 'e', 'H']\n",
      "Hello World"
     ]
    }
   ],
   "source": [
    "var=list(reversed(\"Hello World\"))\n",
    "print(var)\n",
    "cha=len(var)-1\n",
    "while  cha>=0:\n",
    "    print(var[cha],end='')\n",
    "    cha-=1"
   ]
  },
  {
   "cell_type": "markdown",
   "id": "acbb0680-5f84-4b8d-874a-db2787ef7c0b",
   "metadata": {},
   "source": [
    "## Some Important Inbuilt Function"
   ]
  },
  {
   "cell_type": "markdown",
   "id": "fda252cd-397a-4cb6-9810-f60ece4628a2",
   "metadata": {},
   "source": [
    "#### Find()"
   ]
  },
  {
   "cell_type": "code",
   "execution_count": 2,
   "id": "f48765e5-c59d-4637-a5bc-bdafd6f82de9",
   "metadata": {},
   "outputs": [],
   "source": [
    "#string.find(value, start, end)\n",
    "\n",
    "str2='This is the new string for testing'"
   ]
  },
  {
   "cell_type": "code",
   "execution_count": 79,
   "id": "dc4d4cca-3f80-45f9-9c54-216c505ab522",
   "metadata": {},
   "outputs": [
    {
     "data": {
      "text/plain": [
       "0"
      ]
     },
     "execution_count": 79,
     "metadata": {},
     "output_type": "execute_result"
    }
   ],
   "source": [
    "str2.find('T')"
   ]
  },
  {
   "cell_type": "code",
   "execution_count": 89,
   "id": "9223a22c-5b0f-4e98-bf71-21817d85a27c",
   "metadata": {},
   "outputs": [
    {
     "data": {
      "text/plain": [
       "8"
      ]
     },
     "execution_count": 89,
     "metadata": {},
     "output_type": "execute_result"
    }
   ],
   "source": [
    "# returns the index value of place where it encounter the given character, returns -1 otherwise \n",
    "str2.find('t')"
   ]
  },
  {
   "cell_type": "code",
   "execution_count": 81,
   "id": "831ac237-b3d3-4f11-934a-aeb772b1b0f7",
   "metadata": {},
   "outputs": [
    {
     "data": {
      "text/plain": [
       "-1"
      ]
     },
     "execution_count": 81,
     "metadata": {},
     "output_type": "execute_result"
    }
   ],
   "source": [
    "str2.find('z')"
   ]
  },
  {
   "cell_type": "code",
   "execution_count": 82,
   "id": "4eecaf96-a79a-4ffa-aeea-cb12ef59fd6f",
   "metadata": {},
   "outputs": [
    {
     "data": {
      "text/plain": [
       "8"
      ]
     },
     "execution_count": 82,
     "metadata": {},
     "output_type": "execute_result"
    }
   ],
   "source": [
    "str2.find('the')"
   ]
  },
  {
   "cell_type": "code",
   "execution_count": 85,
   "id": "095c696c-a008-4068-a47f-9debedfdc7a5",
   "metadata": {},
   "outputs": [
    {
     "name": "stdout",
     "output_type": "stream",
     "text": [
      "8\n"
     ]
    }
   ],
   "source": [
    "x=str2.find('the')\n",
    "print(x)"
   ]
  },
  {
   "cell_type": "code",
   "execution_count": 87,
   "id": "d950abe4-f1cd-4812-99f0-0dd8919dbadb",
   "metadata": {},
   "outputs": [
    {
     "data": {
      "text/plain": [
       "23"
      ]
     },
     "execution_count": 87,
     "metadata": {},
     "output_type": "execute_result"
    }
   ],
   "source": [
    "str2.find('f',5,25)"
   ]
  },
  {
   "cell_type": "markdown",
   "id": "a95ff72c-94c7-4bb7-ac9e-207f02fb4932",
   "metadata": {},
   "source": [
    "#### Count()"
   ]
  },
  {
   "cell_type": "code",
   "execution_count": 91,
   "id": "9959f661-f08b-44fc-8c72-5a37f5c8085f",
   "metadata": {},
   "outputs": [
    {
     "data": {
      "text/plain": [
       "'This is the new string for testing'"
      ]
     },
     "execution_count": 91,
     "metadata": {},
     "output_type": "execute_result"
    }
   ],
   "source": [
    "# syn:- string.count(val,start,end)\n",
    "str2"
   ]
  },
  {
   "cell_type": "code",
   "execution_count": 93,
   "id": "2373918f-98d1-4fe8-a675-0b85bb701e9b",
   "metadata": {},
   "outputs": [
    {
     "data": {
      "text/plain": [
       "4"
      ]
     },
     "execution_count": 93,
     "metadata": {},
     "output_type": "execute_result"
    }
   ],
   "source": [
    "str2.count('t')"
   ]
  },
  {
   "cell_type": "code",
   "execution_count": 94,
   "id": "74bcf7d1-3eec-4644-9011-47272750e6f1",
   "metadata": {},
   "outputs": [
    {
     "data": {
      "text/plain": [
       "1"
      ]
     },
     "execution_count": 94,
     "metadata": {},
     "output_type": "execute_result"
    }
   ],
   "source": [
    "str2.count('T')"
   ]
  },
  {
   "cell_type": "code",
   "execution_count": 96,
   "id": "6ff369d5-450d-4ba1-9cd1-081d02965beb",
   "metadata": {},
   "outputs": [
    {
     "data": {
      "text/plain": [
       "1"
      ]
     },
     "execution_count": 96,
     "metadata": {},
     "output_type": "execute_result"
    }
   ],
   "source": [
    "str2.count('the')"
   ]
  },
  {
   "cell_type": "code",
   "execution_count": 97,
   "id": "7536fbbf-028a-4ac5-add4-c8b759d0e0a6",
   "metadata": {},
   "outputs": [
    {
     "data": {
      "text/plain": [
       "2"
      ]
     },
     "execution_count": 97,
     "metadata": {},
     "output_type": "execute_result"
    }
   ],
   "source": [
    "str2.count('is')"
   ]
  },
  {
   "cell_type": "code",
   "execution_count": 98,
   "id": "2c2e3557-c02e-43e6-bffa-6d812c476abd",
   "metadata": {},
   "outputs": [
    {
     "data": {
      "text/plain": [
       "1"
      ]
     },
     "execution_count": 98,
     "metadata": {},
     "output_type": "execute_result"
    }
   ],
   "source": [
    "str2.count(' is ')"
   ]
  },
  {
   "cell_type": "code",
   "execution_count": 99,
   "id": "0223a6cb-7c0e-488e-b31a-de5e6dbaa295",
   "metadata": {},
   "outputs": [
    {
     "data": {
      "text/plain": [
       "6"
      ]
     },
     "execution_count": 99,
     "metadata": {},
     "output_type": "execute_result"
    }
   ],
   "source": [
    "str2.count(' ')"
   ]
  },
  {
   "cell_type": "markdown",
   "id": "3681174e-a3c9-45f8-85f6-e0aec774d0fe",
   "metadata": {},
   "source": [
    "### Split()"
   ]
  },
  {
   "cell_type": "code",
   "execution_count": 3,
   "id": "9d332072-6c61-4543-9c6e-ed133e10fbcd",
   "metadata": {},
   "outputs": [
    {
     "data": {
      "text/plain": [
       "'This is the new string for testing'"
      ]
     },
     "execution_count": 3,
     "metadata": {},
     "output_type": "execute_result"
    }
   ],
   "source": [
    "# syn:- string.split(seprator,maxsplit)\n",
    "# splits a string into a list\n",
    "str2"
   ]
  },
  {
   "cell_type": "code",
   "execution_count": 7,
   "id": "6a420d87-8394-4910-a6be-5867d406805f",
   "metadata": {},
   "outputs": [
    {
     "data": {
      "text/plain": [
       "['This', 'is', 'the', 'new', 'string', 'for', 'testing']"
      ]
     },
     "execution_count": 7,
     "metadata": {},
     "output_type": "execute_result"
    }
   ],
   "source": [
    "str2.split()"
   ]
  },
  {
   "cell_type": "code",
   "execution_count": 9,
   "id": "eb2b3c33-9de1-4a90-9f18-78521839425a",
   "metadata": {},
   "outputs": [
    {
     "data": {
      "text/plain": [
       "['This', 'is', 'the new string for testing']"
      ]
     },
     "execution_count": 9,
     "metadata": {},
     "output_type": "execute_result"
    }
   ],
   "source": [
    "str2.split(' ',2)"
   ]
  },
  {
   "cell_type": "code",
   "execution_count": 10,
   "id": "cf224096-3d7e-4387-8f68-bace8436e952",
   "metadata": {},
   "outputs": [
    {
     "data": {
      "text/plain": [
       "['This is ', 'he new s', 'ring for ', 'es', 'ing']"
      ]
     },
     "execution_count": 10,
     "metadata": {},
     "output_type": "execute_result"
    }
   ],
   "source": [
    "str2.split('t')"
   ]
  },
  {
   "cell_type": "code",
   "execution_count": 11,
   "id": "f5d33354-12cd-4569-a85c-048b25f139c6",
   "metadata": {},
   "outputs": [],
   "source": [
    "y=str2.split()"
   ]
  },
  {
   "cell_type": "code",
   "execution_count": 12,
   "id": "64a65ff1-6bf4-48e2-85fc-ca4bc4ddbedb",
   "metadata": {},
   "outputs": [
    {
     "data": {
      "text/plain": [
       "['This', 'is', 'the', 'new', 'string', 'for', 'testing']"
      ]
     },
     "execution_count": 12,
     "metadata": {},
     "output_type": "execute_result"
    }
   ],
   "source": [
    "y"
   ]
  },
  {
   "cell_type": "code",
   "execution_count": 13,
   "id": "69be88bd-b436-4a28-98a9-91fb2732ffd1",
   "metadata": {},
   "outputs": [
    {
     "data": {
      "text/plain": [
       "'testing'"
      ]
     },
     "execution_count": 13,
     "metadata": {},
     "output_type": "execute_result"
    }
   ],
   "source": [
    "y[6]"
   ]
  },
  {
   "cell_type": "code",
   "execution_count": null,
   "id": "d6019fa4-f17b-4518-a9fe-fc8996091b32",
   "metadata": {},
   "outputs": [],
   "source": [
    "# partitionon() ,  splits the string into a tuple containing three elements\n",
    "# syn:- string.partitionon(val)"
   ]
  },
  {
   "cell_type": "code",
   "execution_count": 19,
   "id": "04299bf6-441d-41cc-a01b-4a9fee7b5b41",
   "metadata": {},
   "outputs": [
    {
     "data": {
      "text/plain": [
       "('This is ', 't', 'he new string for testing')"
      ]
     },
     "execution_count": 19,
     "metadata": {},
     "output_type": "execute_result"
    }
   ],
   "source": [
    "str2.partition('t')"
   ]
  },
  {
   "cell_type": "markdown",
   "id": "0fa97ebd-2bdf-4664-a559-e0af0d7351e8",
   "metadata": {},
   "source": [
    "### join() and replace() (operation)"
   ]
  },
  {
   "cell_type": "code",
   "execution_count": 31,
   "id": "73fdf0ad-e11a-4398-99a5-bee4d15a84be",
   "metadata": {},
   "outputs": [],
   "source": [
    "str_1=\"My New library\""
   ]
  },
  {
   "cell_type": "code",
   "execution_count": 38,
   "id": "ffcbfefe-5a55-4dc1-82a5-be40f7aadeb8",
   "metadata": {},
   "outputs": [
    {
     "data": {
      "text/plain": [
       "'OMy New libraryOMy New libraryO'"
      ]
     },
     "execution_count": 38,
     "metadata": {},
     "output_type": "execute_result"
    }
   ],
   "source": [
    "str_1.join(\"OOO\")"
   ]
  },
  {
   "cell_type": "code",
   "execution_count": 39,
   "id": "e0de0db3-325c-43a3-875e-9e4fffd77da5",
   "metadata": {},
   "outputs": [
    {
     "data": {
      "text/plain": [
       "'My New library'"
      ]
     },
     "execution_count": 39,
     "metadata": {},
     "output_type": "execute_result"
    }
   ],
   "source": [
    "str_1"
   ]
  },
  {
   "cell_type": "code",
   "execution_count": 41,
   "id": "3f0c58d5-9f1e-45cf-bf93-058271902f07",
   "metadata": {},
   "outputs": [
    {
     "data": {
      "text/plain": [
       "'My old library'"
      ]
     },
     "execution_count": 41,
     "metadata": {},
     "output_type": "execute_result"
    }
   ],
   "source": [
    "str_1.replace('New','old')"
   ]
  },
  {
   "cell_type": "markdown",
   "id": "fd0fbcbd-7b90-4bb7-8290-408b24467899",
   "metadata": {},
   "source": [
    "### strip(), lstrip(), rstrip() (removing characters from the end of string)"
   ]
  },
  {
   "cell_type": "code",
   "execution_count": 44,
   "id": "84f2e54a-22f9-48a7-9f2e-bf65a3795337",
   "metadata": {},
   "outputs": [],
   "source": [
    "str_2=\" This is !true, seriously \""
   ]
  },
  {
   "cell_type": "code",
   "execution_count": 45,
   "id": "e48b5600-6c26-46f7-91d7-d99f6a9673e4",
   "metadata": {},
   "outputs": [
    {
     "data": {
      "text/plain": [
       "' This is !true, seriously '"
      ]
     },
     "execution_count": 45,
     "metadata": {},
     "output_type": "execute_result"
    }
   ],
   "source": [
    "str_2"
   ]
  },
  {
   "cell_type": "code",
   "execution_count": 43,
   "id": "78ddac65-3f9f-4f6e-8743-c4b0244969cf",
   "metadata": {},
   "outputs": [
    {
     "data": {
      "text/plain": [
       "'This is !true, seriously'"
      ]
     },
     "execution_count": 43,
     "metadata": {},
     "output_type": "execute_result"
    }
   ],
   "source": [
    "str_2.strip(\" \")"
   ]
  },
  {
   "cell_type": "code",
   "execution_count": 46,
   "id": "bec5b9bc-e349-4f8f-aafd-6aad0858b5d9",
   "metadata": {},
   "outputs": [
    {
     "data": {
      "text/plain": [
       "'This is !true, seriously '"
      ]
     },
     "execution_count": 46,
     "metadata": {},
     "output_type": "execute_result"
    }
   ],
   "source": [
    "str_2.lstrip(\" \")"
   ]
  },
  {
   "cell_type": "code",
   "execution_count": 47,
   "id": "12d5ebc2-bfac-46fc-8752-71a369086a41",
   "metadata": {},
   "outputs": [
    {
     "data": {
      "text/plain": [
       "' This is !true, seriously'"
      ]
     },
     "execution_count": 47,
     "metadata": {},
     "output_type": "execute_result"
    }
   ],
   "source": [
    "str_2.rstrip(\" \")"
   ]
  },
  {
   "cell_type": "code",
   "execution_count": 50,
   "id": "8f3602e0-ab1e-4f59-aa78-f236833119ad",
   "metadata": {},
   "outputs": [
    {
     "data": {
      "text/plain": [
       "'his is !true, seriously'"
      ]
     },
     "execution_count": 50,
     "metadata": {},
     "output_type": "execute_result"
    }
   ],
   "source": [
    "str_2.strip(\" T\")"
   ]
  },
  {
   "cell_type": "code",
   "execution_count": 52,
   "id": "7106d841-e813-4e6a-a640-8f88678cf626",
   "metadata": {},
   "outputs": [
    {
     "data": {
      "text/plain": [
       "'This is !true, seriousl'"
      ]
     },
     "execution_count": 52,
     "metadata": {},
     "output_type": "execute_result"
    }
   ],
   "source": [
    "str_2.strip(\"y \")"
   ]
  },
  {
   "cell_type": "code",
   "execution_count": 53,
   "id": "a9943349-524c-44df-be49-1a424f03470f",
   "metadata": {},
   "outputs": [
    {
     "data": {
      "text/plain": [
       "' This is !true, seriousl'"
      ]
     },
     "execution_count": 53,
     "metadata": {},
     "output_type": "execute_result"
    }
   ],
   "source": [
    "str_2.rstrip(\"y \")"
   ]
  },
  {
   "cell_type": "code",
   "execution_count": 58,
   "id": "e3912643-bbd1-4f10-a4d9-1ede7bfbe457",
   "metadata": {},
   "outputs": [
    {
     "data": {
      "text/plain": [
       "'his is !true, seriously'"
      ]
     },
     "execution_count": 58,
     "metadata": {},
     "output_type": "execute_result"
    }
   ],
   "source": [
    "str_2.strip(' T')"
   ]
  },
  {
   "cell_type": "code",
   "execution_count": 59,
   "id": "9ab57ce6-4762-4c0c-b550-b503d69b20a0",
   "metadata": {},
   "outputs": [
    {
     "name": "stdout",
     "output_type": "stream",
     "text": [
      "4\n"
     ]
    }
   ],
   "source": [
    "# to count the characters in strings\n",
    "print(str_2.count('s'))"
   ]
  },
  {
   "cell_type": "code",
   "execution_count": 62,
   "id": "4c6d5f91-aab1-4a1f-b0c9-7f1a90dadb4a",
   "metadata": {},
   "outputs": [
    {
     "data": {
      "text/plain": [
       "4"
      ]
     },
     "execution_count": 62,
     "metadata": {},
     "output_type": "execute_result"
    }
   ],
   "source": [
    "str_2.count(\"s\")"
   ]
  },
  {
   "cell_type": "code",
   "execution_count": null,
   "id": "bb9b6f8c-9e6d-49a5-a99d-8c4f40c18880",
   "metadata": {},
   "outputs": [],
   "source": [
    "# to split the string at some particular character/space"
   ]
  },
  {
   "cell_type": "code",
   "execution_count": 63,
   "id": "2e8b8433-3c05-4cc2-b60c-63fc67d30445",
   "metadata": {},
   "outputs": [
    {
     "data": {
      "text/plain": [
       "['', 'This', 'is', '!true,', 'seriously', '']"
      ]
     },
     "execution_count": 63,
     "metadata": {},
     "output_type": "execute_result"
    }
   ],
   "source": [
    "str_2.split(' ')"
   ]
  },
  {
   "cell_type": "code",
   "execution_count": 66,
   "id": "9ad1b4e9-f2d8-456c-a9ff-2d1a81becf91",
   "metadata": {},
   "outputs": [
    {
     "data": {
      "text/plain": [
       "[' Th', ' ', ' !true, seriously ']"
      ]
     },
     "execution_count": 66,
     "metadata": {},
     "output_type": "execute_result"
    }
   ],
   "source": [
    "str_2.split('is')"
   ]
  },
  {
   "cell_type": "code",
   "execution_count": 67,
   "id": "b1416686-4b95-43e5-a42d-1ff72451cefe",
   "metadata": {},
   "outputs": [
    {
     "data": {
      "text/plain": [
       "[' This', '!true, seriously ']"
      ]
     },
     "execution_count": 67,
     "metadata": {},
     "output_type": "execute_result"
    }
   ],
   "source": [
    "str_2.split(' is ')"
   ]
  },
  {
   "cell_type": "markdown",
   "id": "491b0329-3fd7-4593-8868-fa09c0eea82c",
   "metadata": {},
   "source": [
    "## String Cases"
   ]
  },
  {
   "cell_type": "code",
   "execution_count": 7,
   "id": "284c1c9d-6b2b-4f26-b427-97b161ee9651",
   "metadata": {},
   "outputs": [],
   "source": [
    "str3='Why was the computer cold ? Because it left its Windows open!'"
   ]
  },
  {
   "cell_type": "code",
   "execution_count": 2,
   "id": "8369fd5c-29ed-41b0-92f8-da2336ab0161",
   "metadata": {},
   "outputs": [
    {
     "data": {
      "text/plain": [
       "'WHY WAS THE COMPUTER COLD ? BECAUSE IT LEFT ITS WINDOWS OPEN!'"
      ]
     },
     "execution_count": 2,
     "metadata": {},
     "output_type": "execute_result"
    }
   ],
   "source": [
    "str3.upper()"
   ]
  },
  {
   "cell_type": "code",
   "execution_count": 8,
   "id": "f6e9423a-a668-40b4-b277-5d703a99279a",
   "metadata": {},
   "outputs": [
    {
     "data": {
      "text/plain": [
       "'Why was the computer cold ? because it left its windows open!'"
      ]
     },
     "execution_count": 8,
     "metadata": {},
     "output_type": "execute_result"
    }
   ],
   "source": [
    "str3.capitalize()"
   ]
  },
  {
   "cell_type": "code",
   "execution_count": 24,
   "id": "66919c47-32bf-4362-816c-b9992265ec74",
   "metadata": {},
   "outputs": [
    {
     "data": {
      "text/plain": [
       "'why was the computer cold ? because it left its windows open!'"
      ]
     },
     "execution_count": 24,
     "metadata": {},
     "output_type": "execute_result"
    }
   ],
   "source": [
    "str3.lower()"
   ]
  },
  {
   "cell_type": "code",
   "execution_count": 26,
   "id": "d9e7ea06-fefd-4f11-bf62-88807ef0bb3f",
   "metadata": {},
   "outputs": [
    {
     "data": {
      "text/plain": [
       "'wHY WAS THE COMPUTER COLD ? bECAUSE IT LEFT ITS wINDOWS OPEN!'"
      ]
     },
     "execution_count": 26,
     "metadata": {},
     "output_type": "execute_result"
    }
   ],
   "source": [
    "str3.swapcase()"
   ]
  },
  {
   "cell_type": "code",
   "execution_count": 27,
   "id": "9b911cde-98aa-4596-b018-a95a963ea9e8",
   "metadata": {},
   "outputs": [
    {
     "data": {
      "text/plain": [
       "'Why Was The Computer Cold ? Because It Left Its Windows Open!'"
      ]
     },
     "execution_count": 27,
     "metadata": {},
     "output_type": "execute_result"
    }
   ],
   "source": [
    "str3.title()"
   ]
  },
  {
   "cell_type": "code",
   "execution_count": 3,
   "id": "c00e70c1-105a-4661-8f02-f6d592f7045d",
   "metadata": {},
   "outputs": [
    {
     "data": {
      "text/plain": [
       "False"
      ]
     },
     "execution_count": 3,
     "metadata": {},
     "output_type": "execute_result"
    }
   ],
   "source": [
    "# to check if string 'str3' is in uppercase\n",
    "str3.isupper()"
   ]
  },
  {
   "cell_type": "code",
   "execution_count": 4,
   "id": "a90ae38b-1a87-49de-bdfe-09fffdfdd456",
   "metadata": {},
   "outputs": [
    {
     "data": {
      "text/plain": [
       "False"
      ]
     },
     "execution_count": 4,
     "metadata": {},
     "output_type": "execute_result"
    }
   ],
   "source": [
    "# to check if string is in lowercase\n",
    "str3.islower()"
   ]
  },
  {
   "cell_type": "code",
   "execution_count": 5,
   "id": "5bb666d0-9165-48bb-84c1-a0546d416a24",
   "metadata": {},
   "outputs": [
    {
     "data": {
      "text/plain": [
       "False"
      ]
     },
     "execution_count": 5,
     "metadata": {},
     "output_type": "execute_result"
    }
   ],
   "source": [
    "# to check if the string contains digit\n",
    "str3.isdigit()"
   ]
  },
  {
   "cell_type": "code",
   "execution_count": 7,
   "id": "50801c27-d6e3-4734-91b9-7255d08ab70f",
   "metadata": {},
   "outputs": [
    {
     "data": {
      "text/plain": [
       "False"
      ]
     },
     "execution_count": 7,
     "metadata": {},
     "output_type": "execute_result"
    }
   ],
   "source": [
    "# to check if string ends with particular character\n",
    "str3.endswith('k')"
   ]
  },
  {
   "cell_type": "code",
   "execution_count": 8,
   "id": "bac94a3b-8379-48b6-a39c-f0be03bdc22d",
   "metadata": {},
   "outputs": [
    {
     "data": {
      "text/plain": [
       "True"
      ]
     },
     "execution_count": 8,
     "metadata": {},
     "output_type": "execute_result"
    }
   ],
   "source": [
    "str3.endswith('!')"
   ]
  },
  {
   "cell_type": "code",
   "execution_count": 9,
   "id": "9eedf418-e4eb-4ed0-8b2b-35de3d753745",
   "metadata": {},
   "outputs": [
    {
     "data": {
      "text/plain": [
       "False"
      ]
     },
     "execution_count": 9,
     "metadata": {},
     "output_type": "execute_result"
    }
   ],
   "source": [
    "str3.endswith(' ')"
   ]
  },
  {
   "cell_type": "code",
   "execution_count": 10,
   "id": "686b475b-50e3-466c-9cc1-ed18d09842e6",
   "metadata": {},
   "outputs": [
    {
     "data": {
      "text/plain": [
       "False"
      ]
     },
     "execution_count": 10,
     "metadata": {},
     "output_type": "execute_result"
    }
   ],
   "source": [
    "# to check if string contains space\n",
    "str3.isspace()"
   ]
  },
  {
   "cell_type": "code",
   "execution_count": 76,
   "id": "a74bc22c-bded-4850-b57d-40db2c13498c",
   "metadata": {},
   "outputs": [
    {
     "data": {
      "text/plain": [
       "True"
      ]
     },
     "execution_count": 76,
     "metadata": {},
     "output_type": "execute_result"
    }
   ],
   "source": [
    "# to check if string contains alpha-numeric characters.\n",
    "s=\"NewStar3\"\n",
    "s.isalnum()"
   ]
  },
  {
   "cell_type": "code",
   "execution_count": 78,
   "id": "0bffb2f0-04db-4ce3-93f0-cc315280d463",
   "metadata": {},
   "outputs": [
    {
     "data": {
      "text/plain": [
       "False"
      ]
     },
     "execution_count": 78,
     "metadata": {},
     "output_type": "execute_result"
    }
   ],
   "source": [
    "s1=\"New Star 3\"\n",
    "s1.isalnum()"
   ]
  },
  {
   "cell_type": "code",
   "execution_count": 80,
   "id": "efe230da-9957-49fa-9a9b-988ec683807d",
   "metadata": {},
   "outputs": [
    {
     "data": {
      "text/plain": [
       "'Why was the computer cold ? Because it left its Windows open!'"
      ]
     },
     "execution_count": 80,
     "metadata": {},
     "output_type": "execute_result"
    }
   ],
   "source": [
    "str3"
   ]
  },
  {
   "cell_type": "code",
   "execution_count": 81,
   "id": "171e2a83-b36b-41c8-a66f-6fc0d812703d",
   "metadata": {},
   "outputs": [
    {
     "data": {
      "text/plain": [
       "False"
      ]
     },
     "execution_count": 81,
     "metadata": {},
     "output_type": "execute_result"
    }
   ],
   "source": [
    "# to check if string contains title worlds\n",
    "str3.istitle()"
   ]
  },
  {
   "cell_type": "markdown",
   "id": "26f0ce72-fcbf-4c47-b45a-52835586c37d",
   "metadata": {},
   "source": [
    "### formatting a string or expandtabs() & center() functions"
   ]
  },
  {
   "cell_type": "code",
   "execution_count": 11,
   "id": "62f9e443-7814-4a18-b6a0-261f9f22c910",
   "metadata": {},
   "outputs": [
    {
     "data": {
      "text/plain": [
       "'hello world'"
      ]
     },
     "execution_count": 11,
     "metadata": {},
     "output_type": "execute_result"
    }
   ],
   "source": [
    "'hello world'"
   ]
  },
  {
   "cell_type": "code",
   "execution_count": 13,
   "id": "21a7625f-f207-48f3-8401-d85520965c7c",
   "metadata": {},
   "outputs": [
    {
     "data": {
      "text/plain": [
       "'hello\\tworld'"
      ]
     },
     "execution_count": 13,
     "metadata": {},
     "output_type": "execute_result"
    }
   ],
   "source": [
    "'hello\\tworld'"
   ]
  },
  {
   "cell_type": "code",
   "execution_count": 14,
   "id": "44b058ad-a1e2-4a05-ba25-ee54e0f1fc63",
   "metadata": {},
   "outputs": [
    {
     "name": "stdout",
     "output_type": "stream",
     "text": [
      "hello\tworld\n"
     ]
    }
   ],
   "source": [
    "print('hello\\tworld')"
   ]
  },
  {
   "cell_type": "code",
   "execution_count": 15,
   "id": "9339c79f-1b05-4c89-81ca-0687e3e1f460",
   "metadata": {},
   "outputs": [
    {
     "name": "stdout",
     "output_type": "stream",
     "text": [
      "hello\n",
      "world\n"
     ]
    }
   ],
   "source": [
    "print('hello\\nworld')"
   ]
  },
  {
   "cell_type": "code",
   "execution_count": 16,
   "id": "bd13c3b3-3ea5-4f11-bba0-688785f1d770",
   "metadata": {},
   "outputs": [
    {
     "data": {
      "text/plain": [
       "'hello\\nworld'"
      ]
     },
     "execution_count": 16,
     "metadata": {},
     "output_type": "execute_result"
    }
   ],
   "source": [
    "'hello\\nworld'.expandtabs()"
   ]
  },
  {
   "cell_type": "code",
   "execution_count": 17,
   "id": "00dcf916-f748-46bc-95ab-65a67dd4ec79",
   "metadata": {},
   "outputs": [
    {
     "data": {
      "text/plain": [
       "'hello   world'"
      ]
     },
     "execution_count": 17,
     "metadata": {},
     "output_type": "execute_result"
    }
   ],
   "source": [
    "'hello\\tworld'.expandtabs()"
   ]
  },
  {
   "cell_type": "code",
   "execution_count": 18,
   "id": "3c7d36df-652a-4750-90f2-e91c9494274d",
   "metadata": {},
   "outputs": [],
   "source": [
    "str4=\"HelloWorld\""
   ]
  },
  {
   "cell_type": "code",
   "execution_count": 25,
   "id": "713da894-582b-4c17-a103-97003081e45a",
   "metadata": {},
   "outputs": [
    {
     "data": {
      "text/plain": [
       "'HelloWorld'"
      ]
     },
     "execution_count": 25,
     "metadata": {},
     "output_type": "execute_result"
    }
   ],
   "source": [
    "str4.center(10,'z')"
   ]
  },
  {
   "cell_type": "code",
   "execution_count": 26,
   "id": "ba8d41b4-6fe0-4ebe-baa3-d0d7cebdfe3e",
   "metadata": {},
   "outputs": [
    {
     "data": {
      "text/plain": [
       "'zHelloWorldz'"
      ]
     },
     "execution_count": 26,
     "metadata": {},
     "output_type": "execute_result"
    }
   ],
   "source": [
    "str4.center(12,'z')"
   ]
  },
  {
   "cell_type": "code",
   "execution_count": 27,
   "id": "b366b7f5-9693-4f00-b935-56c2c2b9e5cd",
   "metadata": {},
   "outputs": [
    {
     "data": {
      "text/plain": [
       "'zzzHelloWorldzzz'"
      ]
     },
     "execution_count": 27,
     "metadata": {},
     "output_type": "execute_result"
    }
   ],
   "source": [
    "str4.center(16,'z')"
   ]
  },
  {
   "cell_type": "markdown",
   "id": "dc4fdd97-f5a4-43a0-8670-c680450042df",
   "metadata": {},
   "source": [
    "## Some examples and important codes"
   ]
  },
  {
   "cell_type": "code",
   "execution_count": 73,
   "id": "59eb74c9-b0d0-44df-92ca-f3d9b21c9ff8",
   "metadata": {},
   "outputs": [
    {
     "name": "stdout",
     "output_type": "stream",
     "text": [
      "52  letters found\n"
     ]
    }
   ],
   "source": [
    "count=0\n",
    "for i in \"Why was computer drunk? Because it take screenshots!\":\n",
    "    count+=1\n",
    "print(count,' letters found')"
   ]
  },
  {
   "cell_type": "code",
   "execution_count": 83,
   "id": "1178729a-30ae-4e58-9ac1-22bff3db7c80",
   "metadata": {},
   "outputs": [
    {
     "data": {
      "text/plain": [
       "52"
      ]
     },
     "execution_count": 83,
     "metadata": {},
     "output_type": "execute_result"
    }
   ],
   "source": [
    "# same can be done usinf inbuilt function\n",
    "a=\"Why was computer drunk? Because it take screenshots!\"\n",
    "len(a)"
   ]
  },
  {
   "cell_type": "code",
   "execution_count": 7,
   "id": "3ff88cd0-8ab7-48cc-b448-a60348a15938",
   "metadata": {},
   "outputs": [
    {
     "name": "stdout",
     "output_type": "stream",
     "text": [
      "Hello World"
     ]
    }
   ],
   "source": [
    "# using range funtion to iterate through strings\n",
    "new_string=\"Hello World\"\n",
    "for ch in range(len(new_string)):\n",
    "    print(new_string[ch],end=\"\")"
   ]
  },
  {
   "cell_type": "code",
   "execution_count": 8,
   "id": "eeaf652a-fdb5-4f26-82c7-de7a4feaa953",
   "metadata": {},
   "outputs": [
    {
     "name": "stdout",
     "output_type": "stream",
     "text": [
      "d\n",
      "l\n",
      "r\n",
      "o\n",
      "W\n",
      " \n",
      "o\n",
      "l\n",
      "l\n",
      "e\n",
      "H\n"
     ]
    }
   ],
   "source": [
    "# to print or reverse a string using while loop\n",
    "new_string=\"Hello World\"\n",
    "ch=len(new_string)-1\n",
    "while ch>=0:\n",
    "    print(new_string[ch])\n",
    "    ch-=1"
   ]
  },
  {
   "cell_type": "code",
   "execution_count": 6,
   "id": "7bc41996-4f2e-4565-a79f-81111b1887d4",
   "metadata": {},
   "outputs": [
    {
     "name": "stdout",
     "output_type": "stream",
     "text": [
      "H is consonant\n",
      "e is vowel\n",
      "l is consonant\n",
      "l is consonant\n",
      "o is vowel\n",
      "W is consonant\n",
      "o is vowel\n",
      "r is consonant\n",
      "l is consonant\n",
      "d is consonant\n",
      "Total vowels =  3\n",
      "Total consonant =  7\n"
     ]
    }
   ],
   "source": [
    "# to count vowels and print vowels in a string\n",
    "str_a='Hello World'\n",
    "vowels='AaEeIiOoUu'\n",
    "c_vow=0\n",
    "c_con=0\n",
    "for i in str_a:\n",
    "    if i in vowels:\n",
    "        print(i,\"is vowel\")\n",
    "        c_vow+=1\n",
    "    elif i==\" \":\n",
    "         continue\n",
    "    else:\n",
    "        print(i,\"is consonant\")\n",
    "        c_con+=1\n",
    "print(\"Total vowels = \",c_vow)\n",
    "print(\"Total consonant = \",c_con)\n",
    "\n",
    "\n",
    "\n",
    "\n"
   ]
  },
  {
   "cell_type": "code",
   "execution_count": null,
   "id": "71941826-a2b6-4d6b-8050-d78d553f77ef",
   "metadata": {},
   "outputs": [],
   "source": []
  }
 ],
 "metadata": {
  "kernelspec": {
   "display_name": "Python 3 (ipykernel)",
   "language": "python",
   "name": "python3"
  },
  "language_info": {
   "codemirror_mode": {
    "name": "ipython",
    "version": 3
   },
   "file_extension": ".py",
   "mimetype": "text/x-python",
   "name": "python",
   "nbconvert_exporter": "python",
   "pygments_lexer": "ipython3",
   "version": "3.10.8"
  }
 },
 "nbformat": 4,
 "nbformat_minor": 5
}
