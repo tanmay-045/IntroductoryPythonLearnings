{
 "cells": [
  {
   "cell_type": "markdown",
   "id": "e503fd1c-839d-4dea-bcfe-70c321b79253",
   "metadata": {},
   "source": [
    "## DICTIONARY \n",
    "\n",
    "### Dictionary is used to store data in Key:Value method.\n",
    "### It is changeable (mutable), ordered (unordered before python version-3.7), and does not allow duplicates."
   ]
  },
  {
   "cell_type": "code",
   "execution_count": 1,
   "id": "03c1d2ce-b103-49d2-a866-5c07490e428a",
   "metadata": {},
   "outputs": [],
   "source": [
    "d={} # dictionary declatration"
   ]
  },
  {
   "cell_type": "code",
   "execution_count": 2,
   "id": "2a102e37-b9ae-4e71-9a72-ce9e2804d27a",
   "metadata": {},
   "outputs": [
    {
     "data": {
      "text/plain": [
       "dict"
      ]
     },
     "execution_count": 2,
     "metadata": {},
     "output_type": "execute_result"
    }
   ],
   "source": [
    "type(d)"
   ]
  },
  {
   "cell_type": "code",
   "execution_count": 3,
   "id": "577f49d8-6490-482d-9ac3-6a1fe47d578a",
   "metadata": {},
   "outputs": [],
   "source": [
    "# dict{ Key : value}\n",
    "# Key can be int,float,string etc."
   ]
  },
  {
   "cell_type": "code",
   "execution_count": 4,
   "id": "cc73aea6-abf6-4850-9302-f37469d57188",
   "metadata": {},
   "outputs": [],
   "source": [
    "dict_1={ 'Name' : 'Tan' , 'Roll_No' : 39} # key as string"
   ]
  },
  {
   "cell_type": "code",
   "execution_count": 5,
   "id": "5fa89d83-0ff6-4729-b36b-d8f4e403ca8b",
   "metadata": {},
   "outputs": [
    {
     "data": {
      "text/plain": [
       "{'Name': 'Tan', 'Roll_No': 39}"
      ]
     },
     "execution_count": 5,
     "metadata": {},
     "output_type": "execute_result"
    }
   ],
   "source": [
    "dict_1"
   ]
  },
  {
   "cell_type": "code",
   "execution_count": 6,
   "id": "9cb6dc13-542d-4dc8-bc38-aaa3ceec818b",
   "metadata": {},
   "outputs": [],
   "source": [
    "dict_2={ 1:'Hello' , 2:'World' } # key as numeric value"
   ]
  },
  {
   "cell_type": "code",
   "execution_count": 7,
   "id": "07ce1567-b6b2-4025-8400-182fc5105450",
   "metadata": {},
   "outputs": [
    {
     "data": {
      "text/plain": [
       "{1: 'Hello', 2: 'World'}"
      ]
     },
     "execution_count": 7,
     "metadata": {},
     "output_type": "execute_result"
    }
   ],
   "source": [
    "dict_2"
   ]
  },
  {
   "cell_type": "code",
   "execution_count": 8,
   "id": "b56ccab9-94fb-4816-8d67-b46f832a6c0c",
   "metadata": {},
   "outputs": [],
   "source": [
    "dict_3={ 2.25:'float' , 3.35:'Example'} # key as float value"
   ]
  },
  {
   "cell_type": "code",
   "execution_count": 9,
   "id": "740c83ab-fb1d-4f77-ba13-36a1f2aff841",
   "metadata": {},
   "outputs": [
    {
     "data": {
      "text/plain": [
       "{2.25: 'float', 3.35: 'Example'}"
      ]
     },
     "execution_count": 9,
     "metadata": {},
     "output_type": "execute_result"
    }
   ],
   "source": [
    "dict_3"
   ]
  },
  {
   "cell_type": "code",
   "execution_count": 10,
   "id": "80ea53f6-3521-46a8-8bfd-864344bf2c36",
   "metadata": {},
   "outputs": [
    {
     "ename": "SyntaxError",
     "evalue": "invalid syntax (3056881916.py, line 1)",
     "output_type": "error",
     "traceback": [
      "\u001b[0;36m  Cell \u001b[0;32mIn[10], line 1\u001b[0;36m\u001b[0m\n\u001b[0;31m    dict_4={ @:'Not' , 3:'Valid'} # key can't be any special character\u001b[0m\n\u001b[0m             ^\u001b[0m\n\u001b[0;31mSyntaxError\u001b[0m\u001b[0;31m:\u001b[0m invalid syntax\n"
     ]
    }
   ],
   "source": [
    "dict_4={ @:'Not' , 3:'Valid'} # key can't be any special character"
   ]
  },
  {
   "cell_type": "code",
   "execution_count": 12,
   "id": "76e9d4a5-5723-4028-9967-a2be0b7eec20",
   "metadata": {},
   "outputs": [],
   "source": [
    "dict_4={ '@':'! Not' , 3:'Valid' } # special character as a string is allowed, It is a string!!!"
   ]
  },
  {
   "cell_type": "code",
   "execution_count": 13,
   "id": "f7776110-28f0-4418-8514-2c2c5c2dd639",
   "metadata": {},
   "outputs": [
    {
     "data": {
      "text/plain": [
       "{'@': '! Not', 3: 'Valid'}"
      ]
     },
     "execution_count": 13,
     "metadata": {},
     "output_type": "execute_result"
    }
   ],
   "source": [
    "dict_4"
   ]
  },
  {
   "cell_type": "code",
   "execution_count": 14,
   "id": "ba3840d7-1c16-4863-9be8-7719a97a59c6",
   "metadata": {},
   "outputs": [],
   "source": [
    "dict_5={ (1,2,3):'Tuple' , (4,5,6):'It is.'} # key as tuple"
   ]
  },
  {
   "cell_type": "code",
   "execution_count": 15,
   "id": "7df5a932-6e98-496f-8bc2-e28b208c896c",
   "metadata": {},
   "outputs": [
    {
     "data": {
      "text/plain": [
       "{(1, 2, 3): 'Tuple', (4, 5, 6): 'It is.'}"
      ]
     },
     "execution_count": 15,
     "metadata": {},
     "output_type": "execute_result"
    }
   ],
   "source": [
    "dict_5"
   ]
  },
  {
   "cell_type": "code",
   "execution_count": 16,
   "id": "7e9daaba-7c62-4b0d-8fa2-01918a339733",
   "metadata": {},
   "outputs": [
    {
     "ename": "TypeError",
     "evalue": "unhashable type: 'list'",
     "output_type": "error",
     "traceback": [
      "\u001b[0;31m---------------------------------------------------------------------------\u001b[0m",
      "\u001b[0;31mTypeError\u001b[0m                                 Traceback (most recent call last)",
      "Cell \u001b[0;32mIn[16], line 1\u001b[0m\n\u001b[0;32m----> 1\u001b[0m dict_6\u001b[38;5;241m=\u001b[39m{ [\u001b[38;5;241m1\u001b[39m,\u001b[38;5;241m2\u001b[39m,\u001b[38;5;241m3\u001b[39m]:\u001b[38;5;124m'\u001b[39m\u001b[38;5;124mList\u001b[39m\u001b[38;5;124m'\u001b[39m , [\u001b[38;5;241m4\u001b[39m,\u001b[38;5;241m5\u001b[39m,\u001b[38;5;241m6\u001b[39m]:\u001b[38;5;124m'\u001b[39m\u001b[38;5;124mNot gonna be\u001b[39m\u001b[38;5;124m'\u001b[39m} \u001b[38;5;66;03m# key as 'list' or 'set' or 'dict' is Not allowed\u001b[39;00m\n",
      "\u001b[0;31mTypeError\u001b[0m: unhashable type: 'list'"
     ]
    }
   ],
   "source": [
    "dict_6={ [1,2,3]:'List' , [4,5,6]:'Not gonna be'} # key as 'list' or 'set' or 'dict' is Not allowed"
   ]
  },
  {
   "cell_type": "code",
   "execution_count": 21,
   "id": "ad2a5948-ee2c-40af-804c-ffe39054e96d",
   "metadata": {},
   "outputs": [],
   "source": [
    "dict_6={ 'name' : 'tan' , 'name' : 'sha' , 'age' : 15 }"
   ]
  },
  {
   "cell_type": "code",
   "execution_count": 22,
   "id": "642d56fa-1172-43a7-94c9-414ed2e11514",
   "metadata": {},
   "outputs": [
    {
     "data": {
      "text/plain": [
       "{'name': 'sha', 'age': 15}"
      ]
     },
     "execution_count": 22,
     "metadata": {},
     "output_type": "execute_result"
    }
   ],
   "source": [
    "dict_6 # no duplicates allowed, will be updated with last key"
   ]
  },
  {
   "cell_type": "code",
   "execution_count": 23,
   "id": "afe40743-8aa4-49dd-a14a-54f20423980b",
   "metadata": {},
   "outputs": [],
   "source": [
    "dict_7 = {\n",
    "    'fruit': 'apple',\n",
    "    'colour': 'red',\n",
    "    'taste': 'sweet'\n",
    "}"
   ]
  },
  {
   "cell_type": "code",
   "execution_count": 24,
   "id": "9bc346c5-6424-4595-bb36-c7ae8a5065ad",
   "metadata": {},
   "outputs": [
    {
     "data": {
      "text/plain": [
       "{'fruit': 'apple', 'colour': 'red', 'taste': 'sweet'}"
      ]
     },
     "execution_count": 24,
     "metadata": {},
     "output_type": "execute_result"
    }
   ],
   "source": [
    "dict_7"
   ]
  },
  {
   "cell_type": "code",
   "execution_count": 25,
   "id": "7ab97efe-1d5e-40bd-a51c-27dc0e6626c2",
   "metadata": {},
   "outputs": [],
   "source": [
    "dict_8={\n",
    "    'fruits' : ['apple','mango','banana'],\n",
    "    'colour' : {'red','reddish-yellow','yellow'},\n",
    "    'taste'  : ('sweet','sweet','sweet')\n",
    "} # 'value' can be list,set,tuple,numeric,string etc "
   ]
  },
  {
   "cell_type": "code",
   "execution_count": 26,
   "id": "d4b99c40-51c3-4c87-b014-cd03fd3bea6a",
   "metadata": {},
   "outputs": [
    {
     "data": {
      "text/plain": [
       "{'fruits': ['apple', 'mango', 'banana'],\n",
       " 'colour': {'red', 'reddish-yellow', 'yellow'},\n",
       " 'taste': ('sweet', 'sweet', 'sweet')}"
      ]
     },
     "execution_count": 26,
     "metadata": {},
     "output_type": "execute_result"
    }
   ],
   "source": [
    "dict_8"
   ]
  },
  {
   "cell_type": "code",
   "execution_count": 27,
   "id": "0eb5778d-9d24-4602-9aed-577edad9109f",
   "metadata": {},
   "outputs": [],
   "source": [
    "# Accessing dict elements"
   ]
  },
  {
   "cell_type": "code",
   "execution_count": 28,
   "id": "b23c379c-e69a-4da4-8c80-dbb19fd732ab",
   "metadata": {},
   "outputs": [
    {
     "data": {
      "text/plain": [
       "['apple', 'mango', 'banana']"
      ]
     },
     "execution_count": 28,
     "metadata": {},
     "output_type": "execute_result"
    }
   ],
   "source": [
    "dict_8['fruits']"
   ]
  },
  {
   "cell_type": "code",
   "execution_count": 29,
   "id": "d45cbb82-cac3-4791-bd93-90fd2cdb0ecd",
   "metadata": {},
   "outputs": [
    {
     "data": {
      "text/plain": [
       "('sweet', 'sweet', 'sweet')"
      ]
     },
     "execution_count": 29,
     "metadata": {},
     "output_type": "execute_result"
    }
   ],
   "source": [
    "dict_8['taste']"
   ]
  },
  {
   "cell_type": "code",
   "execution_count": 30,
   "id": "17567f47-99ab-47b2-a2f1-73813d9273bb",
   "metadata": {},
   "outputs": [],
   "source": [
    "dict_9={ 'name':'no_name' , 'class':'IntroductoryPythonLearing'}"
   ]
  },
  {
   "cell_type": "code",
   "execution_count": 31,
   "id": "47afe3ae-2a43-4131-8660-0de1f36dc43a",
   "metadata": {},
   "outputs": [
    {
     "data": {
      "text/plain": [
       "{'name': 'no_name', 'class': 'IntroductoryPythonLearing'}"
      ]
     },
     "execution_count": 31,
     "metadata": {},
     "output_type": "execute_result"
    }
   ],
   "source": [
    "dict_9"
   ]
  },
  {
   "cell_type": "code",
   "execution_count": 32,
   "id": "e46290b7-0641-47cc-aac8-aa55d10b7390",
   "metadata": {},
   "outputs": [],
   "source": [
    "dict_9['name']='Tanmay' # to update a key value"
   ]
  },
  {
   "cell_type": "code",
   "execution_count": 33,
   "id": "deb8e5e0-4479-42cc-8e1d-87f61b756a61",
   "metadata": {},
   "outputs": [
    {
     "data": {
      "text/plain": [
       "{'name': 'Tanmay', 'class': 'IntroductoryPythonLearing'}"
      ]
     },
     "execution_count": 33,
     "metadata": {},
     "output_type": "execute_result"
    }
   ],
   "source": [
    "dict_9"
   ]
  },
  {
   "cell_type": "code",
   "execution_count": 34,
   "id": "01ab0a47-e146-44c7-b326-f85281bf994c",
   "metadata": {},
   "outputs": [
    {
     "data": {
      "text/plain": [
       "'TANMAY'"
      ]
     },
     "execution_count": 34,
     "metadata": {},
     "output_type": "execute_result"
    }
   ],
   "source": [
    "dict_9['name'].upper()"
   ]
  },
  {
   "cell_type": "code",
   "execution_count": 35,
   "id": "73fd98fb-05ab-4572-815a-85949f8ef98d",
   "metadata": {},
   "outputs": [
    {
     "data": {
      "text/plain": [
       "'apple'"
      ]
     },
     "execution_count": 35,
     "metadata": {},
     "output_type": "execute_result"
    }
   ],
   "source": [
    "dict_8['fruits'][0]"
   ]
  },
  {
   "cell_type": "code",
   "execution_count": 36,
   "id": "4656760f-65da-4b65-ac40-ea63ee607060",
   "metadata": {},
   "outputs": [
    {
     "data": {
      "text/plain": [
       "'SWEET'"
      ]
     },
     "execution_count": 36,
     "metadata": {},
     "output_type": "execute_result"
    }
   ],
   "source": [
    "dict_8['taste'][1].upper()"
   ]
  },
  {
   "cell_type": "code",
   "execution_count": 37,
   "id": "88f11601-ffdc-4a7c-b2a4-dc5debb908b2",
   "metadata": {},
   "outputs": [
    {
     "data": {
      "text/plain": [
       "set"
      ]
     },
     "execution_count": 37,
     "metadata": {},
     "output_type": "execute_result"
    }
   ],
   "source": [
    "type(dict_8['colour'])"
   ]
  },
  {
   "cell_type": "code",
   "execution_count": 38,
   "id": "3c2b0cdf-3f21-48f8-9b5a-db1def47b470",
   "metadata": {},
   "outputs": [],
   "source": [
    "# dictionary within dictionary"
   ]
  },
  {
   "cell_type": "code",
   "execution_count": 39,
   "id": "d6c1f422-c6f3-4e3f-9d3a-6b0a6a49c694",
   "metadata": {},
   "outputs": [],
   "source": [
    "dict_10={\n",
    "    'd1' : {'name' : 'tan' , 'age' : 21 },\n",
    "    'd2' : {'name' : 'may' , 'age' : 6 },\n",
    "    'd3' : {'name' : 'sha' , 'age' : 12 }\n",
    "\n",
    "}"
   ]
  },
  {
   "cell_type": "code",
   "execution_count": 40,
   "id": "0cabc4a4-fcc7-4f31-b476-8c79b788bacd",
   "metadata": {},
   "outputs": [
    {
     "data": {
      "text/plain": [
       "{'d1': {'name': 'tan', 'age': 21},\n",
       " 'd2': {'name': 'may', 'age': 6},\n",
       " 'd3': {'name': 'sha', 'age': 12}}"
      ]
     },
     "execution_count": 40,
     "metadata": {},
     "output_type": "execute_result"
    }
   ],
   "source": [
    "dict_10"
   ]
  },
  {
   "cell_type": "code",
   "execution_count": 41,
   "id": "f216d61c-ab6a-40ef-b552-c7b71c71fa11",
   "metadata": {},
   "outputs": [
    {
     "data": {
      "text/plain": [
       "{'name': 'tan', 'age': 21}"
      ]
     },
     "execution_count": 41,
     "metadata": {},
     "output_type": "execute_result"
    }
   ],
   "source": [
    "dict_10['d1']"
   ]
  },
  {
   "cell_type": "code",
   "execution_count": 42,
   "id": "4917f5ec-62a8-453f-9ebd-972c8ea62dc6",
   "metadata": {},
   "outputs": [
    {
     "data": {
      "text/plain": [
       "'tan'"
      ]
     },
     "execution_count": 42,
     "metadata": {},
     "output_type": "execute_result"
    }
   ],
   "source": [
    "dict_10['d1']['name']"
   ]
  },
  {
   "cell_type": "code",
   "execution_count": 43,
   "id": "9f6cf122-1b56-4bd5-9f2b-2ee540367f14",
   "metadata": {},
   "outputs": [
    {
     "data": {
      "text/plain": [
       "'SHA'"
      ]
     },
     "execution_count": 43,
     "metadata": {},
     "output_type": "execute_result"
    }
   ],
   "source": [
    "dict_10['d3']['name'].upper()"
   ]
  },
  {
   "cell_type": "code",
   "execution_count": 44,
   "id": "7af1666c-a341-46eb-988b-c3ae90173188",
   "metadata": {},
   "outputs": [],
   "source": [
    "dict_10['d1']['name']='Yam'"
   ]
  },
  {
   "cell_type": "code",
   "execution_count": 45,
   "id": "053ccf75-5c86-4bd7-8c47-e0295bc65aaf",
   "metadata": {},
   "outputs": [
    {
     "data": {
      "text/plain": [
       "{'d1': {'name': 'Yam', 'age': 21},\n",
       " 'd2': {'name': 'may', 'age': 6},\n",
       " 'd3': {'name': 'sha', 'age': 12}}"
      ]
     },
     "execution_count": 45,
     "metadata": {},
     "output_type": "execute_result"
    }
   ],
   "source": [
    "dict_10"
   ]
  },
  {
   "cell_type": "code",
   "execution_count": 46,
   "id": "def1b619-d16f-4f70-8a02-9f1c39b0c0cf",
   "metadata": {},
   "outputs": [],
   "source": [
    "# some dictionary functions"
   ]
  },
  {
   "cell_type": "code",
   "execution_count": 47,
   "id": "e68a6c61-ff96-47c0-870e-e83f91e36d40",
   "metadata": {},
   "outputs": [
    {
     "data": {
      "text/plain": [
       "3"
      ]
     },
     "execution_count": 47,
     "metadata": {},
     "output_type": "execute_result"
    }
   ],
   "source": [
    "len(dict_10)"
   ]
  },
  {
   "cell_type": "code",
   "execution_count": 48,
   "id": "a16ea9f5-93cc-4353-b624-787b73cd8420",
   "metadata": {},
   "outputs": [
    {
     "data": {
      "text/plain": [
       "dict_keys(['d1', 'd2', 'd3'])"
      ]
     },
     "execution_count": 48,
     "metadata": {},
     "output_type": "execute_result"
    }
   ],
   "source": [
    "dict_10.keys()"
   ]
  },
  {
   "cell_type": "code",
   "execution_count": 49,
   "id": "f842014e-0051-4726-ab49-f1480512d849",
   "metadata": {},
   "outputs": [
    {
     "data": {
      "text/plain": [
       "dict_keys(['fruits', 'colour', 'taste'])"
      ]
     },
     "execution_count": 49,
     "metadata": {},
     "output_type": "execute_result"
    }
   ],
   "source": [
    "dict_8.keys()"
   ]
  },
  {
   "cell_type": "code",
   "execution_count": 50,
   "id": "a65f68c8-bf0c-4053-ac6c-d1a0e0517ec1",
   "metadata": {},
   "outputs": [
    {
     "data": {
      "text/plain": [
       "dict_keys([(1, 2, 3), (4, 5, 6)])"
      ]
     },
     "execution_count": 50,
     "metadata": {},
     "output_type": "execute_result"
    }
   ],
   "source": [
    "dict_5.keys()"
   ]
  },
  {
   "cell_type": "code",
   "execution_count": 51,
   "id": "0f92e531-8281-43a6-aa4d-3e112537e19e",
   "metadata": {},
   "outputs": [
    {
     "data": {
      "text/plain": [
       "dict_values([{'name': 'Yam', 'age': 21}, {'name': 'may', 'age': 6}, {'name': 'sha', 'age': 12}])"
      ]
     },
     "execution_count": 51,
     "metadata": {},
     "output_type": "execute_result"
    }
   ],
   "source": [
    "dict_10.values()"
   ]
  },
  {
   "cell_type": "code",
   "execution_count": 52,
   "id": "8b7d7a4b-fbda-4bf6-a5d5-d22b890881e7",
   "metadata": {},
   "outputs": [
    {
     "data": {
      "text/plain": [
       "dict_values([['apple', 'mango', 'banana'], {'red', 'yellow', 'reddish-yellow'}, ('sweet', 'sweet', 'sweet')])"
      ]
     },
     "execution_count": 52,
     "metadata": {},
     "output_type": "execute_result"
    }
   ],
   "source": [
    "dict_8.values()"
   ]
  },
  {
   "cell_type": "code",
   "execution_count": 53,
   "id": "2ed40ef9-ec3e-4fbe-aed2-1dbca8fd0829",
   "metadata": {},
   "outputs": [
    {
     "data": {
      "text/plain": [
       "dict_values(['Tuple', 'It is.'])"
      ]
     },
     "execution_count": 53,
     "metadata": {},
     "output_type": "execute_result"
    }
   ],
   "source": [
    "dict_5.values()"
   ]
  },
  {
   "cell_type": "code",
   "execution_count": 54,
   "id": "54e7781e-f0ec-47a1-bbc5-66eafd0ce3b5",
   "metadata": {},
   "outputs": [],
   "source": [
    "list_10=dict_10.keys()"
   ]
  },
  {
   "cell_type": "code",
   "execution_count": 55,
   "id": "e75fbd04-f9ec-4164-8a40-397a31e2f947",
   "metadata": {},
   "outputs": [
    {
     "data": {
      "text/plain": [
       "dict_keys(['d1', 'd2', 'd3'])"
      ]
     },
     "execution_count": 55,
     "metadata": {},
     "output_type": "execute_result"
    }
   ],
   "source": [
    "list_10"
   ]
  },
  {
   "cell_type": "code",
   "execution_count": 56,
   "id": "aefb10fd-2026-43d0-91c9-7e9ad3177836",
   "metadata": {},
   "outputs": [
    {
     "name": "stdout",
     "output_type": "stream",
     "text": [
      "d1\n",
      "d2\n",
      "d3\n"
     ]
    }
   ],
   "source": [
    "for i in list_10:\n",
    "    print(i)"
   ]
  },
  {
   "cell_type": "code",
   "execution_count": 57,
   "id": "f48439ab-3266-412a-afa8-a95df5efc9d7",
   "metadata": {},
   "outputs": [
    {
     "data": {
      "text/plain": [
       "dict_items([('d1', {'name': 'Yam', 'age': 21}), ('d2', {'name': 'may', 'age': 6}), ('d3', {'name': 'sha', 'age': 12})])"
      ]
     },
     "execution_count": 57,
     "metadata": {},
     "output_type": "execute_result"
    }
   ],
   "source": [
    "dict_10.items()"
   ]
  },
  {
   "cell_type": "code",
   "execution_count": 58,
   "id": "ee66f567-26db-4103-8bae-30e4c41b5737",
   "metadata": {},
   "outputs": [],
   "source": [
    "list_11=dict_10.items()"
   ]
  },
  {
   "cell_type": "code",
   "execution_count": 59,
   "id": "71106667-729e-4d66-8a06-ac85568c105f",
   "metadata": {},
   "outputs": [
    {
     "data": {
      "text/plain": [
       "dict_items([('d1', {'name': 'Yam', 'age': 21}), ('d2', {'name': 'may', 'age': 6}), ('d3', {'name': 'sha', 'age': 12})])"
      ]
     },
     "execution_count": 59,
     "metadata": {},
     "output_type": "execute_result"
    }
   ],
   "source": [
    "list_11"
   ]
  },
  {
   "cell_type": "code",
   "execution_count": 60,
   "id": "3da3e327-bee1-4e2a-9dff-faadeab56f3e",
   "metadata": {},
   "outputs": [
    {
     "name": "stdout",
     "output_type": "stream",
     "text": [
      "('d1', {'name': 'Yam', 'age': 21})\n",
      "('d2', {'name': 'may', 'age': 6})\n",
      "('d3', {'name': 'sha', 'age': 12})\n"
     ]
    }
   ],
   "source": [
    "for i in list_11:\n",
    "    print(i)"
   ]
  },
  {
   "cell_type": "code",
   "execution_count": 61,
   "id": "3d7b4a15-8196-4794-b6c6-cb58a5e93252",
   "metadata": {},
   "outputs": [],
   "source": [
    "dict_11 = dict_10"
   ]
  },
  {
   "cell_type": "code",
   "execution_count": 62,
   "id": "332f6f6d-9c48-4dd9-a17c-48340e207682",
   "metadata": {},
   "outputs": [
    {
     "data": {
      "text/plain": [
       "{'d1': {'name': 'Yam', 'age': 21},\n",
       " 'd2': {'name': 'may', 'age': 6},\n",
       " 'd3': {'name': 'sha', 'age': 12}}"
      ]
     },
     "execution_count": 62,
     "metadata": {},
     "output_type": "execute_result"
    }
   ],
   "source": [
    "dict_11"
   ]
  },
  {
   "cell_type": "code",
   "execution_count": 63,
   "id": "1face118-3f2c-43c0-b84d-f0be78059440",
   "metadata": {},
   "outputs": [],
   "source": [
    "del dict_10['d3']"
   ]
  },
  {
   "cell_type": "code",
   "execution_count": 64,
   "id": "90a8a11f-c4be-4413-b297-47744b3e445c",
   "metadata": {},
   "outputs": [
    {
     "data": {
      "text/plain": [
       "{'d1': {'name': 'Yam', 'age': 21}, 'd2': {'name': 'may', 'age': 6}}"
      ]
     },
     "execution_count": 64,
     "metadata": {},
     "output_type": "execute_result"
    }
   ],
   "source": [
    "dict_11 # observe changes in dict_10 are reflected in dict_11"
   ]
  },
  {
   "cell_type": "code",
   "execution_count": 65,
   "id": "05fa5d0b-10ed-42b1-b3b2-b7fc03f046ea",
   "metadata": {},
   "outputs": [
    {
     "data": {
      "text/plain": [
       "{'name': 'Tanmay', 'class': 'IntroductoryPythonLearing'}"
      ]
     },
     "execution_count": 65,
     "metadata": {},
     "output_type": "execute_result"
    }
   ],
   "source": [
    "dict_9"
   ]
  },
  {
   "cell_type": "code",
   "execution_count": 66,
   "id": "4c1405ae-340f-4fa0-8951-9ac41fcad790",
   "metadata": {},
   "outputs": [],
   "source": [
    "dict_12=dict_9.copy()"
   ]
  },
  {
   "cell_type": "code",
   "execution_count": 67,
   "id": "b24c7bb1-ed01-47f8-9373-673af721dd31",
   "metadata": {},
   "outputs": [
    {
     "data": {
      "text/plain": [
       "{'name': 'Tanmay', 'class': 'IntroductoryPythonLearing'}"
      ]
     },
     "execution_count": 67,
     "metadata": {},
     "output_type": "execute_result"
    }
   ],
   "source": [
    "dict_12"
   ]
  },
  {
   "cell_type": "code",
   "execution_count": 68,
   "id": "c0f107a0-ee31-4859-990a-e87d1d0f3866",
   "metadata": {},
   "outputs": [],
   "source": [
    "del dict_9['name']"
   ]
  },
  {
   "cell_type": "code",
   "execution_count": 69,
   "id": "c6aa4283-ac6d-493a-af56-158514b86bad",
   "metadata": {},
   "outputs": [
    {
     "data": {
      "text/plain": [
       "{'name': 'Tanmay', 'class': 'IntroductoryPythonLearing'}"
      ]
     },
     "execution_count": 69,
     "metadata": {},
     "output_type": "execute_result"
    }
   ],
   "source": [
    "dict_12 # observe through copy fun, changes are not reflected in other dict. As copy fun deep copied one dict to another by assigning completely new memory space "
   ]
  },
  {
   "cell_type": "code",
   "execution_count": 70,
   "id": "a4c84009-0473-4875-b7e4-6cf0a0275581",
   "metadata": {},
   "outputs": [
    {
     "data": {
      "text/plain": [
       "{'class': 'IntroductoryPythonLearing'}"
      ]
     },
     "execution_count": 70,
     "metadata": {},
     "output_type": "execute_result"
    }
   ],
   "source": [
    "dict_9"
   ]
  },
  {
   "cell_type": "code",
   "execution_count": 71,
   "id": "2876d924-8630-4404-80db-6b396274f895",
   "metadata": {},
   "outputs": [
    {
     "data": {
      "text/plain": [
       "{(1, 2, 3): 'Tuple', (4, 5, 6): 'It is.'}"
      ]
     },
     "execution_count": 71,
     "metadata": {},
     "output_type": "execute_result"
    }
   ],
   "source": [
    "dict_5"
   ]
  },
  {
   "cell_type": "code",
   "execution_count": 72,
   "id": "5269f759-6c6a-4338-a1ec-f8dcfb211e64",
   "metadata": {},
   "outputs": [
    {
     "data": {
      "text/plain": [
       "{3: 'Valid'}"
      ]
     },
     "execution_count": 72,
     "metadata": {},
     "output_type": "execute_result"
    }
   ],
   "source": [
    "dict_4"
   ]
  },
  {
   "cell_type": "code",
   "execution_count": 73,
   "id": "70bf7d46-1f56-492f-a096-378539820252",
   "metadata": {},
   "outputs": [
    {
     "ename": "KeyError",
     "evalue": "'@'",
     "output_type": "error",
     "traceback": [
      "\u001b[0;31m---------------------------------------------------------------------------\u001b[0m",
      "\u001b[0;31mKeyError\u001b[0m                                  Traceback (most recent call last)",
      "Cell \u001b[0;32mIn[73], line 1\u001b[0m\n\u001b[0;32m----> 1\u001b[0m \u001b[43mdict_4\u001b[49m\u001b[38;5;241;43m.\u001b[39;49m\u001b[43mpop\u001b[49m\u001b[43m(\u001b[49m\u001b[38;5;124;43m'\u001b[39;49m\u001b[38;5;124;43m@\u001b[39;49m\u001b[38;5;124;43m'\u001b[39;49m\u001b[43m)\u001b[49m\n",
      "\u001b[0;31mKeyError\u001b[0m: '@'"
     ]
    }
   ],
   "source": [
    "dict_4.pop('@')"
   ]
  },
  {
   "cell_type": "code",
   "execution_count": 74,
   "id": "2f512968-6118-4aa1-8f84-832dd29e2b1d",
   "metadata": {},
   "outputs": [
    {
     "data": {
      "text/plain": [
       "{3: 'Valid'}"
      ]
     },
     "execution_count": 74,
     "metadata": {},
     "output_type": "execute_result"
    }
   ],
   "source": [
    "dict_4"
   ]
  },
  {
   "cell_type": "code",
   "execution_count": 75,
   "id": "d1e1eb56-093d-4b9e-ab61-efb4bd73a38a",
   "metadata": {},
   "outputs": [
    {
     "data": {
      "text/plain": [
       "{1: 'Hello', 2: 'Hello', 3: 'Hello'}"
      ]
     },
     "execution_count": 75,
     "metadata": {},
     "output_type": "execute_result"
    }
   ],
   "source": [
    "# dict.fromkeys(iterable, value=None)\n",
    "dict_12.fromkeys([1,2,3],'Hello')"
   ]
  },
  {
   "cell_type": "code",
   "execution_count": 76,
   "id": "3ee1ed7c-632f-43cd-ac01-b05e9f96abad",
   "metadata": {},
   "outputs": [],
   "source": [
    "keys=[1,2,'three','4our']\n",
    "deff=0\n",
    "dict_13=dict.fromkeys(keys,deff)"
   ]
  },
  {
   "cell_type": "code",
   "execution_count": 77,
   "id": "8f5e7d95-5bd0-44c5-9eb1-bf3611bd1008",
   "metadata": {},
   "outputs": [
    {
     "data": {
      "text/plain": [
       "{1: 0, 2: 0, 'three': 0, '4our': 0}"
      ]
     },
     "execution_count": 77,
     "metadata": {},
     "output_type": "execute_result"
    }
   ],
   "source": [
    "dict_13"
   ]
  },
  {
   "cell_type": "code",
   "execution_count": 78,
   "id": "346c844d-9011-4354-806e-cc6a19baacd1",
   "metadata": {},
   "outputs": [],
   "source": [
    "dict_12.update(dict_13)"
   ]
  },
  {
   "cell_type": "code",
   "execution_count": 79,
   "id": "af01216e-d9ee-40f2-8ae7-3b0c97828b35",
   "metadata": {},
   "outputs": [
    {
     "data": {
      "text/plain": [
       "{'name': 'Tanmay',\n",
       " 'class': 'IntroductoryPythonLearing',\n",
       " 1: 0,\n",
       " 2: 0,\n",
       " 'three': 0,\n",
       " '4our': 0}"
      ]
     },
     "execution_count": 79,
     "metadata": {},
     "output_type": "execute_result"
    }
   ],
   "source": [
    "dict_12"
   ]
  },
  {
   "cell_type": "code",
   "execution_count": 80,
   "id": "cf61a0a2-8e21-4ec3-8b5c-f2ba29495f9c",
   "metadata": {},
   "outputs": [
    {
     "data": {
      "text/plain": [
       "'IntroductoryPythonLearing'"
      ]
     },
     "execution_count": 80,
     "metadata": {},
     "output_type": "execute_result"
    }
   ],
   "source": [
    "dict_12['class']"
   ]
  },
  {
   "cell_type": "code",
   "execution_count": 81,
   "id": "f8e7d276-ac13-4752-913f-2d345ea8f825",
   "metadata": {},
   "outputs": [
    {
     "data": {
      "text/plain": [
       "'IntroductoryPythonLearing'"
      ]
     },
     "execution_count": 81,
     "metadata": {},
     "output_type": "execute_result"
    }
   ],
   "source": [
    "dict_12.get('class')"
   ]
  },
  {
   "cell_type": "code",
   "execution_count": 82,
   "id": "a1e167c7-b366-47a3-8a6c-4d40840409a7",
   "metadata": {},
   "outputs": [],
   "source": [
    "dict_12.get('new') # no error even if 'new' as a key is not available in dict_12"
   ]
  },
  {
   "cell_type": "code",
   "execution_count": 83,
   "id": "3aaa152f-f252-42e7-9b1a-6304fad97e92",
   "metadata": {},
   "outputs": [
    {
     "ename": "KeyError",
     "evalue": "'new'",
     "output_type": "error",
     "traceback": [
      "\u001b[0;31m---------------------------------------------------------------------------\u001b[0m",
      "\u001b[0;31mKeyError\u001b[0m                                  Traceback (most recent call last)",
      "Cell \u001b[0;32mIn[83], line 1\u001b[0m\n\u001b[0;32m----> 1\u001b[0m \u001b[43mdict_12\u001b[49m\u001b[43m[\u001b[49m\u001b[38;5;124;43m'\u001b[39;49m\u001b[38;5;124;43mnew\u001b[39;49m\u001b[38;5;124;43m'\u001b[39;49m\u001b[43m]\u001b[49m\n",
      "\u001b[0;31mKeyError\u001b[0m: 'new'"
     ]
    }
   ],
   "source": [
    "dict_12['new']"
   ]
  },
  {
   "cell_type": "markdown",
   "id": "d24f38b9-f10c-4ce9-85f5-182f5c618e98",
   "metadata": {},
   "source": [
    "##### Dictionary Comprehension"
   ]
  },
  {
   "cell_type": "code",
   "execution_count": 84,
   "id": "962ff6ca-198a-488c-b2e3-400916b45a28",
   "metadata": {},
   "outputs": [
    {
     "data": {
      "text/plain": [
       "{1: 1, 2: 4, 3: 9, 4: 16, 5: 25, 6: 36, 7: 49, 8: 64, 9: 81, 10: 100}"
      ]
     },
     "execution_count": 84,
     "metadata": {},
     "output_type": "execute_result"
    }
   ],
   "source": [
    "{ i : i*i for i in range(1,11)}"
   ]
  },
  {
   "cell_type": "code",
   "execution_count": 85,
   "id": "a12016b4-d021-4f86-ad63-10a0d5ff03bd",
   "metadata": {},
   "outputs": [],
   "source": [
    "dict_14 = { i : i*2 for i in range(1,11)}"
   ]
  },
  {
   "cell_type": "code",
   "execution_count": 86,
   "id": "32343476-3b02-4512-86de-a3e286f1b4c3",
   "metadata": {},
   "outputs": [
    {
     "data": {
      "text/plain": [
       "{1: 2, 2: 4, 3: 6, 4: 8, 5: 10, 6: 12, 7: 14, 8: 16, 9: 18, 10: 20}"
      ]
     },
     "execution_count": 86,
     "metadata": {},
     "output_type": "execute_result"
    }
   ],
   "source": [
    "dict_14"
   ]
  },
  {
   "cell_type": "code",
   "execution_count": 87,
   "id": "bb1691ad-92cd-42fc-9b45-01ca55098da1",
   "metadata": {},
   "outputs": [
    {
     "data": {
      "text/plain": [
       "dict_keys([1, 2, 3, 4, 5, 6, 7, 8, 9, 10])"
      ]
     },
     "execution_count": 87,
     "metadata": {},
     "output_type": "execute_result"
    }
   ],
   "source": [
    "dict_14.keys()"
   ]
  },
  {
   "cell_type": "code",
   "execution_count": 88,
   "id": "b6a75275-1d78-4068-a3e8-355bda09b606",
   "metadata": {},
   "outputs": [
    {
     "name": "stdout",
     "output_type": "stream",
     "text": [
      "1\n",
      "2\n",
      "3\n",
      "4\n",
      "5\n",
      "6\n",
      "7\n",
      "8\n",
      "9\n",
      "10\n"
     ]
    }
   ],
   "source": [
    "for i in dict_14.keys():\n",
    "    print(i)"
   ]
  },
  {
   "cell_type": "code",
   "execution_count": 89,
   "id": "deac55d3-6474-4e4e-925a-e31236b9facf",
   "metadata": {},
   "outputs": [
    {
     "name": "stdout",
     "output_type": "stream",
     "text": [
      "2\n",
      "4\n",
      "6\n",
      "8\n",
      "10\n",
      "12\n",
      "14\n",
      "16\n",
      "18\n",
      "20\n"
     ]
    }
   ],
   "source": [
    "for i in dict_14.keys():\n",
    "    print(dict_14[i])"
   ]
  },
  {
   "cell_type": "code",
   "execution_count": 90,
   "id": "e2316110-2ae5-442c-900f-fa89179f7479",
   "metadata": {},
   "outputs": [
    {
     "data": {
      "text/plain": [
       "True"
      ]
     },
     "execution_count": 90,
     "metadata": {},
     "output_type": "execute_result"
    }
   ],
   "source": [
    " 1 in dict_14"
   ]
  },
  {
   "cell_type": "code",
   "execution_count": 91,
   "id": "71a94c4e-e863-45e6-bbc7-0ac98bfa7f02",
   "metadata": {},
   "outputs": [
    {
     "data": {
      "text/plain": [
       "False"
      ]
     },
     "execution_count": 91,
     "metadata": {},
     "output_type": "execute_result"
    }
   ],
   "source": [
    "11 in dict_14"
   ]
  }
 ],
 "metadata": {
  "kernelspec": {
   "display_name": "Python 3 (ipykernel)",
   "language": "python",
   "name": "python3"
  },
  "language_info": {
   "codemirror_mode": {
    "name": "ipython",
    "version": 3
   },
   "file_extension": ".py",
   "mimetype": "text/x-python",
   "name": "python",
   "nbconvert_exporter": "python",
   "pygments_lexer": "ipython3",
   "version": "3.10.8"
  }
 },
 "nbformat": 4,
 "nbformat_minor": 5
}
