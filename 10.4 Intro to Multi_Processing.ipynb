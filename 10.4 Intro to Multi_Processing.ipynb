{
 "cells": [
  {
   "cell_type": "markdown",
   "id": "99f5cba0-0ed4-458a-b801-04052337bf55",
   "metadata": {},
   "source": [
    "## Multi Processing in Python\n",
    "\n",
    "### Multiprocessing in Python is a technique used to execute multiple tasks or processes concurrently, taking advantage of multi-core processors and allowing your program to efficiently utilize available system resources. It is a way to achieve parallelism in your Python programs, which can lead to significant performance improvements when dealing with CPU-bound tasks.\n",
    "\n",
    "\n",
    "### Python's multiprocessing module provides a high-level interface for creating and managing processes. Here are the key components and concepts of multiprocessing in Python:\n",
    "\n",
    "### 1.Process: The basic unit of parallelism in multiprocessing is a \"process.\" Each process is an independent Python interpreter with its own memory space. Processes are created using the 'Process' class from the 'multiprocessing' module.\n",
    "\n",
    "### 2.Parallel Execution: With multiprocessing, you can create multiple processes that run concurrently, performing tasks in parallel. This is particularly useful for CPU-bound tasks that can be divided into smaller units of work.\n",
    "\n",
    "### 3.Shared Memory: While each process has its own memory space, it's possible for processes to share data by using mechanisms such as multiprocessing.Queue and multiprocessing.Manager. This allows processes to communicate and collaborate.\n",
    "\n",
    "### 4.Pool: The multiprocessing.Pool class simplifies the management of a pool of worker processes. You can submit tasks to the pool, and it will distribute them among the available worker processes, making it easier to work with parallelism."
   ]
  },
  {
   "cell_type": "code",
   "execution_count": 6,
   "id": "f346c276-7e83-4118-96cf-236ece4231a7",
   "metadata": {},
   "outputs": [],
   "source": [
    "import multiprocessing"
   ]
  },
  {
   "cell_type": "code",
   "execution_count": 7,
   "id": "18cebcb4-2ea2-4c09-8fc5-f57200c6d04d",
   "metadata": {},
   "outputs": [
    {
     "name": "stdout",
     "output_type": "stream",
     "text": [
      "This is main fun\n",
      "This is the test fun\n"
     ]
    }
   ],
   "source": [
    "def test():\n",
    "    print(\"This is the test fun\")\n",
    "    \n",
    "if __name__ == \"__main__\" :\n",
    "    m=multiprocessing.Process(target=test)\n",
    "    print(\"This is main fun\")\n",
    "    m.start()\n",
    "    m.join()"
   ]
  },
  {
   "cell_type": "code",
   "execution_count": null,
   "id": "e5c964f3-43dc-4a0e-9af7-c913c8764e4a",
   "metadata": {},
   "outputs": [],
   "source": [
    "# if __name__ == \"__main__\" :\n",
    "#  It checks if the script is being run as the main program \n",
    "# (as opposed to being imported as a module into another script).\n",
    "\n",
    "# m = multiprocessing.Process(target=test) \n",
    "# creates a new multiprocessing.Process object named m. \n",
    "# This object represents a separate process that will execute the test function when started.\n",
    "# The target parameter specifies the function to be executed in the new process, which, in this case, is test.\n",
    "\n",
    "# m.start() starts the new process m.\n",
    "# This means the test function will be executed in a separate process concurrently with the main program.\n",
    "\n",
    "# m.join() is used to wait for the process m to complete.\n",
    "# It essentially blocks the main program until the test function finishes executing in the separate process. \n",
    "# This ensures that the main program doesn't exit before the child process has completed its task.\n",
    "\n",
    "\n",
    "\n",
    "\n",
    "# Here's the execution flow:\n",
    "\n",
    "# When you run the script, it starts by defining the test function and checking if it's the main program \n",
    "# (if __name__ == \"__main__\":).\n",
    "\n",
    "# It creates a multiprocessing.Process object m and associates it with the test function.\n",
    "\n",
    "# It prints \"This is main fun.\"\n",
    "\n",
    "# It starts the process m, which means it begins executing the test function in a separate process.\n",
    "\n",
    "# The \"This is test fun\" message from the test function is printed concurrently with the main program.\n",
    "\n",
    "# Finally, the main program waits for the test function to finish execution using m.join().\n",
    "# Once the test function is complete, the main program continues and may exit.\n",
    "\n",
    "pass"
   ]
  },
  {
   "cell_type": "code",
   "execution_count": 9,
   "id": "502288fa-a63c-424c-850d-e2c433c98b76",
   "metadata": {},
   "outputs": [
    {
     "name": "stdout",
     "output_type": "stream",
     "text": [
      "[4, 9, 16, 25, 36, 49, 64]\n"
     ]
    }
   ],
   "source": [
    "def square(x):\n",
    "    return x**2\n",
    "\n",
    "if __name__==\"__main__\":\n",
    "    with multiprocessing.Pool(processes=4) as pool:\n",
    "        out=pool.map(square,[2,3,4,5,6,7,8])\n",
    "        print(out)"
   ]
  },
  {
   "cell_type": "code",
   "execution_count": 17,
   "id": "05ff55dd-ebbb-4c20-a4af-8b8a6e63acf9",
   "metadata": {},
   "outputs": [],
   "source": [
    "# Here's the execution flow:\n",
    "\n",
    "# When you run the script, it defines the square function and checks if it's the main program (if __name__==\"__main__\":).\n",
    "# This is a common practice in multiprocessing to prevent infinite recursion on some platforms.\n",
    "\n",
    "# It creates a pool of four worker processes using multiprocessing.Pool(processes=4).\n",
    "\n",
    "# The pool.map(square, [2, 3, 4, 5, 6, 7, 8]) line distributes the work of squaring each element in the input list to the worker processes in parallel.\n",
    "\n",
    "# As a result, each element in the input list is squared concurrently by one of the worker processes.\n",
    "\n",
    "# The squared values are collected and returned as a list in the same order as the input list, which is stored in the out variable.\n",
    "\n",
    "# Finally, the script prints the out list, which contains the squared values [4, 9, 16, 25, 36, 49, 64].\n",
    "\n",
    "pass"
   ]
  },
  {
   "cell_type": "code",
   "execution_count": 12,
   "id": "6bbbb983-4244-450f-b7e6-df42f3a8dc8c",
   "metadata": {},
   "outputs": [
    {
     "name": "stdout",
     "output_type": "stream",
     "text": [
      "tan\n",
      "may\n",
      "sha\n",
      "rma\n",
      "222357\n",
      "new_data\n"
     ]
    },
    {
     "name": "stderr",
     "output_type": "stream",
     "text": [
      "Process Process-8:\n",
      "Traceback (most recent call last):\n",
      "  File \"/opt/conda/lib/python3.10/multiprocessing/process.py\", line 314, in _bootstrap\n",
      "    self.run()\n",
      "  File \"/opt/conda/lib/python3.10/multiprocessing/process.py\", line 108, in run\n",
      "    self._target(*self._args, **self._kwargs)\n",
      "  File \"/tmp/ipykernel_109/1213456255.py\", line 9, in consume\n",
      "    item=q.get()\n",
      "  File \"/opt/conda/lib/python3.10/multiprocessing/queues.py\", line 103, in get\n",
      "    res = self._recv_bytes()\n",
      "  File \"/opt/conda/lib/python3.10/multiprocessing/connection.py\", line 221, in recv_bytes\n",
      "    buf = self._recv_bytes(maxlength)\n"
     ]
    },
    {
     "ename": "KeyboardInterrupt",
     "evalue": "",
     "output_type": "error",
     "traceback": [
      "\u001b[0;31m---------------------------------------------------------------------------\u001b[0m",
      "\u001b[0;31mKeyboardInterrupt\u001b[0m                         Traceback (most recent call last)",
      "Cell \u001b[0;32mIn[12], line 22\u001b[0m\n\u001b[1;32m     20\u001b[0m queue\u001b[38;5;241m.\u001b[39mput(\u001b[38;5;124m\"\u001b[39m\u001b[38;5;124mnew_data\u001b[39m\u001b[38;5;124m\"\u001b[39m)\n\u001b[1;32m     21\u001b[0m m1\u001b[38;5;241m.\u001b[39mjoin()\n\u001b[0;32m---> 22\u001b[0m \u001b[43mm2\u001b[49m\u001b[38;5;241;43m.\u001b[39;49m\u001b[43mjoin\u001b[49m\u001b[43m(\u001b[49m\u001b[43m)\u001b[49m\n",
      "File \u001b[0;32m/opt/conda/lib/python3.10/multiprocessing/process.py:149\u001b[0m, in \u001b[0;36mBaseProcess.join\u001b[0;34m(self, timeout)\u001b[0m\n\u001b[1;32m    147\u001b[0m \u001b[38;5;28;01massert\u001b[39;00m \u001b[38;5;28mself\u001b[39m\u001b[38;5;241m.\u001b[39m_parent_pid \u001b[38;5;241m==\u001b[39m os\u001b[38;5;241m.\u001b[39mgetpid(), \u001b[38;5;124m'\u001b[39m\u001b[38;5;124mcan only join a child process\u001b[39m\u001b[38;5;124m'\u001b[39m\n\u001b[1;32m    148\u001b[0m \u001b[38;5;28;01massert\u001b[39;00m \u001b[38;5;28mself\u001b[39m\u001b[38;5;241m.\u001b[39m_popen \u001b[38;5;129;01mis\u001b[39;00m \u001b[38;5;129;01mnot\u001b[39;00m \u001b[38;5;28;01mNone\u001b[39;00m, \u001b[38;5;124m'\u001b[39m\u001b[38;5;124mcan only join a started process\u001b[39m\u001b[38;5;124m'\u001b[39m\n\u001b[0;32m--> 149\u001b[0m res \u001b[38;5;241m=\u001b[39m \u001b[38;5;28;43mself\u001b[39;49m\u001b[38;5;241;43m.\u001b[39;49m\u001b[43m_popen\u001b[49m\u001b[38;5;241;43m.\u001b[39;49m\u001b[43mwait\u001b[49m\u001b[43m(\u001b[49m\u001b[43mtimeout\u001b[49m\u001b[43m)\u001b[49m\n\u001b[1;32m    150\u001b[0m \u001b[38;5;28;01mif\u001b[39;00m res \u001b[38;5;129;01mis\u001b[39;00m \u001b[38;5;129;01mnot\u001b[39;00m \u001b[38;5;28;01mNone\u001b[39;00m:\n\u001b[1;32m    151\u001b[0m     _children\u001b[38;5;241m.\u001b[39mdiscard(\u001b[38;5;28mself\u001b[39m)\n",
      "File \u001b[0;32m/opt/conda/lib/python3.10/multiprocessing/popen_fork.py:43\u001b[0m, in \u001b[0;36mPopen.wait\u001b[0;34m(self, timeout)\u001b[0m\n\u001b[1;32m     41\u001b[0m             \u001b[38;5;28;01mreturn\u001b[39;00m \u001b[38;5;28;01mNone\u001b[39;00m\n\u001b[1;32m     42\u001b[0m     \u001b[38;5;66;03m# This shouldn't block if wait() returned successfully.\u001b[39;00m\n\u001b[0;32m---> 43\u001b[0m     \u001b[38;5;28;01mreturn\u001b[39;00m \u001b[38;5;28;43mself\u001b[39;49m\u001b[38;5;241;43m.\u001b[39;49m\u001b[43mpoll\u001b[49m\u001b[43m(\u001b[49m\u001b[43mos\u001b[49m\u001b[38;5;241;43m.\u001b[39;49m\u001b[43mWNOHANG\u001b[49m\u001b[43m \u001b[49m\u001b[38;5;28;43;01mif\u001b[39;49;00m\u001b[43m \u001b[49m\u001b[43mtimeout\u001b[49m\u001b[43m \u001b[49m\u001b[38;5;241;43m==\u001b[39;49m\u001b[43m \u001b[49m\u001b[38;5;241;43m0.0\u001b[39;49m\u001b[43m \u001b[49m\u001b[38;5;28;43;01melse\u001b[39;49;00m\u001b[43m \u001b[49m\u001b[38;5;241;43m0\u001b[39;49m\u001b[43m)\u001b[49m\n\u001b[1;32m     44\u001b[0m \u001b[38;5;28;01mreturn\u001b[39;00m \u001b[38;5;28mself\u001b[39m\u001b[38;5;241m.\u001b[39mreturncode\n",
      "File \u001b[0;32m/opt/conda/lib/python3.10/multiprocessing/popen_fork.py:27\u001b[0m, in \u001b[0;36mPopen.poll\u001b[0;34m(self, flag)\u001b[0m\n\u001b[1;32m     25\u001b[0m \u001b[38;5;28;01mif\u001b[39;00m \u001b[38;5;28mself\u001b[39m\u001b[38;5;241m.\u001b[39mreturncode \u001b[38;5;129;01mis\u001b[39;00m \u001b[38;5;28;01mNone\u001b[39;00m:\n\u001b[1;32m     26\u001b[0m     \u001b[38;5;28;01mtry\u001b[39;00m:\n\u001b[0;32m---> 27\u001b[0m         pid, sts \u001b[38;5;241m=\u001b[39m \u001b[43mos\u001b[49m\u001b[38;5;241;43m.\u001b[39;49m\u001b[43mwaitpid\u001b[49m\u001b[43m(\u001b[49m\u001b[38;5;28;43mself\u001b[39;49m\u001b[38;5;241;43m.\u001b[39;49m\u001b[43mpid\u001b[49m\u001b[43m,\u001b[49m\u001b[43m \u001b[49m\u001b[43mflag\u001b[49m\u001b[43m)\u001b[49m\n\u001b[1;32m     28\u001b[0m     \u001b[38;5;28;01mexcept\u001b[39;00m \u001b[38;5;167;01mOSError\u001b[39;00m:\n\u001b[1;32m     29\u001b[0m         \u001b[38;5;66;03m# Child process not yet created. See #1731717\u001b[39;00m\n\u001b[1;32m     30\u001b[0m         \u001b[38;5;66;03m# e.errno == errno.ECHILD == 10\u001b[39;00m\n\u001b[1;32m     31\u001b[0m         \u001b[38;5;28;01mreturn\u001b[39;00m \u001b[38;5;28;01mNone\u001b[39;00m\n",
      "\u001b[0;31mKeyboardInterrupt\u001b[0m: "
     ]
    },
    {
     "name": "stderr",
     "output_type": "stream",
     "text": [
      "  File \"/opt/conda/lib/python3.10/multiprocessing/connection.py\", line 419, in _recv_bytes\n",
      "    buf = self._recv(4)\n",
      "  File \"/opt/conda/lib/python3.10/multiprocessing/connection.py\", line 384, in _recv\n",
      "    chunk = read(handle, remaining)\n",
      "KeyboardInterrupt\n"
     ]
    }
   ],
   "source": [
    "import multiprocessing\n",
    "\n",
    "def producer(q):\n",
    "    for i in ['tan','may','sha','rma','222357']:\n",
    "        q.put(i)\n",
    "\n",
    "def consume(q):\n",
    "    while True:\n",
    "        item=q.get()\n",
    "        if item is None:\n",
    "            break\n",
    "        print(item)    \n",
    "        \n",
    "if __name__==\"__main__\":\n",
    "    queue = multiprocessing.Queue()\n",
    "    m1=multiprocessing.Process(target=producer, args=(queue,))\n",
    "    m2=multiprocessing.Process(target=consume, args=(queue,))\n",
    "    m1.start()\n",
    "    m2.start()\n",
    "    queue.put(\"new_data\")\n",
    "    m1.join()\n",
    "    m2.join()"
   ]
  },
  {
   "cell_type": "code",
   "execution_count": 13,
   "id": "4cb06f28-1a93-42a4-8726-bcc100a6a839",
   "metadata": {},
   "outputs": [],
   "source": [
    "# The producer-consumer pattern is a common way to handle data exchange between multiple processes or threads. \n",
    "# In this code, producer adds data to the shared queue, and consume retrieves and prints it.\n",
    "# The main program orchestrates the creation and synchronization of these processes using the multiprocessing module,\n",
    "# demonstrating a simple form of interprocess communication (IPC).\n",
    "pass"
   ]
  },
  {
   "cell_type": "code",
   "execution_count": 14,
   "id": "9ef234cf-2d97-434c-ad34-687285cde536",
   "metadata": {},
   "outputs": [
    {
     "name": "stdout",
     "output_type": "stream",
     "text": [
      "[4, 9, 16, 25, 36, 49, 64]\n"
     ]
    }
   ],
   "source": [
    "import multiprocessing\n",
    "\n",
    "def square(index,value):\n",
    "    value[index]=value[index]**2\n",
    "    \n",
    "if __name__==\"__main__\":\n",
    "    arr= multiprocessing.Array(\"i\",[2,3,4,5,6,7,8])\n",
    "    process=[]\n",
    "    for i in range(7):\n",
    "        m=multiprocessing.Process(target=square, args=(i,arr))\n",
    "        process.append(m)\n",
    "        m.start()\n",
    "    for m in process:\n",
    "        m.join()\n",
    "    print(list(arr))   "
   ]
  },
  {
   "cell_type": "code",
   "execution_count": 15,
   "id": "dd4f6c58-c063-4f72-a237-9540bb005b88",
   "metadata": {},
   "outputs": [],
   "source": [
    "# arr = multiprocessing.Array(\"i\", [2, 3, 4, 5, 6, 7, 8])\n",
    "# Here, a shared array named arr is created using the multiprocessing.Array constructor. \n",
    "# The array is initialized with the values [2, 3, 4, 5, 6, 7, 8]\n",
    "# and the \"i\" argument specifies that the array will contain integers.\n",
    "\n",
    "# In the first loop, seven separate processes are created, each targeting the square function.\n",
    "# The args argument is used to pass the index i and the shared array arr as arguments to the square function.\n",
    "# The processes are appended to the process list and then started with m.start().\n",
    "\n",
    "# This loop iterates through the list of processes and waits for each one to finish using the join() method. \n",
    "# This ensures that the main program waits for all child processes to complete before continuing.\n",
    "\n",
    "# this code demonstrates how to use the multiprocessing module to perform parallel computation\n",
    "# by creating multiple processes that operate on a shared array concurrently to calculate the squares of its elements.\n",
    "\n",
    "pass"
   ]
  },
  {
   "cell_type": "code",
   "execution_count": 16,
   "id": "7948b3d8-833c-4b15-9cc2-64427a3a1eca",
   "metadata": {},
   "outputs": [
    {
     "name": "stdout",
     "output_type": "stream",
     "text": [
      "Hello World\n",
      "This is my msg\n",
      "I am taking over today\n",
      "Try to prepare yourself\n"
     ]
    },
    {
     "name": "stderr",
     "output_type": "stream",
     "text": [
      "Process Process-17:\n",
      "Traceback (most recent call last):\n",
      "  File \"/opt/conda/lib/python3.10/multiprocessing/process.py\", line 314, in _bootstrap\n",
      "    self.run()\n"
     ]
    },
    {
     "ename": "KeyboardInterrupt",
     "evalue": "",
     "output_type": "error",
     "traceback": [
      "\u001b[0;31m---------------------------------------------------------------------------\u001b[0m",
      "\u001b[0;31mKeyboardInterrupt\u001b[0m                         Traceback (most recent call last)",
      "Cell \u001b[0;32mIn[16], line 26\u001b[0m\n\u001b[1;32m     24\u001b[0m m1\u001b[38;5;241m.\u001b[39mjoin()\n\u001b[1;32m     25\u001b[0m child_conn\u001b[38;5;241m.\u001b[39mclose()\n\u001b[0;32m---> 26\u001b[0m \u001b[43mm2\u001b[49m\u001b[38;5;241;43m.\u001b[39;49m\u001b[43mjoin\u001b[49m\u001b[43m(\u001b[49m\u001b[43m)\u001b[49m\n\u001b[1;32m     27\u001b[0m parent_conn\u001b[38;5;241m.\u001b[39mclose()\n",
      "File \u001b[0;32m/opt/conda/lib/python3.10/multiprocessing/process.py:149\u001b[0m, in \u001b[0;36mBaseProcess.join\u001b[0;34m(self, timeout)\u001b[0m\n\u001b[1;32m    147\u001b[0m \u001b[38;5;28;01massert\u001b[39;00m \u001b[38;5;28mself\u001b[39m\u001b[38;5;241m.\u001b[39m_parent_pid \u001b[38;5;241m==\u001b[39m os\u001b[38;5;241m.\u001b[39mgetpid(), \u001b[38;5;124m'\u001b[39m\u001b[38;5;124mcan only join a child process\u001b[39m\u001b[38;5;124m'\u001b[39m\n\u001b[1;32m    148\u001b[0m \u001b[38;5;28;01massert\u001b[39;00m \u001b[38;5;28mself\u001b[39m\u001b[38;5;241m.\u001b[39m_popen \u001b[38;5;129;01mis\u001b[39;00m \u001b[38;5;129;01mnot\u001b[39;00m \u001b[38;5;28;01mNone\u001b[39;00m, \u001b[38;5;124m'\u001b[39m\u001b[38;5;124mcan only join a started process\u001b[39m\u001b[38;5;124m'\u001b[39m\n\u001b[0;32m--> 149\u001b[0m res \u001b[38;5;241m=\u001b[39m \u001b[38;5;28;43mself\u001b[39;49m\u001b[38;5;241;43m.\u001b[39;49m\u001b[43m_popen\u001b[49m\u001b[38;5;241;43m.\u001b[39;49m\u001b[43mwait\u001b[49m\u001b[43m(\u001b[49m\u001b[43mtimeout\u001b[49m\u001b[43m)\u001b[49m\n\u001b[1;32m    150\u001b[0m \u001b[38;5;28;01mif\u001b[39;00m res \u001b[38;5;129;01mis\u001b[39;00m \u001b[38;5;129;01mnot\u001b[39;00m \u001b[38;5;28;01mNone\u001b[39;00m:\n\u001b[1;32m    151\u001b[0m     _children\u001b[38;5;241m.\u001b[39mdiscard(\u001b[38;5;28mself\u001b[39m)\n",
      "File \u001b[0;32m/opt/conda/lib/python3.10/multiprocessing/popen_fork.py:43\u001b[0m, in \u001b[0;36mPopen.wait\u001b[0;34m(self, timeout)\u001b[0m\n\u001b[1;32m     41\u001b[0m             \u001b[38;5;28;01mreturn\u001b[39;00m \u001b[38;5;28;01mNone\u001b[39;00m\n\u001b[1;32m     42\u001b[0m     \u001b[38;5;66;03m# This shouldn't block if wait() returned successfully.\u001b[39;00m\n\u001b[0;32m---> 43\u001b[0m     \u001b[38;5;28;01mreturn\u001b[39;00m \u001b[38;5;28;43mself\u001b[39;49m\u001b[38;5;241;43m.\u001b[39;49m\u001b[43mpoll\u001b[49m\u001b[43m(\u001b[49m\u001b[43mos\u001b[49m\u001b[38;5;241;43m.\u001b[39;49m\u001b[43mWNOHANG\u001b[49m\u001b[43m \u001b[49m\u001b[38;5;28;43;01mif\u001b[39;49;00m\u001b[43m \u001b[49m\u001b[43mtimeout\u001b[49m\u001b[43m \u001b[49m\u001b[38;5;241;43m==\u001b[39;49m\u001b[43m \u001b[49m\u001b[38;5;241;43m0.0\u001b[39;49m\u001b[43m \u001b[49m\u001b[38;5;28;43;01melse\u001b[39;49;00m\u001b[43m \u001b[49m\u001b[38;5;241;43m0\u001b[39;49m\u001b[43m)\u001b[49m\n\u001b[1;32m     44\u001b[0m \u001b[38;5;28;01mreturn\u001b[39;00m \u001b[38;5;28mself\u001b[39m\u001b[38;5;241m.\u001b[39mreturncode\n",
      "File \u001b[0;32m/opt/conda/lib/python3.10/multiprocessing/popen_fork.py:27\u001b[0m, in \u001b[0;36mPopen.poll\u001b[0;34m(self, flag)\u001b[0m\n\u001b[1;32m     25\u001b[0m \u001b[38;5;28;01mif\u001b[39;00m \u001b[38;5;28mself\u001b[39m\u001b[38;5;241m.\u001b[39mreturncode \u001b[38;5;129;01mis\u001b[39;00m \u001b[38;5;28;01mNone\u001b[39;00m:\n\u001b[1;32m     26\u001b[0m     \u001b[38;5;28;01mtry\u001b[39;00m:\n\u001b[0;32m---> 27\u001b[0m         pid, sts \u001b[38;5;241m=\u001b[39m \u001b[43mos\u001b[49m\u001b[38;5;241;43m.\u001b[39;49m\u001b[43mwaitpid\u001b[49m\u001b[43m(\u001b[49m\u001b[38;5;28;43mself\u001b[39;49m\u001b[38;5;241;43m.\u001b[39;49m\u001b[43mpid\u001b[49m\u001b[43m,\u001b[49m\u001b[43m \u001b[49m\u001b[43mflag\u001b[49m\u001b[43m)\u001b[49m\n\u001b[1;32m     28\u001b[0m     \u001b[38;5;28;01mexcept\u001b[39;00m \u001b[38;5;167;01mOSError\u001b[39;00m:\n\u001b[1;32m     29\u001b[0m         \u001b[38;5;66;03m# Child process not yet created. See #1731717\u001b[39;00m\n\u001b[1;32m     30\u001b[0m         \u001b[38;5;66;03m# e.errno == errno.ECHILD == 10\u001b[39;00m\n\u001b[1;32m     31\u001b[0m         \u001b[38;5;28;01mreturn\u001b[39;00m \u001b[38;5;28;01mNone\u001b[39;00m\n",
      "\u001b[0;31mKeyboardInterrupt\u001b[0m: "
     ]
    },
    {
     "name": "stderr",
     "output_type": "stream",
     "text": [
      "  File \"/opt/conda/lib/python3.10/multiprocessing/process.py\", line 108, in run\n",
      "    self._target(*self._args, **self._kwargs)\n",
      "  File \"/tmp/ipykernel_109/4179807827.py\", line 11, in receive\n",
      "    msg = conn.recv()\n",
      "  File \"/opt/conda/lib/python3.10/multiprocessing/connection.py\", line 255, in recv\n",
      "    buf = self._recv_bytes()\n",
      "  File \"/opt/conda/lib/python3.10/multiprocessing/connection.py\", line 419, in _recv_bytes\n",
      "    buf = self._recv(4)\n",
      "  File \"/opt/conda/lib/python3.10/multiprocessing/connection.py\", line 384, in _recv\n",
      "    chunk = read(handle, remaining)\n",
      "KeyboardInterrupt\n"
     ]
    }
   ],
   "source": [
    "import multiprocessing\n",
    "\n",
    "def sender(conn , msg):\n",
    "    for i in msg:\n",
    "        conn.send(i)\n",
    "    conn.close()\n",
    "    \n",
    "def receive(conn) :\n",
    "    while True:\n",
    "        try:\n",
    "            msg = conn.recv()\n",
    "        except Exception as e :\n",
    "            print(e)\n",
    "            break\n",
    "        print(msg)\n",
    "\n",
    "if __name__ == '__main__':\n",
    "    msg = [\"Hello World\" , \"This is my msg\" , \"I am taking over today\" , \"Try to prepare yourself\"]\n",
    "    parent_conn , child_conn = multiprocessing.Pipe()\n",
    "    m1 = multiprocessing.Process(target=sender , args = (child_conn , msg))\n",
    "    m2 = multiprocessing.Process(target=receive , args = (parent_conn,))\n",
    "    m1.start()\n",
    "    m2.start()\n",
    "    m1.join()\n",
    "    child_conn.close()\n",
    "    m2.join()\n",
    "    parent_conn.close()\n",
    "    "
   ]
  },
  {
   "cell_type": "code",
   "execution_count": 18,
   "id": "86026a83-bcf0-46ee-b164-7e2975ca880a",
   "metadata": {},
   "outputs": [],
   "source": [
    "# This code is a Python program that uses the multiprocessing module to demonstrate inter-process communication (IPC)\n",
    "# between two processes using a Pipe.\n",
    "# One process sends messages through the pipe, and the other process receives and prints those messages.\n",
    "\n",
    "# The sender function takes two arguments: conn (a connection object) and msg (a list of messages). \n",
    "# It sends each message from the msg list through the conn connection using the send() method.\n",
    "# After sending all messages, it closes the connection.\n",
    "\n",
    "# The receive function takes one argument, conn (a connection object).\n",
    "# It enters into an infinite loop, attempting to receive messages from the conn connection using the recv() method. \n",
    "# If an exception occurs (such as when the connection is closed), it breaks out of the loop.\n",
    "# Otherwise, it prints the received message.\n",
    "\n",
    "# A pipe connection is established using the multiprocessing.Pipe() method,\n",
    "# and two connection objects are returned: parent_conn and child_conn. \n",
    "# These connections will be used for communication between the parent and child processes.\n",
    "\n",
    "# Two separate processes, m1 and m2, are created. \n",
    "# m1 is responsible for sending messages using the sender function,\n",
    "# and m2 is responsible for receiving messages using the receive function.\n",
    "# Both processes are started using the start() method.\n",
    "\n",
    "# The main program waits for both processes to finish using the join() method.\n",
    "# Additionally, it closes both the child and parent connections to ensure proper cleanup.\n",
    "\n",
    "pass"
   ]
  }
 ],
 "metadata": {
  "kernelspec": {
   "display_name": "Python 3 (ipykernel)",
   "language": "python",
   "name": "python3"
  },
  "language_info": {
   "codemirror_mode": {
    "name": "ipython",
    "version": 3
   },
   "file_extension": ".py",
   "mimetype": "text/x-python",
   "name": "python",
   "nbconvert_exporter": "python",
   "pygments_lexer": "ipython3",
   "version": "3.10.8"
  }
 },
 "nbformat": 4,
 "nbformat_minor": 5
}
