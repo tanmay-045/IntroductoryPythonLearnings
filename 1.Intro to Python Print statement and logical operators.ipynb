{
 "cells": [
  {
   "cell_type": "markdown",
   "id": "55549c64-79f8-4b52-b5ea-77f8628659fb",
   "metadata": {},
   "source": [
    "## Python Print formats"
   ]
  },
  {
   "cell_type": "code",
   "execution_count": 18,
   "id": "07a72eb2-bd6b-4b5e-8ee8-7f534c478537",
   "metadata": {},
   "outputs": [
    {
     "name": "stdout",
     "output_type": "stream",
     "text": [
      "My name is Popeye and i have complted my gradution in Bachelors in Mathematics. I am 22 years old.\n"
     ]
    }
   ],
   "source": [
    "name='Popeye'\n",
    "age=22\n",
    "grad='Bachelors in Mathematics'\n",
    "print(\"My name is {} and i have complted my gradution in {}. I am {} years old.\".format(name,grad,age))"
   ]
  },
  {
   "cell_type": "code",
   "execution_count": 2,
   "id": "8fc0b209-20df-4361-b430-13d6f6cd0af4",
   "metadata": {},
   "outputs": [
    {
     "name": "stdin",
     "output_type": "stream",
     "text": [
      "Input the product price 3400\n"
     ]
    },
    {
     "name": "stdout",
     "output_type": "stream",
     "text": [
      "product price after 20% discount : 2720.0\n"
     ]
    }
   ],
   "source": [
    "#Another Example\n",
    "price=int(input(\"Input the product price\"))\n",
    "if price>=1000:\n",
    "    dis=price-(0.20*price)\n",
    "    print(\"product price after 20% discount :\",dis)\n",
    "elif price<=1000:\n",
    "    dis=price-(0.30*price)\n",
    "    print(\"product price after 30% discount :\",dis)"
   ]
  },
  {
   "cell_type": "code",
   "execution_count": 3,
   "id": "158e64c8-f73b-462b-8ff9-a37d23d2fe71",
   "metadata": {},
   "outputs": [
    {
     "name": "stdin",
     "output_type": "stream",
     "text": [
      "Enter product price 3400\n"
     ]
    },
    {
     "name": "stdout",
     "output_type": "stream",
     "text": [
      "price of product after 20% dis is 2720.0\n"
     ]
    }
   ],
   "source": [
    "# Aliter for above example for how we can use operations in print statement itself.\n",
    "\n",
    "product_price=int(input(\"Enter product price\"))\n",
    "if product_price>1000:\n",
    "    print(\"price of product after 20% dis is {}\".format(product_price*0.80))\n",
    "else:\n",
    "    print(\"price of product after 30% is {}\".format(product_price*0.70))"
   ]
  },
  {
   "cell_type": "code",
   "execution_count": 4,
   "id": "7b74b9cd-5238-4b0c-8185-5c5e44597cb4",
   "metadata": {},
   "outputs": [
    {
     "name": "stdin",
     "output_type": "stream",
     "text": [
      "Enter product price 3400\n"
     ]
    },
    {
     "name": "stdout",
     "output_type": "stream",
     "text": [
      "price of product after 20% dis is 2720.0\n"
     ]
    }
   ],
   "source": [
    "# Anothe format of print statement.\n",
    "product_price=int(input(\"Enter product price\"))\n",
    "if product_price>1000:\n",
    "    print(f\"price of product after 20% dis is {product_price*0.80}\")\n",
    "else:\n",
    "    print(f\"price of product after 30% is {product_price*0.70}\")"
   ]
  },
  {
   "cell_type": "markdown",
   "id": "cf950a4c-86d6-43b3-bfe1-25dabcfe89ad",
   "metadata": {},
   "source": [
    "## Logical Operators 'Not', 'And', and 'Or'"
   ]
  },
  {
   "cell_type": "code",
   "execution_count": 18,
   "id": "0d4ff709-9cd7-4812-955b-aec02582d784",
   "metadata": {},
   "outputs": [
    {
     "name": "stdout",
     "output_type": "stream",
     "text": [
      "Boolean of negative number is True\n",
      "Boolean of positve number is True\n",
      "negation of -2 is False and negation of 5 is False\n"
     ]
    }
   ],
   "source": [
    "#notice the role of '\\' in third print statement\n",
    "nega_int=-2\n",
    "posi_int=5\n",
    "print(f'Boolean of negative number is {bool(nega_int)}')\n",
    "print(f'Boolean of positve number is {bool(posi_int)}')\n",
    "print( f\"negation of {nega_int} is {not nega_int} \\\n",
    "and negation of {posi_int} is {not posi_int}\")"
   ]
  },
  {
   "cell_type": "markdown",
   "id": "f97f594a-5856-4fdd-9ce3-8918a1676d97",
   "metadata": {},
   "source": [
    "### Here are some examples based on boolean values and logical operaters and combinations."
   ]
  },
  {
   "cell_type": "code",
   "execution_count": 25,
   "id": "6f9c3e6b-0b36-43d4-807d-4c51f23a27d3",
   "metadata": {},
   "outputs": [
    {
     "name": "stdout",
     "output_type": "stream",
     "text": [
      "False\n",
      "True\n"
     ]
    }
   ],
   "source": [
    "print(not True)\n",
    "print(not False)"
   ]
  },
  {
   "cell_type": "code",
   "execution_count": 28,
   "id": "c31e7a60-f173-4a8f-8e86-b01bfd84ff2a",
   "metadata": {},
   "outputs": [
    {
     "name": "stdout",
     "output_type": "stream",
     "text": [
      "False\n",
      "True\n"
     ]
    }
   ],
   "source": [
    "print(not bool(1))\n",
    "print(not bool(0))"
   ]
  },
  {
   "cell_type": "code",
   "execution_count": 29,
   "id": "7a3fef7c-4d4d-4596-8a06-0426c81f6a16",
   "metadata": {},
   "outputs": [
    {
     "data": {
      "text/plain": [
       "False"
      ]
     },
     "execution_count": 29,
     "metadata": {},
     "output_type": "execute_result"
    }
   ],
   "source": [
    "True and False"
   ]
  },
  {
   "cell_type": "code",
   "execution_count": 30,
   "id": "eae26be3-da23-45bc-8ee8-0a6ae08676f6",
   "metadata": {},
   "outputs": [
    {
     "data": {
      "text/plain": [
       "True"
      ]
     },
     "execution_count": 30,
     "metadata": {},
     "output_type": "execute_result"
    }
   ],
   "source": [
    "True or False"
   ]
  },
  {
   "cell_type": "code",
   "execution_count": 31,
   "id": "5f422e1b-c204-43e4-81ec-dec03d87af05",
   "metadata": {},
   "outputs": [
    {
     "data": {
      "text/plain": [
       "1"
      ]
     },
     "execution_count": 31,
     "metadata": {},
     "output_type": "execute_result"
    }
   ],
   "source": [
    "True + False"
   ]
  },
  {
   "cell_type": "code",
   "execution_count": 32,
   "id": "42e77864-b35d-455f-8f82-693b4685d132",
   "metadata": {},
   "outputs": [
    {
     "data": {
      "text/plain": [
       "0"
      ]
     },
     "execution_count": 32,
     "metadata": {},
     "output_type": "execute_result"
    }
   ],
   "source": [
    "True * False"
   ]
  },
  {
   "cell_type": "code",
   "execution_count": 33,
   "id": "022b304e-9619-4b24-ab8e-2ad6631d46da",
   "metadata": {},
   "outputs": [
    {
     "data": {
      "text/plain": [
       "0"
      ]
     },
     "execution_count": 33,
     "metadata": {},
     "output_type": "execute_result"
    }
   ],
   "source": [
    "False * True"
   ]
  },
  {
   "cell_type": "code",
   "execution_count": 35,
   "id": "0d3d2893-af0a-4914-8b8f-2fb0fde7a72c",
   "metadata": {},
   "outputs": [
    {
     "data": {
      "text/plain": [
       "False"
      ]
     },
     "execution_count": 35,
     "metadata": {},
     "output_type": "execute_result"
    }
   ],
   "source": [
    "not True * True"
   ]
  },
  {
   "cell_type": "code",
   "execution_count": 37,
   "id": "2f332e31-6d68-4dcf-b6fb-001deb38e452",
   "metadata": {},
   "outputs": [
    {
     "data": {
      "text/plain": [
       "0"
      ]
     },
     "execution_count": 37,
     "metadata": {},
     "output_type": "execute_result"
    }
   ],
   "source": [
    "int(not True) * int(bool(False))"
   ]
  },
  {
   "cell_type": "code",
   "execution_count": 38,
   "id": "809f9cba-7572-48c3-9aaf-c802d02c6abe",
   "metadata": {},
   "outputs": [
    {
     "data": {
      "text/plain": [
       "0"
      ]
     },
     "execution_count": 38,
     "metadata": {},
     "output_type": "execute_result"
    }
   ],
   "source": [
    "int(not True) * int(bool(True))"
   ]
  },
  {
   "cell_type": "code",
   "execution_count": 39,
   "id": "1a17461f-b444-42a6-be81-7bc256a63ca6",
   "metadata": {},
   "outputs": [
    {
     "data": {
      "text/plain": [
       "1"
      ]
     },
     "execution_count": 39,
     "metadata": {},
     "output_type": "execute_result"
    }
   ],
   "source": [
    "int(not False) * int(bool(True))"
   ]
  },
  {
   "cell_type": "code",
   "execution_count": 41,
   "id": "f96e4d37-b83b-4a8b-9a01-4e0f4ab9f22d",
   "metadata": {},
   "outputs": [
    {
     "data": {
      "text/plain": [
       "True"
      ]
     },
     "execution_count": 41,
     "metadata": {},
     "output_type": "execute_result"
    }
   ],
   "source": [
    "not False * True"
   ]
  },
  {
   "cell_type": "code",
   "execution_count": 51,
   "id": "4d120528-f448-4d6b-9a48-b8ef2cedf299",
   "metadata": {},
   "outputs": [
    {
     "data": {
      "text/plain": [
       "True"
      ]
     },
     "execution_count": 51,
     "metadata": {},
     "output_type": "execute_result"
    }
   ],
   "source": [
    "not False * False"
   ]
  },
  {
   "cell_type": "code",
   "execution_count": 50,
   "id": "f5888316-9849-45fd-bdb7-d19de5eb3997",
   "metadata": {},
   "outputs": [
    {
     "data": {
      "text/plain": [
       "0"
      ]
     },
     "execution_count": 50,
     "metadata": {},
     "output_type": "execute_result"
    }
   ],
   "source": [
    "# understand precedence of operators here \n",
    "# here first it takes not of false then operate it with false for *\n",
    "(not False) * False"
   ]
  },
  {
   "cell_type": "code",
   "execution_count": 48,
   "id": "26a2ba00-0f38-4cd8-b32d-792aa8961e3b",
   "metadata": {},
   "outputs": [
    {
     "data": {
      "text/plain": [
       "True"
      ]
     },
     "execution_count": 48,
     "metadata": {},
     "output_type": "execute_result"
    }
   ],
   "source": [
    "not False * True == True"
   ]
  },
  {
   "cell_type": "code",
   "execution_count": 52,
   "id": "4c002e50-fa97-4a47-b17e-d23fc6901dd6",
   "metadata": {},
   "outputs": [
    {
     "name": "stdout",
     "output_type": "stream",
     "text": [
      "True\n"
     ]
    }
   ],
   "source": [
    "print( not False * False)"
   ]
  },
  {
   "cell_type": "code",
   "execution_count": 14,
   "id": "8b59538a-9429-4837-afe2-f16753b994de",
   "metadata": {},
   "outputs": [],
   "source": [
    "list1=[1,2,3,4]\n",
    "list2=[5,6,7,8]"
   ]
  },
  {
   "cell_type": "code",
   "execution_count": 57,
   "id": "ac8a2c42-1cac-492c-b4d7-b9587e071931",
   "metadata": {},
   "outputs": [
    {
     "data": {
      "text/plain": [
       "140659975812928"
      ]
     },
     "execution_count": 57,
     "metadata": {},
     "output_type": "execute_result"
    }
   ],
   "source": [
    "id(list1)"
   ]
  },
  {
   "cell_type": "code",
   "execution_count": 58,
   "id": "e56d1f2a-6790-436e-b2a0-cffc293de2d0",
   "metadata": {},
   "outputs": [
    {
     "data": {
      "text/plain": [
       "140660583189888"
      ]
     },
     "execution_count": 58,
     "metadata": {},
     "output_type": "execute_result"
    }
   ],
   "source": [
    "id(list1)\n",
    "id(list2)"
   ]
  },
  {
   "cell_type": "code",
   "execution_count": 59,
   "id": "d25d226e-15d9-4168-a8b4-8786ab53d4e2",
   "metadata": {},
   "outputs": [
    {
     "name": "stdout",
     "output_type": "stream",
     "text": [
      "140659975812928\n",
      "140660583189888\n"
     ]
    }
   ],
   "source": [
    "print(id(list1))\n",
    "print(id(list2))"
   ]
  },
  {
   "cell_type": "code",
   "execution_count": 16,
   "id": "c91c19d8-69e0-4a95-9ebb-23c39e035590",
   "metadata": {},
   "outputs": [],
   "source": [
    "list2=list1"
   ]
  },
  {
   "cell_type": "code",
   "execution_count": 65,
   "id": "3c828aed-b223-4035-8c4d-8d6c2ac19d35",
   "metadata": {},
   "outputs": [
    {
     "name": "stdout",
     "output_type": "stream",
     "text": [
      "140660583189888\n",
      "140660583189888\n"
     ]
    }
   ],
   "source": [
    "print(id(list1))\n",
    "print(id(list2))"
   ]
  },
  {
   "cell_type": "code",
   "execution_count": 66,
   "id": "ff3248c2-f5fb-4093-a5bd-108afd7ac474",
   "metadata": {},
   "outputs": [
    {
     "data": {
      "text/plain": [
       "True"
      ]
     },
     "execution_count": 66,
     "metadata": {},
     "output_type": "execute_result"
    }
   ],
   "source": [
    "list1 is list2"
   ]
  },
  {
   "cell_type": "code",
   "execution_count": 67,
   "id": "378b593a-06e6-4d5f-ad1f-39b49ec258c2",
   "metadata": {},
   "outputs": [
    {
     "data": {
      "text/plain": [
       "False"
      ]
     },
     "execution_count": 67,
     "metadata": {},
     "output_type": "execute_result"
    }
   ],
   "source": [
    "list1 is not list2"
   ]
  },
  {
   "cell_type": "code",
   "execution_count": 17,
   "id": "390d1efb-23d3-4e23-a656-cf979c8b4d19",
   "metadata": {},
   "outputs": [
    {
     "data": {
      "text/plain": [
       "True"
      ]
     },
     "execution_count": 17,
     "metadata": {},
     "output_type": "execute_result"
    }
   ],
   "source": [
    "list1==list2"
   ]
  },
  {
   "cell_type": "code",
   "execution_count": 19,
   "id": "86c57f14-bded-4c71-9d19-5b2ae2097572",
   "metadata": {},
   "outputs": [],
   "source": [
    "new=[1,2,3,4]"
   ]
  },
  {
   "cell_type": "code",
   "execution_count": 20,
   "id": "e80a42b9-ea9c-47ef-9c70-7b1a5673580a",
   "metadata": {},
   "outputs": [
    {
     "name": "stdout",
     "output_type": "stream",
     "text": [
      "140013075427520\n",
      "140013070229888\n"
     ]
    }
   ],
   "source": [
    "print(id(list1))\n",
    "print(id(new))"
   ]
  },
  {
   "cell_type": "code",
   "execution_count": 21,
   "id": "3400f581-f00a-4230-8a84-59edf664d9d6",
   "metadata": {},
   "outputs": [
    {
     "data": {
      "text/plain": [
       "True"
      ]
     },
     "execution_count": 21,
     "metadata": {},
     "output_type": "execute_result"
    }
   ],
   "source": [
    "new==list1"
   ]
  },
  {
   "cell_type": "markdown",
   "id": "b64f4a2c-495d-4d5a-93e4-4b3f6fb146ce",
   "metadata": {},
   "source": [
    "## Operations \n",
    "#### '<' Less than \n",
    "#### '<=' less than equal to\n",
    "#### '>' Greater than \n",
    "#### '>=' Greater than equal to"
   ]
  },
  {
   "cell_type": "code",
   "execution_count": 4,
   "id": "fb14640c-39f3-4643-bf94-6532dfbcd1d8",
   "metadata": {},
   "outputs": [
    {
     "name": "stdout",
     "output_type": "stream",
     "text": [
      "Man is lighter than Bear : True\n",
      "Man is heavier than Bear : False\n"
     ]
    }
   ],
   "source": [
    "weight_of_man=70\n",
    "weight_of_bear=220\n",
    "print(f'Man is lighter than Bear : {weight_of_man<weight_of_bear}')\n",
    "print(f'Man is heavier than Bear : {weight_of_man>weight_of_bear}')"
   ]
  },
  {
   "cell_type": "markdown",
   "id": "e3002866-da7e-434a-8401-d75852e1aae1",
   "metadata": {},
   "source": [
    "### Arithemetic Operations"
   ]
  },
  {
   "cell_type": "code",
   "execution_count": 21,
   "id": "d81c7759-9ec8-4115-b210-817c0089931c",
   "metadata": {},
   "outputs": [
    {
     "name": "stdout",
     "output_type": "stream",
     "text": [
      "number1 = 50 \n",
      "number2 = 3\n",
      "\n",
      "Sum of two numbers = 53\n",
      "Difference of two numbers = 47\n",
      "Multiplication of two numbers = 150\n",
      "Division of two numbers = 16.666666666666668\n",
      "Integer division of two numbers = 16\n",
      "num1 modulo num2 = 2\n",
      "num1 raised to the power num2 = 125000\n"
     ]
    }
   ],
   "source": [
    "num1=50\n",
    "num2=3\n",
    "print('number1 = {} \\nnumber2 = {}\\n'.format(num1,num2))\n",
    "print(f'Sum of two numbers = {num1+num2}')\n",
    "print(f'Difference of two numbers = {num1-num2}')\n",
    "print(f'Multiplication of two numbers = {num1*num2}')\n",
    "print(f'Division of two numbers = {num1/num2}')\n",
    "print(f'Integer division of two numbers = {num1//num2}')\n",
    "print(f'num1 modulo num2 = {num1%num2}')\n",
    "print(f'num1 raised to the power num2 = {num1**num2}')"
   ]
  },
  {
   "cell_type": "markdown",
   "id": "9c7f7fba-01ed-462e-902e-92630db85902",
   "metadata": {},
   "source": [
    "## Bitwise Operators\n",
    "\n",
    "### '∼'\tbitwise complement (prefix unary operator)\n",
    "### &\tbitwise and\n",
    "### |\tbitwise or\n",
    "### ^\tbitwise exclusive-or\n",
    "### <<\tshift bits left, filling in with zeros\n",
    "### >>\tshift bits right, filling in with sign bit"
   ]
  },
  {
   "cell_type": "code",
   "execution_count": null,
   "id": "c31af87d-b3fc-4027-b21a-77ea78eba170",
   "metadata": {},
   "outputs": [],
   "source": []
  }
 ],
 "metadata": {
  "kernelspec": {
   "display_name": "Python 3 (ipykernel)",
   "language": "python",
   "name": "python3"
  },
  "language_info": {
   "codemirror_mode": {
    "name": "ipython",
    "version": 3
   },
   "file_extension": ".py",
   "mimetype": "text/x-python",
   "name": "python",
   "nbconvert_exporter": "python",
   "pygments_lexer": "ipython3",
   "version": "3.10.8"
  }
 },
 "nbformat": 4,
 "nbformat_minor": 5
}
