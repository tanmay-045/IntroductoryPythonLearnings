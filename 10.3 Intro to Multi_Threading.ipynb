{
 "cells": [
  {
   "cell_type": "markdown",
   "id": "df90fc21-e692-4d5a-be2f-674974d21383",
   "metadata": {},
   "source": [
    "## Multi Threading"
   ]
  },
  {
   "cell_type": "markdown",
   "id": "0e7a79e8-46cf-408c-b9d9-e802533e1c14",
   "metadata": {},
   "source": [
    "### What is Multithreading?\n",
    "### Multithreading is a technique in programming that allows a program to perform multiple tasks simultaneously, making the most of modern multi-core processors. It's like having multiple workers (threads) in your program, each doing a different job.\n",
    "\n",
    "### Why Use Multithreading?\n",
    "### In Python, it's especially useful for tasks that can be split into smaller, independent parts that can run concurrently. For example, you might use multithreading for:\n",
    "\n",
    "### 1.Downloading multiple files simultaneously.\n",
    "### 2.Processing data in the background while keeping the main program responsive.\n",
    "### 3.Running tasks concurrently in a web server to handle multiple client requests.\n",
    "\n",
    "### Some useful notes:-\n",
    "### >Threads share the same memory space, so be cautious of data synchronization issues.\n",
    "### >Python's Global Interpreter Lock (GIL) can limit the actual parallelism, particularly in CPU-bound tasks.\n",
    "### >For I/O-bound tasks (e.g., reading/writing files, making network requests), multithreading can provide significant benefits."
   ]
  },
  {
   "cell_type": "code",
   "execution_count": 3,
   "id": "cdd66711-a061-4e02-8eb1-cfd845d9a000",
   "metadata": {},
   "outputs": [],
   "source": [
    "def test(id):\n",
    "    print(\"The test id is : {}\".format(id))"
   ]
  },
  {
   "cell_type": "code",
   "execution_count": 4,
   "id": "c27b952a-c522-498c-ab4d-69e009c89531",
   "metadata": {
    "collapsed": true,
    "jupyter": {
     "outputs_hidden": true
    },
    "tags": []
   },
   "outputs": [
    {
     "name": "stdout",
     "output_type": "stream",
     "text": [
      "The test id is : 10010456\n"
     ]
    }
   ],
   "source": [
    "test(10010456)"
   ]
  },
  {
   "cell_type": "code",
   "execution_count": 5,
   "id": "bd098096-da2d-4e20-8d01-3f0a4994c459",
   "metadata": {},
   "outputs": [
    {
     "name": "stdout",
     "output_type": "stream",
     "text": [
      "The test id is : 10010397\n"
     ]
    }
   ],
   "source": [
    "test(10010397)"
   ]
  },
  {
   "cell_type": "code",
   "execution_count": 6,
   "id": "e5cccdc6-43c4-4a94-96e9-50a1c196fe4a",
   "metadata": {},
   "outputs": [
    {
     "name": "stdout",
     "output_type": "stream",
     "text": [
      "The test id is : 10010491\n"
     ]
    }
   ],
   "source": [
    "test(10010491)"
   ]
  },
  {
   "cell_type": "code",
   "execution_count": 12,
   "id": "21645e5b-40ac-49c4-b606-8cc6046955cc",
   "metadata": {},
   "outputs": [],
   "source": [
    "# suppose we want to execute above 3 statements simultaneouly then\n",
    "import threading"
   ]
  },
  {
   "cell_type": "code",
   "execution_count": 8,
   "id": "59ad6f75-218b-4150-8367-0f4fbb12c25d",
   "metadata": {},
   "outputs": [],
   "source": [
    "thread= [threading.Thread(target=test, args=(i,)) for i in [10010456,10010397,10010491]]"
   ]
  },
  {
   "cell_type": "code",
   "execution_count": 9,
   "id": "ae0afdeb-db49-4da9-b0b4-90e3d25bed6e",
   "metadata": {},
   "outputs": [
    {
     "data": {
      "text/plain": [
       "[<Thread(Thread-5 (test), initial)>,\n",
       " <Thread(Thread-6 (test), initial)>,\n",
       " <Thread(Thread-7 (test), initial)>]"
      ]
     },
     "execution_count": 9,
     "metadata": {},
     "output_type": "execute_result"
    }
   ],
   "source": [
    "thread"
   ]
  },
  {
   "cell_type": "code",
   "execution_count": 10,
   "id": "deeae553-4ae9-4f4e-a632-61b5a01f5d66",
   "metadata": {},
   "outputs": [
    {
     "name": "stdout",
     "output_type": "stream",
     "text": [
      "The test id is : 10010456\n",
      "The test id is : 10010397\n",
      "The test id is : 10010491\n"
     ]
    }
   ],
   "source": [
    "for t in thread:\n",
    "    t.start()"
   ]
  },
  {
   "cell_type": "code",
   "execution_count": 1,
   "id": "a48b3297-70cc-4917-805e-451eff6d5bde",
   "metadata": {},
   "outputs": [],
   "source": [
    "# how to download data from files simultaneously\n",
    "pass"
   ]
  },
  {
   "cell_type": "code",
   "execution_count": 1,
   "id": "c38db83c-4759-41ca-929a-aa01f51fa23a",
   "metadata": {},
   "outputs": [],
   "source": [
    "import urllib.request"
   ]
  },
  {
   "cell_type": "code",
   "execution_count": 2,
   "id": "8c354ff8-1c7e-4d4e-ad5d-21fd68ca5c55",
   "metadata": {},
   "outputs": [],
   "source": [
    "def file_download(url,filename):\n",
    "    urllib.request.urlretrieve(url,filename)    "
   ]
  },
  {
   "cell_type": "code",
   "execution_count": 6,
   "id": "30f89d7e-c147-42cd-9694-bf17f7d1741a",
   "metadata": {
    "jupyter": {
     "source_hidden": true
    },
    "tags": []
   },
   "outputs": [],
   "source": [
    "file_download(\"https://raw.githubusercontent.com/itsfoss/text-files/master/agatha.txt\",\"MathMovies.txt\")"
   ]
  },
  {
   "cell_type": "code",
   "execution_count": 7,
   "id": "c61705e9-e868-4239-a211-f2af640be6c7",
   "metadata": {},
   "outputs": [],
   "source": [
    "url_list = ['https://raw.githubusercontent.com/itsfoss/text-files/master/agatha.txt' , 'https://raw.githubusercontent.com/itsfoss/text-files/master/sherlock.txt' ,'https://raw.githubusercontent.com/itsfoss/text-files/master/sample_log_file.txt' ]"
   ]
  },
  {
   "cell_type": "code",
   "execution_count": 8,
   "id": "27d95f3c-d951-4e62-97b8-6bee44e88d7d",
   "metadata": {},
   "outputs": [
    {
     "data": {
      "text/plain": [
       "['https://raw.githubusercontent.com/itsfoss/text-files/master/agatha.txt',\n",
       " 'https://raw.githubusercontent.com/itsfoss/text-files/master/sherlock.txt',\n",
       " 'https://raw.githubusercontent.com/itsfoss/text-files/master/sample_log_file.txt']"
      ]
     },
     "execution_count": 8,
     "metadata": {},
     "output_type": "execute_result"
    }
   ],
   "source": [
    "url_list"
   ]
  },
  {
   "cell_type": "code",
   "execution_count": 9,
   "id": "5589ab36-8a76-41d3-a474-ec4131083fba",
   "metadata": {},
   "outputs": [],
   "source": [
    "files_list=[\"new_file_01.txt\",\"new_file_02.txt\",\"new_file_03.txt\"]"
   ]
  },
  {
   "cell_type": "code",
   "execution_count": 10,
   "id": "159d40a6-b6da-49cb-9e12-be01185ef880",
   "metadata": {},
   "outputs": [
    {
     "data": {
      "text/plain": [
       "['new_file_01.txt', 'new_file_02.txt', 'new_file_03.txt']"
      ]
     },
     "execution_count": 10,
     "metadata": {},
     "output_type": "execute_result"
    }
   ],
   "source": [
    "files_list"
   ]
  },
  {
   "cell_type": "code",
   "execution_count": 13,
   "id": "bdf5e617-ddaf-4d10-8b48-426d3357035c",
   "metadata": {},
   "outputs": [],
   "source": [
    "f_thread = [threading.Thread(target=file_download, args=(url_list[i],files_list[i])) for i in range(len(url_list)) ]"
   ]
  },
  {
   "cell_type": "code",
   "execution_count": 14,
   "id": "4738c492-4d88-4602-83a1-01ac61a7bcbc",
   "metadata": {},
   "outputs": [
    {
     "data": {
      "text/plain": [
       "[<Thread(Thread-5 (file_download), initial)>,\n",
       " <Thread(Thread-6 (file_download), initial)>,\n",
       " <Thread(Thread-7 (file_download), initial)>]"
      ]
     },
     "execution_count": 14,
     "metadata": {},
     "output_type": "execute_result"
    }
   ],
   "source": [
    "f_thread"
   ]
  },
  {
   "cell_type": "code",
   "execution_count": 15,
   "id": "2e1ebac6-bcb6-450b-81e3-3227998cda6e",
   "metadata": {},
   "outputs": [],
   "source": [
    "for t in f_thread:\n",
    "    t.start()"
   ]
  },
  {
   "cell_type": "code",
   "execution_count": 17,
   "id": "805cf809-55e7-4dad-b6b0-88cb11888fb4",
   "metadata": {},
   "outputs": [],
   "source": [
    "# In this way, I have optimized my code, instead of calling the function \"file_download()\" again ann again\n",
    "# I have just simply used threading and called the function  3 times simultaneously within single core\n",
    "# (can be called n times)\n",
    "pass"
   ]
  },
  {
   "cell_type": "code",
   "execution_count": 40,
   "id": "fe05ee8a-2fcd-408a-bca9-7b4589a5016c",
   "metadata": {},
   "outputs": [],
   "source": [
    "import time"
   ]
  },
  {
   "cell_type": "code",
   "execution_count": 57,
   "id": "6f992f7c-fbb5-44dd-acd7-95482f502c3a",
   "metadata": {},
   "outputs": [],
   "source": [
    "def trial(x):\n",
    "    for i in range(6):\n",
    "        print(\"Printing the value %d for the value of i= %d\"%(x,i))\n",
    "        time.sleep(1)"
   ]
  },
  {
   "cell_type": "code",
   "execution_count": 62,
   "id": "55d2933a-afae-4ed4-9090-be403303172f",
   "metadata": {},
   "outputs": [],
   "source": [
    "t_thread = [threading.Thread(target=trial, args=(i,)) for i in [2021,2022,2023]]"
   ]
  },
  {
   "cell_type": "code",
   "execution_count": 63,
   "id": "044a6ce4-bc7b-4c90-8b27-cd4c05fe9271",
   "metadata": {},
   "outputs": [
    {
     "data": {
      "text/plain": [
       "[<Thread(Thread-29 (trial), initial)>,\n",
       " <Thread(Thread-30 (trial), initial)>,\n",
       " <Thread(Thread-31 (trial), initial)>]"
      ]
     },
     "execution_count": 63,
     "metadata": {},
     "output_type": "execute_result"
    }
   ],
   "source": [
    "t_thread"
   ]
  },
  {
   "cell_type": "code",
   "execution_count": 64,
   "id": "c368e0a9-3c6c-4252-babd-eecad2071bef",
   "metadata": {},
   "outputs": [
    {
     "name": "stdout",
     "output_type": "stream",
     "text": [
      "Printing the value 2021 for the value of i= 0\n",
      "Printing the value 2022 for the value of i= 0\n",
      "Printing the value 2023 for the value of i= 0\n",
      "Printing the value 2021 for the value of i= 1Printing the value 2022 for the value of i= 1\n",
      "\n",
      "Printing the value 2023 for the value of i= 1\n",
      "Printing the value 2022 for the value of i= 2\n",
      "Printing the value 2021 for the value of i= 2\n",
      "Printing the value 2023 for the value of i= 2\n",
      "Printing the value 2022 for the value of i= 3Printing the value 2021 for the value of i= 3\n",
      "\n",
      "Printing the value 2023 for the value of i= 3\n",
      "Printing the value 2021 for the value of i= 4Printing the value 2023 for the value of i= 4\n",
      "Printing the value 2022 for the value of i= 4\n",
      "\n",
      "Printing the value 2023 for the value of i= 5Printing the value 2022 for the value of i= 5\n",
      "Printing the value 2021 for the value of i= 5\n",
      "\n"
     ]
    }
   ],
   "source": [
    "for t in t_thread:\n",
    "    t.start()"
   ]
  },
  {
   "cell_type": "code",
   "execution_count": 38,
   "id": "8f886cf4-7360-48a3-b1bc-52100d84f3fb",
   "metadata": {},
   "outputs": [],
   "source": [
    "# observe the role of time.sleep(1),\n",
    "# while it is sleeping for 1 second, due to threading, it starts executing the same program for other values \n",
    "# that is for 2022 and 2023 \n",
    "# which is possiblly means it have started to execute the same program simultaneously for all 3 values \n",
    "# and that too in a single core \n",
    "# if you remove time.sleep(1), it will first complete for the value of 2021 then 2022 then 2023\n",
    "pass"
   ]
  },
  {
   "cell_type": "code",
   "execution_count": 65,
   "id": "151e2537-77ad-409b-bb0d-fb2a14ba053c",
   "metadata": {},
   "outputs": [
    {
     "name": "stdout",
     "output_type": "stream",
     "text": [
      "For the value of x= 1 , the value of shared variable = 2\n",
      "For the value of x= 2 , the value of shared variable = 4\n",
      "For the value of x= 3 , the value of shared variable = 6\n",
      "For the value of x= 4 , the value of shared variable = 8\n",
      "For the value of x= 5 , the value of shared variable = 10\n"
     ]
    }
   ],
   "source": [
    "shared_var=0\n",
    "lock_var=threading.Lock()\n",
    "def test5(x):\n",
    "    global shared_var\n",
    "    with lock_var:\n",
    "        shared_var=shared_var+2\n",
    "        print(\"For the value of x= %d , the value of shared variable = %d\"%(x,shared_var))\n",
    "        time.sleep(1)\n",
    "\n",
    "new_thread=[threading.Thread(target=test5, args=(i,)) for i in [1,2,3,4,5]]\n",
    "\n",
    "for t in new_thread:\n",
    "    t.start()"
   ]
  },
  {
   "cell_type": "code",
   "execution_count": 67,
   "id": "583646b8-f488-4b9e-a111-538c153cb433",
   "metadata": {},
   "outputs": [],
   "source": [
    "# shared_var = 0: This line initializes a global variable shared_var to 0. \n",
    "# shared_var is a variable that will be accessed and modified by multiple threads concurrently.\n",
    "\n",
    "# lock_var = threading.Lock(): Here, a threading.Lock() object named lock_var is created. \n",
    "# Locks are used to ensure that only one thread can access a shared resource (in this case, shared_var) at a time. \n",
    "# It provides a mechanism for mutual exclusion.\n",
    "\n",
    "# def trial(x):: This line defines a function named trial that takes one argument x.\n",
    "\n",
    "# global shared_var: Inside the trial function, shared_var is declared as a global variable. \n",
    "# This allows the function to modify the global shared_var variable.\n",
    "\n",
    "# with lock_var:: \n",
    "# This is a context manager that acquires the lock lock_var. \n",
    "# When a thread enters this block, it acquires the lock, ensuring that only one thread at a time can execute the code within this block.\n",
    "# This is important for ensuring that shared_var is accessed in a thread-safe manner.\n",
    "\n",
    "# shared_var = shared_var + 2: \n",
    "# Inside the locked block, the shared_var is incremented by 2. \n",
    "# Since the code is within the lock, only one thread can execute this line at a time, \n",
    "# preventing concurrent access and potential data corruption.\n",
    "\n",
    "#  print(\"For the value of x= %d , the value of shared variable = %d\"%(x,shared_var))\n",
    "# This line prints the values of x and shared_var to the console. It shows the current values of these variables.\n",
    "\n",
    "# time.sleep(1): This line introduces a 1-second delay in the thread's execution to simulate some work being done. \n",
    "# This is just for demonstration purposes.\n",
    "\n",
    "# new_thread = [threading.Thread(target=test4, args=(i,)) for i in [1, 2, 3, 4, 5]]: \n",
    "# This line creates a list of thread objects (threading.Thread) where each thread \n",
    "# will execute the test4 function with different values of i as an argument. \n",
    "# This will result in multiple threads concurrently modifying shared_var.\n",
    "\n",
    "# for t in new_thread:: This starts a loop to iterate through the list of thread objects.\n",
    "\n",
    "# t.start(): This line starts each thread, causing them to execute the test4 function concurrently with different values of i.\n",
    "pass"
   ]
  },
  {
   "cell_type": "code",
   "execution_count": 68,
   "id": "58587324-a5bb-4f4b-8201-550eb01e7dc0",
   "metadata": {},
   "outputs": [],
   "source": [
    "# genral use of 'with' \n",
    "\n",
    "# The general use of the with statement in Python is for resource management,\n",
    "# ensuring that resources are acquired and released properly without the need for explicit cleanup or error handling.\n",
    "\n",
    "#  It is commonly used for:\n",
    "# >File Handling: Opening and automatically closing files.\n",
    "# >Database Connections: Connecting to a database and ensuring the connection is closed correctly.\n",
    "# >Locks and Thread Synchronization: Ensuring that locks are acquired and released correctly to prevent race conditions.\n",
    "\n",
    "pass"
   ]
  },
  {
   "cell_type": "code",
   "execution_count": null,
   "id": "452767fc-ae67-47fb-aa58-62fc4b3d69e0",
   "metadata": {},
   "outputs": [],
   "source": []
  }
 ],
 "metadata": {
  "kernelspec": {
   "display_name": "Python 3 (ipykernel)",
   "language": "python",
   "name": "python3"
  },
  "language_info": {
   "codemirror_mode": {
    "name": "ipython",
    "version": 3
   },
   "file_extension": ".py",
   "mimetype": "text/x-python",
   "name": "python",
   "nbconvert_exporter": "python",
   "pygments_lexer": "ipython3",
   "version": "3.10.8"
  }
 },
 "nbformat": 4,
 "nbformat_minor": 5
}
