{
 "cells": [
  {
   "cell_type": "markdown",
   "id": "5170d76c-3c30-45fc-ba25-e0be01ac5723",
   "metadata": {},
   "source": [
    "## OBJECT ORIENTED PROGRAMMING SYSTEM (OOPs)\n",
    "\n",
    "### OOPs is a system that uses 'classes' and 'objects' in programming.\n",
    "### The objective of OOPs is to bind the data and functionality together as a single unit.\n",
    "### Some benefits of OOPs are:- \n",
    "### Code Reusability, Productivity, Data Redundancy, Code Flexibility, Solving problems, Security etc."
   ]
  },
  {
   "cell_type": "code",
   "execution_count": 1,
   "id": "70352d5c-a7c9-499b-a52f-ae8f90c01270",
   "metadata": {},
   "outputs": [],
   "source": [
    "# declaring a empty class\n",
    "class test:\n",
    "    pass"
   ]
  },
  {
   "cell_type": "code",
   "execution_count": 2,
   "id": "4a763903-5cfa-4d72-8c28-67bc1b4b0fb5",
   "metadata": {},
   "outputs": [],
   "source": [
    "# declaring object/instance of empty class\n",
    "obj_emp=test()"
   ]
  },
  {
   "cell_type": "code",
   "execution_count": 3,
   "id": "b4725464-cbc1-4fb3-a1cc-94eeb34e00dc",
   "metadata": {},
   "outputs": [
    {
     "name": "stdout",
     "output_type": "stream",
     "text": [
      "<class '__main__.test'>\n"
     ]
    }
   ],
   "source": [
    "print(type(obj_emp))"
   ]
  },
  {
   "cell_type": "code",
   "execution_count": 4,
   "id": "f497d51b-4ca1-4d87-bbe4-9476f00a494b",
   "metadata": {},
   "outputs": [
    {
     "name": "stdout",
     "output_type": "stream",
     "text": [
      "<class 'int'>\n"
     ]
    }
   ],
   "source": [
    "print(type(1))"
   ]
  },
  {
   "cell_type": "code",
   "execution_count": 5,
   "id": "277677f7-2668-457f-883f-afb1fa0a4da4",
   "metadata": {},
   "outputs": [
    {
     "name": "stdout",
     "output_type": "stream",
     "text": [
      "<class 'str'>\n"
     ]
    }
   ],
   "source": [
    "print(type('Hello'))"
   ]
  },
  {
   "cell_type": "code",
   "execution_count": 6,
   "id": "a2378ed3-6d67-4aab-9132-c235979433aa",
   "metadata": {},
   "outputs": [
    {
     "name": "stdout",
     "output_type": "stream",
     "text": [
      "<class 'list'>\n"
     ]
    }
   ],
   "source": [
    "# list is also an object that holds other objects\n",
    "print(type([]))"
   ]
  },
  {
   "cell_type": "code",
   "execution_count": 7,
   "id": "ddfb5bd7-bb19-4ee6-8bd2-bdc6f3094ace",
   "metadata": {},
   "outputs": [
    {
     "name": "stdout",
     "output_type": "stream",
     "text": [
      "<class 'tuple'>\n"
     ]
    }
   ],
   "source": [
    "print(type(()))"
   ]
  },
  {
   "cell_type": "code",
   "execution_count": 8,
   "id": "6f95fd04-fa3d-4203-a17d-39623877f1bc",
   "metadata": {},
   "outputs": [
    {
     "name": "stdout",
     "output_type": "stream",
     "text": [
      "<class 'dict'>\n"
     ]
    }
   ],
   "source": [
    "print(type({}))"
   ]
  },
  {
   "cell_type": "code",
   "execution_count": 9,
   "id": "1ea4ffac-bb2a-41b7-a681-59d832513378",
   "metadata": {},
   "outputs": [],
   "source": [
    "# declaring a class\n",
    "class cart:\n",
    "    def welcome():\n",
    "        print('Welcome to CarsInfo Center')"
   ]
  },
  {
   "cell_type": "code",
   "execution_count": 10,
   "id": "75027711-6064-4737-b56a-3339ecdf30df",
   "metadata": {},
   "outputs": [],
   "source": [
    "cart_obj1=cart()\n",
    "# uncommenting below statement will result in error. There comes \"self\"\n",
    "#cart_obj1.welcome()"
   ]
  },
  {
   "cell_type": "code",
   "execution_count": 11,
   "id": "1a13e493-ff3c-4040-bef6-330b8f2ec2a3",
   "metadata": {},
   "outputs": [],
   "source": [
    "class cart:\n",
    "    def welcome(self):\n",
    "        print('Welcome to CarsInfo Center')  "
   ]
  },
  {
   "cell_type": "code",
   "execution_count": 12,
   "id": "16a4113b-c2ba-428d-8162-0d26442de928",
   "metadata": {},
   "outputs": [
    {
     "name": "stdout",
     "output_type": "stream",
     "text": [
      "Welcome to CarsInfo Center\n"
     ]
    }
   ],
   "source": [
    "cart_obj2=cart()\n",
    "cart_obj2.welcome()"
   ]
  },
  {
   "cell_type": "code",
   "execution_count": 13,
   "id": "88d06be0-bcaf-43d1-869a-e94e91d71cc7",
   "metadata": {},
   "outputs": [],
   "source": [
    "# 'Self' \n",
    "# whenever we create a function inside a class, we have to give an extra arguement so that class can understand this method belongs to it.\n",
    "# it is similar to pointer in 'C'\n",
    "# remember 'self' is not a reserved keyword, we can use any other keyword (obviously besides reserved ones).\n",
    "pass"
   ]
  },
  {
   "cell_type": "code",
   "execution_count": 14,
   "id": "3e120c71-26d1-4693-bc71-3e5476c5adc9",
   "metadata": {},
   "outputs": [],
   "source": [
    "# '__init__'\n",
    "# it is similar to constructor in 'C' or it is constructor in Python.\n",
    "# it is run as soon as an object of class is instantiated.\n",
    "# it is useful when we want to do any initialization with our object.\n",
    "pass"
   ]
  },
  {
   "cell_type": "code",
   "execution_count": 15,
   "id": "5f23e8c6-6db6-4385-9e49-645f4cc169f0",
   "metadata": {},
   "outputs": [],
   "source": [
    "# example of class and objects\n",
    "class Car:\n",
    "    def __init__(self,company,name,typ,engine,price):\n",
    "        self.company_name=company\n",
    "        self.f_name=name\n",
    "        self.typee=typ\n",
    "        self.engine=engine\n",
    "        self.price=price\n",
    "        \n",
    "    def welcome(self):\n",
    "        print('Welcome to Cars&Cars InfoCentre')\n",
    "        \n",
    "    def all_details(self):\n",
    "        self.welcome()\n",
    "        print('Manufacturing Company : {}'.format(self.company_name))\n",
    "        print('Full name of Car : {}'.format(self.f_name))\n",
    "        print('Type : {}'.format(self.typee))\n",
    "        print('Engine : {}'.format(self.engine))\n",
    "        print('Price (in lakhs) : {} '.format(self.price))        "
   ]
  },
  {
   "cell_type": "code",
   "execution_count": 16,
   "id": "2080c0b8-6e9d-40d0-bab8-02e9337474ba",
   "metadata": {},
   "outputs": [],
   "source": [
    "# creating instances/objects of class 'Car'\n",
    "asta=Car('Hyundai','Hyundai i20 Asta(o)','Hatchback','Petrol','11.24')\n",
    "amaze=Car('Honda','Honda Amaze','Sedan','Petrol','8.05')\n",
    "thar=Car('Mahindra','Mahindra Thar','off road SUV','Diesel','10.54')"
   ]
  },
  {
   "cell_type": "code",
   "execution_count": 17,
   "id": "44e885f2-fafb-4c29-b387-c224122bd44a",
   "metadata": {},
   "outputs": [
    {
     "name": "stdout",
     "output_type": "stream",
     "text": [
      "Price of Honda Amaze is 8.05 lakhs\n",
      "Engine type of Thar is Diesel\n",
      "Type of Mahinda Thar is off road SUV\n"
     ]
    }
   ],
   "source": [
    "# accessing class variables\n",
    "print('Price of Honda Amaze is {} lakhs'.format(amaze.price))\n",
    "print('Engine type of Thar is {}'.format(thar.engine))\n",
    "print('Type of Mahinda Thar is {}'.format(thar.typee))"
   ]
  },
  {
   "cell_type": "code",
   "execution_count": 18,
   "id": "8b61071a-0fae-4ff6-8898-8649108ca396",
   "metadata": {},
   "outputs": [
    {
     "name": "stdout",
     "output_type": "stream",
     "text": [
      "Welcome to Cars&Cars InfoCentre\n",
      "Manufacturing Company : Mahindra\n",
      "Full name of Car : Mahindra Thar\n",
      "Type : off road SUV\n",
      "Engine : Diesel\n",
      "Price (in lakhs) : 10.54 \n"
     ]
    }
   ],
   "source": [
    "# accessing class function\n",
    "thar.all_details()"
   ]
  },
  {
   "cell_type": "code",
   "execution_count": 19,
   "id": "77072114-6824-4c03-ab7c-5da7fa2a8e20",
   "metadata": {},
   "outputs": [
    {
     "name": "stdout",
     "output_type": "stream",
     "text": [
      "Welcome to Cars&Cars InfoCentre\n",
      "Manufacturing Company : Honda\n",
      "Full name of Car : Honda Amaze\n",
      "Type : Sedan\n",
      "Engine : Petrol\n",
      "Price (in lakhs) : 8.05 \n"
     ]
    }
   ],
   "source": [
    "amaze.all_details()"
   ]
  },
  {
   "cell_type": "code",
   "execution_count": 20,
   "id": "31a4d992-07a2-4d3d-8483-1d7a5c43e38f",
   "metadata": {},
   "outputs": [
    {
     "name": "stdout",
     "output_type": "stream",
     "text": [
      "Welcome to Cars&Cars InfoCentre\n"
     ]
    }
   ],
   "source": [
    "asta.welcome()"
   ]
  },
  {
   "cell_type": "markdown",
   "id": "8c4e2f55-aa44-4e5b-890b-012502ee665e",
   "metadata": {},
   "source": [
    "## POLYMORPHISM\n",
    "\n",
    "### Polymorphism defines the ability to take different forms. Polymorphism in Python allows us to define methods in the child class with the same name as defined in their parent class."
   ]
  },
  {
   "cell_type": "code",
   "execution_count": 21,
   "id": "f3fe5a1d-20a0-4ddd-89b8-5b2bf4cfcf42",
   "metadata": {},
   "outputs": [
    {
     "name": "stdout",
     "output_type": "stream",
     "text": [
      "14\n",
      "Hello World\n",
      "[1, 2, 3, 4, 5, 6]\n"
     ]
    }
   ],
   "source": [
    "# consider the behaviour of below function which changes according to the parameters passed.\n",
    "# the behavior of the function is determined at runtime based on the types of the arguments.\n",
    "def add(a,b):\n",
    "    return a+b\n",
    "\n",
    "print(add(9,5))\n",
    "print(add('Hello ','World'))\n",
    "print(add([1,2,3],[4,5,6]))"
   ]
  },
  {
   "cell_type": "code",
   "execution_count": 22,
   "id": "ee3cc483-6611-47d1-9ec0-346c02ed61cc",
   "metadata": {},
   "outputs": [],
   "source": [
    "# example of Polymorphism in Class\n",
    "\n",
    "class books:\n",
    "    def intro(self):\n",
    "        print('All Books provide some knowledge!')\n",
    "    def example(self):\n",
    "        print('All books have some pages in it. Some famous titles are \"The Alchemist\" , \"The Lord of the Rings\"')\n",
    "    \n",
    "class non_fiction_books:\n",
    "    def example(self):\n",
    "        print(\"A good example of non-fiction book is 'Think and Grow Rich'\")\n",
    "        \n",
    "class fiction_books(books):\n",
    "    def example(self):\n",
    "        print(\"A good example of fictional book is 'The Hobbit'\")\n"
   ]
  },
  {
   "cell_type": "code",
   "execution_count": 23,
   "id": "8399c13a-fdf9-4042-a941-7120acb0bd8a",
   "metadata": {},
   "outputs": [],
   "source": [
    "obj_books=books()\n",
    "obj_non_fiction_books=non_fiction_books()\n",
    "obj_fiction_books=fiction_books()"
   ]
  },
  {
   "cell_type": "code",
   "execution_count": 24,
   "id": "e2e1eeb3-861a-4395-a96e-b3a52f2a2fc7",
   "metadata": {},
   "outputs": [
    {
     "name": "stdout",
     "output_type": "stream",
     "text": [
      "All Books provide some knowledge!\n",
      "All books have some pages in it. Some famous titles are \"The Alchemist\" , \"The Lord of the Rings\"\n"
     ]
    }
   ],
   "source": [
    "obj_books.intro()\n",
    "obj_books.example()"
   ]
  },
  {
   "cell_type": "code",
   "execution_count": 25,
   "id": "04a8ee09-f6de-459a-96f6-1d52f3f1b600",
   "metadata": {},
   "outputs": [
    {
     "name": "stdout",
     "output_type": "stream",
     "text": [
      "All books have some pages in it. Some famous titles are \"The Alchemist\" , \"The Lord of the Rings\"\n",
      "A good example of fictional book is 'The Hobbit'\n",
      "A good example of non-fiction book is 'Think and Grow Rich'\n"
     ]
    }
   ],
   "source": [
    "# we call the functions with same name 'example' and get output according to class in which they are defined. \n",
    "# demonstrating the property of 'polymorphism'\n",
    "# here comes the concept of method overriding\n",
    "# the function 'example' in class 'fiction_books' overrides the function 'example' in its parent class 'books'\n",
    "obj_books.example()\n",
    "obj_fiction_books.example()\n",
    "obj_non_fiction_books.example()"
   ]
  },
  {
   "cell_type": "code",
   "execution_count": 26,
   "id": "5fc17b98-22ec-4a59-9a59-35d421955376",
   "metadata": {},
   "outputs": [
    {
     "name": "stdout",
     "output_type": "stream",
     "text": [
      "All Books provide some knowledge!\n"
     ]
    }
   ],
   "source": [
    "obj_fiction_books.intro()"
   ]
  },
  {
   "cell_type": "markdown",
   "id": "8da87992-307d-4b1c-98d8-4071b0134453",
   "metadata": {},
   "source": [
    "## ENCAPSULATION\n",
    "\n",
    "### It is one the fundamental cocncepts in OOPs. It describes the idea of wrapping data and methods that work on data within one unit.\n",
    "### One of the very benefit of Encapsulation is , this puts the restriction on accessing vaiables and methods directly.\n",
    "### To prevent accidental change, an object's variable can only be changed by an object's method.\n",
    "### Those type of varibles are known as private variables."
   ]
  },
  {
   "cell_type": "code",
   "execution_count": 27,
   "id": "652b77c5-fe76-41be-ae9c-8c6734089ab4",
   "metadata": {},
   "outputs": [],
   "source": [
    "# observe the class\n",
    "\n",
    "class test1:\n",
    "    def __init__(self,a,b):\n",
    "        self.a=a\n",
    "        self.b=b"
   ]
  },
  {
   "cell_type": "code",
   "execution_count": 28,
   "id": "6d51ebe8-44a9-492e-ad28-bb461ed339b1",
   "metadata": {},
   "outputs": [],
   "source": [
    "t=test1(8,19)"
   ]
  },
  {
   "cell_type": "code",
   "execution_count": 29,
   "id": "bca9f8c8-ee63-42ef-a688-72eab6f2b2c1",
   "metadata": {},
   "outputs": [
    {
     "name": "stdout",
     "output_type": "stream",
     "text": [
      "8\n"
     ]
    }
   ],
   "source": [
    "print(t.a)"
   ]
  },
  {
   "cell_type": "code",
   "execution_count": 30,
   "id": "6d8528da-2beb-42e0-b0f6-d4756e3bf0b9",
   "metadata": {},
   "outputs": [],
   "source": [
    "t.a=56"
   ]
  },
  {
   "cell_type": "code",
   "execution_count": 31,
   "id": "5d3b5026-9406-4b3e-8546-1538cf8ef19a",
   "metadata": {},
   "outputs": [
    {
     "name": "stdout",
     "output_type": "stream",
     "text": [
      "56\n"
     ]
    }
   ],
   "source": [
    "# observe how the value of a class variable is modified\n",
    "print(t.a)"
   ]
  },
  {
   "cell_type": "code",
   "execution_count": 32,
   "id": "4dd34010-9d8c-458d-a579-4e823a50b456",
   "metadata": {},
   "outputs": [],
   "source": [
    "# This can arise serious problems in some cases. \n",
    "# That's where Encapsulation comes to rescue.\n",
    "# Consider the below example to understand the concept of Encapsulation.\n",
    "pass"
   ]
  },
  {
   "cell_type": "code",
   "execution_count": 33,
   "id": "52d6619c-1126-44e4-8772-d92c6c9a867d",
   "metadata": {},
   "outputs": [],
   "source": [
    "class Employee_details:\n",
    "    def __init__(self,idd,name,phone_no,salary):\n",
    "        self.__id=idd\n",
    "        self.__name=name\n",
    "        self.__phone_no=phone_no\n",
    "        self.__salary=salary\n",
    "        \n",
    "    def all_details(self):\n",
    "        print('ID : {}'.format(self.__id))\n",
    "        print('Name : {}'.format(self.__name))\n",
    "        print('Phone Number : {}'.format(self.__phone_no))\n",
    "        print('Salary : {}'.format(self.__salary))\n",
    "        \n",
    "    def edit_id(self,id1):\n",
    "        self.__id=id1\n",
    "        print('ID updated. New ID : {}'.format(self.__id))\n",
    "        \n",
    "    def edit_salary(self,salary1):\n",
    "        if salary1<0:\n",
    "            return False\n",
    "        else:\n",
    "            self.__salary=salary1\n",
    "            print('Salary updated. New Salary : {}'.format(self.__salary))"
   ]
  },
  {
   "cell_type": "code",
   "execution_count": 34,
   "id": "71fa4289-10da-46f4-9492-98bd26e93c35",
   "metadata": {},
   "outputs": [],
   "source": [
    "emp1=Employee_details(80012,'Kishan Mehra',9876543210,48000)"
   ]
  },
  {
   "cell_type": "code",
   "execution_count": 35,
   "id": "3d7323fe-3577-48b8-93d9-b4c7aeb55553",
   "metadata": {},
   "outputs": [
    {
     "name": "stdout",
     "output_type": "stream",
     "text": [
      "ID : 80012\n",
      "Name : Kishan Mehra\n",
      "Phone Number : 9876543210\n",
      "Salary : 48000\n"
     ]
    }
   ],
   "source": [
    "emp1.all_details()"
   ]
  },
  {
   "cell_type": "code",
   "execution_count": 36,
   "id": "697c357b-39a2-45b9-bb15-b1fbb1963968",
   "metadata": {},
   "outputs": [
    {
     "data": {
      "text/plain": [
       "80012"
      ]
     },
     "execution_count": 36,
     "metadata": {},
     "output_type": "execute_result"
    }
   ],
   "source": [
    "# if you try to access the variables '__id' or '__name' or '__phone_no' or '__salary' directly. Its gonna result in ERROR.\n",
    "# uncommenting below statement is going to result in error\n",
    "# emp1.__id\n",
    "# how can you access private variables? By using ' object._ClassName__Variable'\n",
    "emp1._Employee_details__id"
   ]
  },
  {
   "cell_type": "code",
   "execution_count": 37,
   "id": "cfa0ce60-ffc1-4b7f-bd88-7ca916009606",
   "metadata": {},
   "outputs": [
    {
     "name": "stdout",
     "output_type": "stream",
     "text": [
      "ID updated. New ID : 12\n"
     ]
    }
   ],
   "source": [
    "# In this way class variables and methods cannot be accessed or modified directly.\n",
    "# rather by using only specefic method like creating a separte function(s) like below one\n",
    "emp1.edit_id(12)"
   ]
  },
  {
   "cell_type": "code",
   "execution_count": 38,
   "id": "5588671a-e02d-4f8c-bb9f-3eaff16dfc13",
   "metadata": {},
   "outputs": [
    {
     "data": {
      "text/plain": [
       "False"
      ]
     },
     "execution_count": 38,
     "metadata": {},
     "output_type": "execute_result"
    }
   ],
   "source": [
    "# uncommenting below statement can result in error\n",
    "# emp1.__salary=7000\n",
    "emp1.edit_salary(-9000)"
   ]
  },
  {
   "cell_type": "code",
   "execution_count": 39,
   "id": "33f13491-5798-4026-bc30-dd05df0653bc",
   "metadata": {},
   "outputs": [
    {
     "name": "stdout",
     "output_type": "stream",
     "text": [
      "Salary updated. New Salary : 55000\n"
     ]
    }
   ],
   "source": [
    "emp1.edit_salary(55000)"
   ]
  },
  {
   "cell_type": "code",
   "execution_count": 40,
   "id": "72075989-ac1f-4333-9637-de53e7db3030",
   "metadata": {},
   "outputs": [
    {
     "name": "stdout",
     "output_type": "stream",
     "text": [
      "ID updated. New ID : 345\n"
     ]
    }
   ],
   "source": [
    "emp1.edit_id(345)"
   ]
  },
  {
   "cell_type": "code",
   "execution_count": 41,
   "id": "1e62f3ed-82e9-465a-811e-3860fe08d513",
   "metadata": {},
   "outputs": [
    {
     "name": "stdout",
     "output_type": "stream",
     "text": [
      "ID : 345\n",
      "Name : Kishan Mehra\n",
      "Phone Number : 9876543210\n",
      "Salary : 55000\n"
     ]
    }
   ],
   "source": [
    "emp1.all_details()"
   ]
  },
  {
   "cell_type": "code",
   "execution_count": 42,
   "id": "32085925-fb98-4b80-8e2a-fda32a6a05bd",
   "metadata": {},
   "outputs": [],
   "source": [
    "# Another example of 'Encapsulation'\n",
    "# observe how the variable '__balance' cannot be accessed directly hence can't be modified directly/accidentally.\n",
    "class bank_acc:\n",
    "    def __init__(self,bal):\n",
    "        self.__balance=bal\n",
    "    \n",
    "    def deposit(self,amt):\n",
    "        if amt<0:\n",
    "            return False\n",
    "        else:\n",
    "            self.__balance+=amt\n",
    "            \n",
    "    def withdraw(self,amt):\n",
    "        if self.__balance<amt:\n",
    "            return False\n",
    "        else:\n",
    "            self.__balance-=amt\n",
    "    \n",
    "    def get_details(self):\n",
    "        print('Balance : {}'.format(self.__balance))"
   ]
  },
  {
   "cell_type": "code",
   "execution_count": 43,
   "id": "8820db12-8288-4012-8ed2-f97c059fb498",
   "metadata": {},
   "outputs": [],
   "source": [
    "customer1=bank_acc(2000)"
   ]
  },
  {
   "cell_type": "code",
   "execution_count": 44,
   "id": "fd6534ef-f483-4f8b-bd80-07b1acd8e471",
   "metadata": {},
   "outputs": [
    {
     "name": "stdout",
     "output_type": "stream",
     "text": [
      "Balance : 2000\n"
     ]
    }
   ],
   "source": [
    "customer1.get_details()"
   ]
  },
  {
   "cell_type": "code",
   "execution_count": 45,
   "id": "7952e9ef-732f-4bdb-a324-4a9efdfed69f",
   "metadata": {},
   "outputs": [],
   "source": [
    "customer1.deposit(6000)"
   ]
  },
  {
   "cell_type": "code",
   "execution_count": 46,
   "id": "c5380641-2c69-4aa0-b419-a737a9d442e6",
   "metadata": {},
   "outputs": [
    {
     "name": "stdout",
     "output_type": "stream",
     "text": [
      "Balance : 8000\n"
     ]
    }
   ],
   "source": [
    "customer1.get_details()"
   ]
  },
  {
   "cell_type": "code",
   "execution_count": 47,
   "id": "317f3358-a672-4b7f-a6c0-b1b0fd5ebc96",
   "metadata": {},
   "outputs": [],
   "source": [
    "customer1.withdraw(5000)"
   ]
  },
  {
   "cell_type": "code",
   "execution_count": 48,
   "id": "597e9413-e63d-41a9-bc07-fe18c098c7a5",
   "metadata": {},
   "outputs": [
    {
     "name": "stdout",
     "output_type": "stream",
     "text": [
      "Balance : 3000\n"
     ]
    }
   ],
   "source": [
    "customer1.get_details()"
   ]
  },
  {
   "cell_type": "markdown",
   "id": "70da50a5-a730-412b-9788-dd2ce8a32450",
   "metadata": {},
   "source": [
    "## INHERITANCE\n",
    "\n",
    "### Inheritance is the capability of one class to derive or inherit the properties from one class to another class."
   ]
  },
  {
   "cell_type": "code",
   "execution_count": 49,
   "id": "4aebf8ff-c242-4a9f-ba4b-49c76542ef14",
   "metadata": {},
   "outputs": [],
   "source": [
    "# Multilevel Inheritance\n",
    "\n",
    "\n",
    "class natural_no: #parent class\n",
    "    def nat_fun(self):\n",
    "        print('Natural Number are 1,2,3,4,5...')\n",
    "        \n",
    "class whole_no(natural_no): #base class\n",
    "    def who_fun(self):\n",
    "        print('Whole Numbers are 0,1,2,3,4... ')\n",
    "        \n",
    "class integers(whole_no):\n",
    "    def int_fun(self):\n",
    "        print('Intergers are ...-4,-3,-2,-1,0,1,2,3,4,5...')"
   ]
  },
  {
   "cell_type": "code",
   "execution_count": 50,
   "id": "4d444529-af5f-448e-9180-ab40c1661aac",
   "metadata": {},
   "outputs": [],
   "source": [
    "int_obj=integers()"
   ]
  },
  {
   "cell_type": "code",
   "execution_count": 51,
   "id": "80c9ce75-72ac-42ea-b85e-10ab50a00fcf",
   "metadata": {},
   "outputs": [
    {
     "name": "stdout",
     "output_type": "stream",
     "text": [
      "Natural Number are 1,2,3,4,5...\n"
     ]
    }
   ],
   "source": [
    "# observe we can access methods/functions from parent classes through the instance/object of base class.\n",
    "int_obj.nat_fun()"
   ]
  },
  {
   "cell_type": "code",
   "execution_count": 52,
   "id": "8654177d-4544-498e-aaba-277b3414636b",
   "metadata": {},
   "outputs": [
    {
     "name": "stdout",
     "output_type": "stream",
     "text": [
      "Whole Numbers are 0,1,2,3,4... \n"
     ]
    }
   ],
   "source": [
    "int_obj.who_fun()"
   ]
  },
  {
   "cell_type": "code",
   "execution_count": 53,
   "id": "cdf0445e-dafa-4fe1-97c9-3f6caf3adaa5",
   "metadata": {},
   "outputs": [
    {
     "name": "stdout",
     "output_type": "stream",
     "text": [
      "Intergers are ...-4,-3,-2,-1,0,1,2,3,4,5...\n"
     ]
    }
   ],
   "source": [
    "int_obj.int_fun()"
   ]
  },
  {
   "cell_type": "code",
   "execution_count": 54,
   "id": "a3a2e268-9b5a-432d-b9b7-84a242dbb4b5",
   "metadata": {},
   "outputs": [],
   "source": [
    "# Multiple Inheritance\n",
    "\n",
    "class rational_no(integers,whole_no,natural_no):\n",
    "    def rat_fun(self):\n",
    "        print('Rational numbers are in the form of a/b, where a,b are integers and b!=0')"
   ]
  },
  {
   "cell_type": "code",
   "execution_count": 55,
   "id": "91459a57-d843-42f2-b407-b6f028d66f74",
   "metadata": {},
   "outputs": [],
   "source": [
    "rat_obj=rational_no()"
   ]
  },
  {
   "cell_type": "code",
   "execution_count": 56,
   "id": "6cb5c269-d351-4c05-aa46-7428d09b27ad",
   "metadata": {},
   "outputs": [
    {
     "name": "stdout",
     "output_type": "stream",
     "text": [
      "Natural Number are 1,2,3,4,5...\n"
     ]
    }
   ],
   "source": [
    "rat_obj.nat_fun()"
   ]
  },
  {
   "cell_type": "code",
   "execution_count": 57,
   "id": "c29a9ded-1e9a-4816-b51b-921f6a3160ae",
   "metadata": {},
   "outputs": [
    {
     "name": "stdout",
     "output_type": "stream",
     "text": [
      "Whole Numbers are 0,1,2,3,4... \n"
     ]
    }
   ],
   "source": [
    "rat_obj.who_fun()"
   ]
  },
  {
   "cell_type": "code",
   "execution_count": 58,
   "id": "cc5016f5-9716-4034-9bb5-f5066667c2f8",
   "metadata": {},
   "outputs": [
    {
     "name": "stdout",
     "output_type": "stream",
     "text": [
      "Intergers are ...-4,-3,-2,-1,0,1,2,3,4,5...\n"
     ]
    }
   ],
   "source": [
    "rat_obj.int_fun()"
   ]
  },
  {
   "cell_type": "code",
   "execution_count": 59,
   "id": "8b1436d3-da92-4bd5-97d6-ce68242d6d00",
   "metadata": {},
   "outputs": [
    {
     "name": "stdout",
     "output_type": "stream",
     "text": [
      "Rational numbers are in the form of a/b, where a,b are integers and b!=0\n"
     ]
    }
   ],
   "source": [
    "rat_obj.rat_fun()"
   ]
  },
  {
   "cell_type": "markdown",
   "id": "2571fb07-c552-4cc7-afc8-08a87271e278",
   "metadata": {},
   "source": [
    "## ABSTRACTION \n",
    "\n",
    "### An Abstrat Class is an outline/blueprint/structure for other classes.\n",
    "### An abstract method is a method that has a declaration but does not have an implementation.\n",
    "### By defining an abstract base class, we can define a common Application Program Interface(API) for a set of subclasses.\n",
    "### Abstration is useful as it reduces complexity, makes code more readable, maintainable, and reusable."
   ]
  },
  {
   "cell_type": "code",
   "execution_count": 60,
   "id": "a80c3bbe-f636-4232-8550-d0860755ba75",
   "metadata": {},
   "outputs": [],
   "source": [
    "import abc\n",
    "#abstract base class\n",
    "class school:\n",
    "    \n",
    "    @abc.abstractmethod\n",
    "    def student_details(self):\n",
    "        pass\n",
    "    \n",
    "    @abc.abstractmethod\n",
    "    def attendance_record(self):\n",
    "        pass\n",
    "    \n",
    "    @abc.abstractmethod\n",
    "    def marks_record(self):\n",
    "        pass"
   ]
  },
  {
   "cell_type": "code",
   "execution_count": 61,
   "id": "2a7eb563-1719-44f1-b8bc-cf43fde0ba67",
   "metadata": {},
   "outputs": [],
   "source": [
    "# Now we shall create two classes 'class12' and 'class11' and \n",
    "# both subclasses will override the methods defined in 'school' class\n",
    "# namely student_detail(), attendance_record(), marks_record()\n",
    "# and provide their own implementation\n",
    "pass"
   ]
  },
  {
   "cell_type": "code",
   "execution_count": 62,
   "id": "9eede6a3-6fbf-47c1-922b-a2a10d376081",
   "metadata": {},
   "outputs": [],
   "source": [
    "# observe how we define functions here in base class which are declared in 'school' class.\n",
    "class class12(school):\n",
    "    def student_details(self):\n",
    "        print('It returns Student Details of Class 12th students.')\n",
    "        \n",
    "    def attendance_record(self):\n",
    "        print(\"It return the student's attendence record of class 12th students.\")\n",
    "        \n",
    "    def marks_record(self):\n",
    "        print('It return the Marks records of class 12 students.')        "
   ]
  },
  {
   "cell_type": "code",
   "execution_count": 63,
   "id": "40f91835-d5c8-4c4d-b199-8fa26c539c75",
   "metadata": {},
   "outputs": [],
   "source": [
    "# observe we define the same functions from 'school' class.\n",
    "class class11(school):\n",
    "    def student_details(self):\n",
    "        print('It returns Student Details of Class 11th students.')\n",
    "        \n",
    "    def attendance_record(self):\n",
    "        print(\"It return the student's attendence record of class 11th students.\")\n",
    "        \n",
    "    def marks_record(self):\n",
    "        print('It return the Marks records of class 11 students.')        "
   ]
  },
  {
   "cell_type": "code",
   "execution_count": 64,
   "id": "e83e65a9-baf1-4fdd-84b5-e32d4ab49233",
   "metadata": {},
   "outputs": [],
   "source": [
    "student1_12=class12()\n",
    "student1_11=class11()"
   ]
  },
  {
   "cell_type": "code",
   "execution_count": 65,
   "id": "35babb32-c83c-483f-80a1-f6fc53acbcb7",
   "metadata": {},
   "outputs": [
    {
     "name": "stdout",
     "output_type": "stream",
     "text": [
      "It returns Student Details of Class 12th students.\n",
      "It return the Marks records of class 12 students.\n",
      "It return the student's attendence record of class 12th students.\n"
     ]
    }
   ],
   "source": [
    "student1_12.student_details()\n",
    "student1_12.marks_record()\n",
    "student1_12.attendance_record()"
   ]
  },
  {
   "cell_type": "code",
   "execution_count": 66,
   "id": "b13a597a-f810-41e8-bca6-be241658aded",
   "metadata": {},
   "outputs": [
    {
     "name": "stdout",
     "output_type": "stream",
     "text": [
      "It returns Student Details of Class 11th students.\n",
      "It return the Marks records of class 11 students.\n",
      "It return the student's attendence record of class 11th students.\n"
     ]
    }
   ],
   "source": [
    "student1_11.student_details()\n",
    "student1_11.marks_record()\n",
    "student1_11.attendance_record()"
   ]
  },
  {
   "cell_type": "markdown",
   "id": "b98f310a-521b-43be-b99a-105848b9e13b",
   "metadata": {},
   "source": [
    "## DECORATORS\n",
    "\n",
    "### Decorator is a useful tool, which allows a programmer to modify the behaviour of funtion or class.\n",
    "### In Python, functions are first class objects which means that functions in python can be used or passed as arguement.\n",
    "### In decorators, function are taken as the arguement into another function and then called inside the wrapper function.\n",
    "### Hence, Decorators improves productivity, code efficiency and reduce repetitiveness. "
   ]
  },
  {
   "cell_type": "code",
   "execution_count": 67,
   "id": "286109d9-cca0-465f-9a0d-288acdf707bc",
   "metadata": {},
   "outputs": [
    {
     "name": "stdout",
     "output_type": "stream",
     "text": [
      "50\n"
     ]
    }
   ],
   "source": [
    "# program to illustrate that a function can return another function\n",
    "def add_no(x):\n",
    "    def adding(y):\n",
    "        return x+y\n",
    "    return adding\n",
    "\n",
    "add_20=add_no(20)\n",
    "# The result of add_no(20) is assigned to the variable add_20,which is nothing but the FUNCTION 'adding' returned \n",
    "# so add_20 now contains the adding function with x set to 20.\n",
    "# Finally, the program calls add_20(30). \n",
    "# Since add_20 is now the adding function with x equal to 15, \n",
    "# when you call add_20(30), it effectively calculates 20 + 30, which is 50.\n",
    "\n",
    "print(add_20(30))"
   ]
  },
  {
   "cell_type": "code",
   "execution_count": 68,
   "id": "06245061-5385-4e4b-a899-55e680ce47ae",
   "metadata": {},
   "outputs": [
    {
     "name": "stdout",
     "output_type": "stream",
     "text": [
      "Start of the Function\n",
      "Two Two's are Four 4\n",
      "End of the Function\n"
     ]
    }
   ],
   "source": [
    "# decorator example\n",
    "def deco(func):\n",
    "    def inner_deco():\n",
    "        print('Start of the Function')\n",
    "        func()\n",
    "        print('End of the Function')\n",
    "    return inner_deco\n",
    "\n",
    "@deco\n",
    "def new_function():\n",
    "    print(\"Two Two's are Four\",2*2)\n",
    "    \n",
    "new_function()"
   ]
  },
  {
   "cell_type": "code",
   "execution_count": 69,
   "id": "45d33bf6-e1ab-4784-ba7e-a03a2815afb3",
   "metadata": {},
   "outputs": [],
   "source": [
    "\"\"\" the above code is equivalent to\n",
    "def deco1(func1):\n",
    "    def inner_deco1():\n",
    "        print('Start of the Function')\n",
    "        func1()\n",
    "        print('End of the Function')\n",
    "    return inner_deco1\n",
    "\n",
    "def new_function1():\n",
    "    print(\"Three Three's are nine 9\",)\n",
    "    \n",
    "new_function=deco1(new_function)\n",
    "\n",
    "new_function() \"\"\"\n",
    "pass"
   ]
  },
  {
   "cell_type": "code",
   "execution_count": 70,
   "id": "3c0dd026-a341-4627-8619-d1d0b8e5296d",
   "metadata": {},
   "outputs": [],
   "source": [
    "# to find the time taken by a function \n",
    "import time\n",
    "\n",
    "def timer(fun):\n",
    "    def inner_timer():  \n",
    "        start=time.time()\n",
    "        fun()\n",
    "        end=time.time()\n",
    "        print('Time taken by the function is:- ', end-start)\n",
    "    return inner_timer"
   ]
  },
  {
   "cell_type": "code",
   "execution_count": 71,
   "id": "7ac37e7a-092b-4974-b17d-70d1e6b4c7ac",
   "metadata": {},
   "outputs": [],
   "source": [
    "@timer\n",
    "def timer_test():\n",
    "    f=0\n",
    "    for i in range(50000000):\n",
    "        f+=1\n",
    "    print('Variable f=0 incremented by 1 through loop 50000000 times:- ',f)"
   ]
  },
  {
   "cell_type": "code",
   "execution_count": 72,
   "id": "51eb57a4-7f35-45de-905c-67c2645fb7a9",
   "metadata": {},
   "outputs": [
    {
     "name": "stdout",
     "output_type": "stream",
     "text": [
      "Variable f=0 incremented by 1 through loop 50000000 times:-  50000000\n",
      "Time taken by the function is:-  3.143435001373291\n"
     ]
    }
   ],
   "source": [
    "timer_test()"
   ]
  },
  {
   "cell_type": "markdown",
   "id": "f2584182-0f4c-49b8-8e78-175b7329412c",
   "metadata": {},
   "source": [
    "## CLASS METHODS\n",
    "\n",
    "### The classmethod() in python, is an inbuilt function which returns a class method for a given function.\n",
    "### The method are bound to class rather than an object.\n",
    "### Class methods can be called by both class and object.\n",
    "### A class mathod takes 'cls' as the first parameter, can access or modify the class state, use @classmethod decorator in python."
   ]
  },
  {
   "cell_type": "code",
   "execution_count": 73,
   "id": "d82fd4ca-104c-4ff2-ae2d-e21ba3ba7613",
   "metadata": {},
   "outputs": [],
   "source": [
    "class bike:\n",
    "    \n",
    "    #declaring class variable, it is bound to class and has the scope of local class 'bike'\n",
    "    info=\"Contact +91-9087654321 to Buy\"\n",
    "    #creating another class variable \n",
    "    min_price=3000\n",
    "    \n",
    "    def __init__(self,name,typ,price):\n",
    "        self.name=name\n",
    "        self.typ=typ\n",
    "        self.price=price\n",
    "    \n",
    "    def all_details(self):\n",
    "        print(\"Bike Name : {} \\nBike Type : {} \\nBike's Price : {}\\n{} \".format(self.name,self.typ,self.price,bike.info))\n",
    "    \n",
    "    @classmethod\n",
    "    def get_details(cls,name1,typ1,price1):\n",
    "        return cls(name1,typ1,price1)\n",
    "\n",
    "    # creating function to modify the local variable 'info' using classmethod\n",
    "    @classmethod\n",
    "    def change_info(cls,new_info):\n",
    "        bike.info=new_info\n",
    "    \n",
    "    \n",
    "# here we just achieved function overloading in python using Class Method\n",
    "# 'cls' is used to bind method to the class itself not 'self'"
   ]
  },
  {
   "cell_type": "code",
   "execution_count": 74,
   "id": "6d658b3c-e843-4d50-bc8d-c1e6e299a832",
   "metadata": {},
   "outputs": [],
   "source": [
    "# using object or using instance method to provide data \n",
    "objj1=bike(\"FIREFOX-x1\",\"Mountain Bike\",24500)"
   ]
  },
  {
   "cell_type": "code",
   "execution_count": 75,
   "id": "f7e71bb2-3dee-474d-8ca3-614ff98a33c8",
   "metadata": {},
   "outputs": [
    {
     "data": {
      "text/plain": [
       "24500"
      ]
     },
     "execution_count": 75,
     "metadata": {},
     "output_type": "execute_result"
    }
   ],
   "source": [
    "objj1.price"
   ]
  },
  {
   "cell_type": "code",
   "execution_count": 76,
   "id": "abaf15bf-8e80-4a86-80dc-e1a48ac04997",
   "metadata": {},
   "outputs": [
    {
     "name": "stdout",
     "output_type": "stream",
     "text": [
      "Bike Name : FIREFOX-x1 \n",
      "Bike Type : Mountain Bike \n",
      "Bike's Price : 24500\n",
      "Contact +91-9087654321 to Buy \n"
     ]
    }
   ],
   "source": [
    "objj1.all_details()"
   ]
  },
  {
   "cell_type": "code",
   "execution_count": 77,
   "id": "32ee766f-304f-473f-91a2-31c01a2a1ba0",
   "metadata": {},
   "outputs": [],
   "source": [
    "# using class method to provide data\n",
    "var1 = bike.get_details(\"BSA Duo\",\"Tandem Bike\",19900)"
   ]
  },
  {
   "cell_type": "code",
   "execution_count": 78,
   "id": "e5240b82-944a-4a18-bb7d-0f054a3341e7",
   "metadata": {},
   "outputs": [
    {
     "data": {
      "text/plain": [
       "19900"
      ]
     },
     "execution_count": 78,
     "metadata": {},
     "output_type": "execute_result"
    }
   ],
   "source": [
    "var1.price"
   ]
  },
  {
   "cell_type": "code",
   "execution_count": 79,
   "id": "e69fd6c1-f8b3-4121-8d3f-52f86f308718",
   "metadata": {},
   "outputs": [
    {
     "name": "stdout",
     "output_type": "stream",
     "text": [
      "Bike Name : BSA Duo \n",
      "Bike Type : Tandem Bike \n",
      "Bike's Price : 19900\n",
      "Contact +91-9087654321 to Buy \n"
     ]
    }
   ],
   "source": [
    "# we can access 'all_details()' using variable of class method\n",
    "var1.all_details()"
   ]
  },
  {
   "cell_type": "code",
   "execution_count": 80,
   "id": "4b57e838-d63d-4699-9395-92c86e7f1a48",
   "metadata": {},
   "outputs": [
    {
     "data": {
      "text/plain": [
       "'Contact +91-9087654321 to Buy'"
      ]
     },
     "execution_count": 80,
     "metadata": {},
     "output_type": "execute_result"
    }
   ],
   "source": [
    "# modifying class variable 'info' using class method\n",
    "bike.info"
   ]
  },
  {
   "cell_type": "code",
   "execution_count": 81,
   "id": "32245fda-6df2-4ea6-9962-b843fcb5ef70",
   "metadata": {},
   "outputs": [],
   "source": [
    "var1.change_info('Contact Biker&Bikes Co. to Buy')"
   ]
  },
  {
   "cell_type": "code",
   "execution_count": 82,
   "id": "0cd74e3f-2126-45bf-af84-fec06364df4c",
   "metadata": {},
   "outputs": [
    {
     "name": "stdout",
     "output_type": "stream",
     "text": [
      "Bike Name : BSA Duo \n",
      "Bike Type : Tandem Bike \n",
      "Bike's Price : 19900\n",
      "Contact Biker&Bikes Co. to Buy \n"
     ]
    }
   ],
   "source": [
    "# accessing changed info\n",
    "var1.all_details()"
   ]
  },
  {
   "cell_type": "code",
   "execution_count": 83,
   "id": "95c86529-5fdd-4879-926e-0852f15e229d",
   "metadata": {},
   "outputs": [
    {
     "name": "stdout",
     "output_type": "stream",
     "text": [
      "Bike Name : FIREFOX-x1 \n",
      "Bike Type : Mountain Bike \n",
      "Bike's Price : 24500\n",
      "Contact Biker&Bikes Co. to Buy \n"
     ]
    }
   ],
   "source": [
    "# changes made in local class variable will also reflect, if we access 'all_details()' method using instance/object.\n",
    "objj1.all_details()"
   ]
  },
  {
   "cell_type": "code",
   "execution_count": 84,
   "id": "297f4b57-b5b4-462e-90bc-6bfc4bab29b8",
   "metadata": {},
   "outputs": [],
   "source": [
    "# As classmethod() methods are global to class, hence can be accessed by using an object or instance. \n",
    "# But cannot modify or update the object itself declared at the time of creation.\n",
    "pass"
   ]
  },
  {
   "cell_type": "code",
   "execution_count": 85,
   "id": "f12f8ce9-6ec8-49f8-bbb5-f39b7740d0db",
   "metadata": {},
   "outputs": [
    {
     "data": {
      "text/plain": [
       "<__main__.bike at 0x7f15783ff340>"
      ]
     },
     "execution_count": 85,
     "metadata": {},
     "output_type": "execute_result"
    }
   ],
   "source": [
    "# we can acess 'get_details()' which is class method using 'objj1' which is instance/object\n",
    "objj1.get_details(\"Canyon SpeedMax\",\"Triathlon Bike\",298900)"
   ]
  },
  {
   "cell_type": "code",
   "execution_count": 86,
   "id": "e60f0b9f-5a80-4229-bffb-ed903f8b1635",
   "metadata": {},
   "outputs": [
    {
     "name": "stdout",
     "output_type": "stream",
     "text": [
      "Bike Name : FIREFOX-x1 \n",
      "Bike Type : Mountain Bike \n",
      "Bike's Price : 24500\n",
      "Contact Biker&Bikes Co. to Buy \n"
     ]
    }
   ],
   "source": [
    "# observe the will not modify the data of 'objj1'\n",
    "objj1.all_details()"
   ]
  },
  {
   "cell_type": "code",
   "execution_count": 87,
   "id": "0f1b4858-5283-451f-90aa-cf9cd6f7d413",
   "metadata": {},
   "outputs": [],
   "source": [
    "# rather we can use it to give to another variable, and that can use class method\n",
    "varr2=objj1.get_details(\"Canyon SpeedMax\",\"Triathlon Bike\",298900)"
   ]
  },
  {
   "cell_type": "code",
   "execution_count": 88,
   "id": "e548ae9a-d28f-44ba-a241-8f3c4f0f7cac",
   "metadata": {},
   "outputs": [
    {
     "name": "stdout",
     "output_type": "stream",
     "text": [
      "Bike Name : Canyon SpeedMax \n",
      "Bike Type : Triathlon Bike \n",
      "Bike's Price : 298900\n",
      "Contact Biker&Bikes Co. to Buy \n"
     ]
    }
   ],
   "source": [
    "varr2.all_details()"
   ]
  },
  {
   "cell_type": "code",
   "execution_count": 89,
   "id": "bcf91a0e-41a2-48cc-9987-045387ef2fd7",
   "metadata": {},
   "outputs": [],
   "source": [
    "# HOW TO ADD AN EXTERNAL FUNCTION IN A CLASS\n",
    "def buyer_info(cls,address):\n",
    "    print('We provide wide ranges of Bikes for you at fair prices!\\nVisit us at {}'.format(address))"
   ]
  },
  {
   "cell_type": "code",
   "execution_count": 90,
   "id": "dceb3fec-aa56-4c6e-8d73-7112dc7b20bf",
   "metadata": {},
   "outputs": [],
   "source": [
    "# 'buyer_info' method added to class 'bike'\n",
    "bike.buyer_info=classmethod(buyer_info)"
   ]
  },
  {
   "cell_type": "code",
   "execution_count": 91,
   "id": "74c515c0-015e-41bc-8284-2fcb5ebfd8f9",
   "metadata": {},
   "outputs": [],
   "source": [
    "# accessing buyer_info\n",
    "objj2=bike(\"SE Everday\",\"BMX Bike\",7899)"
   ]
  },
  {
   "cell_type": "code",
   "execution_count": 92,
   "id": "0eb82f9e-bb3d-4f4c-84b3-58b78cad9a70",
   "metadata": {},
   "outputs": [
    {
     "name": "stdout",
     "output_type": "stream",
     "text": [
      "We provide wide ranges of Bikes for you at fair prices!\n",
      "Visit us at Dwarka Sector-10, Delhi\n"
     ]
    }
   ],
   "source": [
    "objj2.buyer_info('Dwarka Sector-10, Delhi')"
   ]
  },
  {
   "cell_type": "code",
   "execution_count": 93,
   "id": "95bc4051-8943-47ea-9e83-55a44ff3ccaa",
   "metadata": {},
   "outputs": [],
   "source": [
    "# HOW TO DELETE AN OBJECT/INSTANCE\n",
    "objj3=bike('EmptyXYZ','NoneComCO',0)"
   ]
  },
  {
   "cell_type": "code",
   "execution_count": 94,
   "id": "8994fe9c-b1f2-44ca-a0a6-9b3b441fbc0d",
   "metadata": {},
   "outputs": [
    {
     "name": "stdout",
     "output_type": "stream",
     "text": [
      "Bike Name : EmptyXYZ \n",
      "Bike Type : NoneComCO \n",
      "Bike's Price : 0\n",
      "Contact Biker&Bikes Co. to Buy \n"
     ]
    }
   ],
   "source": [
    "objj3.all_details()"
   ]
  },
  {
   "cell_type": "code",
   "execution_count": 95,
   "id": "bce398ed-0a1f-42dd-8be4-62c756fefcd5",
   "metadata": {},
   "outputs": [],
   "source": [
    "# 'objj3' is deleted\n",
    "del objj3"
   ]
  },
  {
   "cell_type": "code",
   "execution_count": 96,
   "id": "7f34dbb6-5cc7-44a5-bdf9-39c0bab5b28a",
   "metadata": {},
   "outputs": [],
   "source": [
    "# Uncommenting below statement will result in NameError: name 'objj3' is not defined\n",
    "#objj3.all_details()\n",
    "pass"
   ]
  },
  {
   "cell_type": "code",
   "execution_count": 97,
   "id": "357df3a5-09ab-4a64-87ec-0000acd9a734",
   "metadata": {},
   "outputs": [],
   "source": [
    "# HOW TO  DELETE ANY METHOD OR FUNCTION FROM CLASS\n",
    "delattr(bike,'min_price')"
   ]
  },
  {
   "cell_type": "code",
   "execution_count": 98,
   "id": "59b39845-9be0-4322-bd70-af5f9c4a7018",
   "metadata": {},
   "outputs": [],
   "source": [
    "# Uncommenting below statement will result in AttributeError: 'bike' object has no attribute 'info'\n",
    "#objj2.min_price\n",
    "pass"
   ]
  },
  {
   "cell_type": "markdown",
   "id": "ea25f386-61f9-46b9-b542-fe40254d91fd",
   "metadata": {},
   "source": [
    "## STATIC METHOD\n",
    "\n",
    "### This method bounds the method to the class and not to the object/instance of the class.\n",
    "### It takes no implicit first parameter.\n",
    "### Uses @staticmethod decorator\n",
    "### It knows nothing about class state and can't modify it.\n",
    "### Generally used to create utility function. "
   ]
  },
  {
   "cell_type": "code",
   "execution_count": 99,
   "id": "1e95d0fb-b657-4590-a65b-4c62a53c684d",
   "metadata": {},
   "outputs": [],
   "source": [
    "class academia:\n",
    "    \n",
    "    # defining instance method (or constructor)\n",
    "    def __init__(self,stu_name,stu_class):\n",
    "        self.stu_name=stu_name\n",
    "        self.stu_class=stu_class\n",
    "        \n",
    "    # defining class method\n",
    "    @classmethod\n",
    "    def get_details(cls,stu_name1,stu_class1):\n",
    "        return cls(stu_name1,stu_class1)\n",
    "    \n",
    "    # defining static method\n",
    "    @staticmethod\n",
    "    def mentor_details(lst):\n",
    "        print('Mentors List :- {}'.format(lst))\n",
    "        \n",
    "    # instance method\n",
    "    def print_details(self):\n",
    "        print('Name of Student : {}\\nClass of Student : {}'.format(self.stu_name,self.stu_class))\n",
    "        "
   ]
  },
  {
   "cell_type": "code",
   "execution_count": 100,
   "id": "b1e1b98e-2a78-47b8-9ca7-6af031e5d9cd",
   "metadata": {},
   "outputs": [],
   "source": [
    "# declaring object\n",
    "obj_stud1=academia('Rayan',11)"
   ]
  },
  {
   "cell_type": "code",
   "execution_count": 101,
   "id": "979732bd-524e-4f96-b58e-bd83d659d2b7",
   "metadata": {},
   "outputs": [],
   "source": [
    "# creating variable for class method\n",
    "var_stud2=academia.get_details('Aayan',12)"
   ]
  },
  {
   "cell_type": "code",
   "execution_count": 102,
   "id": "9cf3deb2-426d-43df-b3cd-d9d2ee0112cd",
   "metadata": {},
   "outputs": [
    {
     "name": "stdout",
     "output_type": "stream",
     "text": [
      "Mentors List :- ['Mr.Kewnskey', 'Mr.Tyagi']\n"
     ]
    }
   ],
   "source": [
    "# accessing static method\n",
    "mentor_details=academia.mentor_details(['Mr.Kewnskey','Mr.Tyagi'])"
   ]
  },
  {
   "cell_type": "code",
   "execution_count": 103,
   "id": "e9225507-b08e-435f-9efe-5bf9801458af",
   "metadata": {},
   "outputs": [
    {
     "name": "stdout",
     "output_type": "stream",
     "text": [
      "Name of Student : Rayan\n",
      "Class of Student : 11\n"
     ]
    }
   ],
   "source": [
    "obj_stud1.print_details()"
   ]
  },
  {
   "cell_type": "code",
   "execution_count": 104,
   "id": "b6fa5f28-944f-4a0e-bf3e-00c6eda5b568",
   "metadata": {},
   "outputs": [
    {
     "name": "stdout",
     "output_type": "stream",
     "text": [
      "Name of Student : Aayan\n",
      "Class of Student : 12\n"
     ]
    }
   ],
   "source": [
    "var_stud2.print_details()"
   ]
  },
  {
   "cell_type": "code",
   "execution_count": 105,
   "id": "b1ae9b5b-6a9d-4c26-85c3-05434cf4ccd2",
   "metadata": {},
   "outputs": [
    {
     "name": "stdout",
     "output_type": "stream",
     "text": [
      "Mentors List :- ['Mrs.Vashishta', 'Mr.Keerthi']\n"
     ]
    }
   ],
   "source": [
    "# we can access static method from instance of the class\n",
    "obj_stud1.mentor_details(['Mrs.Vashishta','Mr.Keerthi'])"
   ]
  },
  {
   "cell_type": "code",
   "execution_count": 106,
   "id": "76219e80-f91c-4e69-a4ef-ac7bdea48a13",
   "metadata": {},
   "outputs": [
    {
     "name": "stdout",
     "output_type": "stream",
     "text": [
      "Mentors List :- ['Mr.Garg', 'Mrs.Mathur']\n"
     ]
    }
   ],
   "source": [
    "# we can access static method from class method variable also\n",
    "var_stud2.mentor_details(['Mr.Garg','Mrs.Mathur'])"
   ]
  },
  {
   "cell_type": "code",
   "execution_count": 107,
   "id": "92eaa794-65ef-45c9-9584-286dc2376fd7",
   "metadata": {},
   "outputs": [],
   "source": [
    "# declaring constructor and get_details is all fine as for every object/instance created it allocates diffenent memory.\n",
    "# But mentor_deatils may be same for some class hence need not to be declared or to be allocate memory evey time an instance gets created.\n",
    "# Hence static method mentor_details making the code memory efficient.\n",
    "pass"
   ]
  },
  {
   "cell_type": "code",
   "execution_count": 108,
   "id": "f8b21a1b-b41d-4f4b-9647-eb0ee16a5886",
   "metadata": {},
   "outputs": [],
   "source": [
    "# Example 2\n",
    "from datetime import date\n",
    "class voting:\n",
    "    \n",
    "    def __init__(self,name,age):\n",
    "        self.name=name\n",
    "        self.age=age\n",
    "        \n",
    "    # creating class method to get age by birth year\n",
    "    @classmethod\n",
    "    def get_det(cls,name,year):\n",
    "        return cls(name, date.today().year-year)\n",
    "    \n",
    "    # creating static method to check if a person is eligible to vote or not\n",
    "    @staticmethod\n",
    "    def is_vote(age):\n",
    "        if age>18:\n",
    "            print('Eligible to Vote')\n",
    "        else:\n",
    "            print('Not Eligible to Vote')\n"
   ]
  },
  {
   "cell_type": "code",
   "execution_count": 109,
   "id": "13f6793b-6cad-4ec8-8484-5ddaeefedf59",
   "metadata": {},
   "outputs": [],
   "source": [
    "# creating object \n",
    "obj_per1=voting('Subham',17)"
   ]
  },
  {
   "cell_type": "code",
   "execution_count": 110,
   "id": "0eec38d5-c9f2-4761-bd89-517a2827f338",
   "metadata": {},
   "outputs": [],
   "source": [
    "# creating variable (through class method using birth year)\n",
    "var_per2=voting.get_det('Amy',1998)"
   ]
  },
  {
   "cell_type": "code",
   "execution_count": 111,
   "id": "5f2ccfcc-bf88-4583-9fb1-204df1ffbc0b",
   "metadata": {},
   "outputs": [
    {
     "data": {
      "text/plain": [
       "17"
      ]
     },
     "execution_count": 111,
     "metadata": {},
     "output_type": "execute_result"
    }
   ],
   "source": [
    "obj_per1.age"
   ]
  },
  {
   "cell_type": "code",
   "execution_count": 112,
   "id": "f6e63e06-c432-42ca-af6e-8fd9cc079e38",
   "metadata": {},
   "outputs": [
    {
     "data": {
      "text/plain": [
       "25"
      ]
     },
     "execution_count": 112,
     "metadata": {},
     "output_type": "execute_result"
    }
   ],
   "source": [
    "var_per2.age"
   ]
  },
  {
   "cell_type": "code",
   "execution_count": 113,
   "id": "ca80d948-1dfb-4441-9e6f-9b95504e3e9a",
   "metadata": {},
   "outputs": [
    {
     "name": "stdout",
     "output_type": "stream",
     "text": [
      "Not Eligible to Vote\n"
     ]
    }
   ],
   "source": [
    "obj_per1.is_vote(obj_per1.age)"
   ]
  },
  {
   "cell_type": "code",
   "execution_count": 114,
   "id": "eb29dd95-5b84-4c11-a5dc-66b38f197423",
   "metadata": {},
   "outputs": [
    {
     "name": "stdout",
     "output_type": "stream",
     "text": [
      "Eligible to Vote\n"
     ]
    }
   ],
   "source": [
    "var_per2.is_vote(var_per2.age)"
   ]
  },
  {
   "cell_type": "markdown",
   "id": "95ce799a-6193-486c-a625-13175e36ba28",
   "metadata": {},
   "source": [
    "## SPECIAL METHOD (DUNDER/MAGIC METHOD)\n",
    "\n",
    "### Commonly used for operator overloading, the dunder methods are in the form \" __dunder__ \".\n",
    "### Dunder means double underscores.\n",
    "### It is advisable not to use these methods directly. "
   ]
  },
  {
   "cell_type": "code",
   "execution_count": 115,
   "id": "85a74bfc-39d8-41b1-ba54-22272015ab99",
   "metadata": {},
   "outputs": [
    {
     "data": {
      "text/plain": [
       "['__abs__',\n",
       " '__add__',\n",
       " '__and__',\n",
       " '__bool__',\n",
       " '__ceil__',\n",
       " '__class__',\n",
       " '__delattr__',\n",
       " '__dir__',\n",
       " '__divmod__',\n",
       " '__doc__',\n",
       " '__eq__',\n",
       " '__float__',\n",
       " '__floor__',\n",
       " '__floordiv__',\n",
       " '__format__',\n",
       " '__ge__',\n",
       " '__getattribute__',\n",
       " '__getnewargs__',\n",
       " '__gt__',\n",
       " '__hash__',\n",
       " '__index__',\n",
       " '__init__',\n",
       " '__init_subclass__',\n",
       " '__int__',\n",
       " '__invert__',\n",
       " '__le__',\n",
       " '__lshift__',\n",
       " '__lt__',\n",
       " '__mod__',\n",
       " '__mul__',\n",
       " '__ne__',\n",
       " '__neg__',\n",
       " '__new__',\n",
       " '__or__',\n",
       " '__pos__',\n",
       " '__pow__',\n",
       " '__radd__',\n",
       " '__rand__',\n",
       " '__rdivmod__',\n",
       " '__reduce__',\n",
       " '__reduce_ex__',\n",
       " '__repr__',\n",
       " '__rfloordiv__',\n",
       " '__rlshift__',\n",
       " '__rmod__',\n",
       " '__rmul__',\n",
       " '__ror__',\n",
       " '__round__',\n",
       " '__rpow__',\n",
       " '__rrshift__',\n",
       " '__rshift__',\n",
       " '__rsub__',\n",
       " '__rtruediv__',\n",
       " '__rxor__',\n",
       " '__setattr__',\n",
       " '__sizeof__',\n",
       " '__str__',\n",
       " '__sub__',\n",
       " '__subclasshook__',\n",
       " '__truediv__',\n",
       " '__trunc__',\n",
       " '__xor__',\n",
       " 'as_integer_ratio',\n",
       " 'bit_count',\n",
       " 'bit_length',\n",
       " 'conjugate',\n",
       " 'denominator',\n",
       " 'from_bytes',\n",
       " 'imag',\n",
       " 'numerator',\n",
       " 'real',\n",
       " 'to_bytes']"
      ]
     },
     "execution_count": 115,
     "metadata": {},
     "output_type": "execute_result"
    }
   ],
   "source": [
    "# how to get all the dunder/magic function/methods\n",
    "dir(int) # it returns all the dunder methods associated with 'int'"
   ]
  },
  {
   "cell_type": "code",
   "execution_count": 116,
   "id": "08cc6512-f994-4d40-b5ec-9c3274eec99f",
   "metadata": {},
   "outputs": [
    {
     "data": {
      "text/plain": [
       "['__class__',\n",
       " '__class_getitem__',\n",
       " '__contains__',\n",
       " '__delattr__',\n",
       " '__delitem__',\n",
       " '__dir__',\n",
       " '__doc__',\n",
       " '__eq__',\n",
       " '__format__',\n",
       " '__ge__',\n",
       " '__getattribute__',\n",
       " '__getitem__',\n",
       " '__gt__',\n",
       " '__hash__',\n",
       " '__init__',\n",
       " '__init_subclass__',\n",
       " '__ior__',\n",
       " '__iter__',\n",
       " '__le__',\n",
       " '__len__',\n",
       " '__lt__',\n",
       " '__ne__',\n",
       " '__new__',\n",
       " '__or__',\n",
       " '__reduce__',\n",
       " '__reduce_ex__',\n",
       " '__repr__',\n",
       " '__reversed__',\n",
       " '__ror__',\n",
       " '__setattr__',\n",
       " '__setitem__',\n",
       " '__sizeof__',\n",
       " '__str__',\n",
       " '__subclasshook__',\n",
       " 'clear',\n",
       " 'copy',\n",
       " 'fromkeys',\n",
       " 'get',\n",
       " 'items',\n",
       " 'keys',\n",
       " 'pop',\n",
       " 'popitem',\n",
       " 'setdefault',\n",
       " 'update',\n",
       " 'values']"
      ]
     },
     "execution_count": 116,
     "metadata": {},
     "output_type": "execute_result"
    }
   ],
   "source": [
    "dir(dict)"
   ]
  },
  {
   "cell_type": "code",
   "execution_count": 117,
   "id": "e8726040-cc37-4808-81a4-70d4fd94ee99",
   "metadata": {},
   "outputs": [],
   "source": [
    "# consider the example\n",
    "a=8"
   ]
  },
  {
   "cell_type": "code",
   "execution_count": 118,
   "id": "6763b5f6-ea37-4403-b841-857afdd1fb74",
   "metadata": {},
   "outputs": [
    {
     "data": {
      "text/plain": [
       "10"
      ]
     },
     "execution_count": 118,
     "metadata": {},
     "output_type": "execute_result"
    }
   ],
   "source": [
    "a+2"
   ]
  },
  {
   "cell_type": "code",
   "execution_count": 119,
   "id": "6f179627-a1f8-4a8b-a8ed-444c18858e4f",
   "metadata": {},
   "outputs": [
    {
     "data": {
      "text/plain": [
       "10"
      ]
     },
     "execution_count": 119,
     "metadata": {},
     "output_type": "execute_result"
    }
   ],
   "source": [
    "# or we can use \n",
    "a.__add__(2)\n",
    "# internally it uses the above approach to perform 'a+2'"
   ]
  },
  {
   "cell_type": "code",
   "execution_count": 120,
   "id": "2494a784-e2cd-44ba-8b50-dca4b957fe38",
   "metadata": {},
   "outputs": [],
   "source": [
    "# '__new__'\n",
    "# it is called in object's instantiation\n",
    "\n",
    "class testt1:\n",
    "    def __new__(cls):\n",
    "        print('Object created successfully!')\n",
    "    pass"
   ]
  },
  {
   "cell_type": "code",
   "execution_count": 121,
   "id": "91b25fa8-46c4-4462-b85d-ea1ce3514727",
   "metadata": {},
   "outputs": [
    {
     "name": "stdout",
     "output_type": "stream",
     "text": [
      "Object created successfully!\n"
     ]
    }
   ],
   "source": [
    "obbj=testt1()"
   ]
  },
  {
   "cell_type": "code",
   "execution_count": 122,
   "id": "d6f2f384-6420-4f8f-aa83-0af15bb08e6d",
   "metadata": {},
   "outputs": [],
   "source": [
    "# '__init__'\n",
    "# it is called by __new__\n",
    "\n",
    "class testt2:\n",
    "    \n",
    "    def __init__(self,x):\n",
    "        self.x=x\n",
    "    \n",
    "    def print_x(self):\n",
    "        print(self.x)"
   ]
  },
  {
   "cell_type": "code",
   "execution_count": 123,
   "id": "f30378f3-21dd-47df-8bc4-bc0b279656a8",
   "metadata": {},
   "outputs": [],
   "source": [
    "obbj1=testt2(89)"
   ]
  },
  {
   "cell_type": "code",
   "execution_count": 124,
   "id": "7e8b561a-2c9d-4a0a-ae02-916ad406f8be",
   "metadata": {},
   "outputs": [
    {
     "name": "stdout",
     "output_type": "stream",
     "text": [
      "89\n"
     ]
    }
   ],
   "source": [
    "obbj1.print_x()"
   ]
  },
  {
   "cell_type": "code",
   "execution_count": 125,
   "id": "1e878ac0-b847-425f-a429-d8e9d9d4b91c",
   "metadata": {},
   "outputs": [
    {
     "name": "stdout",
     "output_type": "stream",
     "text": [
      "<__main__.testt2 object at 0x7f15784303d0>\n"
     ]
    }
   ],
   "source": [
    "print(obbj1)\n",
    "# observe how below statement can be avoided in cases usinf '__str__'"
   ]
  },
  {
   "cell_type": "code",
   "execution_count": 126,
   "id": "b2065e8a-ce4c-40bb-949d-963acdc16504",
   "metadata": {},
   "outputs": [],
   "source": [
    "# '__str__'\n",
    "class testt3:\n",
    "    def __init__(self):\n",
    "        self.n=345\n",
    "    \n",
    "    def print_n(self):\n",
    "        print(self.n)\n",
    "    \n",
    "    def __str__(self):\n",
    "        return 'This is magic function!'"
   ]
  },
  {
   "cell_type": "code",
   "execution_count": 127,
   "id": "a6838e33-7d1d-48f5-b28d-62fcb9a5c5c8",
   "metadata": {},
   "outputs": [],
   "source": [
    "obbj2=testt3()"
   ]
  },
  {
   "cell_type": "code",
   "execution_count": 128,
   "id": "1cefc3d0-9e8f-4a08-895b-48b41191117c",
   "metadata": {},
   "outputs": [
    {
     "name": "stdout",
     "output_type": "stream",
     "text": [
      "345\n"
     ]
    }
   ],
   "source": [
    "obbj2.print_n()"
   ]
  },
  {
   "cell_type": "code",
   "execution_count": 129,
   "id": "56cc296b-4bd0-4b6c-9f84-c5b2c6c064dd",
   "metadata": {},
   "outputs": [
    {
     "name": "stdout",
     "output_type": "stream",
     "text": [
      "This is magic function!\n"
     ]
    }
   ],
   "source": [
    "print(obbj2)"
   ]
  },
  {
   "cell_type": "markdown",
   "id": "d19fa478-5a19-4b4c-96a9-eb6884b54f24",
   "metadata": {},
   "source": [
    "## Using PROPRTY DECORATOR"
   ]
  },
  {
   "cell_type": "code",
   "execution_count": 130,
   "id": "ffca885d-7ef5-4023-940f-bece0986a4f1",
   "metadata": {},
   "outputs": [],
   "source": [
    "class acc_details:\n",
    "    \n",
    "    def __init__(self,name,virtual_id,per_id):\n",
    "        self.name=name\n",
    "        self.__per_id=per_id\n",
    "        self.__virtual_id=virtual_id\n",
    "    \n",
    "    @property\n",
    "    def virtual_id_access(self):\n",
    "        return self.__virtual_id\n",
    "    \n",
    "    @virtual_id_access.setter\n",
    "    def virtual_id_set(self,new_id):\n",
    "        if len(str(new_id))==12:\n",
    "            self.__virtual_id=new_id\n",
    "        else:\n",
    "            print('denied')\n",
    "    \n",
    "    @property\n",
    "    def per_id_access(self):\n",
    "        return self.__per_id\n",
    "    \n",
    "    @per_id_access.deleter\n",
    "    def per_id_del(self):\n",
    "        del self.__per_id"
   ]
  },
  {
   "cell_type": "code",
   "execution_count": 131,
   "id": "b9580fde-eca9-42d8-a05a-6eca0c0ddf09",
   "metadata": {},
   "outputs": [],
   "source": [
    "new_customer1=acc_details('Dunpy',100020564789,4590)"
   ]
  },
  {
   "cell_type": "code",
   "execution_count": 132,
   "id": "22909b29-3dfa-4ab4-8a0b-bdd727e91ef6",
   "metadata": {},
   "outputs": [
    {
     "data": {
      "text/plain": [
       "'Dunpy'"
      ]
     },
     "execution_count": 132,
     "metadata": {},
     "output_type": "execute_result"
    }
   ],
   "source": [
    "new_customer1.name"
   ]
  },
  {
   "cell_type": "code",
   "execution_count": 133,
   "id": "d2553fa4-1a47-41fb-8816-0b3c2dba087e",
   "metadata": {},
   "outputs": [
    {
     "data": {
      "text/plain": [
       "100020564789"
      ]
     },
     "execution_count": 133,
     "metadata": {},
     "output_type": "execute_result"
    }
   ],
   "source": [
    "# i cannot access private variable '__virtual_id' directly\n",
    "# uncommenting below statement will result in AttributeError: 'acc_details' object has no attribute '__virtual_id'\n",
    "#new_customer1.__virtual_id\n",
    "# instead i can use \n",
    "new_customer1._acc_details__virtual_id"
   ]
  },
  {
   "cell_type": "code",
   "execution_count": 134,
   "id": "7f018f18-e6ae-41a4-b1dc-fafdec137eda",
   "metadata": {},
   "outputs": [
    {
     "data": {
      "text/plain": [
       "100020564789"
      ]
     },
     "execution_count": 134,
     "metadata": {},
     "output_type": "execute_result"
    }
   ],
   "source": [
    "# Instead i can use @property method which shares private variable '__virtual_id' publically to access.\n",
    "new_customer1.virtual_id_access"
   ]
  },
  {
   "cell_type": "code",
   "execution_count": 135,
   "id": "8eff871f-7e2a-4bc0-8d45-8b70ae494649",
   "metadata": {},
   "outputs": [
    {
     "name": "stdout",
     "output_type": "stream",
     "text": [
      "denied\n"
     ]
    }
   ],
   "source": [
    "# accessing and modifying private variable '__virtuall_id' using @property method\n",
    "new_customer1.virtual_id_set = 2033"
   ]
  },
  {
   "cell_type": "code",
   "execution_count": 136,
   "id": "a10b71da-fa19-4999-b083-a04915a0cc41",
   "metadata": {},
   "outputs": [
    {
     "data": {
      "text/plain": [
       "100020564789"
      ]
     },
     "execution_count": 136,
     "metadata": {},
     "output_type": "execute_result"
    }
   ],
   "source": [
    "new_customer1.virtual_id_access"
   ]
  },
  {
   "cell_type": "code",
   "execution_count": 137,
   "id": "be5ffcf9-8d14-413f-81c2-9dca4c84a921",
   "metadata": {},
   "outputs": [],
   "source": [
    "new_customer1.virtual_id_set=123456789012"
   ]
  },
  {
   "cell_type": "code",
   "execution_count": 138,
   "id": "556fec2f-1b50-4b34-af9f-6daf4d3de5d0",
   "metadata": {},
   "outputs": [
    {
     "data": {
      "text/plain": [
       "123456789012"
      ]
     },
     "execution_count": 138,
     "metadata": {},
     "output_type": "execute_result"
    }
   ],
   "source": [
    "new_customer1.virtual_id_access"
   ]
  },
  {
   "cell_type": "code",
   "execution_count": 139,
   "id": "6ec87320-968b-481d-be52-865cabcfe134",
   "metadata": {},
   "outputs": [
    {
     "data": {
      "text/plain": [
       "123456789012"
      ]
     },
     "execution_count": 139,
     "metadata": {},
     "output_type": "execute_result"
    }
   ],
   "source": [
    "# private varible modified successfully\n",
    "new_customer1._acc_details__virtual_id"
   ]
  },
  {
   "cell_type": "code",
   "execution_count": 140,
   "id": "1724ded1-8e94-4282-96c6-1f94f8685df1",
   "metadata": {},
   "outputs": [
    {
     "data": {
      "text/plain": [
       "4590"
      ]
     },
     "execution_count": 140,
     "metadata": {},
     "output_type": "execute_result"
    }
   ],
   "source": [
    "# accessing private variable '__per_id'\n",
    "new_customer1.per_id_access"
   ]
  },
  {
   "cell_type": "code",
   "execution_count": 141,
   "id": "2ffa7f7f-cc8d-4681-b97b-f2440bdca736",
   "metadata": {},
   "outputs": [],
   "source": [
    "# deleting private varible '__per_id' using @property method\n",
    "del new_customer1.per_id_del"
   ]
  },
  {
   "cell_type": "code",
   "execution_count": 142,
   "id": "db64f18e-1852-49c2-9452-dbf9b6e58381",
   "metadata": {},
   "outputs": [],
   "source": [
    "# uncommenting below statement will result in AttributeError: 'acc_details' object has no attribute '_acc_details__per_id'\n",
    "# new_customer1.per_id_access\n",
    "pass"
   ]
  }
 ],
 "metadata": {
  "kernelspec": {
   "display_name": "Python 3 (ipykernel)",
   "language": "python",
   "name": "python3"
  },
  "language_info": {
   "codemirror_mode": {
    "name": "ipython",
    "version": 3
   },
   "file_extension": ".py",
   "mimetype": "text/x-python",
   "name": "python",
   "nbconvert_exporter": "python",
   "pygments_lexer": "ipython3",
   "version": "3.10.8"
  }
 },
 "nbformat": 4,
 "nbformat_minor": 5
}
