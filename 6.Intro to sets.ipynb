{
 "cells": [
  {
   "cell_type": "markdown",
   "id": "152aee3e-a13e-45ca-945e-083f945a9214",
   "metadata": {},
   "source": [
    "# Sets"
   ]
  },
  {
   "cell_type": "code",
   "execution_count": 70,
   "id": "6557e00f-ee29-4cbf-a5a5-d5697a11f75a",
   "metadata": {},
   "outputs": [],
   "source": [
    "s={}"
   ]
  },
  {
   "cell_type": "code",
   "execution_count": 71,
   "id": "53458b5a-3a0e-42a8-90ec-e3862416b3d8",
   "metadata": {},
   "outputs": [
    {
     "data": {
      "text/plain": [
       "dict"
      ]
     },
     "execution_count": 71,
     "metadata": {},
     "output_type": "execute_result"
    }
   ],
   "source": [
    "type(s) \n",
    "#because 's' is empty thats why compilier is considering it as 'dictionary'."
   ]
  },
  {
   "cell_type": "code",
   "execution_count": 72,
   "id": "975c5034-57c6-4ac7-a13d-e1604f65c8a1",
   "metadata": {},
   "outputs": [],
   "source": [
    "set1={1,2,3,4}"
   ]
  },
  {
   "cell_type": "code",
   "execution_count": 73,
   "id": "57fb4ca5-70bd-45bf-8c04-1f320718880d",
   "metadata": {},
   "outputs": [
    {
     "data": {
      "text/plain": [
       "set"
      ]
     },
     "execution_count": 73,
     "metadata": {},
     "output_type": "execute_result"
    }
   ],
   "source": [
    "type(set1)"
   ]
  },
  {
   "cell_type": "code",
   "execution_count": 74,
   "id": "b711fcfa-bf41-4ab4-b4b8-6186a6bc873a",
   "metadata": {},
   "outputs": [],
   "source": [
    "set2={1,2,6,5,6,6,3,4,4,7,8,9,0,0}"
   ]
  },
  {
   "cell_type": "code",
   "execution_count": 75,
   "id": "54c0cc63-57f9-46f9-a300-51928a12dbbc",
   "metadata": {},
   "outputs": [
    {
     "data": {
      "text/plain": [
       "10"
      ]
     },
     "execution_count": 75,
     "metadata": {},
     "output_type": "execute_result"
    }
   ],
   "source": [
    "len(set2)"
   ]
  },
  {
   "cell_type": "code",
   "execution_count": 76,
   "id": "b8627d0d-1f93-4dc8-a1ec-7b6946908031",
   "metadata": {},
   "outputs": [
    {
     "data": {
      "text/plain": [
       "{0, 1, 2, 3, 4, 5, 6, 7, 8, 9}"
      ]
     },
     "execution_count": 76,
     "metadata": {},
     "output_type": "execute_result"
    }
   ],
   "source": [
    "set2\n",
    "# just like mathematical a set, set removes all the duplicates and order it by itself !"
   ]
  },
  {
   "cell_type": "code",
   "execution_count": 77,
   "id": "15050bb5-da2e-4463-b7cf-8b153717f160",
   "metadata": {},
   "outputs": [],
   "source": [
    "set3={1,3,4,'Hello',7j,4,'hello','Hello'}"
   ]
  },
  {
   "cell_type": "code",
   "execution_count": 78,
   "id": "a729b8a8-a7c4-4599-9952-97e2dcb80008",
   "metadata": {},
   "outputs": [
    {
     "data": {
      "text/plain": [
       "{1, 3, 4, 7j, 'Hello', 'hello'}"
      ]
     },
     "execution_count": 78,
     "metadata": {},
     "output_type": "execute_result"
    }
   ],
   "source": [
    "set3"
   ]
  },
  {
   "cell_type": "code",
   "execution_count": 79,
   "id": "32ca04a3-aaa0-47ab-9bba-64e442f76eb6",
   "metadata": {},
   "outputs": [],
   "source": [
    "# conversion to list and tuples and vice versa"
   ]
  },
  {
   "cell_type": "code",
   "execution_count": 80,
   "id": "88acad14-dc9f-4b4a-be04-aad20e2c25a8",
   "metadata": {},
   "outputs": [],
   "source": [
    "list1=set3"
   ]
  },
  {
   "cell_type": "code",
   "execution_count": 81,
   "id": "564c38b9-2bc9-4be0-a0f4-f3c049a935ad",
   "metadata": {},
   "outputs": [
    {
     "data": {
      "text/plain": [
       "{1, 3, 4, 7j, 'Hello', 'hello'}"
      ]
     },
     "execution_count": 81,
     "metadata": {},
     "output_type": "execute_result"
    }
   ],
   "source": [
    "list1"
   ]
  },
  {
   "cell_type": "code",
   "execution_count": 82,
   "id": "4a17b430-3eb0-43ef-a9e0-850ebed47e64",
   "metadata": {},
   "outputs": [],
   "source": [
    "list2=[2,3,4,5,6,6,6,7,8,8]"
   ]
  },
  {
   "cell_type": "code",
   "execution_count": 83,
   "id": "cb652477-1fd3-4207-ad28-94c0b83c4839",
   "metadata": {},
   "outputs": [],
   "source": [
    "set4=set(list2)"
   ]
  },
  {
   "cell_type": "code",
   "execution_count": 84,
   "id": "4d57ad7f-ca3c-46df-85a2-e4ab56c12a0e",
   "metadata": {},
   "outputs": [
    {
     "data": {
      "text/plain": [
       "[2, 3, 4, 5, 6, 6, 6, 7, 8, 8]"
      ]
     },
     "execution_count": 84,
     "metadata": {},
     "output_type": "execute_result"
    }
   ],
   "source": [
    "list2"
   ]
  },
  {
   "cell_type": "code",
   "execution_count": 85,
   "id": "83c35523-edb2-452f-8ef2-88bb8654dc22",
   "metadata": {},
   "outputs": [
    {
     "data": {
      "text/plain": [
       "{2, 3, 4, 5, 6, 7, 8}"
      ]
     },
     "execution_count": 85,
     "metadata": {},
     "output_type": "execute_result"
    }
   ],
   "source": [
    "set4\n",
    "# observe we can remove or filter out duplicates in this way also!"
   ]
  },
  {
   "cell_type": "code",
   "execution_count": 86,
   "id": "6c3f6491-f908-4f2d-a199-e7776d7538c5",
   "metadata": {},
   "outputs": [],
   "source": [
    "tuple1=tuple(set4)"
   ]
  },
  {
   "cell_type": "code",
   "execution_count": 87,
   "id": "7d6188be-7fa3-4645-97d6-cd97b9bbdb43",
   "metadata": {},
   "outputs": [
    {
     "data": {
      "text/plain": [
       "(2, 3, 4, 5, 6, 7, 8)"
      ]
     },
     "execution_count": 87,
     "metadata": {},
     "output_type": "execute_result"
    }
   ],
   "source": [
    "tuple1"
   ]
  },
  {
   "cell_type": "code",
   "execution_count": 88,
   "id": "3b610fc7-87f8-4ab9-8a20-0fb12b8d0291",
   "metadata": {},
   "outputs": [
    {
     "data": {
      "text/plain": [
       "tuple"
      ]
     },
     "execution_count": 88,
     "metadata": {},
     "output_type": "execute_result"
    }
   ],
   "source": [
    "type(tuple1)"
   ]
  },
  {
   "cell_type": "code",
   "execution_count": 89,
   "id": "0f7bee42-0203-4e3d-926b-366f499867d9",
   "metadata": {},
   "outputs": [
    {
     "ename": "TypeError",
     "evalue": "unhashable type: 'list'",
     "output_type": "error",
     "traceback": [
      "\u001b[0;31m---------------------------------------------------------------------------\u001b[0m",
      "\u001b[0;31mTypeError\u001b[0m                                 Traceback (most recent call last)",
      "Cell \u001b[0;32mIn[89], line 2\u001b[0m\n\u001b[1;32m      1\u001b[0m \u001b[38;5;66;03m# we cannot have lists as set elements as lists are unhashable ( or mutable)\u001b[39;00m\n\u001b[0;32m----> 2\u001b[0m set5\u001b[38;5;241m=\u001b[39m{\u001b[38;5;241m1\u001b[39m,\u001b[38;5;241m2\u001b[39m,\u001b[38;5;241m3\u001b[39m,\u001b[38;5;124m'\u001b[39m\u001b[38;5;124mhello\u001b[39m\u001b[38;5;124m'\u001b[39m,\u001b[38;5;241m4\u001b[39m,\u001b[38;5;241m5\u001b[39m,[\u001b[38;5;241m11\u001b[39m,\u001b[38;5;241m22\u001b[39m,\u001b[38;5;241m33\u001b[39m]}\n",
      "\u001b[0;31mTypeError\u001b[0m: unhashable type: 'list'"
     ]
    }
   ],
   "source": [
    "# we cannot have lists as set elements as lists are unhashable ( or mutable)\n",
    "set5={1,2,3,'hello',4,5,[11,22,33]}"
   ]
  },
  {
   "cell_type": "code",
   "execution_count": 90,
   "id": "add5b087-e32c-40f5-9e11-23f8f5b07c2f",
   "metadata": {},
   "outputs": [],
   "source": [
    "# we can have tuple as a set element as tuple are hashable\n",
    "set5={1,2,3,'hello',(1,2,3)}"
   ]
  },
  {
   "cell_type": "code",
   "execution_count": 91,
   "id": "f96cf2f1-64a2-4ac6-acc5-e7ad64de99b9",
   "metadata": {},
   "outputs": [
    {
     "data": {
      "text/plain": [
       "{(1, 2, 3), 1, 2, 3, 'hello'}"
      ]
     },
     "execution_count": 91,
     "metadata": {},
     "output_type": "execute_result"
    }
   ],
   "source": [
    "set5"
   ]
  },
  {
   "cell_type": "code",
   "execution_count": 92,
   "id": "8fcb6727-98d9-4a26-891d-d65b972e6313",
   "metadata": {},
   "outputs": [
    {
     "ename": "TypeError",
     "evalue": "'set' object is not subscriptable",
     "output_type": "error",
     "traceback": [
      "\u001b[0;31m---------------------------------------------------------------------------\u001b[0m",
      "\u001b[0;31mTypeError\u001b[0m                                 Traceback (most recent call last)",
      "Cell \u001b[0;32mIn[92], line 3\u001b[0m\n\u001b[1;32m      1\u001b[0m \u001b[38;5;66;03m# also we cannot fetch or call elements of sets by indices just like in case of tuples and lists\u001b[39;00m\n\u001b[1;32m      2\u001b[0m \u001b[38;5;66;03m# but we iterate it through 'for' loop\u001b[39;00m\n\u001b[0;32m----> 3\u001b[0m \u001b[43mset5\u001b[49m\u001b[43m[\u001b[49m\u001b[38;5;241;43m1\u001b[39;49m\u001b[43m]\u001b[49m\n",
      "\u001b[0;31mTypeError\u001b[0m: 'set' object is not subscriptable"
     ]
    }
   ],
   "source": [
    "# also we cannot fetch or call elements of sets by indices just like in case of tuples and lists\n",
    "# but we iterate it through 'for' loop\n",
    "set5[1]"
   ]
  },
  {
   "cell_type": "code",
   "execution_count": 93,
   "id": "3d5ce331-0e85-4072-8ec1-3ff978bbb4cf",
   "metadata": {},
   "outputs": [
    {
     "name": "stdout",
     "output_type": "stream",
     "text": [
      "1\n",
      "2\n",
      "3\n",
      "hello\n",
      "(1, 2, 3)\n"
     ]
    }
   ],
   "source": [
    "for i in set5:\n",
    "    print(i)"
   ]
  },
  {
   "cell_type": "code",
   "execution_count": 94,
   "id": "e50fd770-296c-47ce-a251-aa4627423626",
   "metadata": {},
   "outputs": [
    {
     "data": {
      "text/plain": [
       "{2, 3, 4, 5, 6, 7, 8}"
      ]
     },
     "execution_count": 94,
     "metadata": {},
     "output_type": "execute_result"
    }
   ],
   "source": [
    "set4"
   ]
  },
  {
   "cell_type": "code",
   "execution_count": 95,
   "id": "2e4b9f97-6784-49d5-8f84-7c749b836a9a",
   "metadata": {},
   "outputs": [],
   "source": [
    "set4.add(9)"
   ]
  },
  {
   "cell_type": "code",
   "execution_count": 96,
   "id": "7ee8ee2b-b74d-4eef-b0fe-27573231a021",
   "metadata": {},
   "outputs": [
    {
     "data": {
      "text/plain": [
       "{2, 3, 4, 5, 6, 7, 8, 9}"
      ]
     },
     "execution_count": 96,
     "metadata": {},
     "output_type": "execute_result"
    }
   ],
   "source": [
    "set4"
   ]
  },
  {
   "cell_type": "code",
   "execution_count": 97,
   "id": "89777b9b-7d1e-4a53-b6b3-21812ca7dacb",
   "metadata": {},
   "outputs": [
    {
     "data": {
      "text/plain": [
       "2"
      ]
     },
     "execution_count": 97,
     "metadata": {},
     "output_type": "execute_result"
    }
   ],
   "source": [
    "set4.pop()"
   ]
  },
  {
   "cell_type": "code",
   "execution_count": 98,
   "id": "e872f4b2-7c37-4d8a-be0e-613f05d8f118",
   "metadata": {},
   "outputs": [
    {
     "data": {
      "text/plain": [
       "{3, 4, 5, 6, 7, 8, 9}"
      ]
     },
     "execution_count": 98,
     "metadata": {},
     "output_type": "execute_result"
    }
   ],
   "source": [
    "set4"
   ]
  },
  {
   "cell_type": "code",
   "execution_count": 99,
   "id": "ed72ece6-e5ab-471e-9625-5314f7d0722d",
   "metadata": {},
   "outputs": [
    {
     "data": {
      "text/plain": [
       "3"
      ]
     },
     "execution_count": 99,
     "metadata": {},
     "output_type": "execute_result"
    }
   ],
   "source": [
    "set4.pop()"
   ]
  },
  {
   "cell_type": "code",
   "execution_count": 100,
   "id": "1fc2dd80-c645-4b51-93fe-5858d0a20564",
   "metadata": {},
   "outputs": [
    {
     "data": {
      "text/plain": [
       "{4, 5, 6, 7, 8, 9}"
      ]
     },
     "execution_count": 100,
     "metadata": {},
     "output_type": "execute_result"
    }
   ],
   "source": [
    "set4"
   ]
  },
  {
   "cell_type": "code",
   "execution_count": 101,
   "id": "298ef450-6ad3-44ea-85b1-62cc7cee4b48",
   "metadata": {},
   "outputs": [
    {
     "data": {
      "text/plain": [
       "4"
      ]
     },
     "execution_count": 101,
     "metadata": {},
     "output_type": "execute_result"
    }
   ],
   "source": [
    "set4.pop()"
   ]
  },
  {
   "cell_type": "code",
   "execution_count": 102,
   "id": "7986630a-1214-4e1a-a8cd-5b47e082f870",
   "metadata": {},
   "outputs": [
    {
     "data": {
      "text/plain": [
       "{5, 6, 7, 8, 9}"
      ]
     },
     "execution_count": 102,
     "metadata": {},
     "output_type": "execute_result"
    }
   ],
   "source": [
    "set4"
   ]
  },
  {
   "cell_type": "code",
   "execution_count": 103,
   "id": "0e449958-7f7c-4f72-afff-8efb0b999cda",
   "metadata": {},
   "outputs": [],
   "source": [
    "set4.clear()"
   ]
  },
  {
   "cell_type": "code",
   "execution_count": 104,
   "id": "fb6390c3-8247-4fc2-9cb8-da5464962ee9",
   "metadata": {},
   "outputs": [
    {
     "data": {
      "text/plain": [
       "set()"
      ]
     },
     "execution_count": 104,
     "metadata": {},
     "output_type": "execute_result"
    }
   ],
   "source": [
    "set4"
   ]
  },
  {
   "cell_type": "code",
   "execution_count": 105,
   "id": "097c27ec-bec9-4abb-ae20-9c82d337c5c8",
   "metadata": {},
   "outputs": [],
   "source": [
    "set6={1,3,5,7,9}\n",
    "set7={2,4,6,8,9}"
   ]
  },
  {
   "cell_type": "code",
   "execution_count": 106,
   "id": "593bc88d-05cb-4949-8486-9a37b51a1d0a",
   "metadata": {},
   "outputs": [
    {
     "data": {
      "text/plain": [
       "{1, 3, 5, 7}"
      ]
     },
     "execution_count": 106,
     "metadata": {},
     "output_type": "execute_result"
    }
   ],
   "source": [
    "set6.difference(set7)"
   ]
  },
  {
   "cell_type": "code",
   "execution_count": 107,
   "id": "358e6b34-cf86-4303-9d44-f9573eff9d84",
   "metadata": {},
   "outputs": [
    {
     "data": {
      "text/plain": [
       "{2, 4, 6, 8}"
      ]
     },
     "execution_count": 107,
     "metadata": {},
     "output_type": "execute_result"
    }
   ],
   "source": [
    "set7.difference(set6)"
   ]
  },
  {
   "cell_type": "code",
   "execution_count": 108,
   "id": "9153bd03-1334-4518-924a-93b3d28f957d",
   "metadata": {},
   "outputs": [],
   "source": [
    "set8=set6"
   ]
  },
  {
   "cell_type": "code",
   "execution_count": 109,
   "id": "77ef9a3f-6939-464e-a4c0-fff0be4982d5",
   "metadata": {},
   "outputs": [
    {
     "data": {
      "text/plain": [
       "{1, 3, 5, 7, 9}"
      ]
     },
     "execution_count": 109,
     "metadata": {},
     "output_type": "execute_result"
    }
   ],
   "source": [
    "set8"
   ]
  },
  {
   "cell_type": "code",
   "execution_count": 110,
   "id": "8a970fdb-942c-44b8-a55a-9fb671a18e74",
   "metadata": {},
   "outputs": [
    {
     "data": {
      "text/plain": [
       "set()"
      ]
     },
     "execution_count": 110,
     "metadata": {},
     "output_type": "execute_result"
    }
   ],
   "source": [
    "set8.difference(set6)\n",
    "# os gonna result in empty"
   ]
  }
 ],
 "metadata": {
  "kernelspec": {
   "display_name": "Python 3 (ipykernel)",
   "language": "python",
   "name": "python3"
  },
  "language_info": {
   "codemirror_mode": {
    "name": "ipython",
    "version": 3
   },
   "file_extension": ".py",
   "mimetype": "text/x-python",
   "name": "python",
   "nbconvert_exporter": "python",
   "pygments_lexer": "ipython3",
   "version": "3.10.8"
  }
 },
 "nbformat": 4,
 "nbformat_minor": 5
}
