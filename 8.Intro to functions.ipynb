{
 "cells": [
  {
   "cell_type": "markdown",
   "id": "dd02a28d-83c3-43b7-a34d-490cf175a0e3",
   "metadata": {},
   "source": [
    "# FUNCTIONS\n",
    "\n",
    "### Function is block of a program/code that runs when it is called.\n",
    "### Majorly are of two types:-\n",
    "### (1) Inbuilt Functions e.g. print(),len(),sqrt() etc.\n",
    "### (2) User defind Functions e.g. any_name()"
   ]
  },
  {
   "cell_type": "code",
   "execution_count": 93,
   "id": "1ff2231d-afde-4136-8b7d-b692b883609c",
   "metadata": {},
   "outputs": [],
   "source": [
    "#defintion \n",
    "#functions are defind using 'def' keyword\n",
    "def function1():\n",
    "    pass"
   ]
  },
  {
   "cell_type": "code",
   "execution_count": 94,
   "id": "8e89942d-d5d2-4bba-9683-385c2aa8b8b5",
   "metadata": {},
   "outputs": [
    {
     "ename": "SyntaxError",
     "evalue": "incomplete input (2202699453.py, line 2)",
     "output_type": "error",
     "traceback": [
      "\u001b[0;36m  Cell \u001b[0;32mIn[94], line 2\u001b[0;36m\u001b[0m\n\u001b[0;31m    def fun2():\u001b[0m\n\u001b[0m               ^\u001b[0m\n\u001b[0;31mSyntaxError\u001b[0m\u001b[0;31m:\u001b[0m incomplete input\n"
     ]
    }
   ],
   "source": [
    "#function definition cannot be empty\n",
    "def fun2():"
   ]
  },
  {
   "cell_type": "code",
   "execution_count": null,
   "id": "ef9257bc-7392-4f77-93f5-6e6c24b7645a",
   "metadata": {},
   "outputs": [],
   "source": [
    "def fun1():\n",
    "    print('Hello World') #Inbuilt function"
   ]
  },
  {
   "cell_type": "code",
   "execution_count": 95,
   "id": "ec90fa55-f4c0-4e59-8837-f352915ff552",
   "metadata": {},
   "outputs": [
    {
     "ename": "NameError",
     "evalue": "name 'fun1' is not defined",
     "output_type": "error",
     "traceback": [
      "\u001b[0;31m---------------------------------------------------------------------------\u001b[0m",
      "\u001b[0;31mNameError\u001b[0m                                 Traceback (most recent call last)",
      "Cell \u001b[0;32mIn[95], line 2\u001b[0m\n\u001b[1;32m      1\u001b[0m \u001b[38;5;66;03m# calling a function\u001b[39;00m\n\u001b[0;32m----> 2\u001b[0m \u001b[43mfun1\u001b[49m()\n",
      "\u001b[0;31mNameError\u001b[0m: name 'fun1' is not defined"
     ]
    }
   ],
   "source": [
    "# calling a function\n",
    "fun1()"
   ]
  },
  {
   "cell_type": "code",
   "execution_count": null,
   "id": "557b753c-0b24-4617-933e-896de4427197",
   "metadata": {},
   "outputs": [],
   "source": [
    "#beacuse print() return type is 'NoneType'\n",
    "fun1() + ' Hello!'"
   ]
  },
  {
   "cell_type": "markdown",
   "id": "857cb89c-f281-4605-b23f-7bdd77d50ddc",
   "metadata": {},
   "source": [
    "## utilizing RETURN"
   ]
  },
  {
   "cell_type": "code",
   "execution_count": null,
   "id": "670523e3-0697-4d5b-97af-a6ac0aa0f2cb",
   "metadata": {},
   "outputs": [],
   "source": [
    "def fun2():\n",
    "    return 'functions are fun!'"
   ]
  },
  {
   "cell_type": "code",
   "execution_count": 96,
   "id": "b1cf32e2-b90a-44a1-8dc7-b06deaf0895d",
   "metadata": {},
   "outputs": [
    {
     "ename": "NameError",
     "evalue": "name 'fun2' is not defined",
     "output_type": "error",
     "traceback": [
      "\u001b[0;31m---------------------------------------------------------------------------\u001b[0m",
      "\u001b[0;31mNameError\u001b[0m                                 Traceback (most recent call last)",
      "Cell \u001b[0;32mIn[96], line 1\u001b[0m\n\u001b[0;32m----> 1\u001b[0m \u001b[43mfun2\u001b[49m()\n",
      "\u001b[0;31mNameError\u001b[0m: name 'fun2' is not defined"
     ]
    }
   ],
   "source": [
    "fun2()"
   ]
  },
  {
   "cell_type": "code",
   "execution_count": null,
   "id": "6b31413b-a5f8-4565-afac-ff8a4783286b",
   "metadata": {},
   "outputs": [],
   "source": [
    "fun2() + ' yes they are!'"
   ]
  },
  {
   "cell_type": "code",
   "execution_count": null,
   "id": "ca5d231f-42aa-49ef-b559-fbf51400dc94",
   "metadata": {},
   "outputs": [],
   "source": [
    "def fun3():\n",
    "    return 5+8"
   ]
  },
  {
   "cell_type": "code",
   "execution_count": null,
   "id": "413955b9-2a4e-4356-b914-50306c67ca35",
   "metadata": {},
   "outputs": [],
   "source": [
    "type(fun3)"
   ]
  },
  {
   "cell_type": "code",
   "execution_count": 97,
   "id": "d29f89d2-ca2a-4729-9029-6fdf884ad6db",
   "metadata": {},
   "outputs": [
    {
     "ename": "NameError",
     "evalue": "name 'fun3' is not defined",
     "output_type": "error",
     "traceback": [
      "\u001b[0;31m---------------------------------------------------------------------------\u001b[0m",
      "\u001b[0;31mNameError\u001b[0m                                 Traceback (most recent call last)",
      "Cell \u001b[0;32mIn[97], line 2\u001b[0m\n\u001b[1;32m      1\u001b[0m \u001b[38;5;66;03m# outputs the type of data value returned by 'return' statement\u001b[39;00m\n\u001b[0;32m----> 2\u001b[0m \u001b[38;5;28mtype\u001b[39m(\u001b[43mfun3\u001b[49m())\n",
      "\u001b[0;31mNameError\u001b[0m: name 'fun3' is not defined"
     ]
    }
   ],
   "source": [
    "# outputs the type of data value returned by 'return' statement\n",
    "type(fun3())"
   ]
  },
  {
   "cell_type": "code",
   "execution_count": null,
   "id": "435e29c3-988d-44e9-a5ef-c449be08b86e",
   "metadata": {},
   "outputs": [],
   "source": [
    "fun3()"
   ]
  },
  {
   "cell_type": "code",
   "execution_count": null,
   "id": "6b8c61e5-9dc5-42ee-ab5d-a966c4a9c929",
   "metadata": {},
   "outputs": [],
   "source": [
    "fun3() * 13"
   ]
  },
  {
   "cell_type": "code",
   "execution_count": null,
   "id": "aef5e82a-ce7a-4bb4-9e37-23f61a5d91f5",
   "metadata": {},
   "outputs": [],
   "source": [
    "# 'return' statement can return many values of different data types\n",
    "def fun4():\n",
    "    return 45,'functions',2+9j,True"
   ]
  },
  {
   "cell_type": "code",
   "execution_count": 98,
   "id": "76323a32-5402-4637-8f5a-c27153009e29",
   "metadata": {},
   "outputs": [
    {
     "ename": "NameError",
     "evalue": "name 'fun4' is not defined",
     "output_type": "error",
     "traceback": [
      "\u001b[0;31m---------------------------------------------------------------------------\u001b[0m",
      "\u001b[0;31mNameError\u001b[0m                                 Traceback (most recent call last)",
      "Cell \u001b[0;32mIn[98], line 1\u001b[0m\n\u001b[0;32m----> 1\u001b[0m \u001b[43mfun4\u001b[49m()\n",
      "\u001b[0;31mNameError\u001b[0m: name 'fun4' is not defined"
     ]
    }
   ],
   "source": [
    "fun4()"
   ]
  },
  {
   "cell_type": "code",
   "execution_count": null,
   "id": "947a99d0-abf7-42e4-bd92-44a6c4b83559",
   "metadata": {},
   "outputs": [],
   "source": [
    "fun4()[2]"
   ]
  },
  {
   "cell_type": "code",
   "execution_count": null,
   "id": "d1d86289-b9af-48d1-bc24-d979c29ff3af",
   "metadata": {},
   "outputs": [],
   "source": [
    "def fun5():\n",
    "    flist=[1,2,3,4,5]\n",
    "    return flist"
   ]
  },
  {
   "cell_type": "code",
   "execution_count": null,
   "id": "82505a69-f1ec-4976-8a2e-20a3f497e025",
   "metadata": {},
   "outputs": [],
   "source": [
    "fun5()"
   ]
  },
  {
   "cell_type": "code",
   "execution_count": 99,
   "id": "a4e6230d-919c-4cf3-83df-4e90588325ef",
   "metadata": {},
   "outputs": [
    {
     "ename": "NameError",
     "evalue": "name 'fun5' is not defined",
     "output_type": "error",
     "traceback": [
      "\u001b[0;31m---------------------------------------------------------------------------\u001b[0m",
      "\u001b[0;31mNameError\u001b[0m                                 Traceback (most recent call last)",
      "Cell \u001b[0;32mIn[99], line 1\u001b[0m\n\u001b[0;32m----> 1\u001b[0m \u001b[43mfun5\u001b[49m()[\u001b[38;5;241m3\u001b[39m]\n",
      "\u001b[0;31mNameError\u001b[0m: name 'fun5' is not defined"
     ]
    }
   ],
   "source": [
    "fun5()[3]"
   ]
  },
  {
   "cell_type": "code",
   "execution_count": null,
   "id": "1a4c38c4-1b5a-46f6-a60c-0a291f8b9702",
   "metadata": {},
   "outputs": [],
   "source": [
    "def fun6():\n",
    "    return 31,'tan',3.1415,[9,8,7,6,5]"
   ]
  },
  {
   "cell_type": "code",
   "execution_count": null,
   "id": "e260ab56-dd94-45e3-bda8-b097fc741d98",
   "metadata": {},
   "outputs": [],
   "source": [
    "fun6()"
   ]
  },
  {
   "cell_type": "code",
   "execution_count": null,
   "id": "b0111733-8b25-4a39-8c52-877dbb79493a",
   "metadata": {},
   "outputs": [],
   "source": [
    "fun6()[3][2]"
   ]
  },
  {
   "cell_type": "code",
   "execution_count": null,
   "id": "b2c5540c-04d0-418b-bedf-aa255429444f",
   "metadata": {},
   "outputs": [],
   "source": [
    "a = 1,2,3,4,5"
   ]
  },
  {
   "cell_type": "code",
   "execution_count": 100,
   "id": "1a63a09b-a248-4cda-82ef-547be40ca063",
   "metadata": {},
   "outputs": [
    {
     "ename": "NameError",
     "evalue": "name 'a' is not defined",
     "output_type": "error",
     "traceback": [
      "\u001b[0;31m---------------------------------------------------------------------------\u001b[0m",
      "\u001b[0;31mNameError\u001b[0m                                 Traceback (most recent call last)",
      "Cell \u001b[0;32mIn[100], line 1\u001b[0m\n\u001b[0;32m----> 1\u001b[0m \u001b[43ma\u001b[49m\n",
      "\u001b[0;31mNameError\u001b[0m: name 'a' is not defined"
     ]
    }
   ],
   "source": [
    "a"
   ]
  },
  {
   "cell_type": "code",
   "execution_count": null,
   "id": "808b8e9e-cf9c-418c-84ba-45d54fe47835",
   "metadata": {},
   "outputs": [],
   "source": [
    "type(a)"
   ]
  },
  {
   "cell_type": "code",
   "execution_count": 101,
   "id": "a97e194c-28bc-4141-bc0d-8d001dbcb93d",
   "metadata": {},
   "outputs": [
    {
     "ename": "NameError",
     "evalue": "name 'fun6' is not defined",
     "output_type": "error",
     "traceback": [
      "\u001b[0;31m---------------------------------------------------------------------------\u001b[0m",
      "\u001b[0;31mNameError\u001b[0m                                 Traceback (most recent call last)",
      "Cell \u001b[0;32mIn[101], line 1\u001b[0m\n\u001b[0;32m----> 1\u001b[0m \u001b[38;5;28mtype\u001b[39m(\u001b[43mfun6\u001b[49m())\n",
      "\u001b[0;31mNameError\u001b[0m: name 'fun6' is not defined"
     ]
    }
   ],
   "source": [
    "type(fun6())"
   ]
  },
  {
   "cell_type": "code",
   "execution_count": null,
   "id": "2f132467-72cd-4312-bb78-7fa36c22dd67",
   "metadata": {},
   "outputs": [],
   "source": [
    "type(fun6)"
   ]
  },
  {
   "cell_type": "markdown",
   "id": "a6568233-902d-4ffe-b28e-59aa38cb69d3",
   "metadata": {},
   "source": [
    "## ARGUEMENTS / PARAMETERS"
   ]
  },
  {
   "cell_type": "code",
   "execution_count": null,
   "id": "61e76dab-7eb6-44a2-a55a-d76e0c0bd619",
   "metadata": {},
   "outputs": [],
   "source": [
    "# giving parameters to function\n",
    "def fun7(length,breadth):\n",
    "    perimeter=length+breadth\n",
    "    return perimeter"
   ]
  },
  {
   "cell_type": "code",
   "execution_count": null,
   "id": "7c874f7c-19c7-41eb-b9e7-367d27b9193d",
   "metadata": {},
   "outputs": [],
   "source": [
    "#passing arguemetns to function\n",
    "fun7(4,9)"
   ]
  },
  {
   "cell_type": "code",
   "execution_count": 102,
   "id": "b6c4c6eb-ee3a-49ec-a985-288998a3a633",
   "metadata": {},
   "outputs": [
    {
     "ename": "NameError",
     "evalue": "name 'fun7' is not defined",
     "output_type": "error",
     "traceback": [
      "\u001b[0;31m---------------------------------------------------------------------------\u001b[0m",
      "\u001b[0;31mNameError\u001b[0m                                 Traceback (most recent call last)",
      "Cell \u001b[0;32mIn[102], line 2\u001b[0m\n\u001b[1;32m      1\u001b[0m \u001b[38;5;66;03m#passing different arguements to functions\u001b[39;00m\n\u001b[0;32m----> 2\u001b[0m \u001b[43mfun7\u001b[49m(\u001b[38;5;124m'\u001b[39m\u001b[38;5;124mhello \u001b[39m\u001b[38;5;124m'\u001b[39m , \u001b[38;5;124m'\u001b[39m\u001b[38;5;124mfunctions\u001b[39m\u001b[38;5;124m'\u001b[39m)\n",
      "\u001b[0;31mNameError\u001b[0m: name 'fun7' is not defined"
     ]
    }
   ],
   "source": [
    "#passing different arguements to functions\n",
    "fun7('hello ' , 'functions')"
   ]
  },
  {
   "cell_type": "code",
   "execution_count": 103,
   "id": "7688d249-88b7-496a-8966-922fb0a2a2d1",
   "metadata": {},
   "outputs": [
    {
     "ename": "NameError",
     "evalue": "name 'fun7' is not defined",
     "output_type": "error",
     "traceback": [
      "\u001b[0;31m---------------------------------------------------------------------------\u001b[0m",
      "\u001b[0;31mNameError\u001b[0m                                 Traceback (most recent call last)",
      "Cell \u001b[0;32mIn[103], line 2\u001b[0m\n\u001b[1;32m      1\u001b[0m \u001b[38;5;66;03m# if arguements fail to satisfy function definition, its gonna result in error\u001b[39;00m\n\u001b[0;32m----> 2\u001b[0m \u001b[43mfun7\u001b[49m(\u001b[38;5;241m5\u001b[39m,\u001b[38;5;124m'\u001b[39m\u001b[38;5;124mhello\u001b[39m\u001b[38;5;124m'\u001b[39m)\n",
      "\u001b[0;31mNameError\u001b[0m: name 'fun7' is not defined"
     ]
    }
   ],
   "source": [
    "# if arguements fail to satisfy function definition, its gonna result in error\n",
    "fun7(5,'hello')"
   ]
  },
  {
   "cell_type": "code",
   "execution_count": null,
   "id": "ec15ca05-5b1d-4dd5-a269-385396860778",
   "metadata": {},
   "outputs": [],
   "source": [
    "def fun8(a,b):\n",
    "    c=a+b\n",
    "    e=a*5\n",
    "    return c,e"
   ]
  },
  {
   "cell_type": "code",
   "execution_count": null,
   "id": "a672858e-cb15-436f-8ac8-d9e7456e7ff3",
   "metadata": {},
   "outputs": [],
   "source": [
    "fun8(8,5)"
   ]
  },
  {
   "cell_type": "code",
   "execution_count": null,
   "id": "adaddc90-7d08-43bc-8feb-d18b70db4104",
   "metadata": {},
   "outputs": [],
   "source": [
    "fun8('Coding' , ' Warrior')"
   ]
  },
  {
   "cell_type": "code",
   "execution_count": null,
   "id": "99d76020-0228-419a-9e69-5e52f41c336c",
   "metadata": {},
   "outputs": [],
   "source": [
    "new=fun8('Coding' , ' Warrior')"
   ]
  },
  {
   "cell_type": "code",
   "execution_count": null,
   "id": "dc2f2de3-bf6e-48c0-ae95-0e30d8c5617e",
   "metadata": {},
   "outputs": [],
   "source": [
    "new"
   ]
  },
  {
   "cell_type": "code",
   "execution_count": 104,
   "id": "06e8a74f-cca8-41a6-9770-8d88fd5d0820",
   "metadata": {},
   "outputs": [
    {
     "ename": "NameError",
     "evalue": "name 'new' is not defined",
     "output_type": "error",
     "traceback": [
      "\u001b[0;31m---------------------------------------------------------------------------\u001b[0m",
      "\u001b[0;31mNameError\u001b[0m                                 Traceback (most recent call last)",
      "Cell \u001b[0;32mIn[104], line 1\u001b[0m\n\u001b[0;32m----> 1\u001b[0m \u001b[38;5;28mtype\u001b[39m(\u001b[43mnew\u001b[49m)\n",
      "\u001b[0;31mNameError\u001b[0m: name 'new' is not defined"
     ]
    }
   ],
   "source": [
    "type(new)"
   ]
  },
  {
   "cell_type": "code",
   "execution_count": null,
   "id": "c022379f-d459-42c9-9a62-b1f50cc88a33",
   "metadata": {},
   "outputs": [],
   "source": [
    "list1=[13,39,'functor',4.345,False,'Hom']"
   ]
  },
  {
   "cell_type": "code",
   "execution_count": null,
   "id": "a67ac31e-f66a-458d-b345-bd3be4efd54b",
   "metadata": {},
   "outputs": [],
   "source": [
    "# A function that prints a list with numbers only from a list\n",
    "def fun9(l1):\n",
    "    l=[]\n",
    "    for i in l1:\n",
    "        if type(i)==int or type(i)==float:\n",
    "            l.append(i)\n",
    "    return l"
   ]
  },
  {
   "cell_type": "code",
   "execution_count": null,
   "id": "8e5dc4bd-d60b-4fc3-a3ae-58945ce6eab0",
   "metadata": {},
   "outputs": [],
   "source": [
    "fun9(list1)"
   ]
  },
  {
   "cell_type": "code",
   "execution_count": null,
   "id": "4f46b875-c631-4e89-8cd7-e187040f6fe7",
   "metadata": {},
   "outputs": [],
   "source": [
    "list2 = [True,23,'pie',45,'chi',89,65,23+9j,[90,76,45,43,89,12],False,'Xie']"
   ]
  },
  {
   "cell_type": "code",
   "execution_count": null,
   "id": "d29c632f-fdea-487a-8c89-53b3a346918b",
   "metadata": {},
   "outputs": [],
   "source": [
    "# A function that prints a list of numbers from a passed list\n",
    "def fun10(l2):\n",
    "    m=[]\n",
    "    for i in l2:\n",
    "        if type(i)==list:\n",
    "            for j in i:\n",
    "                if type(j)==int or type(j)==float:\n",
    "                    m.append(j)\n",
    "        elif type(i)==int or type(i)==float:\n",
    "            m.append(i)\n",
    "    return m"
   ]
  },
  {
   "cell_type": "code",
   "execution_count": null,
   "id": "6f03600b-106b-4bc4-bff9-4d9c87576085",
   "metadata": {},
   "outputs": [],
   "source": [
    "fun10(list2)"
   ]
  },
  {
   "cell_type": "code",
   "execution_count": null,
   "id": "4321fc48-41b5-4612-9da6-aaa25d4e593a",
   "metadata": {},
   "outputs": [],
   "source": [
    "list3 = [ 3.78 , True , 67 , [34,'hom',56,4.456,False,34,67] , 'endo' , 6j , 'mono' ,45]"
   ]
  },
  {
   "cell_type": "code",
   "execution_count": null,
   "id": "d7af7161-a0a0-4963-902a-5ed9c4c8e755",
   "metadata": {},
   "outputs": [],
   "source": [
    "fun10(list3)"
   ]
  },
  {
   "cell_type": "markdown",
   "id": "5099d1de-b80b-4c9c-bac1-0bb914d7d593",
   "metadata": {},
   "source": [
    "## Understanding n number of ARGUEMENTS"
   ]
  },
  {
   "cell_type": "code",
   "execution_count": null,
   "id": "abbaa3c2-15a9-46a3-81ff-e41171de0b6e",
   "metadata": {},
   "outputs": [],
   "source": [
    "def fun11(x,y,z,w,v):\n",
    "    return x,y,z,w,v"
   ]
  },
  {
   "cell_type": "code",
   "execution_count": 105,
   "id": "7c07ec96-73a4-4834-8792-7d1826ad17f1",
   "metadata": {},
   "outputs": [
    {
     "ename": "NameError",
     "evalue": "name 'fun11' is not defined",
     "output_type": "error",
     "traceback": [
      "\u001b[0;31m---------------------------------------------------------------------------\u001b[0m",
      "\u001b[0;31mNameError\u001b[0m                                 Traceback (most recent call last)",
      "Cell \u001b[0;32mIn[105], line 1\u001b[0m\n\u001b[0;32m----> 1\u001b[0m \u001b[43mfun11\u001b[49m(\u001b[38;5;241m9\u001b[39m,\u001b[38;5;241m8\u001b[39m,\u001b[38;5;241m7\u001b[39m,\u001b[38;5;241m6\u001b[39m,\u001b[38;5;241m5\u001b[39m)\n",
      "\u001b[0;31mNameError\u001b[0m: name 'fun11' is not defined"
     ]
    }
   ],
   "source": [
    "fun11(9,8,7,6,5)"
   ]
  },
  {
   "cell_type": "code",
   "execution_count": null,
   "id": "77d2f2a5-fc11-48e8-8564-05ec438068f7",
   "metadata": {},
   "outputs": [],
   "source": [
    "# In this way function will receive a tuple of arguements\n",
    "def fun12(*args):\n",
    "    return args"
   ]
  },
  {
   "cell_type": "code",
   "execution_count": null,
   "id": "9b560512-d835-467c-b774-69a035b7c5f9",
   "metadata": {},
   "outputs": [],
   "source": [
    "fun12()"
   ]
  },
  {
   "cell_type": "code",
   "execution_count": null,
   "id": "e90faa5e-dbe8-4aea-9659-3caee82913a3",
   "metadata": {},
   "outputs": [],
   "source": [
    "type(fun12())"
   ]
  },
  {
   "cell_type": "code",
   "execution_count": null,
   "id": "ef380087-2170-4ab3-9044-351553a626d1",
   "metadata": {},
   "outputs": [],
   "source": [
    "fun12(4,True,'tan,5.54')"
   ]
  },
  {
   "cell_type": "code",
   "execution_count": 106,
   "id": "71ba78f1-bc84-42d4-8995-75adc376a10c",
   "metadata": {},
   "outputs": [
    {
     "ename": "NameError",
     "evalue": "name 'fun12' is not defined",
     "output_type": "error",
     "traceback": [
      "\u001b[0;31m---------------------------------------------------------------------------\u001b[0m",
      "\u001b[0;31mNameError\u001b[0m                                 Traceback (most recent call last)",
      "Cell \u001b[0;32mIn[106], line 1\u001b[0m\n\u001b[0;32m----> 1\u001b[0m \u001b[43mfun12\u001b[49m(\u001b[38;5;241m6\u001b[39m,\u001b[38;5;241m7\u001b[39mj,\u001b[38;5;28;01mTrue\u001b[39;00m,\u001b[38;5;124m'\u001b[39m\u001b[38;5;124mtanm\u001b[39m\u001b[38;5;124m'\u001b[39m)[\u001b[38;5;241m3\u001b[39m]\n",
      "\u001b[0;31mNameError\u001b[0m: name 'fun12' is not defined"
     ]
    }
   ],
   "source": [
    "fun12(6,7j,True,'tanm')[3]"
   ]
  },
  {
   "cell_type": "code",
   "execution_count": null,
   "id": "d6fa1273-4167-4714-abd2-fc54b046eecd",
   "metadata": {},
   "outputs": [],
   "source": [
    "fun12(5,'acb',[3,4,5],7.314,8j)"
   ]
  },
  {
   "cell_type": "code",
   "execution_count": null,
   "id": "6831eed1-c0cb-4be3-8f5d-e04e30510743",
   "metadata": {},
   "outputs": [],
   "source": [
    "def fun13(*args,x):\n",
    "    return args,x"
   ]
  },
  {
   "cell_type": "code",
   "execution_count": null,
   "id": "bc1a3919-a7ae-4b71-bbdc-0e192b39f435",
   "metadata": {},
   "outputs": [],
   "source": [
    "# gonna result in error as we have to pass arguement for 'a' explicitly\n",
    "fun13('hello',23,True,6.072)"
   ]
  },
  {
   "cell_type": "code",
   "execution_count": 107,
   "id": "aed550f9-0339-4df2-91dd-2da874b08c95",
   "metadata": {},
   "outputs": [
    {
     "ename": "NameError",
     "evalue": "name 'fun13' is not defined",
     "output_type": "error",
     "traceback": [
      "\u001b[0;31m---------------------------------------------------------------------------\u001b[0m",
      "\u001b[0;31mNameError\u001b[0m                                 Traceback (most recent call last)",
      "Cell \u001b[0;32mIn[107], line 1\u001b[0m\n\u001b[0;32m----> 1\u001b[0m \u001b[43mfun13\u001b[49m(\u001b[38;5;124m'\u001b[39m\u001b[38;5;124mhello\u001b[39m\u001b[38;5;124m'\u001b[39m,\u001b[38;5;241m23\u001b[39m,\u001b[38;5;28;01mTrue\u001b[39;00m,\u001b[38;5;241m6.072\u001b[39m, x\u001b[38;5;241m=\u001b[39m\u001b[38;5;241m56\u001b[39m)\n",
      "\u001b[0;31mNameError\u001b[0m: name 'fun13' is not defined"
     ]
    }
   ],
   "source": [
    "fun13('hello',23,True,6.072, x=56)"
   ]
  },
  {
   "cell_type": "code",
   "execution_count": null,
   "id": "0f0e4205-bce2-43d7-975f-d9e0bc0fda22",
   "metadata": {},
   "outputs": [],
   "source": [
    "# gonna result in error as its gonna create ambiguity between arguments\n",
    "def fun14(*args1 , *args2):\n",
    "    return args1,args2"
   ]
  },
  {
   "cell_type": "markdown",
   "id": "3299b9c1-cb81-47c1-8ce2-2dd9b46e90a3",
   "metadata": {},
   "source": [
    "### passing arguements as key-value pair"
   ]
  },
  {
   "cell_type": "code",
   "execution_count": null,
   "id": "c6578c9a-ab0c-44ee-b3f5-a78c2c30a6aa",
   "metadata": {},
   "outputs": [],
   "source": [
    "def fun15(a,b,c):\n",
    "    return a,b,c"
   ]
  },
  {
   "cell_type": "code",
   "execution_count": null,
   "id": "552367c9-4147-4931-8647-6c6adb449e6f",
   "metadata": {},
   "outputs": [],
   "source": [
    "fun15(a='Ken',b='Rem',c='Sam')"
   ]
  },
  {
   "cell_type": "code",
   "execution_count": null,
   "id": "92eea854-6194-4db3-89b6-f42c4ab6157a",
   "metadata": {},
   "outputs": [],
   "source": [
    "# passing n number of arguements in key-value pair\n",
    "def fun16(**kwargs):\n",
    "    return kwargs"
   ]
  },
  {
   "cell_type": "code",
   "execution_count": 108,
   "id": "04b91494-ef27-4afd-892b-27e96f87a40b",
   "metadata": {},
   "outputs": [
    {
     "ename": "NameError",
     "evalue": "name 'fun16' is not defined",
     "output_type": "error",
     "traceback": [
      "\u001b[0;31m---------------------------------------------------------------------------\u001b[0m",
      "\u001b[0;31mNameError\u001b[0m                                 Traceback (most recent call last)",
      "Cell \u001b[0;32mIn[108], line 1\u001b[0m\n\u001b[0;32m----> 1\u001b[0m \u001b[43mfun16\u001b[49m(a\u001b[38;5;241m=\u001b[39m\u001b[38;5;124m'\u001b[39m\u001b[38;5;124mken\u001b[39m\u001b[38;5;124m'\u001b[39m, b\u001b[38;5;241m=\u001b[39m\u001b[38;5;124m'\u001b[39m\u001b[38;5;124mxen\u001b[39m\u001b[38;5;124m'\u001b[39m, c\u001b[38;5;241m=\u001b[39m\u001b[38;5;124m'\u001b[39m\u001b[38;5;124mwen\u001b[39m\u001b[38;5;124m'\u001b[39m)\n",
      "\u001b[0;31mNameError\u001b[0m: name 'fun16' is not defined"
     ]
    }
   ],
   "source": [
    "fun16(a='ken', b='xen', c='wen')"
   ]
  },
  {
   "cell_type": "code",
   "execution_count": null,
   "id": "ce83df54-8418-4eb8-867a-d7b72f84e254",
   "metadata": {},
   "outputs": [],
   "source": [
    "type(fun16())"
   ]
  },
  {
   "cell_type": "code",
   "execution_count": null,
   "id": "28541adf-8261-4429-9584-9a56e9a41c47",
   "metadata": {},
   "outputs": [],
   "source": [
    "dict1={\n",
    "    'name' :'tan',\n",
    "    'sno'  :12,\n",
    "    'gpa'  :7\n",
    "}"
   ]
  },
  {
   "cell_type": "code",
   "execution_count": null,
   "id": "11fe1231-31fc-4f94-b2c3-732247ad84cd",
   "metadata": {},
   "outputs": [],
   "source": [
    "fun16(a=5)"
   ]
  },
  {
   "cell_type": "code",
   "execution_count": null,
   "id": "624bd502-17ad-4720-8fd6-1c099b6334b1",
   "metadata": {},
   "outputs": [],
   "source": [
    "fun16(a=5,b=30,c=8.99,d='tan',f=3j,g=[1,5,8,3,'hello'])"
   ]
  },
  {
   "cell_type": "code",
   "execution_count": 109,
   "id": "669029f9-a526-4ed4-8197-16af4f5763bc",
   "metadata": {},
   "outputs": [],
   "source": [
    "def fun17(**val):\n",
    "    l=[]\n",
    "    for i in val.keys():\n",
    "        if type(val[i])==int or type(val[i])==float:\n",
    "            l.append(val[i])\n",
    "        elif type(val[i])==list:\n",
    "            for j in val[i]:\n",
    "                if type(j)==int or type(j)==float:\n",
    "                    l.append(j)\n",
    "    return l   \n",
    "            "
   ]
  },
  {
   "cell_type": "code",
   "execution_count": 110,
   "id": "cbf755ec-f498-4c2e-9dba-24b67e0856c7",
   "metadata": {},
   "outputs": [
    {
     "data": {
      "text/plain": [
       "[5, 30, 8.99, 1, 5, 8.932, 3]"
      ]
     },
     "execution_count": 110,
     "metadata": {},
     "output_type": "execute_result"
    }
   ],
   "source": [
    "fun17(a=5,b=30,c=8.99,d='tan',f=3j,g=[1,5,8.932,3,'hello'])"
   ]
  },
  {
   "cell_type": "code",
   "execution_count": 111,
   "id": "92905a3b-df86-4c4a-b8c2-006d61db0752",
   "metadata": {},
   "outputs": [],
   "source": [
    "def fun18(*val1,**val2):\n",
    "    for k in val1:\n",
    "        print(k)\n",
    "    for l in val2:\n",
    "        print(val2[l])\n",
    "    return 0"
   ]
  },
  {
   "cell_type": "code",
   "execution_count": 112,
   "id": "9ff22db6-9b3b-4272-b370-718b7dec60eb",
   "metadata": {},
   "outputs": [
    {
     "name": "stdout",
     "output_type": "stream",
     "text": [
      "4.56\n",
      "6j\n",
      "tan\n",
      "59\n",
      "45\n",
      "lets,go!\n",
      "9.07\n"
     ]
    },
    {
     "data": {
      "text/plain": [
       "0"
      ]
     },
     "execution_count": 112,
     "metadata": {},
     "output_type": "execute_result"
    }
   ],
   "source": [
    "fun18(4.56,6j,'tan',59,p=45,q='lets,go!',r=9.07)"
   ]
  },
  {
   "cell_type": "code",
   "execution_count": 113,
   "id": "d724982a-cbbc-40fd-ab95-ada605b6bc93",
   "metadata": {},
   "outputs": [],
   "source": [
    "def fun19(*val3,**val4):\n",
    "    return val3,val4"
   ]
  },
  {
   "cell_type": "code",
   "execution_count": 114,
   "id": "581a6bb7-afd2-434a-ba95-03ca65a3a8c6",
   "metadata": {},
   "outputs": [
    {
     "data": {
      "text/plain": [
       "((4.56, 6j, 'tan', 59), {'p': 45, 'q': 'lets,go!', 'r': 9.07})"
      ]
     },
     "execution_count": 114,
     "metadata": {},
     "output_type": "execute_result"
    }
   ],
   "source": [
    "fun19(4.56,6j,'tan',59,p=45,q='lets,go!',r=9.07)"
   ]
  },
  {
   "cell_type": "markdown",
   "id": "16d03a5c-880f-47ed-a676-7c857ce64ce1",
   "metadata": {},
   "source": [
    "## GENERATOR FUNCTION\n",
    "\n",
    "### Genrator function is a space-efficient method as it handles one piece/part of the file at a time.\n",
    "### It returns an iterator using 'yield' keyword"
   ]
  },
  {
   "cell_type": "code",
   "execution_count": 115,
   "id": "a74d62bc-5679-444f-9dab-5ebc964b3c84",
   "metadata": {},
   "outputs": [
    {
     "name": "stdout",
     "output_type": "stream",
     "text": [
      "1\n",
      "2\n",
      "3\n",
      "4\n",
      "5\n",
      "6\n",
      "7\n",
      "8\n",
      "9\n",
      "10\n"
     ]
    }
   ],
   "source": [
    "# range() is an example of inbuilt generator function \n",
    "for i in range(1,11):\n",
    "    print(i)"
   ]
  },
  {
   "cell_type": "code",
   "execution_count": 116,
   "id": "1934d2b0-00f1-4c62-baa4-2b39ee6fc282",
   "metadata": {},
   "outputs": [],
   "source": [
    "# creating generator function for Fibonacci series\n",
    "def fib_ser(n):\n",
    "    a,b=0,1\n",
    "    for i in range(n):\n",
    "        yield a\n",
    "        a,b=b,a+b"
   ]
  },
  {
   "cell_type": "code",
   "execution_count": 117,
   "id": "8aaf4450-61a4-44ee-b6f7-363a39871a23",
   "metadata": {},
   "outputs": [
    {
     "data": {
      "text/plain": [
       "<generator object fib_ser at 0x7f28c01dceb0>"
      ]
     },
     "execution_count": 117,
     "metadata": {},
     "output_type": "execute_result"
    }
   ],
   "source": [
    "fib_ser(5)"
   ]
  },
  {
   "cell_type": "code",
   "execution_count": 118,
   "id": "5178d83f-14e6-420a-aac7-808a3df4eef6",
   "metadata": {},
   "outputs": [
    {
     "name": "stdout",
     "output_type": "stream",
     "text": [
      "0\n",
      "1\n",
      "1\n",
      "2\n",
      "3\n",
      "5\n",
      "8\n",
      "13\n",
      "21\n",
      "34\n"
     ]
    }
   ],
   "source": [
    "# fib_ser() returns an iterable object\n",
    "for i in fib_ser(10):\n",
    "    print(i)"
   ]
  },
  {
   "cell_type": "code",
   "execution_count": 119,
   "id": "0f4c15af-5153-4c03-9897-73d7ca56fd13",
   "metadata": {},
   "outputs": [],
   "source": [
    "# generator expression\n",
    "var=(j*j for j in range(10) if j%2!=0)"
   ]
  },
  {
   "cell_type": "code",
   "execution_count": 120,
   "id": "ddfa9e6b-8a1c-4830-b57c-660bb90bba67",
   "metadata": {},
   "outputs": [
    {
     "data": {
      "text/plain": [
       "<generator object <genexpr> at 0x7f28c01dd150>"
      ]
     },
     "execution_count": 120,
     "metadata": {},
     "output_type": "execute_result"
    }
   ],
   "source": [
    "var"
   ]
  },
  {
   "cell_type": "code",
   "execution_count": 121,
   "id": "3c7d6611-a803-43ca-a2c6-4b368c8173be",
   "metadata": {},
   "outputs": [
    {
     "name": "stdout",
     "output_type": "stream",
     "text": [
      "1 9 25 49 81 "
     ]
    }
   ],
   "source": [
    "for i in var:\n",
    "    print(i,end=' ')"
   ]
  },
  {
   "cell_type": "code",
   "execution_count": 122,
   "id": "b5bae93a-2f87-435a-aaa6-3bb99bdad4b2",
   "metadata": {},
   "outputs": [
    {
     "data": {
      "text/plain": [
       "generator"
      ]
     },
     "execution_count": 122,
     "metadata": {},
     "output_type": "execute_result"
    }
   ],
   "source": [
    " type(var)"
   ]
  },
  {
   "cell_type": "code",
   "execution_count": 123,
   "id": "61f1ecad-2976-464b-8804-e93408a3ada8",
   "metadata": {},
   "outputs": [],
   "source": [
    "var1={j*j for j in range(10) if j%2!=0}"
   ]
  },
  {
   "cell_type": "code",
   "execution_count": 124,
   "id": "3f38ca8c-5527-4925-ab28-320a99ab1be8",
   "metadata": {},
   "outputs": [
    {
     "data": {
      "text/plain": [
       "{1, 9, 25, 49, 81}"
      ]
     },
     "execution_count": 124,
     "metadata": {},
     "output_type": "execute_result"
    }
   ],
   "source": [
    "var1"
   ]
  },
  {
   "cell_type": "code",
   "execution_count": 125,
   "id": "bd177809-e9d1-4ad5-bbcb-f896fd3c59af",
   "metadata": {},
   "outputs": [
    {
     "data": {
      "text/plain": [
       "set"
      ]
     },
     "execution_count": 125,
     "metadata": {},
     "output_type": "execute_result"
    }
   ],
   "source": [
    "type(var1)"
   ]
  },
  {
   "cell_type": "markdown",
   "id": "f232ed8e-0b70-410d-9faa-7d9d5c6f090b",
   "metadata": {},
   "source": [
    "## LAMBDA FUNCTION\n",
    "\n",
    "### Lambda function is a short anonymous function\n"
   ]
  },
  {
   "cell_type": "code",
   "execution_count": 126,
   "id": "4e1b7a78-31cb-43c1-bc3f-1c51f5d042f5",
   "metadata": {},
   "outputs": [],
   "source": [
    "def add(a,b):\n",
    "    print(a+b)"
   ]
  },
  {
   "cell_type": "code",
   "execution_count": 127,
   "id": "e5c59563-36c6-4b4f-9c32-8344275616f7",
   "metadata": {},
   "outputs": [
    {
     "name": "stdout",
     "output_type": "stream",
     "text": [
      "14\n"
     ]
    }
   ],
   "source": [
    "add(5,9)"
   ]
  },
  {
   "cell_type": "code",
   "execution_count": 128,
   "id": "f43a78c3-5fc1-44a7-b0a3-faa5501ce06d",
   "metadata": {},
   "outputs": [],
   "source": [
    "# lambda fun\n",
    "add1 = lambda x,y : x+y"
   ]
  },
  {
   "cell_type": "code",
   "execution_count": 129,
   "id": "3ef1743e-44a9-427b-9897-fd8c10e0cc59",
   "metadata": {},
   "outputs": [
    {
     "data": {
      "text/plain": [
       "14"
      ]
     },
     "execution_count": 129,
     "metadata": {},
     "output_type": "execute_result"
    }
   ],
   "source": [
    "add1(5,9)"
   ]
  },
  {
   "cell_type": "code",
   "execution_count": 130,
   "id": "d244e6f7-be62-4cf4-8149-d747d45c9359",
   "metadata": {},
   "outputs": [
    {
     "data": {
      "text/plain": [
       "<function __main__.<lambda>(d)>"
      ]
     },
     "execution_count": 130,
     "metadata": {},
     "output_type": "execute_result"
    }
   ],
   "source": [
    "lambda d : d+6"
   ]
  },
  {
   "cell_type": "code",
   "execution_count": 131,
   "id": "bee4e73c-dd90-4342-ad7d-8f4649c4a97a",
   "metadata": {},
   "outputs": [],
   "source": [
    "mul = lambda x,y,z : x*y*z"
   ]
  },
  {
   "cell_type": "code",
   "execution_count": 132,
   "id": "ad33f5ce-d5a1-4af9-ab2b-b919a71cb58e",
   "metadata": {},
   "outputs": [
    {
     "data": {
      "text/plain": [
       "120"
      ]
     },
     "execution_count": 132,
     "metadata": {},
     "output_type": "execute_result"
    }
   ],
   "source": [
    "mul(4,5,6)"
   ]
  },
  {
   "cell_type": "code",
   "execution_count": 133,
   "id": "56b73c25-07f4-4f14-98f6-f5913ecdab9d",
   "metadata": {},
   "outputs": [
    {
     "name": "stdout",
     "output_type": "stream",
     "text": [
      "33\n"
     ]
    }
   ],
   "source": [
    "def new(x):\n",
    "    return lambda a : a * x\n",
    "\n",
    "new1 = new(3)\n",
    "\n",
    "print(new1(11))"
   ]
  },
  {
   "cell_type": "markdown",
   "id": "40f0be22-08f0-4ae5-a362-d7a49efcda38",
   "metadata": {},
   "source": [
    "## MAP FUNCTION\n",
    "\n",
    "### 'map' function maps an iterable through a particular function"
   ]
  },
  {
   "cell_type": "code",
   "execution_count": 134,
   "id": "a409b8d1-0cc4-46d1-b192-770b7a4bef2d",
   "metadata": {},
   "outputs": [],
   "source": [
    "# map(fun,iterable)"
   ]
  },
  {
   "cell_type": "code",
   "execution_count": 135,
   "id": "082f0271-62f1-4d52-9d17-1bed110b33d7",
   "metadata": {},
   "outputs": [],
   "source": [
    "list1=[9,6,4,3,7,2,0,3]\n",
    "def cubee(a):\n",
    "    return a**3"
   ]
  },
  {
   "cell_type": "code",
   "execution_count": 136,
   "id": "9ffe26ea-f7d0-41fe-a098-ce4a1ff26a04",
   "metadata": {},
   "outputs": [
    {
     "data": {
      "text/plain": [
       "125"
      ]
     },
     "execution_count": 136,
     "metadata": {},
     "output_type": "execute_result"
    }
   ],
   "source": [
    "cubee(5)"
   ]
  },
  {
   "cell_type": "code",
   "execution_count": 137,
   "id": "67f7530c-cfea-4d91-a08b-4e99f1d6721e",
   "metadata": {},
   "outputs": [],
   "source": [
    "def cube_list(b):\n",
    "    list2=[]\n",
    "    for i in b:\n",
    "        list2.append(i**3)\n",
    "    return list2"
   ]
  },
  {
   "cell_type": "code",
   "execution_count": 138,
   "id": "9f4c6827-3b75-487d-917f-4774dae417d4",
   "metadata": {},
   "outputs": [
    {
     "data": {
      "text/plain": [
       "[729, 216, 64, 27, 343, 8, 0, 27]"
      ]
     },
     "execution_count": 138,
     "metadata": {},
     "output_type": "execute_result"
    }
   ],
   "source": [
    "cube_list(list1)"
   ]
  },
  {
   "cell_type": "code",
   "execution_count": 139,
   "id": "5c2222e5-8417-49ee-b2dd-de123ad92e05",
   "metadata": {},
   "outputs": [
    {
     "data": {
      "text/plain": [
       "<map at 0x7f28c065ccd0>"
      ]
     },
     "execution_count": 139,
     "metadata": {},
     "output_type": "execute_result"
    }
   ],
   "source": [
    "#instead of writing a function separately we can use map function\n",
    "map(cubee,list1)"
   ]
  },
  {
   "cell_type": "code",
   "execution_count": 140,
   "id": "749c6cd4-fdea-4898-8ecb-7fa0e0c453bb",
   "metadata": {},
   "outputs": [
    {
     "data": {
      "text/plain": [
       "[729, 216, 64, 27, 343, 8, 0, 27]"
      ]
     },
     "execution_count": 140,
     "metadata": {},
     "output_type": "execute_result"
    }
   ],
   "source": [
    "# as map() retruns an iterable object\n",
    "list(map(cubee,list1))"
   ]
  },
  {
   "cell_type": "code",
   "execution_count": 141,
   "id": "5cd9a8a3-abd5-437c-b25b-2f39bd35f5a8",
   "metadata": {},
   "outputs": [
    {
     "name": "stdout",
     "output_type": "stream",
     "text": [
      "729\n",
      "216\n",
      "64\n",
      "27\n",
      "343\n",
      "8\n",
      "0\n",
      "27\n"
     ]
    }
   ],
   "source": [
    "for i in map(cubee,list1):\n",
    "    print(i)"
   ]
  },
  {
   "cell_type": "code",
   "execution_count": 142,
   "id": "1f74144d-9793-4b7d-bb66-90b3f731ce6e",
   "metadata": {},
   "outputs": [
    {
     "data": {
      "text/plain": [
       "[9, 6, 4, 3, 7, 2, 0, 3]"
      ]
     },
     "execution_count": 142,
     "metadata": {},
     "output_type": "execute_result"
    }
   ],
   "source": [
    "list1"
   ]
  },
  {
   "cell_type": "code",
   "execution_count": 143,
   "id": "0d9cfef6-ac4e-4327-9631-369f7fcab6d4",
   "metadata": {},
   "outputs": [
    {
     "data": {
      "text/plain": [
       "[81, 36, 16, 9, 49, 4, 0, 9]"
      ]
     },
     "execution_count": 143,
     "metadata": {},
     "output_type": "execute_result"
    }
   ],
   "source": [
    "# shothand to square function for the list1\n",
    "list ( map ( lambda x : x**2 , list1 ) )"
   ]
  },
  {
   "cell_type": "code",
   "execution_count": 144,
   "id": "2b1c7659-1232-4a6e-a639-cc461d67b5a7",
   "metadata": {},
   "outputs": [
    {
     "data": {
      "text/plain": [
       "[False, False, True, True, False, True, True, True]"
      ]
     },
     "execution_count": 144,
     "metadata": {},
     "output_type": "execute_result"
    }
   ],
   "source": [
    "# to get ture-false based list for numbers in list which are less than 5\n",
    "list(map(lambda x : x<5,list1) )"
   ]
  },
  {
   "cell_type": "code",
   "execution_count": 145,
   "id": "22c0fe33-8d3e-4050-877c-fb3ad40daa90",
   "metadata": {},
   "outputs": [
    {
     "data": {
      "text/plain": [
       "['L', 'I', 'F', 'E', ' ', 'I', 'S', ' ', 'G', 'O', 'O', 'D']"
      ]
     },
     "execution_count": 145,
     "metadata": {},
     "output_type": "execute_result"
    }
   ],
   "source": [
    "# as string is iterable hence we can perform map() on it \n",
    "string1=\"Life is Good\"\n",
    "list(map(lambda x:x.upper(),string1))"
   ]
  },
  {
   "cell_type": "code",
   "execution_count": 146,
   "id": "da4ddad6-cada-4506-9f6a-bdbae1e95b9a",
   "metadata": {},
   "outputs": [],
   "source": [
    "# method 2\n",
    "list4=[]\n",
    "for i in string1:\n",
    "        list4.append(i.upper())"
   ]
  },
  {
   "cell_type": "code",
   "execution_count": 147,
   "id": "7ff03825-0b46-4f49-887b-beb1cc255c36",
   "metadata": {},
   "outputs": [
    {
     "data": {
      "text/plain": [
       "['L', 'I', 'F', 'E', ' ', 'I', 'S', ' ', 'G', 'O', 'O', 'D']"
      ]
     },
     "execution_count": 147,
     "metadata": {},
     "output_type": "execute_result"
    }
   ],
   "source": [
    "list4"
   ]
  },
  {
   "cell_type": "markdown",
   "id": "e376e01f-02d4-43f6-ba6d-b020c6c2fca7",
   "metadata": {},
   "source": [
    "## REDUCE FUNCTION\n",
    "\n",
    "### This function, it takes two elements from a sequence(iterable) and operate on them the passed function, \n",
    "### then the obtained result is operated with next sequence element,\n",
    "### and the process continues till the last element is achieved and result is printed.\n",
    "### It is present in 'functools'"
   ]
  },
  {
   "cell_type": "code",
   "execution_count": 148,
   "id": "d4f21608-be3c-45b6-9cb3-d84a5aa026d9",
   "metadata": {},
   "outputs": [],
   "source": [
    "from functools import reduce"
   ]
  },
  {
   "cell_type": "code",
   "execution_count": 149,
   "id": "5b4ea8d9-2697-41f8-9cee-2cdd9c48619c",
   "metadata": {},
   "outputs": [],
   "source": [
    "list5=[1,2,3,4,5]"
   ]
  },
  {
   "cell_type": "code",
   "execution_count": 150,
   "id": "179a3935-4e88-4521-afd0-5121f9851a27",
   "metadata": {},
   "outputs": [
    {
     "data": {
      "text/plain": [
       "15"
      ]
     },
     "execution_count": 150,
     "metadata": {},
     "output_type": "execute_result"
    }
   ],
   "source": [
    "reduce(lambda x,y:x+y , list5)"
   ]
  },
  {
   "cell_type": "code",
   "execution_count": 151,
   "id": "0571ca88-cee5-4f3f-847f-c5ba57c6342f",
   "metadata": {},
   "outputs": [],
   "source": [
    "def mult(a,b):\n",
    "    return a*b"
   ]
  },
  {
   "cell_type": "code",
   "execution_count": 152,
   "id": "4f8e0642-160d-43a3-b1a1-23721294b8fb",
   "metadata": {},
   "outputs": [
    {
     "data": {
      "text/plain": [
       "120"
      ]
     },
     "execution_count": 152,
     "metadata": {},
     "output_type": "execute_result"
    }
   ],
   "source": [
    "reduce(mult,list5)"
   ]
  },
  {
   "cell_type": "code",
   "execution_count": 153,
   "id": "ace3a334-30d5-43cd-937a-d32301788d5c",
   "metadata": {},
   "outputs": [
    {
     "data": {
      "text/plain": [
       "5"
      ]
     },
     "execution_count": 153,
     "metadata": {},
     "output_type": "execute_result"
    }
   ],
   "source": [
    "# to find maximum/minimum number in list\n",
    "reduce(lambda x,y: x if x>y else y,list5)"
   ]
  },
  {
   "cell_type": "code",
   "execution_count": 154,
   "id": "8be66d67-11d1-429c-b066-6e71272f5170",
   "metadata": {},
   "outputs": [
    {
     "data": {
      "text/plain": [
       "1"
      ]
     },
     "execution_count": 154,
     "metadata": {},
     "output_type": "execute_result"
    }
   ],
   "source": [
    "reduce(lambda x,y: x if x<y else x,list5)"
   ]
  },
  {
   "cell_type": "code",
   "execution_count": 155,
   "id": "67fe0e09-be76-44e8-8837-b929b283e56d",
   "metadata": {},
   "outputs": [
    {
     "data": {
      "text/plain": [
       "3"
      ]
     },
     "execution_count": 155,
     "metadata": {},
     "output_type": "execute_result"
    }
   ],
   "source": [
    "reduce(lambda x,y:y-x,list5)"
   ]
  },
  {
   "cell_type": "markdown",
   "id": "53a99bea-5118-4aaf-be21-b3d0a0c17b7f",
   "metadata": {},
   "source": [
    "## FILTER FUNCTION\n",
    "\n",
    "### Filter out an iterable through a passed function using true/false return type"
   ]
  },
  {
   "cell_type": "code",
   "execution_count": 156,
   "id": "dcfdc6ae-0d93-45c5-baf2-3e2bccfdd8cb",
   "metadata": {},
   "outputs": [],
   "source": [
    "list6=[7,8,6+7j,'Hello',7.86,'kinder',90]"
   ]
  },
  {
   "cell_type": "code",
   "execution_count": 157,
   "id": "8b328e71-d16e-41b8-985a-8c3004fd1eb6",
   "metadata": {},
   "outputs": [
    {
     "data": {
      "text/plain": [
       "[7, 8, 90]"
      ]
     },
     "execution_count": 157,
     "metadata": {},
     "output_type": "execute_result"
    }
   ],
   "source": [
    "list(filter(lambda x:type(x)==int,list6))"
   ]
  },
  {
   "cell_type": "code",
   "execution_count": 158,
   "id": "230eabf9-1e06-47d5-97a7-bf23f344930e",
   "metadata": {},
   "outputs": [],
   "source": [
    "list7=[3,6,9,90,7,13,56,45,33,20,19]"
   ]
  },
  {
   "cell_type": "code",
   "execution_count": 159,
   "id": "f87b626c-47b3-481d-b133-9b65c9d2859e",
   "metadata": {},
   "outputs": [],
   "source": [
    "def fun22(lis):\n",
    "        if type(lis)==int or type(lis)==float or type(lis)==complex:\n",
    "            return True\n",
    "        else:\n",
    "            return False"
   ]
  },
  {
   "cell_type": "code",
   "execution_count": 160,
   "id": "9f76a7ba-8a97-499a-81e2-6366f990cc40",
   "metadata": {},
   "outputs": [
    {
     "data": {
      "text/plain": [
       "[7, 8, (6+7j), 7.86, 90]"
      ]
     },
     "execution_count": 160,
     "metadata": {},
     "output_type": "execute_result"
    }
   ],
   "source": [
    "list(filter(fun22,list6))"
   ]
  },
  {
   "cell_type": "code",
   "execution_count": 161,
   "id": "c10746b0-4c60-4309-a201-fc19dffc07ee",
   "metadata": {},
   "outputs": [
    {
     "data": {
      "text/plain": [
       "['Hello', 'kinder']"
      ]
     },
     "execution_count": 161,
     "metadata": {},
     "output_type": "execute_result"
    }
   ],
   "source": [
    "list(filter(lambda x:type(x)==str,list6))"
   ]
  }
 ],
 "metadata": {
  "kernelspec": {
   "display_name": "Python 3 (ipykernel)",
   "language": "python",
   "name": "python3"
  },
  "language_info": {
   "codemirror_mode": {
    "name": "ipython",
    "version": 3
   },
   "file_extension": ".py",
   "mimetype": "text/x-python",
   "name": "python",
   "nbconvert_exporter": "python",
   "pygments_lexer": "ipython3",
   "version": "3.10.8"
  }
 },
 "nbformat": 4,
 "nbformat_minor": 5
}
