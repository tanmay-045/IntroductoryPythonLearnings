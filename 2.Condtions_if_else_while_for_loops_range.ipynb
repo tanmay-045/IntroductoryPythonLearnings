{
 "cells": [
  {
   "cell_type": "markdown",
   "id": "a6ab7737-4a93-4c5b-89fd-3341833081b6",
   "metadata": {},
   "source": [
    "\n",
    "## In this class we will see if-elif-else, while loop with else and for loop with else and break, continue statements and range function.\n"
   ]
  },
  {
   "cell_type": "code",
   "execution_count": 1,
   "id": "19f4ac35-e1e6-4c59-bf0d-124011d0159a",
   "metadata": {},
   "outputs": [],
   "source": [
    "n=10\n",
    "if n<10:\n",
    "    pass"
   ]
  },
  {
   "cell_type": "code",
   "execution_count": 2,
   "id": "927448c1-7a16-49f1-8d3e-0e71873eec92",
   "metadata": {},
   "outputs": [],
   "source": [
    "if n<12:\n",
    "    pass"
   ]
  },
  {
   "cell_type": "code",
   "execution_count": 3,
   "id": "d72c0352-de9b-4608-9d0d-866566c04f4c",
   "metadata": {},
   "outputs": [
    {
     "name": "stdout",
     "output_type": "stream",
     "text": [
      "this is executed!\n"
     ]
    }
   ],
   "source": [
    "if n<11:\n",
    "    print(\"this is executed!\")"
   ]
  },
  {
   "cell_type": "code",
   "execution_count": 4,
   "id": "f68f0136-26d5-419a-a29d-9abb70487dfd",
   "metadata": {},
   "outputs": [
    {
     "name": "stdout",
     "output_type": "stream",
     "text": [
      "this is executed!\n"
     ]
    }
   ],
   "source": [
    "if n<11:\n",
    "    print(\"this is executed!\")\n",
    "else :\n",
    "    print(\"else executed\")"
   ]
  },
  {
   "cell_type": "code",
   "execution_count": 5,
   "id": "4c1a2d73-230b-4632-864e-c6e4c19ea970",
   "metadata": {},
   "outputs": [
    {
     "name": "stdout",
     "output_type": "stream",
     "text": [
      "else executed\n"
     ]
    }
   ],
   "source": [
    "if n<10:\n",
    "    print(\"this is executed!\")\n",
    "else :\n",
    "    print(\"else executed\")"
   ]
  },
  {
   "cell_type": "code",
   "execution_count": 6,
   "id": "4371f5d7-4d68-4b2c-be46-6d6f64432fba",
   "metadata": {},
   "outputs": [
    {
     "ename": "SyntaxError",
     "evalue": "invalid syntax (2371018182.py, line 3)",
     "output_type": "error",
     "traceback": [
      "\u001b[0;36m  Cell \u001b[0;32mIn[6], line 3\u001b[0;36m\u001b[0m\n\u001b[0;31m    else :\u001b[0m\n\u001b[0m    ^\u001b[0m\n\u001b[0;31mSyntaxError\u001b[0m\u001b[0;31m:\u001b[0m invalid syntax\n"
     ]
    }
   ],
   "source": [
    "if n<11:\n",
    "    print(\"this is executed!\")\n",
    "    else :\n",
    "    print(\"else executed\")"
   ]
  },
  {
   "cell_type": "code",
   "execution_count": 8,
   "id": "dcba80b4-21ec-4287-a647-88b654be651e",
   "metadata": {},
   "outputs": [
    {
     "ename": "IndentationError",
     "evalue": "unindent does not match any outer indentation level (<tokenize>, line 3)",
     "output_type": "error",
     "traceback": [
      "\u001b[0;36m  File \u001b[0;32m<tokenize>:3\u001b[0;36m\u001b[0m\n\u001b[0;31m    else :                            # remember indentation is important in python here brackets are not used\u001b[0m\n\u001b[0m    ^\u001b[0m\n\u001b[0;31mIndentationError\u001b[0m\u001b[0;31m:\u001b[0m unindent does not match any outer indentation level\n"
     ]
    }
   ],
   "source": [
    "if n<11:\n",
    "    print(\"this is executed!\")\n",
    " else :                            # remember indentation is important in python here brackets are not used \n",
    "    print(\"else executed\")"
   ]
  },
  {
   "cell_type": "code",
   "execution_count": 11,
   "id": "17c91897-ee58-4d9a-8567-8a61eb1eef0a",
   "metadata": {},
   "outputs": [
    {
     "ename": "SyntaxError",
     "evalue": "invalid syntax (2730434034.py, line 4)",
     "output_type": "error",
     "traceback": [
      "\u001b[0;36m  Cell \u001b[0;32mIn[11], line 4\u001b[0;36m\u001b[0m\n\u001b[0;31m    elif a<10,a>5:\u001b[0m\n\u001b[0m    ^\u001b[0m\n\u001b[0;31mSyntaxError\u001b[0m\u001b[0;31m:\u001b[0m invalid syntax\n"
     ]
    }
   ],
   "source": [
    "a=int(input(\"input a number btw 1 and 15 to check output\"))\n",
    "if a<5:\n",
    "    print(\"entered number is less than 5\")\n",
    "    elif a<10,a>5:\n",
    "        print(\"entered number is less than 10\")"
   ]
  },
  {
   "cell_type": "code",
   "execution_count": 13,
   "id": "dcf237d1-8237-4e68-929e-86176abc2f68",
   "metadata": {},
   "outputs": [
    {
     "ename": "SyntaxError",
     "evalue": "invalid syntax (2450907095.py, line 4)",
     "output_type": "error",
     "traceback": [
      "\u001b[0;36m  Cell \u001b[0;32mIn[13], line 4\u001b[0;36m\u001b[0m\n\u001b[0;31m    elif a<10:\u001b[0m\n\u001b[0m    ^\u001b[0m\n\u001b[0;31mSyntaxError\u001b[0m\u001b[0;31m:\u001b[0m invalid syntax\n"
     ]
    }
   ],
   "source": [
    "a=int(input(\"input a number btw 1 and 15 to check output\"))\n",
    "if a<5:\n",
    "    print(\"entered number is less than 5\")\n",
    "    elif a<10:\n",
    "        print(\"entered number is less than 10\")"
   ]
  },
  {
   "cell_type": "code",
   "execution_count": 14,
   "id": "1b38904d-d3a8-4e13-9314-3f94e18566f3",
   "metadata": {},
   "outputs": [
    {
     "ename": "SyntaxError",
     "evalue": "invalid syntax (3856620875.py, line 4)",
     "output_type": "error",
     "traceback": [
      "\u001b[0;36m  Cell \u001b[0;32mIn[14], line 4\u001b[0;36m\u001b[0m\n\u001b[0;31m    elif:\u001b[0m\n\u001b[0m        ^\u001b[0m\n\u001b[0;31mSyntaxError\u001b[0m\u001b[0;31m:\u001b[0m invalid syntax\n"
     ]
    }
   ],
   "source": [
    "a=int(input(\"input a number btw 1 and 15 to check output\"))\n",
    "if a<5:\n",
    "    print(\"entered number is less than 5\")\n",
    "elif:\n",
    "        print(\"entered number is less than 10\")"
   ]
  },
  {
   "cell_type": "code",
   "execution_count": 15,
   "id": "b18648ec-234e-4a2d-a596-d138ac724c2d",
   "metadata": {},
   "outputs": [
    {
     "name": "stdin",
     "output_type": "stream",
     "text": [
      "input a number btw 1 and 15 to check output 12\n"
     ]
    }
   ],
   "source": [
    "a=int(input(\"input a number btw 1 and 15 to check output\"))\n",
    "if a<5:\n",
    "    print(\"entered number is less than 5\")\n",
    "elif a<10:\n",
    "        print(\"entered number is less than 10\")"
   ]
  },
  {
   "cell_type": "code",
   "execution_count": 16,
   "id": "87375559-3d7a-4ea0-939b-18a1ca907c9a",
   "metadata": {},
   "outputs": [
    {
     "ename": "SyntaxError",
     "evalue": "invalid syntax (2450907095.py, line 4)",
     "output_type": "error",
     "traceback": [
      "\u001b[0;36m  Cell \u001b[0;32mIn[16], line 4\u001b[0;36m\u001b[0m\n\u001b[0;31m    elif a<10:\u001b[0m\n\u001b[0m    ^\u001b[0m\n\u001b[0;31mSyntaxError\u001b[0m\u001b[0;31m:\u001b[0m invalid syntax\n"
     ]
    }
   ],
   "source": [
    "a=int(input(\"input a number btw 1 and 15 to check output\"))\n",
    "if a<5:\n",
    "    print(\"entered number is less than 5\")\n",
    "    elif a<10:\n",
    "        print(\"entered number is less than 10\")"
   ]
  },
  {
   "cell_type": "code",
   "execution_count": 17,
   "id": "c5492c7e-526c-4836-a4eb-a0f52019a137",
   "metadata": {},
   "outputs": [
    {
     "name": "stdin",
     "output_type": "stream",
     "text": [
      "input a number btw 1 and 15 to check output 2\n"
     ]
    },
    {
     "name": "stdout",
     "output_type": "stream",
     "text": [
      "entered number is less than 5\n"
     ]
    }
   ],
   "source": [
    "a=int(input(\"input a number btw 1 and 15 to check output\"))\n",
    "if a<5:\n",
    "    print(\"entered number is less than 5\")\n",
    "elif a>5 and a<10:\n",
    "        print(\"entered number is less than 10 and greater than 5\")\n",
    "elif a<15 and a>10:\n",
    "        print(\"entered number is less than 15 and greter than 10\")\n",
    "else :\n",
    "    print(\"error ! wrong number entered !\")"
   ]
  },
  {
   "cell_type": "code",
   "execution_count": 19,
   "id": "a4b594dc-6646-4e3d-8eec-fb1066a5bcb9",
   "metadata": {},
   "outputs": [
    {
     "name": "stdin",
     "output_type": "stream",
     "text": [
      "input a number btw 1 and 15 to check output 6\n"
     ]
    },
    {
     "name": "stdout",
     "output_type": "stream",
     "text": [
      "entered number is less than 10 and greater than 5\n"
     ]
    }
   ],
   "source": [
    "a=int(input(\"input a number btw 1 and 15 to check output\"))\n",
    "if a<5:\n",
    "    print(\"entered number is less than 5\")\n",
    "elif a>5 and a<10:\n",
    "        print(\"entered number is less than 10 and greater than 5\")\n",
    "elif a<15 and a>10:\n",
    "        print(\"entered number is less than 15 and greter than 10\")\n",
    "else :\n",
    "    print(\"error ! wrong number entered !\")"
   ]
  },
  {
   "cell_type": "code",
   "execution_count": 20,
   "id": "09b573a2-8972-4e7b-8602-d5097770cac6",
   "metadata": {},
   "outputs": [
    {
     "name": "stdin",
     "output_type": "stream",
     "text": [
      "input a number btw 1 and 15 to check output 14\n"
     ]
    },
    {
     "name": "stdout",
     "output_type": "stream",
     "text": [
      "entered number is less than 15 and greter than 10\n"
     ]
    }
   ],
   "source": [
    "a=int(input(\"input a number btw 1 and 15 to check output\"))\n",
    "if a<5:\n",
    "    print(\"entered number is less than 5\")\n",
    "elif a>5 and a<10:\n",
    "        print(\"entered number is less than 10 and greater than 5\")\n",
    "elif a<15 and a>10:\n",
    "        print(\"entered number is less than 15 and greter than 10\")\n",
    "else :\n",
    "    print(\"error ! wrong number entered !\")"
   ]
  },
  {
   "cell_type": "code",
   "execution_count": 21,
   "id": "3dd838ef-eba8-4594-a61a-fdfdae34f7bf",
   "metadata": {},
   "outputs": [
    {
     "name": "stdin",
     "output_type": "stream",
     "text": [
      "input a number btw 1 and 15 to check output 233\n"
     ]
    },
    {
     "name": "stdout",
     "output_type": "stream",
     "text": [
      "error ! wrong number entered !\n"
     ]
    }
   ],
   "source": [
    "a=int(input(\"input a number btw 1 and 15 to check output\"))\n",
    "if a<5:\n",
    "    print(\"entered number is less than 5\")\n",
    "elif a>5 and a<10:\n",
    "        print(\"entered number is less than 10 and greater than 5\")\n",
    "elif a<15 and a>10:\n",
    "        print(\"entered number is less than 15 and greter than 10\")\n",
    "else :\n",
    "    print(\"error ! wrong number entered !\")"
   ]
  },
  {
   "cell_type": "code",
   "execution_count": 1,
   "id": "f6464bcb-b33f-4d65-a514-209538952cd0",
   "metadata": {},
   "outputs": [],
   "source": [
    "#introduction to loops while and for "
   ]
  },
  {
   "cell_type": "code",
   "execution_count": 2,
   "id": "9ed507f9-a4f3-4c28-8ec8-5310c78b4ed9",
   "metadata": {},
   "outputs": [
    {
     "name": "stdout",
     "output_type": "stream",
     "text": [
      "loop executed 1\n",
      "loop executed 2\n",
      "loop executed 3\n",
      "loop executed 4\n",
      "loop executed 5\n",
      "loop executed 6\n",
      "loop executed 7\n",
      "loop executed 8\n",
      "loop executed 9\n",
      "loop executed 10\n"
     ]
    }
   ],
   "source": [
    "i,n=0,10\n",
    "while i<n:\n",
    "    print('loop executed',i+1)\n",
    "    i+=1\n",
    "    \n",
    "    "
   ]
  },
  {
   "cell_type": "code",
   "execution_count": 3,
   "id": "3df9034a-ae80-4195-9f97-0fc5e231b212",
   "metadata": {},
   "outputs": [
    {
     "ename": "SyntaxError",
     "evalue": "invalid syntax. Maybe you meant '==' or ':=' instead of '='? (609771393.py, line 1)",
     "output_type": "error",
     "traceback": [
      "\u001b[0;36m  Cell \u001b[0;32mIn[3], line 1\u001b[0;36m\u001b[0m\n\u001b[0;31m    while (i=2)<(n=8)\u001b[0m\n\u001b[0m           ^\u001b[0m\n\u001b[0;31mSyntaxError\u001b[0m\u001b[0;31m:\u001b[0m invalid syntax. Maybe you meant '==' or ':=' instead of '='?\n"
     ]
    }
   ],
   "source": [
    "while (i=2)<(n=8)\n",
    "    print(\"executed\")"
   ]
  },
  {
   "cell_type": "code",
   "execution_count": 6,
   "id": "b3b7b6eb-8445-480f-b729-33f71a942903",
   "metadata": {},
   "outputs": [
    {
     "name": "stdout",
     "output_type": "stream",
     "text": [
      "enter number less than 10\n"
     ]
    },
    {
     "name": "stdin",
     "output_type": "stream",
     "text": [
      " 8\n"
     ]
    },
    {
     "name": "stdout",
     "output_type": "stream",
     "text": [
      "loop executing 1\n",
      "loop executing 2\n",
      "loop executing 3\n",
      "loop executing 4\n",
      "loop executing 5\n",
      "loop executing 6\n",
      "loop executing 7\n",
      "loop executing 8\n",
      "loop complete if you are seeing this\n"
     ]
    }
   ],
   "source": [
    "i=1\n",
    "print(\"enter number less than 10\")\n",
    "n=int(input())\n",
    "while i<=n:\n",
    "    print(\"loop executing\",i)\n",
    "    i+=1\n",
    "else:\n",
    "    print(\"loop complete if you are seeing this\")"
   ]
  },
  {
   "cell_type": "code",
   "execution_count": 9,
   "id": "f2e6826a-c3d7-4cec-bad3-f32fa8411069",
   "metadata": {},
   "outputs": [
    {
     "name": "stdout",
     "output_type": "stream",
     "text": [
      "enter number less than 10\n"
     ]
    },
    {
     "name": "stdin",
     "output_type": "stream",
     "text": [
      " 113\n"
     ]
    },
    {
     "name": "stdout",
     "output_type": "stream",
     "text": [
      "loop executing 1\n",
      "loop executing 2\n",
      "loop executing 3\n",
      "loop executing 4\n",
      "loop executing 5\n",
      "loop executing 6\n",
      "loop executing 7\n",
      "loop executing 8\n",
      "loop executing 9\n",
      "loop executing 10\n"
     ]
    }
   ],
   "source": [
    "i=1\n",
    "print(\"enter number less than 10\")\n",
    "n=int(input())\n",
    "while i<=n:\n",
    "    print(\"loop executing\",i)\n",
    "    i+=1\n",
    "    if i==11:\n",
    "        break\n",
    "else:\n",
    "    print(\"loop complete if you are seeing this else you entered number greater than 10\")"
   ]
  },
  {
   "cell_type": "code",
   "execution_count": null,
   "id": "466bfdc9-0fa6-46aa-a363-77fceab3caab",
   "metadata": {},
   "outputs": [],
   "source": []
  }
 ],
 "metadata": {
  "kernelspec": {
   "display_name": "Python 3 (ipykernel)",
   "language": "python",
   "name": "python3"
  },
  "language_info": {
   "codemirror_mode": {
    "name": "ipython",
    "version": 3
   },
   "file_extension": ".py",
   "mimetype": "text/x-python",
   "name": "python",
   "nbconvert_exporter": "python",
   "pygments_lexer": "ipython3",
   "version": "3.10.8"
  }
 },
 "nbformat": 4,
 "nbformat_minor": 5
}
