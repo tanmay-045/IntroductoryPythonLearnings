{
 "cells": [
  {
   "cell_type": "markdown",
   "id": "ac598697-9d0c-438d-ad34-7bc4140e0435",
   "metadata": {},
   "source": [
    "## FILE HANDLING\n",
    "\n",
    "### File Handling is an important concept in Python which allows to read, write, modify and to performm operations on them, i.e. basiclly handling a flie.\n",
    "\n",
    "### *Benfits of using File Handling are:-\n",
    "### >Versatiliy- allows to create,read,write,rename,delete, etc. a file\n",
    "### >Flexibility- allows to work with different types of files (txt,csv,bin etc.)\n",
    "### >Cross Platform- Windows,Mac,Linux\n",
    "### >User Friendly\n",
    "\n",
    "### *There are some disadvantages also:-\n",
    "### Error Prone, Security Risks, Complexity, Performace"
   ]
  },
  {
   "cell_type": "code",
   "execution_count": 1,
   "id": "4b782483-5fe4-4867-bfa2-d0ed9afe754f",
   "metadata": {},
   "outputs": [],
   "source": [
    "# creating a file\n",
    "f = open(\"test.txt\",'w')"
   ]
  },
  {
   "cell_type": "code",
   "execution_count": 2,
   "id": "b77f23e1-3357-43bb-9efc-d514c94a9035",
   "metadata": {},
   "outputs": [
    {
     "data": {
      "text/plain": [
       "36"
      ]
     },
     "execution_count": 2,
     "metadata": {},
     "output_type": "execute_result"
    }
   ],
   "source": [
    "# writing into a file named 'test'\n",
    "# 36 is the numbers of charcters\n",
    "f.write(\"This is new file named as 'test.txt'\")"
   ]
  },
  {
   "cell_type": "code",
   "execution_count": 3,
   "id": "e12b7053-3709-4157-9c10-0f3ead2d9b19",
   "metadata": {},
   "outputs": [],
   "source": [
    "# we need to close a file to see the changes\n",
    "f.close()"
   ]
  },
  {
   "cell_type": "code",
   "execution_count": 4,
   "id": "95b095e9-1927-44d1-98a8-c7f65c77f78e",
   "metadata": {},
   "outputs": [],
   "source": [
    "# to add data or to append/write in it we have to open it again in apped mode 'a'\n",
    "f = open(\"test.txt\",'a')"
   ]
  },
  {
   "cell_type": "code",
   "execution_count": 5,
   "id": "d70c52d1-7b13-434f-ac43-5cff2a8e756e",
   "metadata": {},
   "outputs": [
    {
     "data": {
      "text/plain": [
       "23"
      ]
     },
     "execution_count": 5,
     "metadata": {},
     "output_type": "execute_result"
    }
   ],
   "source": [
    "f.write(\" Write has been updated\")"
   ]
  },
  {
   "cell_type": "code",
   "execution_count": 6,
   "id": "f18fe3fb-4e57-4674-a0fd-2094cf1b83cc",
   "metadata": {},
   "outputs": [],
   "source": [
    "f.close()"
   ]
  },
  {
   "cell_type": "code",
   "execution_count": 7,
   "id": "275dff51-62bd-439a-ad41-2562a0a1763d",
   "metadata": {},
   "outputs": [],
   "source": [
    "# to read data from a file we have to open it in read mode 'r'\n",
    "f1 = open(\"test.txt\",'r')"
   ]
  },
  {
   "cell_type": "code",
   "execution_count": 8,
   "id": "93073886-9628-4ad5-9767-576af5be66c4",
   "metadata": {},
   "outputs": [
    {
     "data": {
      "text/plain": [
       "\"This is new file named as 'test.txt' Write has been updated\""
      ]
     },
     "execution_count": 8,
     "metadata": {},
     "output_type": "execute_result"
    }
   ],
   "source": [
    "f1.read()"
   ]
  },
  {
   "cell_type": "code",
   "execution_count": 9,
   "id": "5f31ea89-71a2-4b23-9577-9376bdb262bf",
   "metadata": {},
   "outputs": [
    {
     "data": {
      "text/plain": [
       "''"
      ]
     },
     "execution_count": 9,
     "metadata": {},
     "output_type": "execute_result"
    }
   ],
   "source": [
    "# we can also set, how much data we want to read\n",
    "f1.read(15)"
   ]
  },
  {
   "cell_type": "code",
   "execution_count": 10,
   "id": "14434a9c-8119-4f34-9116-f84f26b143c9",
   "metadata": {},
   "outputs": [
    {
     "data": {
      "text/plain": [
       "0"
      ]
     },
     "execution_count": 10,
     "metadata": {},
     "output_type": "execute_result"
    }
   ],
   "source": [
    "# but we have to seek cursor at begining again\n",
    "f1.seek(0)"
   ]
  },
  {
   "cell_type": "code",
   "execution_count": 11,
   "id": "125e9bb1-6000-4e20-a3a3-9576f87461d1",
   "metadata": {},
   "outputs": [
    {
     "data": {
      "text/plain": [
       "'This is new'"
      ]
     },
     "execution_count": 11,
     "metadata": {},
     "output_type": "execute_result"
    }
   ],
   "source": [
    "f1.read(11)"
   ]
  },
  {
   "cell_type": "code",
   "execution_count": 12,
   "id": "b37d6121-2fd4-48d6-890d-7dfde8b534d8",
   "metadata": {},
   "outputs": [
    {
     "name": "stdout",
     "output_type": "stream",
     "text": [
      "This is new file named as 'test.txt' Write has been updated\n"
     ]
    }
   ],
   "source": [
    "# another way of printing data\n",
    "f1.seek(0)\n",
    "for i in f1:\n",
    "    print(i)"
   ]
  },
  {
   "cell_type": "code",
   "execution_count": 13,
   "id": "4c03199d-0b41-44e0-bd70-2359b826421f",
   "metadata": {},
   "outputs": [],
   "source": [
    "f1.close()"
   ]
  },
  {
   "cell_type": "code",
   "execution_count": 14,
   "id": "06916a06-0e91-46db-b391-aafcb82efb95",
   "metadata": {},
   "outputs": [
    {
     "name": "stdout",
     "output_type": "stream",
     "text": [
      "This is new file named as 'test.txt' Write has been updated\n"
     ]
    }
   ],
   "source": [
    "# another wat of opening a fie\n",
    "with open(\"test.txt\",'r') as f3:\n",
    "    print(f3.read())"
   ]
  },
  {
   "cell_type": "code",
   "execution_count": 15,
   "id": "bfbc900e-213c-40eb-bfe2-e991320dae47",
   "metadata": {},
   "outputs": [
    {
     "data": {
      "text/plain": [
       "'/home/jovyan/work/class/10. File Handling'"
      ]
     },
     "execution_count": 15,
     "metadata": {},
     "output_type": "execute_result"
    }
   ],
   "source": [
    "pwd"
   ]
  },
  {
   "cell_type": "code",
   "execution_count": 16,
   "id": "5a44b0e1-c56d-48be-b8d5-5995c9eac8e7",
   "metadata": {},
   "outputs": [
    {
     "name": "stdout",
     "output_type": "stream",
     "text": [
      "'10 Intro to File Handling.ipynb'   test_bin.bin   test_json.json\n",
      " test1.txt                          test_csv.csv   test.txt\n"
     ]
    }
   ],
   "source": [
    "ls"
   ]
  },
  {
   "cell_type": "code",
   "execution_count": 17,
   "id": "fb7683db-6515-4729-8034-9626de42a2aa",
   "metadata": {},
   "outputs": [
    {
     "data": {
      "text/plain": [
       "59"
      ]
     },
     "execution_count": 17,
     "metadata": {},
     "output_type": "execute_result"
    }
   ],
   "source": [
    "# to get the file size\n",
    "import os\n",
    "os.path.getsize('test.txt')"
   ]
  },
  {
   "cell_type": "code",
   "execution_count": 18,
   "id": "87086014-13db-412d-ac1d-6f9f5c949378",
   "metadata": {},
   "outputs": [
    {
     "data": {
      "text/plain": [
       "'test1.txt'"
      ]
     },
     "execution_count": 18,
     "metadata": {},
     "output_type": "execute_result"
    }
   ],
   "source": [
    "# to copy a file\n",
    "import shutil\n",
    "shutil.copy('test.txt','test1.txt')"
   ]
  },
  {
   "cell_type": "code",
   "execution_count": 19,
   "id": "76e3fffa-4f9a-4957-8497-0ab3817fb5b4",
   "metadata": {},
   "outputs": [],
   "source": [
    "# to delete a file\n",
    "os.remove('test1.txt')"
   ]
  },
  {
   "cell_type": "code",
   "execution_count": 20,
   "id": "65585db2-ef10-4921-99ff-d93c9118736f",
   "metadata": {},
   "outputs": [],
   "source": [
    "# to rename a file\n",
    "os.rename('test.txt','testtt.txt')"
   ]
  },
  {
   "cell_type": "code",
   "execution_count": 21,
   "id": "61b46f43-ab8f-4674-ac7b-9b690e54e1bc",
   "metadata": {},
   "outputs": [],
   "source": [
    "os.rename('testtt.txt','test.txt')"
   ]
  },
  {
   "cell_type": "markdown",
   "id": "d4ca8a1e-4705-4f31-9cd1-f6d4ded198a3",
   "metadata": {},
   "source": [
    "## Handling different types of files"
   ]
  },
  {
   "cell_type": "code",
   "execution_count": 22,
   "id": "887f51ca-3f33-4dab-9b5b-f9ed50c443e7",
   "metadata": {},
   "outputs": [],
   "source": [
    "# handling .json(javaScript object notation) file\n",
    "import json"
   ]
  },
  {
   "cell_type": "code",
   "execution_count": 23,
   "id": "cbdeb8ad-ef1f-4fdc-96ab-322985d723fa",
   "metadata": {},
   "outputs": [],
   "source": [
    "data = {\n",
    "    \"Name\" : \"Tank\",\n",
    "    \"Email\" : \"tankqwe@gamil.com\",\n",
    "    \"Mobile\" : 12345,\n",
    "    \"Cars\" : [\"Toyota Fortuner\",\"Merceds Benz\", \"Aston Martin\" ]\n",
    "}"
   ]
  },
  {
   "cell_type": "code",
   "execution_count": 24,
   "id": "60c1994b-0455-40f4-bcf3-859377dd4fb7",
   "metadata": {},
   "outputs": [],
   "source": [
    "# to write data stored in dictionary form in 'data' in json file 'test_json.json' \n",
    "with open(\"test_json.json\",'w') as fj:\n",
    "    json.dump(data,fj)"
   ]
  },
  {
   "cell_type": "code",
   "execution_count": 25,
   "id": "16e300a4-0035-4ca0-81fa-70811020dd22",
   "metadata": {},
   "outputs": [],
   "source": [
    "# to read data from a json file\n",
    "with open(\"test_json.json\",'r') as fj1:\n",
    "    data1=json.load(fj1)"
   ]
  },
  {
   "cell_type": "code",
   "execution_count": 26,
   "id": "967a254d-9510-4f85-8492-695a7b87a79a",
   "metadata": {},
   "outputs": [
    {
     "data": {
      "text/plain": [
       "{'Name': 'Tank',\n",
       " 'Email': 'tankqwe@gamil.com',\n",
       " 'Mobile': 12345,\n",
       " 'Cars': ['Toyota Fortuner', 'Merceds Benz', 'Aston Martin']}"
      ]
     },
     "execution_count": 26,
     "metadata": {},
     "output_type": "execute_result"
    }
   ],
   "source": [
    "data1"
   ]
  },
  {
   "cell_type": "code",
   "execution_count": 27,
   "id": "59097ecd-58b8-42bd-9fbc-856ba4a4bfc4",
   "metadata": {},
   "outputs": [],
   "source": [
    "# handling .CSV(comma separated value) file"
   ]
  },
  {
   "cell_type": "code",
   "execution_count": 28,
   "id": "a8a51e98-cf8c-4584-acfe-64e45c2a5d35",
   "metadata": {},
   "outputs": [],
   "source": [
    "import csv"
   ]
  },
  {
   "cell_type": "code",
   "execution_count": 29,
   "id": "7b4401c6-61f0-42c8-a235-4a1357a7561e",
   "metadata": {},
   "outputs": [],
   "source": [
    "new_data = [\n",
    "    ['Name','Email','Mobile'],\n",
    "    ['Tom','tom@gmail.com',12345],\n",
    "    ['Hank','hank@gmail.com',98765]\n",
    "]"
   ]
  },
  {
   "cell_type": "code",
   "execution_count": 30,
   "id": "4800ed7c-28dc-4e79-acb4-8e4911c63131",
   "metadata": {},
   "outputs": [],
   "source": [
    "with open(\"test_csv.csv\",'w') as fc:\n",
    "    w=csv.writer(fc)\n",
    "    for i in new_data:\n",
    "        w.writerow(i)\n",
    "\n",
    "# this will create a file named \"test_csv.csv\" and write data as csv from new_data "
   ]
  },
  {
   "cell_type": "code",
   "execution_count": null,
   "id": "c7c360cf-995e-4e0f-a7bb-0752751b83a6",
   "metadata": {},
   "outputs": [
    {
     "name": "stdout",
     "output_type": "stream",
     "text": [
      "['Name', 'Email', 'Mobile']\n",
      "['Tom', 'tom@gmail.com', '12345']\n",
      "['Hank', 'hank@gmail.com', '98765']\n"
     ]
    }
   ],
   "source": [
    "# to read csv file\n",
    "with open(\"test_csv.csv\",'r') as fc1:\n",
    "    read=csv.reader(fc1)\n",
    "    for i in read:\n",
    "        print(i)"
   ]
  },
  {
   "cell_type": "code",
   "execution_count": 32,
   "id": "a3279ca4-2d87-49ee-b82e-23953a519e61",
   "metadata": {},
   "outputs": [],
   "source": [
    "## Handling .bin(binary) files"
   ]
  },
  {
   "cell_type": "code",
   "execution_count": 33,
   "id": "8e4205a8-b603-429d-9d7d-271068401258",
   "metadata": {},
   "outputs": [],
   "source": [
    "# this will create a file named as \"test_bin\" & writes the below binary code which is three red dots as you check in file\n",
    "with open(\"test_bin.bin\",'wb') as fb:\n",
    "    fb.write(b\"\\x01\\x02\\x03\")"
   ]
  },
  {
   "cell_type": "code",
   "execution_count": 34,
   "id": "b8fe787c-2c68-4813-b192-e21a479a1257",
   "metadata": {},
   "outputs": [
    {
     "name": "stdout",
     "output_type": "stream",
     "text": [
      "b'\\x01\\x02\\x03'\n"
     ]
    }
   ],
   "source": [
    "# readind a .bin file | 'rb' read binary | 'wb' write binary \n",
    "with open(\"test_bin.bin\", 'rb') as fb1:\n",
    "    print(fb1.read())"
   ]
  },
  {
   "cell_type": "markdown",
   "id": "8b0a905a-3222-4726-a159-0d8c6aed3d71",
   "metadata": {},
   "source": [
    "## Buffer read and write \n",
    "\n",
    "### Buffered reading and writing in file handling is a concept in Python that helps optimize reading from and writing to files by using an intermediary memory space called a buffer. Moslty useful for handling large size files.\n",
    "### Buffering: To make file reading and writing more efficient, Python uses a technique called buffering. Buffering means that instead of directly reading or writing to the file, Python first reads or writes a certain amount of data into a buffer, which is a temporary memory space. This buffer is typically larger than individual data items you read or write.\n",
    "\n",
    "### Buffered Reading: When you read from a file with buffering, Python reads a chunk of data from the file into a buffer. Then, when you request data from your program, Python doesn't have to access the file directly each time; it can provide data from the buffer until it's empty. This reduces the number of disk read operations, making reading faster.\n",
    "\n",
    "### Buffered Writing: When you write to a file with buffering, Python writes data to the buffer in memory first. It doesn't immediately write it to the file on disk. This allows Python to accumulate a certain amount of data in the buffer before performing a single disk write operation. This reduces the number of disk write operations, making writing more efficient.\n",
    "\n",
    "### Automatic Buffering: Python handles buffering automatically for you in many cases. When you open a file for reading or writing using functions like open(), Python sets up buffering behind the scenes. You don't have to worry about it unless you want to control the buffer size explicitly."
   ]
  },
  {
   "cell_type": "code",
   "execution_count": 35,
   "id": "c803531a-841b-4742-bbd6-e7584b20d2e8",
   "metadata": {},
   "outputs": [],
   "source": [
    "import io"
   ]
  },
  {
   "cell_type": "code",
   "execution_count": 36,
   "id": "36699989-fc9f-4163-9c97-1edb038b8b43",
   "metadata": {},
   "outputs": [],
   "source": [
    "with open(\"test1.txt\",'wb') as f1:\n",
    "    file = io.BufferedWriter(f1)\n",
    "    file.write(b\"This is my buffer write\\n\")\n",
    "    file.write(b\"This is my second line\")\n",
    "    file.flush()"
   ]
  },
  {
   "cell_type": "code",
   "execution_count": 37,
   "id": "cc40d124-3aec-4878-bd02-34026cf0dd82",
   "metadata": {},
   "outputs": [
    {
     "name": "stdout",
     "output_type": "stream",
     "text": [
      "b'This is my buffer write\\nThis is my second line'\n"
     ]
    }
   ],
   "source": [
    "# to read data\n",
    "with open(\"test1.txt\",'rb') as f2:\n",
    "    file1 = io.BufferedReader(f2)\n",
    "    data2=file1.read()\n",
    "    print(data2)"
   ]
  },
  {
   "cell_type": "code",
   "execution_count": null,
   "id": "5d1abd8f-5078-4a1b-9a97-bbee8269fb9a",
   "metadata": {},
   "outputs": [],
   "source": []
  }
 ],
 "metadata": {
  "kernelspec": {
   "display_name": "Python 3 (ipykernel)",
   "language": "python",
   "name": "python3"
  },
  "language_info": {
   "codemirror_mode": {
    "name": "ipython",
    "version": 3
   },
   "file_extension": ".py",
   "mimetype": "text/x-python",
   "name": "python",
   "nbconvert_exporter": "python",
   "pygments_lexer": "ipython3",
   "version": "3.10.8"
  }
 },
 "nbformat": 4,
 "nbformat_minor": 5
}
